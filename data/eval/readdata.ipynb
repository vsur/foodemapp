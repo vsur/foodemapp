{
 "cells": [
  {
   "cell_type": "code",
   "execution_count": 1,
   "metadata": {},
   "outputs": [],
   "source": [
    "import numpy as np\n",
    "import pandas as pd\n",
    "\n",
    "%store -r columnNames\n",
    "\n",
    "# pd.set_option('display.max_columns', None)  # or 1000\n",
    "# pd.set_option('display.max_rows', None)  # or 1000\n",
    "# pd.set_option('display.max_colwidth', None)  # or 199\n",
    "\n",
    "# pd.describe_option('display')\n"
   ]
  },
  {
   "cell_type": "markdown",
   "metadata": {},
   "source": [
    "# Read and Filter Data"
   ]
  },
  {
   "cell_type": "code",
   "execution_count": 3,
   "metadata": {},
   "outputs": [
    {
     "name": "stdout",
     "output_type": "stream",
     "text": [
      "Gesamte Anzahl Versuche: 256\n",
      "Liste zu erst 55\n",
      "Chord zu erst 82\n",
      "Map zu erst 82\n"
     ]
    }
   ],
   "source": [
    "originalData=pd.read_csv('results-survey612158.csv', sep=';')\n",
    "\n",
    "allSurveyData=originalData.set_axis(columnNames, axis=1, inplace=False) \n",
    "\n",
    "print(\"Gesamte Anzahl Versuche:\", len(allSurveyData))\n",
    "\n",
    "print(\"Gesamte Anzahl Spalten-Data:\", len(allSurveyData.columns.values.tolist()))\n",
    "anonymizedSurveyData = allSurveyData.drop(['contest-contact', 'privacy-contact'], axis=1)\n",
    "print(\"Anzahl Spalten-Anonymisiert:\", len(anonymizedSurveyData.columns.values.tolist()))\n",
    "\n",
    "# Regex for e-mail '[a-zA-Z0-9_.+-]+@[a-zA-Z0-9-]+\\.[a-zA-Z0-9-.]+'\n",
    "print(\"Comment-Rows mit Mails, vorher:\", len(anonymizedSurveyData[anonymizedSurveyData['comments'].str.contains('@', case=False, na=False)]))\n",
    "anonymizedSurveyData = anonymizedSurveyData.replace(regex=['[a-zA-Z0-9_.+-]+@[a-zA-Z0-9-]+\\.[a-zA-Z0-9-.]+'],value='no.one[at]no.where')\n",
    "print(\"Comment-Rows mit Mails, vorher:\", len(anonymizedSurveyData[anonymizedSurveyData['comments'].str.contains('@', case=False, na=False)]))\n",
    "\n",
    "\n",
    "# Filter not finished attempts by searching for NaN in ['date-test']\n",
    "justCompletedAttempts = anonymizedSurveyData[anonymizedSurveyData['date-test'].notnull()]\n",
    "justCompletedAttempts.to_csv('justCompletedAttempts.csv', sep=';', encoding='utf-8')\n",
    "print(\"Gesamte Anzahl nur kompletter Versuche:\", len(justCompletedAttempts))"
   ]
  },
  {
   "cell_type": "code",
   "execution_count": null,
   "metadata": {},
   "outputs": [],
   "source": []
  },
  {
   "cell_type": "markdown",
   "metadata": {},
   "source": []
  }
 ],
 "metadata": {
  "kernelspec": {
   "display_name": "Python 3.9.13 64-bit",
   "language": "python",
   "name": "python3"
  },
  "language_info": {
   "codemirror_mode": {
    "name": "ipython",
    "version": 3
   },
   "file_extension": ".py",
   "mimetype": "text/x-python",
   "name": "python",
   "nbconvert_exporter": "python",
   "pygments_lexer": "ipython3",
   "version": "3.9.13"
  },
  "orig_nbformat": 4,
  "vscode": {
   "interpreter": {
    "hash": "aee8b7b246df8f9039afb4144a1f6fd8d2ca17a180786b69acc140d282b71a49"
   }
  }
 },
 "nbformat": 4,
 "nbformat_minor": 2
}
