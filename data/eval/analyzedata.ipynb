{
 "cells": [
  {
   "cell_type": "code",
   "execution_count": 5,
   "metadata": {},
   "outputs": [],
   "source": [
    "import numpy as np\n",
    "import pandas as pd\n",
    "\n",
    "%store -r columnNames\n",
    "\n",
    "#pd.set_option('display.max_columns', None)  # or 1000\n",
    "# pd.set_option('display.max_rows', None)  # or 1000\n",
    "# pd.set_option('display.max_colwidth', None)  # or 199\n",
    "\n",
    "# pd.describe_option('display')"
   ]
  },
  {
   "cell_type": "markdown",
   "metadata": {},
   "source": [
    "# Analyze Data"
   ]
  },
  {
   "cell_type": "code",
   "execution_count": 6,
   "metadata": {},
   "outputs": [
    {
     "name": "stdout",
     "output_type": "stream",
     "text": [
      "Anzahl an kompletten Daten: 203\n",
      "Liste zu erst 52\n",
      "Chord zu erst 78\n",
      "Map zu erst 73\n"
     ]
    }
   ],
   "source": [
    "surveyData=pd.read_csv('justCompletedAttempts.csv', sep=';')\n",
    "\n",
    "print(\"Anzahl an kompletten Daten:\", len(surveyData))\n",
    "\n",
    "# Build groups depending on what viz participant had to solve first\n",
    "\n",
    "listFirstParticipants=surveyData[surveyData['list-question-number']==6]\n",
    "\n",
    "chordFirstParticipants=surveyData[surveyData['chord-question-number']==6]\n",
    "\n",
    "mapFirstParticipants=surveyData[surveyData['map-question-number']==6]\n",
    "\n",
    "print(\"Liste zu erst\", len(listFirstParticipants))\n",
    "print(\"Chord zu erst\", len(chordFirstParticipants))\n",
    "print(\"Map zu erst\", len(mapFirstParticipants))"
   ]
  },
  {
   "cell_type": "code",
   "execution_count": 16,
   "metadata": {},
   "outputs": [],
   "source": [
    "# Build evaluation set\n",
    "\n",
    "def createEvaluationValueFromRow(row):\n",
    "    evalDF=row[\n",
    "        [\n",
    "            'id', \n",
    "            'date-start', \n",
    "            'date-last',\n",
    "            'duration-over-all',\n",
    "            'duration-group-tasks-intro',\n",
    "            'duration-group-list-task',\n",
    "            'duration-group-chord-task',\n",
    "            'duration-group-map-task',\n",
    "            'age', \n",
    "            'sex', \n",
    "            'internet-level', \n",
    "            'mood-start', \n",
    "            'mood-end', \n",
    "            'preference-chord-or-map-over-list', \n",
    "            'highest-preferenced-viz', \n",
    "            'preference-reason', \n",
    "            'qualitative-questions-pros-cons-chord', \n",
    "            'qualitative-questions-pros-cons-map', \n",
    "            'qualitative-questions-pros-cons-list'\n",
    "        ]\n",
    "    ]\n",
    "    # Calc extra fields for comparison\n",
    "    evalDF['duartion-date-based']=pd.to_datetime(evalDF['date-last'])-pd.to_datetime(evalDF['date-start'])\n",
    "    evalDF['duartion-date-based-in-seconds']=evalDF['duartion-date-based'].dt.total_seconds()\n",
    "    return evalDF"
   ]
  },
  {
   "cell_type": "code",
   "execution_count": 18,
   "metadata": {},
   "outputs": [
    {
     "name": "stdout",
     "output_type": "stream",
     "text": [
      "   duration-over-all  duartion-date-based-in-seconds duartion-date-based\n",
      "2            1931.35                          1931.0     0 days 00:32:11\n"
     ]
    },
    {
     "name": "stderr",
     "output_type": "stream",
     "text": [
      "/var/folders/4w/b6kqqdv12hzcznys6kqm6yyr0000gn/T/ipykernel_10856/1635940068.py:28: SettingWithCopyWarning: \n",
      "A value is trying to be set on a copy of a slice from a DataFrame.\n",
      "Try using .loc[row_indexer,col_indexer] = value instead\n",
      "\n",
      "See the caveats in the documentation: https://pandas.pydata.org/pandas-docs/stable/user_guide/indexing.html#returning-a-view-versus-a-copy\n",
      "  evalDF['duartion-date-based']=pd.to_datetime(evalDF['date-last'])-pd.to_datetime(evalDF['date-start'])\n",
      "/var/folders/4w/b6kqqdv12hzcznys6kqm6yyr0000gn/T/ipykernel_10856/1635940068.py:29: SettingWithCopyWarning: \n",
      "A value is trying to be set on a copy of a slice from a DataFrame.\n",
      "Try using .loc[row_indexer,col_indexer] = value instead\n",
      "\n",
      "See the caveats in the documentation: https://pandas.pydata.org/pandas-docs/stable/user_guide/indexing.html#returning-a-view-versus-a-copy\n",
      "  evalDF['duartion-date-based-in-seconds']=evalDF['duartion-date-based'].dt.total_seconds()\n"
     ]
    }
   ],
   "source": [
    "df=createEvaluationValueFromRow(surveyData[surveyData['id']==12])\n",
    "print(df[['duration-over-all', 'duartion-date-based-in-seconds','duartion-date-based']])\n"
   ]
  }
 ],
 "metadata": {
  "kernelspec": {
   "display_name": "Python 3.9.13 64-bit",
   "language": "python",
   "name": "python3"
  },
  "language_info": {
   "codemirror_mode": {
    "name": "ipython",
    "version": 3
   },
   "file_extension": ".py",
   "mimetype": "text/x-python",
   "name": "python",
   "nbconvert_exporter": "python",
   "pygments_lexer": "ipython3",
   "version": "3.9.13"
  },
  "orig_nbformat": 4,
  "vscode": {
   "interpreter": {
    "hash": "aee8b7b246df8f9039afb4144a1f6fd8d2ca17a180786b69acc140d282b71a49"
   }
  }
 },
 "nbformat": 4,
 "nbformat_minor": 2
}
