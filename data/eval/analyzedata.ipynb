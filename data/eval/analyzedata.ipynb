{
 "cells": [
  {
   "cell_type": "code",
   "execution_count": 82,
   "metadata": {},
   "outputs": [],
   "source": [
    "import numpy as np\n",
    "import pandas as pd\n",
    "import locale\n",
    "\n",
    "locale.setlocale(locale.LC_TIME, \"de_DE\")\n",
    "\n",
    "%store -r columnNames\n",
    "\n",
    "#pd.set_option('display.max_columns', None)  # or 1000\n",
    "pd.set_option('display.max_rows', None)  # or 1000\n",
    "# pd.set_option('display.max_colwidth', None)  # or 199\n",
    "\n",
    "\n",
    "# pd.describe_option('display')"
   ]
  },
  {
   "cell_type": "markdown",
   "metadata": {},
   "source": [
    "# Analyze Data"
   ]
  },
  {
   "cell_type": "code",
   "execution_count": 83,
   "metadata": {},
   "outputs": [
    {
     "name": "stdout",
     "output_type": "stream",
     "text": [
      "Anzahl an kompletten Daten: 203\n"
     ]
    }
   ],
   "source": [
    "surveyData=pd.read_csv('justCompletedAttempts.csv', sep=';')\n",
    "print(\"Anzahl an kompletten Daten:\", len(surveyData))\n",
    "\n",
    "# Add extra fields for comparison\n",
    "surveyData['duration-date-based'] = surveyData.apply(lambda row: pd.to_datetime(row['date-last'])-pd.to_datetime(row['date-start']), axis=1)\n",
    "surveyData['duration-date-based-in-seconds'] = surveyData.apply(lambda row: row['duration-date-based'].total_seconds(), axis=1)\n",
    "surveyData['duration-delta-all-vs-start-end'] = surveyData.apply(lambda row: row['duration-over-all']-row['duration-date-based-in-seconds'], axis=1)\n"
   ]
  },
  {
   "cell_type": "markdown",
   "metadata": {},
   "source": [
    "## Time Delta"
   ]
  },
  {
   "cell_type": "code",
   "execution_count": 84,
   "metadata": {},
   "outputs": [
    {
     "name": "stdout",
     "output_type": "stream",
     "text": [
      "\n",
      "Overall länger 134\n",
      "Overall sehr viel länger, AKA Start-End schneller >10 Sek. schneller: 10\n",
      "Overall extrem länger, AKA Start-End schneller >20 Sek. schneller: 9\n",
      "\n",
      "Start-End länger 69\n",
      "Start-End sehr viel länger, AKA Overall >10 Sek. schneller: 20\n",
      "Start-End extrem länger, AKA Overall >20 Sek. schneller: 16\n"
     ]
    }
   ],
   "source": [
    "\n",
    "# Check time delta\n",
    "greatDelta = 10 \n",
    "extremeDelta = 20\n",
    "print()\n",
    "print(f\"Overall länger\",len(surveyData.loc[surveyData['duration-delta-all-vs-start-end'] >= 0]))\n",
    "print(f\"Overall sehr viel länger, AKA Start-End schneller >{greatDelta} Sek. schneller:\",len(surveyData.loc[surveyData['duration-delta-all-vs-start-end'] >= greatDelta]))\n",
    "print(f\"Overall extrem länger, AKA Start-End schneller >{extremeDelta} Sek. schneller:\",len(surveyData.loc[surveyData['duration-delta-all-vs-start-end'] >= extremeDelta]))\n",
    "print()\n",
    "print(f\"Start-End länger\",len(surveyData.loc[surveyData['duration-delta-all-vs-start-end'] < 0]))\n",
    "print(f\"Start-End sehr viel länger, AKA Overall >{greatDelta} Sek. schneller:\",len(surveyData.loc[surveyData['duration-delta-all-vs-start-end'] < -greatDelta]))\n",
    "print(f\"Start-End extrem länger, AKA Overall >{extremeDelta} Sek. schneller:\",len(surveyData.loc[surveyData['duration-delta-all-vs-start-end'] < -extremeDelta]))\n",
    "\n",
    "# surveyData[['id', 'duration-over-all', 'duration-date-based-in-seconds', 'duration-delta-all-vs-start-end', 'duration-date-based']]"
   ]
  },
  {
   "cell_type": "markdown",
   "metadata": {},
   "source": [
    "## Building Groups"
   ]
  },
  {
   "cell_type": "code",
   "execution_count": 85,
   "metadata": {},
   "outputs": [
    {
     "name": "stdout",
     "output_type": "stream",
     "text": [
      "Liste zu erst 52\n",
      "Chord zu erst 78\n",
      "Map zu erst 73\n"
     ]
    }
   ],
   "source": [
    "# Build groups depending on what viz participant had to solve first\n",
    "\n",
    "listFirstParticipants=surveyData[surveyData['list-question-number']==6]\n",
    "\n",
    "chordFirstParticipants=surveyData[surveyData['chord-question-number']==6]\n",
    "\n",
    "mapFirstParticipants=surveyData[surveyData['map-question-number']==6]\n",
    "\n",
    "print(\"Liste zu erst\", len(listFirstParticipants))\n",
    "print(\"Chord zu erst\", len(chordFirstParticipants))\n",
    "print(\"Map zu erst\", len(mapFirstParticipants))"
   ]
  },
  {
   "cell_type": "markdown",
   "metadata": {},
   "source": [
    "### Define Evaluation Columns"
   ]
  },
  {
   "cell_type": "code",
   "execution_count": 86,
   "metadata": {},
   "outputs": [],
   "source": [
    "# Build evaluation columns \n",
    "\n",
    "evalColumns = [\n",
    "    'id', \n",
    "    'date-start', \n",
    "    'date-last',\n",
    "    'duration-over-all',\n",
    "    'duration-date-based-in-seconds', \n",
    "    'duration-group-tasks-intro',\n",
    "    'duration-group-list-task',\n",
    "    'duration-group-chord-task',\n",
    "    'duration-group-map-task',\n",
    "    'age', \n",
    "    'sex', \n",
    "    'internet-level', \n",
    "    'mood-start', \n",
    "    'mood-end', \n",
    "    'preference-chord-or-map-over-list', \n",
    "    'highest-preferenced-viz', \n",
    "    'preference-reason', \n",
    "    'qualitative-questions-pros-cons-chord', \n",
    "    'qualitative-questions-pros-cons-map', \n",
    "    'qualitative-questions-pros-cons-list'\n",
    "]"
   ]
  },
  {
   "cell_type": "markdown",
   "metadata": {},
   "source": [
    "### Helper Functions"
   ]
  },
  {
   "cell_type": "code",
   "execution_count": 87,
   "metadata": {},
   "outputs": [],
   "source": [
    "def getSex(sex):\n",
    "    if sex == \"männlich\":\n",
    "        return \"♂\"\n",
    "    elif sex == \"weiblich\":\n",
    "        return \"♀\"\n",
    "    else: \n",
    "        return \"X\""
   ]
  },
  {
   "cell_type": "markdown",
   "metadata": {},
   "source": [
    "## Write Out Data"
   ]
  },
  {
   "cell_type": "code",
   "execution_count": 88,
   "metadata": {},
   "outputs": [
    {
     "name": "stdout",
     "output_type": "stream",
     "text": [
      "ID: 10 | Alter: 21 | Geschlecht: ♂ | \n",
      "ID: 11 | Alter: 21 | Geschlecht: ♂ | \n",
      "ID: 12 | Alter: 22 | Geschlecht: ♂ | \n",
      "ID: 13 | Alter: 20 | Geschlecht: ♂ | \n",
      "ID: 14 | Alter: 24 | Geschlecht: ♀ | \n",
      "ID: 15 | Alter: 22 | Geschlecht: ♂ | \n",
      "ID: 16 | Alter: 21 | Geschlecht: ♂ | \n",
      "ID: 17 | Alter: 22 | Geschlecht: ♀ | \n",
      "ID: 18 | Alter: 21 | Geschlecht: ♀ | \n",
      "ID: 19 | Alter: 20 | Geschlecht: ♂ | \n",
      "ID: 20 | Alter: 21 | Geschlecht: ♂ | \n",
      "ID: 21 | Alter: 21 | Geschlecht: ♂ | \n",
      "ID: 22 | Alter: 20 | Geschlecht: ♂ | \n",
      "ID: 23 | Alter: 20 | Geschlecht: ♂ | \n",
      "ID: 24 | Alter: 22 | Geschlecht: ♂ | \n",
      "ID: 25 | Alter: 23 | Geschlecht: ♀ | \n",
      "ID: 26 | Alter: 24 | Geschlecht: ♂ | \n",
      "ID: 27 | Alter: 20 | Geschlecht: ♂ | \n",
      "ID: 28 | Alter: 19 | Geschlecht: ♂ | \n",
      "ID: 29 | Alter: 20 | Geschlecht: ♀ | \n",
      "ID: 30 | Alter: 19 | Geschlecht: ♂ | \n",
      "ID: 31 | Alter: 19 | Geschlecht: ♂ | \n",
      "ID: 32 | Alter: 26 | Geschlecht: ♂ | \n",
      "ID: 34 | Alter: 22 | Geschlecht: ♂ | \n",
      "ID: 36 | Alter: 20 | Geschlecht: ♂ | \n",
      "ID: 37 | Alter: 18 | Geschlecht: ♂ | \n",
      "ID: 38 | Alter: 20 | Geschlecht: ♂ | \n",
      "ID: 39 | Alter: 19 | Geschlecht: ♂ | \n",
      "ID: 40 | Alter: 19 | Geschlecht: ♀ | \n",
      "ID: 42 | Alter: 24 | Geschlecht: ♂ | \n",
      "ID: 43 | Alter: 21 | Geschlecht: ♂ | \n",
      "ID: 44 | Alter: 23 | Geschlecht: ♂ | \n",
      "ID: 45 | Alter: 19 | Geschlecht: ♀ | \n",
      "ID: 46 | Alter: 28 | Geschlecht: ♂ | \n",
      "ID: 47 | Alter: 22 | Geschlecht: ♂ | \n",
      "ID: 49 | Alter: 22 | Geschlecht: ♂ | \n",
      "ID: 54 | Alter: 19 | Geschlecht: ♂ | \n",
      "ID: 56 | Alter: 21 | Geschlecht: ♂ | \n",
      "ID: 57 | Alter: 20 | Geschlecht: ♂ | \n",
      "ID: 58 | Alter: 19 | Geschlecht: ♂ | \n",
      "ID: 59 | Alter: 18 | Geschlecht: ♂ | \n",
      "ID: 60 | Alter: 21 | Geschlecht: ♂ | \n",
      "ID: 61 | Alter: 26 | Geschlecht: ♂ | \n",
      "ID: 62 | Alter: 23 | Geschlecht: ♂ | \n",
      "ID: 63 | Alter: 20 | Geschlecht: ♂ | \n",
      "ID: 64 | Alter: 19 | Geschlecht: ♂ | \n",
      "ID: 65 | Alter: 22 | Geschlecht: ♀ | \n",
      "ID: 66 | Alter: 23 | Geschlecht: ♂ | \n",
      "ID: 67 | Alter: 23 | Geschlecht: ♂ | \n",
      "ID: 68 | Alter: 19 | Geschlecht: ♀ | \n",
      "ID: 70 | Alter: 23 | Geschlecht: ♂ | \n",
      "ID: 71 | Alter: 20 | Geschlecht: ♂ | \n",
      "ID: 72 | Alter: 21 | Geschlecht: ♂ | \n",
      "ID: 73 | Alter: 21 | Geschlecht: ♀ | \n",
      "ID: 74 | Alter: 24 | Geschlecht: ♀ | \n",
      "ID: 75 | Alter: 20 | Geschlecht: ♂ | \n",
      "ID: 76 | Alter: 19 | Geschlecht: ♂ | \n",
      "ID: 78 | Alter: 20 | Geschlecht: ♀ | \n",
      "ID: 80 | Alter: 25 | Geschlecht: ♂ | \n",
      "ID: 81 | Alter: 26 | Geschlecht: ♂ | \n",
      "ID: 82 | Alter: 23 | Geschlecht: ♂ | \n",
      "ID: 83 | Alter: 57 | Geschlecht: X | \n",
      "ID: 84 | Alter: 36 | Geschlecht: ♂ | \n",
      "ID: 86 | Alter: 31 | Geschlecht: ♂ | \n",
      "ID: 88 | Alter: 41 | Geschlecht: ♀ | \n",
      "ID: 89 | Alter: 59 | Geschlecht: ♂ | \n",
      "ID: 91 | Alter: 26 | Geschlecht: X | \n",
      "ID: 92 | Alter: 42 | Geschlecht: ♂ | \n",
      "ID: 94 | Alter: 36 | Geschlecht: ♂ | \n",
      "ID: 95 | Alter: 30 | Geschlecht: ♂ | \n",
      "ID: 96 | Alter: 46 | Geschlecht: ♀ | \n",
      "ID: 97 | Alter: 26 | Geschlecht: ♀ | \n",
      "ID: 98 | Alter: 25 | Geschlecht: ♀ | \n",
      "ID: 100 | Alter: 45 | Geschlecht: ♂ | \n",
      "ID: 102 | Alter: 36 | Geschlecht: ♀ | \n",
      "ID: 103 | Alter: 52 | Geschlecht: ♂ | \n",
      "ID: 104 | Alter: 61 | Geschlecht: ♂ | \n",
      "ID: 106 | Alter: 35 | Geschlecht: ♀ | \n",
      "ID: 107 | Alter: 39 | Geschlecht: X | \n",
      "ID: 108 | Alter: 36 | Geschlecht: ♂ | \n",
      "ID: 111 | Alter: 32 | Geschlecht: ♀ | \n",
      "ID: 112 | Alter: 33 | Geschlecht: ♂ | \n",
      "ID: 116 | Alter: 55 | Geschlecht: ♂ | \n",
      "ID: 118 | Alter: 34 | Geschlecht: ♂ | \n",
      "ID: 119 | Alter: 42 | Geschlecht: ♀ | \n",
      "ID: 120 | Alter: 37 | Geschlecht: ♂ | \n",
      "ID: 122 | Alter: 31 | Geschlecht: ♀ | \n",
      "ID: 123 | Alter: 40 | Geschlecht: ♂ | \n",
      "ID: 124 | Alter: 22 | Geschlecht: ♀ | \n",
      "ID: 125 | Alter: 42 | Geschlecht: ♀ | \n",
      "ID: 127 | Alter: 39 | Geschlecht: ♀ | \n",
      "ID: 128 | Alter: 41 | Geschlecht: ♂ | \n",
      "ID: 129 | Alter: 21 | Geschlecht: ♀ | \n",
      "ID: 131 | Alter: 73 | Geschlecht: ♀ | \n",
      "ID: 132 | Alter: 33 | Geschlecht: ♂ | \n",
      "ID: 134 | Alter: 27 | Geschlecht: ♀ | \n",
      "ID: 137 | Alter: 52 | Geschlecht: ♀ | \n",
      "ID: 138 | Alter: 37 | Geschlecht: ♀ | \n",
      "ID: 140 | Alter: 33 | Geschlecht: ♀ | \n",
      "ID: 141 | Alter: 85 | Geschlecht: ♂ | \n",
      "ID: 142 | Alter: 52 | Geschlecht: ♂ | \n",
      "ID: 143 | Alter: 39 | Geschlecht: ♂ | \n",
      "ID: 144 | Alter: 38 | Geschlecht: ♂ | \n",
      "ID: 145 | Alter: 31 | Geschlecht: ♂ | \n",
      "ID: 147 | Alter: 21 | Geschlecht: ♂ | \n",
      "ID: 148 | Alter: 23 | Geschlecht: ♀ | \n",
      "ID: 149 | Alter: 20 | Geschlecht: ♂ | \n",
      "ID: 150 | Alter: 38 | Geschlecht: ♂ | \n",
      "ID: 151 | Alter: 43 | Geschlecht: ♀ | \n",
      "ID: 153 | Alter: 23 | Geschlecht: ♂ | \n",
      "ID: 154 | Alter: 28 | Geschlecht: ♀ | \n",
      "ID: 155 | Alter: 20 | Geschlecht: ♀ | \n",
      "ID: 156 | Alter: 21 | Geschlecht: ♂ | \n",
      "ID: 157 | Alter: 20 | Geschlecht: ♀ | \n",
      "ID: 158 | Alter: 20 | Geschlecht: ♂ | \n",
      "ID: 159 | Alter: 22 | Geschlecht: ♂ | \n",
      "ID: 160 | Alter: 21 | Geschlecht: ♂ | \n",
      "ID: 161 | Alter: 24 | Geschlecht: ♀ | \n",
      "ID: 162 | Alter: 23 | Geschlecht: ♀ | \n",
      "ID: 163 | Alter: 29 | Geschlecht: ♀ | \n",
      "ID: 164 | Alter: 22 | Geschlecht: ♀ | \n",
      "ID: 165 | Alter: 24 | Geschlecht: ♀ | \n",
      "ID: 166 | Alter: 24 | Geschlecht: ♂ | \n",
      "ID: 167 | Alter: 22 | Geschlecht: ♀ | \n",
      "ID: 168 | Alter: 23 | Geschlecht: ♀ | \n",
      "ID: 169 | Alter: 22 | Geschlecht: ♀ | \n",
      "ID: 170 | Alter: 18 | Geschlecht: ♂ | \n",
      "ID: 171 | Alter: 18 | Geschlecht: ♀ | \n",
      "ID: 173 | Alter: 33 | Geschlecht: X | \n",
      "ID: 174 | Alter: 20 | Geschlecht: ♀ | \n",
      "ID: 178 | Alter: 20 | Geschlecht: ♀ | \n",
      "ID: 179 | Alter: 20 | Geschlecht: ♀ | \n",
      "ID: 180 | Alter: 21 | Geschlecht: ♀ | \n",
      "ID: 181 | Alter: 30 | Geschlecht: ♀ | \n",
      "ID: 182 | Alter: 20 | Geschlecht: ♀ | \n",
      "ID: 183 | Alter: 22 | Geschlecht: ♀ | \n",
      "ID: 184 | Alter: 21 | Geschlecht: ♀ | \n",
      "ID: 185 | Alter: 22 | Geschlecht: ♀ | \n",
      "ID: 186 | Alter: 20 | Geschlecht: ♂ | \n",
      "ID: 187 | Alter: 37 | Geschlecht: ♀ | \n",
      "ID: 188 | Alter: 25 | Geschlecht: ♀ | \n",
      "ID: 189 | Alter: 19 | Geschlecht: ♀ | \n",
      "ID: 190 | Alter: 25 | Geschlecht: ♂ | \n",
      "ID: 191 | Alter: 24 | Geschlecht: ♂ | \n",
      "ID: 192 | Alter: 20 | Geschlecht: ♂ | \n",
      "ID: 193 | Alter: 20 | Geschlecht: ♂ | \n",
      "ID: 194 | Alter: 23 | Geschlecht: ♂ | \n",
      "ID: 195 | Alter: 27 | Geschlecht: ♂ | \n",
      "ID: 197 | Alter: 20 | Geschlecht: ♀ | \n",
      "ID: 198 | Alter: 23 | Geschlecht: ♂ | \n",
      "ID: 199 | Alter: 20 | Geschlecht: ♀ | \n",
      "ID: 200 | Alter: 20 | Geschlecht: ♀ | \n",
      "ID: 201 | Alter: 22 | Geschlecht: ♀ | \n",
      "ID: 202 | Alter: 20 | Geschlecht: ♀ | \n",
      "ID: 204 | Alter: 19 | Geschlecht: ♀ | \n",
      "ID: 207 | Alter: 20 | Geschlecht: ♀ | \n",
      "ID: 208 | Alter: 22 | Geschlecht: ♀ | \n",
      "ID: 209 | Alter: 22 | Geschlecht: ♀ | \n",
      "ID: 210 | Alter: 22 | Geschlecht: ♀ | \n",
      "ID: 211 | Alter: 20 | Geschlecht: ♀ | \n",
      "ID: 212 | Alter: 20 | Geschlecht: ♀ | \n",
      "ID: 213 | Alter: 20 | Geschlecht: ♀ | \n",
      "ID: 214 | Alter: 21 | Geschlecht: ♂ | \n",
      "ID: 215 | Alter: 20 | Geschlecht: ♀ | \n",
      "ID: 216 | Alter: 20 | Geschlecht: ♀ | \n",
      "ID: 217 | Alter: 33 | Geschlecht: ♂ | \n",
      "ID: 218 | Alter: 20 | Geschlecht: ♀ | \n",
      "ID: 219 | Alter: 20 | Geschlecht: ♀ | \n",
      "ID: 221 | Alter: 25 | Geschlecht: ♀ | \n",
      "ID: 222 | Alter: 27 | Geschlecht: ♂ | \n",
      "ID: 223 | Alter: 20 | Geschlecht: ♀ | \n",
      "ID: 225 | Alter: 20 | Geschlecht: ♀ | \n",
      "ID: 226 | Alter: 22 | Geschlecht: ♀ | \n",
      "ID: 227 | Alter: 19 | Geschlecht: ♀ | \n",
      "ID: 228 | Alter: 22 | Geschlecht: ♀ | \n",
      "ID: 229 | Alter: 20 | Geschlecht: ♀ | \n",
      "ID: 230 | Alter: 21 | Geschlecht: ♀ | \n",
      "ID: 231 | Alter: 20 | Geschlecht: ♀ | \n",
      "ID: 232 | Alter: 28 | Geschlecht: ♀ | \n",
      "ID: 234 | Alter: 20 | Geschlecht: ♀ | \n",
      "ID: 235 | Alter: 22 | Geschlecht: ♀ | \n",
      "ID: 236 | Alter: 33 | Geschlecht: ♂ | \n",
      "ID: 238 | Alter: 38 | Geschlecht: ♂ | \n",
      "ID: 239 | Alter: 70 | Geschlecht: ♂ | \n",
      "ID: 240 | Alter: 35 | Geschlecht: ♀ | \n",
      "ID: 241 | Alter: 33 | Geschlecht: ♂ | \n",
      "ID: 242 | Alter: 40 | Geschlecht: ♂ | \n",
      "ID: 244 | Alter: 22 | Geschlecht: ♀ | \n",
      "ID: 245 | Alter: 26 | Geschlecht: ♂ | \n",
      "ID: 246 | Alter: 38 | Geschlecht: ♂ | \n",
      "ID: 247 | Alter: 21 | Geschlecht: ♀ | \n",
      "ID: 248 | Alter: 21 | Geschlecht: ♀ | \n",
      "ID: 250 | Alter: 20 | Geschlecht: ♀ | \n",
      "ID: 251 | Alter: 41 | Geschlecht: ♀ | \n",
      "ID: 252 | Alter: 33 | Geschlecht: ♂ | \n",
      "ID: 253 | Alter: 25 | Geschlecht: ♂ | \n",
      "ID: 254 | Alter: 32 | Geschlecht: ♀ | \n",
      "ID: 256 | Alter: 33 | Geschlecht: ♀ | \n",
      "ID: 257 | Alter: 36 | Geschlecht: ♂ | \n",
      "ID: 258 | Alter: 33 | Geschlecht: ♂ | \n",
      "ID: 260 | Alter: 19 | Geschlecht: ♀ | \n",
      "ID: 261 | Alter: 48 | Geschlecht: ♂ | \n",
      "ID: 264 | Alter: 21 | Geschlecht: ♀ | \n"
     ]
    }
   ],
   "source": [
    "# Write data to analyze quality feedback\n",
    "\n",
    "for index, row in surveyData.iterrows():\n",
    "    # Create standard line\n",
    "    #indexLine = f\"ID: {row.id}\" + \" | \" + f\"Alter: {int(row.age)}\" +  \" | \" + f\"Geschlecht: { row.sex[0].upper() }\" + \" | \" + f\"I-Level: {row['internet-level']}\" + \" | \" + f\"Laune: Start {row['mood-start']}, \" + f\"Ende: {row['mood-end']}\"\n",
    "    indexLine = f\"ID: {row.id}\" + \" | \" + f\"Alter: {int(row.age)}\" +  \" | \" + f\"Geschlecht: { getSex(row.sex) }\" + \" | \" \n",
    "    print(indexLine)\n",
    "    #shorterAll = min([ row['duration-over-all'], row['duration-date-based-in-seconds'] ])\n",
    "    #durationLine = f\"Gesamt: {row['internet-level']}\"\n",
    "    #print(shorterAll)\n"
   ]
  }
 ],
 "metadata": {
  "kernelspec": {
   "display_name": "Python 3.9.13 64-bit",
   "language": "python",
   "name": "python3"
  },
  "language_info": {
   "codemirror_mode": {
    "name": "ipython",
    "version": 3
   },
   "file_extension": ".py",
   "mimetype": "text/x-python",
   "name": "python",
   "nbconvert_exporter": "python",
   "pygments_lexer": "ipython3",
   "version": "3.9.13"
  },
  "orig_nbformat": 4,
  "vscode": {
   "interpreter": {
    "hash": "aee8b7b246df8f9039afb4144a1f6fd8d2ca17a180786b69acc140d282b71a49"
   }
  }
 },
 "nbformat": 4,
 "nbformat_minor": 2
}
