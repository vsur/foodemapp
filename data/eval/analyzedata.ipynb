{
 "cells": [
  {
   "cell_type": "code",
   "execution_count": 1,
   "metadata": {},
   "outputs": [],
   "source": [
    "import numpy as np\n",
    "import pandas as pd\n",
    "\n",
    "%store -r columnNames\n",
    "\n",
    "#pd.set_option('display.max_columns', None)  # or 1000\n",
    "# pd.set_option('display.max_rows', None)  # or 1000\n",
    "# pd.set_option('display.max_colwidth', None)  # or 199\n",
    "\n",
    "# pd.describe_option('display')"
   ]
  },
  {
   "cell_type": "markdown",
   "metadata": {},
   "source": [
    "# Analyze Data"
   ]
  },
  {
   "cell_type": "code",
   "execution_count": 2,
   "metadata": {},
   "outputs": [
    {
     "name": "stdout",
     "output_type": "stream",
     "text": [
      "Anzahl an kompletten Daten: 203\n",
      "Liste zu erst 0\n",
      "Chord zu erst 0\n",
      "Map zu erst 0\n"
     ]
    }
   ],
   "source": [
    "surveyData=pd.read_csv('justCompletedAttempts.csv', sep=';')\n",
    "\n",
    "print(\"Anzahl an kompletten Daten:\", len(surveyData))\n",
    "\n",
    "# Build groups depending on what viz participant had to solve first\n",
    "\n",
    "listFirstParticipants=surveyData[surveyData['list-question-number']==6]\n",
    "\n",
    "chordFirstParticipants=surveyData[surveyData['chord-question-number']==6]\n",
    "\n",
    "mapFirstParticipants=surveyData[surveyData['map-question-number']==6]\n",
    "\n",
    "print(\"Liste zu erst\", len(listFirstParticipants))\n",
    "print(\"Chord zu erst\", len(chordFirstParticipants))\n",
    "print(\"Map zu erst\", len(mapFirstParticipants))"
   ]
  },
  {
   "cell_type": "code",
   "execution_count": 5,
   "metadata": {},
   "outputs": [
    {
     "ename": "SyntaxError",
     "evalue": "invalid syntax (3918954524.py, line 9)",
     "output_type": "error",
     "traceback": [
      "\u001b[0;36m  Input \u001b[0;32mIn [5]\u001b[0;36m\u001b[0m\n\u001b[0;31m    'duration-over-all';\u001b[0m\n\u001b[0m                       ^\u001b[0m\n\u001b[0;31mSyntaxError\u001b[0m\u001b[0;31m:\u001b[0m invalid syntax\n"
     ]
    }
   ],
   "source": [
    "# Build evaluation set\n",
    "\n",
    "def createEvaluationValueFromRow(row):\n",
    "    evalDF=row[\n",
    "        [\n",
    "            'id', \n",
    "            'date-start', \n",
    "            'date-last',\n",
    "            'duration-over-all',\n",
    "            'duration-group-tasks-intro',\n",
    "            'duration-group-list-task',\n",
    "            'duration-group-chord-task',\n",
    "            'duration-group-map-task',\n",
    "            'age', \n",
    "            'sex', \n",
    "            'internet-level', \n",
    "            'mood-start', \n",
    "            'mood-end', \n",
    "            'preference-chord-or-map-over-list', \n",
    "            'highest-preferenced-viz', \n",
    "            'preference-reason', \n",
    "            'qualitative-questions-pros-cons-chord', \n",
    "            'qualitative-questions-pros-cons-map', \n",
    "            'qualitative-questions-pros-cons-list'\n",
    "        ]\n",
    "    ]\n",
    "    return evalDF"
   ]
  },
  {
   "cell_type": "code",
   "execution_count": 4,
   "metadata": {},
   "outputs": [
    {
     "name": "stdout",
     "output_type": "stream",
     "text": [
      "   id           date-start            date-last  duration-group-tasks-intro  \\\n",
      "2  12  2022-04-07 09:52:32  2022-04-07 10:24:43                         NaN   \n",
      "\n",
      "   duration-group-list-task  duration-group-chord-task  \\\n",
      "2                       NaN                        NaN   \n",
      "\n",
      "   duration-group-map-task   age       sex internet-level mood-start  \\\n",
      "2                      NaN  22.0  männlich        3–4 Mal    Neutral   \n",
      "\n",
      "    mood-end                  preference-chord-or-map-over-list  \\\n",
      "2  Sonstiges  Liste war verbuden mit scrollen und man hatte ...   \n",
      "\n",
      "  highest-preferenced-viz                                  preference-reason  \\\n",
      "2                     NaN  Zuerst war sie unübersichtlich und neu, nach e...   \n",
      "\n",
      "               qualitative-questions-pros-cons-chord  \\\n",
      "2  Typisch google maps man findet sich schnell zu...   \n",
      "\n",
      "                 qualitative-questions-pros-cons-map  \\\n",
      "2  zu wenig Vergleiche deshalb mit viel scrollen ...   \n",
      "\n",
      "  qualitative-questions-pros-cons-list  \n",
      "2                                  Map  \n"
     ]
    }
   ],
   "source": [
    "print (createEvaluationValueFromRow(surveyData[surveyData['id']==12]))\n"
   ]
  }
 ],
 "metadata": {
  "kernelspec": {
   "display_name": "Python 3.9.10 64-bit",
   "language": "python",
   "name": "python3"
  },
  "language_info": {
   "codemirror_mode": {
    "name": "ipython",
    "version": 3
   },
   "file_extension": ".py",
   "mimetype": "text/x-python",
   "name": "python",
   "nbconvert_exporter": "python",
   "pygments_lexer": "ipython3",
   "version": "3.9.10"
  },
  "orig_nbformat": 4,
  "vscode": {
   "interpreter": {
    "hash": "b0fa6594d8f4cbf19f97940f81e996739fb7646882a419484c72d19e05852a7e"
   }
  }
 },
 "nbformat": 4,
 "nbformat_minor": 2
}
