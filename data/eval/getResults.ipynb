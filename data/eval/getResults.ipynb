{
 "cells": [
  {
   "cell_type": "code",
   "execution_count": 1,
   "metadata": {},
   "outputs": [],
   "source": [
    "import numpy as np\n",
    "import pandas as pd\n",
    "import locale\n",
    "import time\n",
    "#import matplotlib.pyplot as plt\n",
    "import plotly.express as px\n",
    "import plotly.graph_objects as go\n",
    "from plotly.subplots import make_subplots\n",
    "\n",
    "\n",
    "locale.setlocale(locale.LC_TIME, \"de_DE\")\n",
    "\n",
    "%store -r columnNames\n",
    "\n",
    "#pd.set_option('display.max_columns', None)  # or 1000\n",
    "pd.set_option('display.max_rows', None)  # or 1000\n",
    "# pd.set_option('display.max_colwidth', None)  # or 199\n",
    "\n",
    "# pd.describe_option('display')\n",
    "#plt.close(\"all\")"
   ]
  },
  {
   "cell_type": "code",
   "execution_count": 2,
   "metadata": {},
   "outputs": [],
   "source": [
    "# Create color set bades on UR CD colors\n",
    "urCdColors = [\n",
    "    \"rgb(156,0,75)\", # HEIDENELKENROT\n",
    "    \"rgb(0,155,119)\", # TÜRKISGRÜN\n",
    "    \"rgb(0,135,178)\", # SPEKTRALBLAU\n",
    "    \"rgb(174,167,0)\", # LÄRCHENNADELGRÜN\n",
    "    \"rgb(236,98,0)\", # ORANGEROT\n",
    "    \"rgb(191,0,42)\", # HEUCHERAROT\n",
    "    \"rgb(79,184,0)\", # BLATTGRÜN\n",
    "    \"rgb(0,137,147)\", # EISVOGELBLAU\n",
    "    \"rgb(0,85,106)\", # CAPRIBLAU\n",
    "    \"rgb(205,211,15)\", # URANGELB\n",
    "    \"rgb(236,188,0)\" # VATIKANGELB\n",
    "]\n",
    "\n",
    "# Go table header colors\n",
    "headerColor = 'grey'\n",
    "rowEvenColor = 'lightgrey'\n",
    "rowOddColor = 'white'"
   ]
  },
  {
   "cell_type": "markdown",
   "metadata": {},
   "source": [
    "# Get Results"
   ]
  },
  {
   "cell_type": "code",
   "execution_count": 3,
   "metadata": {},
   "outputs": [
    {
     "name": "stdout",
     "output_type": "stream",
     "text": [
      "Anzahl an kompletten Daten: 203\n"
     ]
    }
   ],
   "source": [
    "surveyData=pd.read_csv('justCompletedAttempts.csv', sep=';')\n",
    "print(\"Anzahl an kompletten Daten:\", len(surveyData))\n",
    "\n",
    "# Convert to seconds\n",
    "def secondsToTime(seconds): \n",
    "    timeString =  str( time.strftime('%H:%M:%S', time.gmtime(seconds)) ) + str( seconds )[-3:]\n",
    "    return timeString\n",
    "\n",
    "# Converts mood value in float\n",
    "def moodToFloatVal(moodString):\n",
    "    moodFloat = 0.0\n",
    "\n",
    "    if moodString == \"Schlecht\":\n",
    "        moodFloat = -2.0\n",
    "    elif moodString == \"Nicht gut\":\n",
    "        moodFloat = -1.0\n",
    "    elif moodString == \"Neutral\":\n",
    "        moodFloat = 0.0\n",
    "    elif moodString == \"Gut\":\n",
    "        moodFloat = 1.0\n",
    "    elif moodString == \"Sehr gut\":\n",
    "        moodFloat = 2.0\n",
    "        \n",
    "    return moodFloat\n",
    "\n",
    "# Add extra fields for comparison\n",
    "surveyData['duration-over-all-time'] = surveyData.apply(lambda row: secondsToTime(row['duration-over-all']), axis=1)\n",
    "surveyData['duration-date-based'] = surveyData.apply(lambda row: pd.to_datetime(row['date-last'])-pd.to_datetime(row['date-start']), axis=1)\n",
    "surveyData['duration-date-based-in-seconds'] = surveyData.apply(lambda row: row['duration-date-based'].total_seconds(), axis=1)\n",
    "surveyData['duration-delta-all-vs-start-end'] = surveyData.apply(lambda row: row['duration-over-all']-row['duration-date-based-in-seconds'], axis=1)\n",
    "surveyData['duration-shortest-val'] = surveyData.apply(lambda row: min(row['duration-over-all'], row['duration-date-based-in-seconds']), axis=1)\n",
    "surveyData['duration-shortest-val-time'] = surveyData.apply(lambda row: secondsToTime(row['duration-shortest-val']), axis=1)\n",
    "surveyData['mood-start-val'] = surveyData.apply(lambda row: moodToFloatVal(row['mood-start']), axis=1)\n",
    "surveyData['mood-end-val'] = surveyData.apply(lambda row: moodToFloatVal(row['mood-end']), axis=1)\n",
    "surveyData['mood-delta'] = surveyData.apply(lambda row: row['mood-end-val']-row['mood-start-val'], axis=1)\n",
    "\n",
    "# Build groups depending on what viz participant had to solve first\n",
    "\n",
    "listFirstParticipants=surveyData[surveyData['list-question-number']==6]\n",
    "chordFirstParticipants=surveyData[surveyData['chord-question-number']==6]\n",
    "mapFirstParticipants=surveyData[surveyData['map-question-number']==6]"
   ]
  },
  {
   "cell_type": "markdown",
   "metadata": {},
   "source": [
    "## Socio-Demographic Data\n",
    "### Age"
   ]
  },
  {
   "cell_type": "code",
   "execution_count": 4,
   "metadata": {},
   "outputs": [
    {
     "data": {
      "application/vnd.plotly.v1+json": {
       "config": {
        "plotlyServerURL": "https://plot.ly"
       },
       "data": [
        {
         "marker": {
          "color": "rgb(156,0,75)"
         },
         "name": "Alter gesamt",
         "type": "box",
         "y": [
          21,
          21,
          22,
          20,
          24,
          22,
          21,
          22,
          21,
          20,
          21,
          21,
          20,
          20,
          22,
          23,
          24,
          20,
          19,
          20,
          19,
          19,
          26,
          22,
          20,
          18,
          20,
          19,
          19,
          24,
          21,
          23,
          19,
          28,
          22,
          22,
          19,
          21,
          20,
          19,
          18,
          21,
          26,
          23,
          20,
          19,
          22,
          23,
          23,
          19,
          23,
          20,
          21,
          21,
          24,
          20,
          19,
          20,
          25,
          26,
          23,
          57,
          36,
          31,
          41,
          59,
          26,
          42,
          36,
          30,
          46,
          26,
          25,
          45,
          36,
          52,
          61,
          35,
          39,
          36,
          32,
          33,
          55,
          34,
          42,
          37,
          31,
          40,
          22,
          42,
          39,
          41,
          21,
          73,
          33,
          27,
          52,
          37,
          33,
          85,
          52,
          39,
          38,
          31,
          21,
          23,
          20,
          38,
          43,
          23,
          28,
          20,
          21,
          20,
          20,
          22,
          21,
          24,
          23,
          29,
          22,
          24,
          24,
          22,
          23,
          22,
          18,
          18,
          33,
          20,
          20,
          20,
          21,
          30,
          20,
          22,
          21,
          22,
          20,
          37,
          25,
          19,
          25,
          24,
          20,
          20,
          23,
          27,
          20,
          23,
          20,
          20,
          22,
          20,
          19,
          20,
          22,
          22,
          22,
          20,
          20,
          20,
          21,
          20,
          20,
          33,
          20,
          20,
          25,
          27,
          20,
          20,
          22,
          19,
          22,
          20,
          21,
          20,
          28,
          20,
          22,
          33,
          38,
          70,
          35,
          33,
          40,
          22,
          26,
          38,
          21,
          21,
          20,
          41,
          33,
          25,
          32,
          33,
          36,
          33,
          19,
          48,
          21
         ]
        },
        {
         "marker": {
          "color": "rgb(0,155,119)"
         },
         "name": "nach Listen Präferenz",
         "type": "box",
         "y": [
          20,
          24,
          22,
          20,
          21,
          19,
          21,
          23,
          23,
          24,
          30,
          45,
          52,
          61,
          36,
          52,
          39,
          20,
          21,
          20,
          23,
          22,
          24,
          23,
          22,
          18,
          33,
          20,
          21,
          30,
          22,
          24,
          23,
          23,
          22,
          20,
          20,
          20,
          20,
          20,
          20,
          20,
          21,
          20,
          22,
          70,
          22,
          21,
          21,
          20,
          33,
          32,
          48
         ]
        },
        {
         "marker": {
          "color": "rgb(0,135,178)"
         },
         "name": "nach Chord Präferenz",
         "type": "box",
         "y": [
          20,
          24,
          22,
          19,
          19,
          20,
          19,
          19,
          19,
          22,
          22,
          26,
          23,
          57,
          36,
          31,
          26,
          42,
          46,
          26,
          39,
          55,
          34,
          37,
          31,
          40,
          42,
          41,
          21,
          33,
          33,
          85,
          52,
          38,
          21,
          23,
          20,
          28,
          22,
          21,
          24,
          24,
          22,
          18,
          21,
          22,
          20,
          19,
          20,
          27,
          19,
          22,
          38,
          41,
          25,
          33,
          19,
          21
         ]
        },
        {
         "marker": {
          "color": "rgb(174,167,0)"
         },
         "name": "nach Map Präferenz",
         "type": "box",
         "y": [
          21,
          21,
          22,
          21,
          22,
          21,
          20,
          21,
          21,
          20,
          22,
          23,
          20,
          19,
          20,
          26,
          18,
          24,
          23,
          28,
          20,
          19,
          18,
          21,
          26,
          23,
          20,
          19,
          22,
          19,
          23,
          20,
          21,
          21,
          20,
          19,
          20,
          25,
          41,
          59,
          36,
          25,
          36,
          35,
          32,
          33,
          42,
          22,
          39,
          73,
          27,
          37,
          31,
          38,
          43,
          23,
          20,
          29,
          20,
          20,
          20,
          20,
          37,
          25,
          19,
          25,
          20,
          27,
          20,
          20,
          20,
          22,
          22,
          22,
          20,
          20,
          20,
          21,
          33,
          20,
          25,
          22,
          20,
          28,
          33,
          35,
          33,
          40,
          26,
          38,
          33,
          36
         ]
        }
       ],
       "layout": {
        "font": {
         "family": "Frutiger Next LT W1G, Gill Sans, sans-serif",
         "size": 12
        },
        "template": {
         "data": {
          "bar": [
           {
            "error_x": {
             "color": "#2a3f5f"
            },
            "error_y": {
             "color": "#2a3f5f"
            },
            "marker": {
             "line": {
              "color": "#E5ECF6",
              "width": 0.5
             },
             "pattern": {
              "fillmode": "overlay",
              "size": 10,
              "solidity": 0.2
             }
            },
            "type": "bar"
           }
          ],
          "barpolar": [
           {
            "marker": {
             "line": {
              "color": "#E5ECF6",
              "width": 0.5
             },
             "pattern": {
              "fillmode": "overlay",
              "size": 10,
              "solidity": 0.2
             }
            },
            "type": "barpolar"
           }
          ],
          "carpet": [
           {
            "aaxis": {
             "endlinecolor": "#2a3f5f",
             "gridcolor": "white",
             "linecolor": "white",
             "minorgridcolor": "white",
             "startlinecolor": "#2a3f5f"
            },
            "baxis": {
             "endlinecolor": "#2a3f5f",
             "gridcolor": "white",
             "linecolor": "white",
             "minorgridcolor": "white",
             "startlinecolor": "#2a3f5f"
            },
            "type": "carpet"
           }
          ],
          "choropleth": [
           {
            "colorbar": {
             "outlinewidth": 0,
             "ticks": ""
            },
            "type": "choropleth"
           }
          ],
          "contour": [
           {
            "colorbar": {
             "outlinewidth": 0,
             "ticks": ""
            },
            "colorscale": [
             [
              0,
              "#0d0887"
             ],
             [
              0.1111111111111111,
              "#46039f"
             ],
             [
              0.2222222222222222,
              "#7201a8"
             ],
             [
              0.3333333333333333,
              "#9c179e"
             ],
             [
              0.4444444444444444,
              "#bd3786"
             ],
             [
              0.5555555555555556,
              "#d8576b"
             ],
             [
              0.6666666666666666,
              "#ed7953"
             ],
             [
              0.7777777777777778,
              "#fb9f3a"
             ],
             [
              0.8888888888888888,
              "#fdca26"
             ],
             [
              1,
              "#f0f921"
             ]
            ],
            "type": "contour"
           }
          ],
          "contourcarpet": [
           {
            "colorbar": {
             "outlinewidth": 0,
             "ticks": ""
            },
            "type": "contourcarpet"
           }
          ],
          "heatmap": [
           {
            "colorbar": {
             "outlinewidth": 0,
             "ticks": ""
            },
            "colorscale": [
             [
              0,
              "#0d0887"
             ],
             [
              0.1111111111111111,
              "#46039f"
             ],
             [
              0.2222222222222222,
              "#7201a8"
             ],
             [
              0.3333333333333333,
              "#9c179e"
             ],
             [
              0.4444444444444444,
              "#bd3786"
             ],
             [
              0.5555555555555556,
              "#d8576b"
             ],
             [
              0.6666666666666666,
              "#ed7953"
             ],
             [
              0.7777777777777778,
              "#fb9f3a"
             ],
             [
              0.8888888888888888,
              "#fdca26"
             ],
             [
              1,
              "#f0f921"
             ]
            ],
            "type": "heatmap"
           }
          ],
          "heatmapgl": [
           {
            "colorbar": {
             "outlinewidth": 0,
             "ticks": ""
            },
            "colorscale": [
             [
              0,
              "#0d0887"
             ],
             [
              0.1111111111111111,
              "#46039f"
             ],
             [
              0.2222222222222222,
              "#7201a8"
             ],
             [
              0.3333333333333333,
              "#9c179e"
             ],
             [
              0.4444444444444444,
              "#bd3786"
             ],
             [
              0.5555555555555556,
              "#d8576b"
             ],
             [
              0.6666666666666666,
              "#ed7953"
             ],
             [
              0.7777777777777778,
              "#fb9f3a"
             ],
             [
              0.8888888888888888,
              "#fdca26"
             ],
             [
              1,
              "#f0f921"
             ]
            ],
            "type": "heatmapgl"
           }
          ],
          "histogram": [
           {
            "marker": {
             "pattern": {
              "fillmode": "overlay",
              "size": 10,
              "solidity": 0.2
             }
            },
            "type": "histogram"
           }
          ],
          "histogram2d": [
           {
            "colorbar": {
             "outlinewidth": 0,
             "ticks": ""
            },
            "colorscale": [
             [
              0,
              "#0d0887"
             ],
             [
              0.1111111111111111,
              "#46039f"
             ],
             [
              0.2222222222222222,
              "#7201a8"
             ],
             [
              0.3333333333333333,
              "#9c179e"
             ],
             [
              0.4444444444444444,
              "#bd3786"
             ],
             [
              0.5555555555555556,
              "#d8576b"
             ],
             [
              0.6666666666666666,
              "#ed7953"
             ],
             [
              0.7777777777777778,
              "#fb9f3a"
             ],
             [
              0.8888888888888888,
              "#fdca26"
             ],
             [
              1,
              "#f0f921"
             ]
            ],
            "type": "histogram2d"
           }
          ],
          "histogram2dcontour": [
           {
            "colorbar": {
             "outlinewidth": 0,
             "ticks": ""
            },
            "colorscale": [
             [
              0,
              "#0d0887"
             ],
             [
              0.1111111111111111,
              "#46039f"
             ],
             [
              0.2222222222222222,
              "#7201a8"
             ],
             [
              0.3333333333333333,
              "#9c179e"
             ],
             [
              0.4444444444444444,
              "#bd3786"
             ],
             [
              0.5555555555555556,
              "#d8576b"
             ],
             [
              0.6666666666666666,
              "#ed7953"
             ],
             [
              0.7777777777777778,
              "#fb9f3a"
             ],
             [
              0.8888888888888888,
              "#fdca26"
             ],
             [
              1,
              "#f0f921"
             ]
            ],
            "type": "histogram2dcontour"
           }
          ],
          "mesh3d": [
           {
            "colorbar": {
             "outlinewidth": 0,
             "ticks": ""
            },
            "type": "mesh3d"
           }
          ],
          "parcoords": [
           {
            "line": {
             "colorbar": {
              "outlinewidth": 0,
              "ticks": ""
             }
            },
            "type": "parcoords"
           }
          ],
          "pie": [
           {
            "automargin": true,
            "type": "pie"
           }
          ],
          "scatter": [
           {
            "fillpattern": {
             "fillmode": "overlay",
             "size": 10,
             "solidity": 0.2
            },
            "type": "scatter"
           }
          ],
          "scatter3d": [
           {
            "line": {
             "colorbar": {
              "outlinewidth": 0,
              "ticks": ""
             }
            },
            "marker": {
             "colorbar": {
              "outlinewidth": 0,
              "ticks": ""
             }
            },
            "type": "scatter3d"
           }
          ],
          "scattercarpet": [
           {
            "marker": {
             "colorbar": {
              "outlinewidth": 0,
              "ticks": ""
             }
            },
            "type": "scattercarpet"
           }
          ],
          "scattergeo": [
           {
            "marker": {
             "colorbar": {
              "outlinewidth": 0,
              "ticks": ""
             }
            },
            "type": "scattergeo"
           }
          ],
          "scattergl": [
           {
            "marker": {
             "colorbar": {
              "outlinewidth": 0,
              "ticks": ""
             }
            },
            "type": "scattergl"
           }
          ],
          "scattermapbox": [
           {
            "marker": {
             "colorbar": {
              "outlinewidth": 0,
              "ticks": ""
             }
            },
            "type": "scattermapbox"
           }
          ],
          "scatterpolar": [
           {
            "marker": {
             "colorbar": {
              "outlinewidth": 0,
              "ticks": ""
             }
            },
            "type": "scatterpolar"
           }
          ],
          "scatterpolargl": [
           {
            "marker": {
             "colorbar": {
              "outlinewidth": 0,
              "ticks": ""
             }
            },
            "type": "scatterpolargl"
           }
          ],
          "scatterternary": [
           {
            "marker": {
             "colorbar": {
              "outlinewidth": 0,
              "ticks": ""
             }
            },
            "type": "scatterternary"
           }
          ],
          "surface": [
           {
            "colorbar": {
             "outlinewidth": 0,
             "ticks": ""
            },
            "colorscale": [
             [
              0,
              "#0d0887"
             ],
             [
              0.1111111111111111,
              "#46039f"
             ],
             [
              0.2222222222222222,
              "#7201a8"
             ],
             [
              0.3333333333333333,
              "#9c179e"
             ],
             [
              0.4444444444444444,
              "#bd3786"
             ],
             [
              0.5555555555555556,
              "#d8576b"
             ],
             [
              0.6666666666666666,
              "#ed7953"
             ],
             [
              0.7777777777777778,
              "#fb9f3a"
             ],
             [
              0.8888888888888888,
              "#fdca26"
             ],
             [
              1,
              "#f0f921"
             ]
            ],
            "type": "surface"
           }
          ],
          "table": [
           {
            "cells": {
             "fill": {
              "color": "#EBF0F8"
             },
             "line": {
              "color": "white"
             }
            },
            "header": {
             "fill": {
              "color": "#C8D4E3"
             },
             "line": {
              "color": "white"
             }
            },
            "type": "table"
           }
          ]
         },
         "layout": {
          "annotationdefaults": {
           "arrowcolor": "#2a3f5f",
           "arrowhead": 0,
           "arrowwidth": 1
          },
          "autotypenumbers": "strict",
          "coloraxis": {
           "colorbar": {
            "outlinewidth": 0,
            "ticks": ""
           }
          },
          "colorscale": {
           "diverging": [
            [
             0,
             "#8e0152"
            ],
            [
             0.1,
             "#c51b7d"
            ],
            [
             0.2,
             "#de77ae"
            ],
            [
             0.3,
             "#f1b6da"
            ],
            [
             0.4,
             "#fde0ef"
            ],
            [
             0.5,
             "#f7f7f7"
            ],
            [
             0.6,
             "#e6f5d0"
            ],
            [
             0.7,
             "#b8e186"
            ],
            [
             0.8,
             "#7fbc41"
            ],
            [
             0.9,
             "#4d9221"
            ],
            [
             1,
             "#276419"
            ]
           ],
           "sequential": [
            [
             0,
             "#0d0887"
            ],
            [
             0.1111111111111111,
             "#46039f"
            ],
            [
             0.2222222222222222,
             "#7201a8"
            ],
            [
             0.3333333333333333,
             "#9c179e"
            ],
            [
             0.4444444444444444,
             "#bd3786"
            ],
            [
             0.5555555555555556,
             "#d8576b"
            ],
            [
             0.6666666666666666,
             "#ed7953"
            ],
            [
             0.7777777777777778,
             "#fb9f3a"
            ],
            [
             0.8888888888888888,
             "#fdca26"
            ],
            [
             1,
             "#f0f921"
            ]
           ],
           "sequentialminus": [
            [
             0,
             "#0d0887"
            ],
            [
             0.1111111111111111,
             "#46039f"
            ],
            [
             0.2222222222222222,
             "#7201a8"
            ],
            [
             0.3333333333333333,
             "#9c179e"
            ],
            [
             0.4444444444444444,
             "#bd3786"
            ],
            [
             0.5555555555555556,
             "#d8576b"
            ],
            [
             0.6666666666666666,
             "#ed7953"
            ],
            [
             0.7777777777777778,
             "#fb9f3a"
            ],
            [
             0.8888888888888888,
             "#fdca26"
            ],
            [
             1,
             "#f0f921"
            ]
           ]
          },
          "colorway": [
           "#636efa",
           "#EF553B",
           "#00cc96",
           "#ab63fa",
           "#FFA15A",
           "#19d3f3",
           "#FF6692",
           "#B6E880",
           "#FF97FF",
           "#FECB52"
          ],
          "font": {
           "color": "#2a3f5f"
          },
          "geo": {
           "bgcolor": "white",
           "lakecolor": "white",
           "landcolor": "#E5ECF6",
           "showlakes": true,
           "showland": true,
           "subunitcolor": "white"
          },
          "hoverlabel": {
           "align": "left"
          },
          "hovermode": "closest",
          "mapbox": {
           "style": "light"
          },
          "paper_bgcolor": "white",
          "plot_bgcolor": "#E5ECF6",
          "polar": {
           "angularaxis": {
            "gridcolor": "white",
            "linecolor": "white",
            "ticks": ""
           },
           "bgcolor": "#E5ECF6",
           "radialaxis": {
            "gridcolor": "white",
            "linecolor": "white",
            "ticks": ""
           }
          },
          "scene": {
           "xaxis": {
            "backgroundcolor": "#E5ECF6",
            "gridcolor": "white",
            "gridwidth": 2,
            "linecolor": "white",
            "showbackground": true,
            "ticks": "",
            "zerolinecolor": "white"
           },
           "yaxis": {
            "backgroundcolor": "#E5ECF6",
            "gridcolor": "white",
            "gridwidth": 2,
            "linecolor": "white",
            "showbackground": true,
            "ticks": "",
            "zerolinecolor": "white"
           },
           "zaxis": {
            "backgroundcolor": "#E5ECF6",
            "gridcolor": "white",
            "gridwidth": 2,
            "linecolor": "white",
            "showbackground": true,
            "ticks": "",
            "zerolinecolor": "white"
           }
          },
          "shapedefaults": {
           "line": {
            "color": "#2a3f5f"
           }
          },
          "ternary": {
           "aaxis": {
            "gridcolor": "white",
            "linecolor": "white",
            "ticks": ""
           },
           "baxis": {
            "gridcolor": "white",
            "linecolor": "white",
            "ticks": ""
           },
           "bgcolor": "#E5ECF6",
           "caxis": {
            "gridcolor": "white",
            "linecolor": "white",
            "ticks": ""
           }
          },
          "title": {
           "x": 0.05
          },
          "xaxis": {
           "automargin": true,
           "gridcolor": "white",
           "linecolor": "white",
           "ticks": "",
           "title": {
            "standoff": 15
           },
           "zerolinecolor": "white",
           "zerolinewidth": 2
          },
          "yaxis": {
           "automargin": true,
           "gridcolor": "white",
           "linecolor": "white",
           "ticks": "",
           "title": {
            "standoff": 15
           },
           "zerolinecolor": "white",
           "zerolinewidth": 2
          }
         }
        },
        "title": {
         "text": "Altersverteilung, n=203"
        },
        "xaxis": {
         "title": {
          "text": "Alter nach Präferenz"
         }
        },
        "yaxis": {
         "title": {
          "text": "Alter in Jahren"
         }
        }
       }
      }
     },
     "metadata": {},
     "output_type": "display_data"
    },
    {
     "data": {
      "application/vnd.plotly.v1+json": {
       "config": {
        "plotlyServerURL": "https://plot.ly"
       },
       "data": [
        {
         "cells": {
          "align": [
           "left",
           "center"
          ],
          "fill": {
           "color": [
            [
             "white",
             "lightgrey",
             "white",
             "lightgrey",
             "white",
             "white",
             "lightgrey",
             "white",
             "lightgrey",
             "white",
             "white",
             "lightgrey",
             "white",
             "lightgrey",
             "white",
             "white",
             "lightgrey",
             "white",
             "lightgrey",
             "white",
             "white",
             "lightgrey",
             "white",
             "lightgrey",
             "white"
            ]
           ]
          },
          "font": {
           "color": "darkslategray",
           "size": 11
          },
          "line": {
           "color": "darkslategray"
          },
          "values": [
           [
            "<b>Maximum</b>",
            "<b>Oberes Quartil</b>",
            "<b>Median</b>",
            "<b>Unteres Quartil</b>",
            "<b>Minimum</b>"
           ],
           [
            42,
            32,
            22,
            20,
            18
           ],
           [
            33,
            25.5,
            22,
            20,
            18
           ],
           [
            57,
            36,
            24,
            21,
            18
           ],
           [
            43,
            30,
            22,
            20,
            18
           ]
          ]
         },
         "header": {
          "align": [
           "left",
           "center"
          ],
          "fill": {
           "color": "grey"
          },
          "font": {
           "color": "white",
           "size": 12
          },
          "line": {
           "color": "darkslategray"
          },
          "values": [
           "<b>Kennwert</b>",
           "<b>Alter gesamt</b>",
           "<b>nach Listen Präferenz</b>",
           "<b>nach Chord Präferenz</b>",
           "<b>nach Map Präferenz</b>"
          ]
         },
         "type": "table"
        }
       ],
       "layout": {
        "font": {
         "family": "Frutiger Next LT W1G, Gill Sans, sans-serif",
         "size": 12
        },
        "template": {
         "data": {
          "bar": [
           {
            "error_x": {
             "color": "#2a3f5f"
            },
            "error_y": {
             "color": "#2a3f5f"
            },
            "marker": {
             "line": {
              "color": "#E5ECF6",
              "width": 0.5
             },
             "pattern": {
              "fillmode": "overlay",
              "size": 10,
              "solidity": 0.2
             }
            },
            "type": "bar"
           }
          ],
          "barpolar": [
           {
            "marker": {
             "line": {
              "color": "#E5ECF6",
              "width": 0.5
             },
             "pattern": {
              "fillmode": "overlay",
              "size": 10,
              "solidity": 0.2
             }
            },
            "type": "barpolar"
           }
          ],
          "carpet": [
           {
            "aaxis": {
             "endlinecolor": "#2a3f5f",
             "gridcolor": "white",
             "linecolor": "white",
             "minorgridcolor": "white",
             "startlinecolor": "#2a3f5f"
            },
            "baxis": {
             "endlinecolor": "#2a3f5f",
             "gridcolor": "white",
             "linecolor": "white",
             "minorgridcolor": "white",
             "startlinecolor": "#2a3f5f"
            },
            "type": "carpet"
           }
          ],
          "choropleth": [
           {
            "colorbar": {
             "outlinewidth": 0,
             "ticks": ""
            },
            "type": "choropleth"
           }
          ],
          "contour": [
           {
            "colorbar": {
             "outlinewidth": 0,
             "ticks": ""
            },
            "colorscale": [
             [
              0,
              "#0d0887"
             ],
             [
              0.1111111111111111,
              "#46039f"
             ],
             [
              0.2222222222222222,
              "#7201a8"
             ],
             [
              0.3333333333333333,
              "#9c179e"
             ],
             [
              0.4444444444444444,
              "#bd3786"
             ],
             [
              0.5555555555555556,
              "#d8576b"
             ],
             [
              0.6666666666666666,
              "#ed7953"
             ],
             [
              0.7777777777777778,
              "#fb9f3a"
             ],
             [
              0.8888888888888888,
              "#fdca26"
             ],
             [
              1,
              "#f0f921"
             ]
            ],
            "type": "contour"
           }
          ],
          "contourcarpet": [
           {
            "colorbar": {
             "outlinewidth": 0,
             "ticks": ""
            },
            "type": "contourcarpet"
           }
          ],
          "heatmap": [
           {
            "colorbar": {
             "outlinewidth": 0,
             "ticks": ""
            },
            "colorscale": [
             [
              0,
              "#0d0887"
             ],
             [
              0.1111111111111111,
              "#46039f"
             ],
             [
              0.2222222222222222,
              "#7201a8"
             ],
             [
              0.3333333333333333,
              "#9c179e"
             ],
             [
              0.4444444444444444,
              "#bd3786"
             ],
             [
              0.5555555555555556,
              "#d8576b"
             ],
             [
              0.6666666666666666,
              "#ed7953"
             ],
             [
              0.7777777777777778,
              "#fb9f3a"
             ],
             [
              0.8888888888888888,
              "#fdca26"
             ],
             [
              1,
              "#f0f921"
             ]
            ],
            "type": "heatmap"
           }
          ],
          "heatmapgl": [
           {
            "colorbar": {
             "outlinewidth": 0,
             "ticks": ""
            },
            "colorscale": [
             [
              0,
              "#0d0887"
             ],
             [
              0.1111111111111111,
              "#46039f"
             ],
             [
              0.2222222222222222,
              "#7201a8"
             ],
             [
              0.3333333333333333,
              "#9c179e"
             ],
             [
              0.4444444444444444,
              "#bd3786"
             ],
             [
              0.5555555555555556,
              "#d8576b"
             ],
             [
              0.6666666666666666,
              "#ed7953"
             ],
             [
              0.7777777777777778,
              "#fb9f3a"
             ],
             [
              0.8888888888888888,
              "#fdca26"
             ],
             [
              1,
              "#f0f921"
             ]
            ],
            "type": "heatmapgl"
           }
          ],
          "histogram": [
           {
            "marker": {
             "pattern": {
              "fillmode": "overlay",
              "size": 10,
              "solidity": 0.2
             }
            },
            "type": "histogram"
           }
          ],
          "histogram2d": [
           {
            "colorbar": {
             "outlinewidth": 0,
             "ticks": ""
            },
            "colorscale": [
             [
              0,
              "#0d0887"
             ],
             [
              0.1111111111111111,
              "#46039f"
             ],
             [
              0.2222222222222222,
              "#7201a8"
             ],
             [
              0.3333333333333333,
              "#9c179e"
             ],
             [
              0.4444444444444444,
              "#bd3786"
             ],
             [
              0.5555555555555556,
              "#d8576b"
             ],
             [
              0.6666666666666666,
              "#ed7953"
             ],
             [
              0.7777777777777778,
              "#fb9f3a"
             ],
             [
              0.8888888888888888,
              "#fdca26"
             ],
             [
              1,
              "#f0f921"
             ]
            ],
            "type": "histogram2d"
           }
          ],
          "histogram2dcontour": [
           {
            "colorbar": {
             "outlinewidth": 0,
             "ticks": ""
            },
            "colorscale": [
             [
              0,
              "#0d0887"
             ],
             [
              0.1111111111111111,
              "#46039f"
             ],
             [
              0.2222222222222222,
              "#7201a8"
             ],
             [
              0.3333333333333333,
              "#9c179e"
             ],
             [
              0.4444444444444444,
              "#bd3786"
             ],
             [
              0.5555555555555556,
              "#d8576b"
             ],
             [
              0.6666666666666666,
              "#ed7953"
             ],
             [
              0.7777777777777778,
              "#fb9f3a"
             ],
             [
              0.8888888888888888,
              "#fdca26"
             ],
             [
              1,
              "#f0f921"
             ]
            ],
            "type": "histogram2dcontour"
           }
          ],
          "mesh3d": [
           {
            "colorbar": {
             "outlinewidth": 0,
             "ticks": ""
            },
            "type": "mesh3d"
           }
          ],
          "parcoords": [
           {
            "line": {
             "colorbar": {
              "outlinewidth": 0,
              "ticks": ""
             }
            },
            "type": "parcoords"
           }
          ],
          "pie": [
           {
            "automargin": true,
            "type": "pie"
           }
          ],
          "scatter": [
           {
            "fillpattern": {
             "fillmode": "overlay",
             "size": 10,
             "solidity": 0.2
            },
            "type": "scatter"
           }
          ],
          "scatter3d": [
           {
            "line": {
             "colorbar": {
              "outlinewidth": 0,
              "ticks": ""
             }
            },
            "marker": {
             "colorbar": {
              "outlinewidth": 0,
              "ticks": ""
             }
            },
            "type": "scatter3d"
           }
          ],
          "scattercarpet": [
           {
            "marker": {
             "colorbar": {
              "outlinewidth": 0,
              "ticks": ""
             }
            },
            "type": "scattercarpet"
           }
          ],
          "scattergeo": [
           {
            "marker": {
             "colorbar": {
              "outlinewidth": 0,
              "ticks": ""
             }
            },
            "type": "scattergeo"
           }
          ],
          "scattergl": [
           {
            "marker": {
             "colorbar": {
              "outlinewidth": 0,
              "ticks": ""
             }
            },
            "type": "scattergl"
           }
          ],
          "scattermapbox": [
           {
            "marker": {
             "colorbar": {
              "outlinewidth": 0,
              "ticks": ""
             }
            },
            "type": "scattermapbox"
           }
          ],
          "scatterpolar": [
           {
            "marker": {
             "colorbar": {
              "outlinewidth": 0,
              "ticks": ""
             }
            },
            "type": "scatterpolar"
           }
          ],
          "scatterpolargl": [
           {
            "marker": {
             "colorbar": {
              "outlinewidth": 0,
              "ticks": ""
             }
            },
            "type": "scatterpolargl"
           }
          ],
          "scatterternary": [
           {
            "marker": {
             "colorbar": {
              "outlinewidth": 0,
              "ticks": ""
             }
            },
            "type": "scatterternary"
           }
          ],
          "surface": [
           {
            "colorbar": {
             "outlinewidth": 0,
             "ticks": ""
            },
            "colorscale": [
             [
              0,
              "#0d0887"
             ],
             [
              0.1111111111111111,
              "#46039f"
             ],
             [
              0.2222222222222222,
              "#7201a8"
             ],
             [
              0.3333333333333333,
              "#9c179e"
             ],
             [
              0.4444444444444444,
              "#bd3786"
             ],
             [
              0.5555555555555556,
              "#d8576b"
             ],
             [
              0.6666666666666666,
              "#ed7953"
             ],
             [
              0.7777777777777778,
              "#fb9f3a"
             ],
             [
              0.8888888888888888,
              "#fdca26"
             ],
             [
              1,
              "#f0f921"
             ]
            ],
            "type": "surface"
           }
          ],
          "table": [
           {
            "cells": {
             "fill": {
              "color": "#EBF0F8"
             },
             "line": {
              "color": "white"
             }
            },
            "header": {
             "fill": {
              "color": "#C8D4E3"
             },
             "line": {
              "color": "white"
             }
            },
            "type": "table"
           }
          ]
         },
         "layout": {
          "annotationdefaults": {
           "arrowcolor": "#2a3f5f",
           "arrowhead": 0,
           "arrowwidth": 1
          },
          "autotypenumbers": "strict",
          "coloraxis": {
           "colorbar": {
            "outlinewidth": 0,
            "ticks": ""
           }
          },
          "colorscale": {
           "diverging": [
            [
             0,
             "#8e0152"
            ],
            [
             0.1,
             "#c51b7d"
            ],
            [
             0.2,
             "#de77ae"
            ],
            [
             0.3,
             "#f1b6da"
            ],
            [
             0.4,
             "#fde0ef"
            ],
            [
             0.5,
             "#f7f7f7"
            ],
            [
             0.6,
             "#e6f5d0"
            ],
            [
             0.7,
             "#b8e186"
            ],
            [
             0.8,
             "#7fbc41"
            ],
            [
             0.9,
             "#4d9221"
            ],
            [
             1,
             "#276419"
            ]
           ],
           "sequential": [
            [
             0,
             "#0d0887"
            ],
            [
             0.1111111111111111,
             "#46039f"
            ],
            [
             0.2222222222222222,
             "#7201a8"
            ],
            [
             0.3333333333333333,
             "#9c179e"
            ],
            [
             0.4444444444444444,
             "#bd3786"
            ],
            [
             0.5555555555555556,
             "#d8576b"
            ],
            [
             0.6666666666666666,
             "#ed7953"
            ],
            [
             0.7777777777777778,
             "#fb9f3a"
            ],
            [
             0.8888888888888888,
             "#fdca26"
            ],
            [
             1,
             "#f0f921"
            ]
           ],
           "sequentialminus": [
            [
             0,
             "#0d0887"
            ],
            [
             0.1111111111111111,
             "#46039f"
            ],
            [
             0.2222222222222222,
             "#7201a8"
            ],
            [
             0.3333333333333333,
             "#9c179e"
            ],
            [
             0.4444444444444444,
             "#bd3786"
            ],
            [
             0.5555555555555556,
             "#d8576b"
            ],
            [
             0.6666666666666666,
             "#ed7953"
            ],
            [
             0.7777777777777778,
             "#fb9f3a"
            ],
            [
             0.8888888888888888,
             "#fdca26"
            ],
            [
             1,
             "#f0f921"
            ]
           ]
          },
          "colorway": [
           "#636efa",
           "#EF553B",
           "#00cc96",
           "#ab63fa",
           "#FFA15A",
           "#19d3f3",
           "#FF6692",
           "#B6E880",
           "#FF97FF",
           "#FECB52"
          ],
          "font": {
           "color": "#2a3f5f"
          },
          "geo": {
           "bgcolor": "white",
           "lakecolor": "white",
           "landcolor": "#E5ECF6",
           "showlakes": true,
           "showland": true,
           "subunitcolor": "white"
          },
          "hoverlabel": {
           "align": "left"
          },
          "hovermode": "closest",
          "mapbox": {
           "style": "light"
          },
          "paper_bgcolor": "white",
          "plot_bgcolor": "#E5ECF6",
          "polar": {
           "angularaxis": {
            "gridcolor": "white",
            "linecolor": "white",
            "ticks": ""
           },
           "bgcolor": "#E5ECF6",
           "radialaxis": {
            "gridcolor": "white",
            "linecolor": "white",
            "ticks": ""
           }
          },
          "scene": {
           "xaxis": {
            "backgroundcolor": "#E5ECF6",
            "gridcolor": "white",
            "gridwidth": 2,
            "linecolor": "white",
            "showbackground": true,
            "ticks": "",
            "zerolinecolor": "white"
           },
           "yaxis": {
            "backgroundcolor": "#E5ECF6",
            "gridcolor": "white",
            "gridwidth": 2,
            "linecolor": "white",
            "showbackground": true,
            "ticks": "",
            "zerolinecolor": "white"
           },
           "zaxis": {
            "backgroundcolor": "#E5ECF6",
            "gridcolor": "white",
            "gridwidth": 2,
            "linecolor": "white",
            "showbackground": true,
            "ticks": "",
            "zerolinecolor": "white"
           }
          },
          "shapedefaults": {
           "line": {
            "color": "#2a3f5f"
           }
          },
          "ternary": {
           "aaxis": {
            "gridcolor": "white",
            "linecolor": "white",
            "ticks": ""
           },
           "baxis": {
            "gridcolor": "white",
            "linecolor": "white",
            "ticks": ""
           },
           "bgcolor": "#E5ECF6",
           "caxis": {
            "gridcolor": "white",
            "linecolor": "white",
            "ticks": ""
           }
          },
          "title": {
           "x": 0.05
          },
          "xaxis": {
           "automargin": true,
           "gridcolor": "white",
           "linecolor": "white",
           "ticks": "",
           "title": {
            "standoff": 15
           },
           "zerolinecolor": "white",
           "zerolinewidth": 2
          },
          "yaxis": {
           "automargin": true,
           "gridcolor": "white",
           "linecolor": "white",
           "ticks": "",
           "title": {
            "standoff": 15
           },
           "zerolinecolor": "white",
           "zerolinewidth": 2
          }
         }
        },
        "title": {
         "text": "Altersverteilung, n=203"
        },
        "yaxis": {
         "title": {
          "text": "Alter in Jahren"
         }
        }
       }
      }
     },
     "metadata": {},
     "output_type": "display_data"
    }
   ],
   "source": [
    "df = surveyData[['age', 'highest-preferenced-viz']]\n",
    "\n",
    "# Label strings\n",
    "chartLabel = f\"Altersverteilung, n={len(df)}\"\n",
    "categoryGroups = [\"Alter gesamt\", \"nach Listen Präferenz\", \"nach Chord Präferenz\", \"nach Map Präferenz\"]\n",
    "yLabel = \"Alter in Jahren\"\n",
    "fig = go.Figure()\n",
    "\n",
    "# Age over all\n",
    "fig.add_trace(go.Box(y=df['age'], name=categoryGroups[0],\n",
    "                marker_color = urCdColors[0]))\n",
    "# Age preferred List\n",
    "fig.add_trace(go.Box(y=df[df['highest-preferenced-viz'] == \"Liste\"]['age'], name=categoryGroups[1],\n",
    "                marker_color = urCdColors[1]))\n",
    "# Age preferred Chord\n",
    "fig.add_trace(go.Box(y=df[df['highest-preferenced-viz'] == \"Chord\"]['age'], name=categoryGroups[2],\n",
    "                marker_color = urCdColors[2]))\n",
    "# Age preferred Map\n",
    "fig.add_trace(go.Box(y=df[df['highest-preferenced-viz'] == \"Map\"]['age'], name=categoryGroups[3],\n",
    "                marker_color = urCdColors[3]))\n",
    "fig.update_layout(\n",
    "    title=chartLabel,\n",
    "    xaxis_title=\"Alter nach Präferenz\",\n",
    "    yaxis_title=yLabel,\n",
    "    # legend_title=\"Legend Title\",\n",
    "    font=dict(\n",
    "        family=\"Frutiger Next LT W1G, Gill Sans, sans-serif\",\n",
    "        size=12,\n",
    "        # color=\"RebeccaPurple\"\n",
    "    )\n",
    ")\n",
    "\n",
    "fig.update_layout(title_text=chartLabel)\n",
    "fig.show()\n",
    "\n",
    "# Table age\n",
    "fig = go.Figure(data=[go.Table(\n",
    "  header=dict(\n",
    "    values=['<b>Kennwert</b>', f\"<b>{categoryGroups[0]}</b>\", f\"<b>{categoryGroups[1]}</b>\", f\"<b>{categoryGroups[2]}</b>\", f\"<b>{categoryGroups[3]}</b>\"],\n",
    "    line_color='darkslategray',\n",
    "    fill_color=headerColor,\n",
    "    align=['left','center'],\n",
    "    font=dict(color='white', size=12)\n",
    "  ),\n",
    "  cells=dict(\n",
    "    values=[\n",
    "      ['<b>Maximum</b>', '<b>Oberes Quartil</b>', '<b>Median</b>', '<b>Unteres Quartil</b>', '<b>Minimum</b>'],\n",
    "      [42, 32, 22, 20, 18],\n",
    "      [33, 25.5, 22, 20, 18],\n",
    "      [57, 36, 24, 21, 18],\n",
    "      [43, 30, 22, 20, 18]],\n",
    "    line_color='darkslategray',\n",
    "    # 2-D list of colors for alternating rows\n",
    "    fill_color = [[rowOddColor,rowEvenColor,rowOddColor, rowEvenColor,rowOddColor]*5],\n",
    "    align = ['left', 'center'],\n",
    "    font = dict(color = 'darkslategray', size = 11)\n",
    "    ))\n",
    "])\n",
    "\n",
    "fig.update_layout(\n",
    "    title=chartLabel,\n",
    "    yaxis_title=yLabel,\n",
    "    # legend_title=\"Legend Title\",\n",
    "    font=dict(\n",
    "        family=\"Frutiger Next LT W1G, Gill Sans, sans-serif\",\n",
    "        size=12,\n",
    "        # color=\"RebeccaPurple\"\n",
    "    )\n",
    ")\n",
    "\n",
    "fig.show()"
   ]
  },
  {
   "cell_type": "markdown",
   "metadata": {},
   "source": [
    "### Gender"
   ]
  },
  {
   "cell_type": "code",
   "execution_count": 5,
   "metadata": {},
   "outputs": [
    {
     "name": "stderr",
     "output_type": "stream",
     "text": [
      "/var/folders/4w/b6kqqdv12hzcznys6kqm6yyr0000gn/T/ipykernel_6066/3261097828.py:3: SettingWithCopyWarning:\n",
      "\n",
      "\n",
      "A value is trying to be set on a copy of a slice from a DataFrame\n",
      "\n",
      "See the caveats in the documentation: https://pandas.pydata.org/pandas-docs/stable/user_guide/indexing.html#returning-a-view-versus-a-copy\n",
      "\n"
     ]
    },
    {
     "data": {
      "application/vnd.plotly.v1+json": {
       "config": {
        "plotlyServerURL": "https://plot.ly"
       },
       "data": [
        {
         "labels": [
          "Männlich",
          "Keine Angabe",
          "Weiblich"
         ],
         "marker": {
          "colors": [
           "rgb(156,0,75)",
           "rgb(0,155,119)",
           "rgb(0,135,178)",
           "rgb(174,167,0)",
           "rgb(236,98,0)",
           "rgb(191,0,42)",
           "rgb(79,184,0)",
           "rgb(0,137,147)",
           "rgb(0,85,106)",
           "rgb(205,211,15)",
           "rgb(236,188,0)"
          ]
         },
         "textinfo": "percent+label",
         "type": "pie",
         "values": [
          104,
          4,
          95
         ]
        }
       ],
       "layout": {
        "font": {
         "family": "Frutiger Next LT W1G, Gill Sans, sans-serif",
         "size": 12
        },
        "template": {
         "data": {
          "bar": [
           {
            "error_x": {
             "color": "#2a3f5f"
            },
            "error_y": {
             "color": "#2a3f5f"
            },
            "marker": {
             "line": {
              "color": "#E5ECF6",
              "width": 0.5
             },
             "pattern": {
              "fillmode": "overlay",
              "size": 10,
              "solidity": 0.2
             }
            },
            "type": "bar"
           }
          ],
          "barpolar": [
           {
            "marker": {
             "line": {
              "color": "#E5ECF6",
              "width": 0.5
             },
             "pattern": {
              "fillmode": "overlay",
              "size": 10,
              "solidity": 0.2
             }
            },
            "type": "barpolar"
           }
          ],
          "carpet": [
           {
            "aaxis": {
             "endlinecolor": "#2a3f5f",
             "gridcolor": "white",
             "linecolor": "white",
             "minorgridcolor": "white",
             "startlinecolor": "#2a3f5f"
            },
            "baxis": {
             "endlinecolor": "#2a3f5f",
             "gridcolor": "white",
             "linecolor": "white",
             "minorgridcolor": "white",
             "startlinecolor": "#2a3f5f"
            },
            "type": "carpet"
           }
          ],
          "choropleth": [
           {
            "colorbar": {
             "outlinewidth": 0,
             "ticks": ""
            },
            "type": "choropleth"
           }
          ],
          "contour": [
           {
            "colorbar": {
             "outlinewidth": 0,
             "ticks": ""
            },
            "colorscale": [
             [
              0,
              "#0d0887"
             ],
             [
              0.1111111111111111,
              "#46039f"
             ],
             [
              0.2222222222222222,
              "#7201a8"
             ],
             [
              0.3333333333333333,
              "#9c179e"
             ],
             [
              0.4444444444444444,
              "#bd3786"
             ],
             [
              0.5555555555555556,
              "#d8576b"
             ],
             [
              0.6666666666666666,
              "#ed7953"
             ],
             [
              0.7777777777777778,
              "#fb9f3a"
             ],
             [
              0.8888888888888888,
              "#fdca26"
             ],
             [
              1,
              "#f0f921"
             ]
            ],
            "type": "contour"
           }
          ],
          "contourcarpet": [
           {
            "colorbar": {
             "outlinewidth": 0,
             "ticks": ""
            },
            "type": "contourcarpet"
           }
          ],
          "heatmap": [
           {
            "colorbar": {
             "outlinewidth": 0,
             "ticks": ""
            },
            "colorscale": [
             [
              0,
              "#0d0887"
             ],
             [
              0.1111111111111111,
              "#46039f"
             ],
             [
              0.2222222222222222,
              "#7201a8"
             ],
             [
              0.3333333333333333,
              "#9c179e"
             ],
             [
              0.4444444444444444,
              "#bd3786"
             ],
             [
              0.5555555555555556,
              "#d8576b"
             ],
             [
              0.6666666666666666,
              "#ed7953"
             ],
             [
              0.7777777777777778,
              "#fb9f3a"
             ],
             [
              0.8888888888888888,
              "#fdca26"
             ],
             [
              1,
              "#f0f921"
             ]
            ],
            "type": "heatmap"
           }
          ],
          "heatmapgl": [
           {
            "colorbar": {
             "outlinewidth": 0,
             "ticks": ""
            },
            "colorscale": [
             [
              0,
              "#0d0887"
             ],
             [
              0.1111111111111111,
              "#46039f"
             ],
             [
              0.2222222222222222,
              "#7201a8"
             ],
             [
              0.3333333333333333,
              "#9c179e"
             ],
             [
              0.4444444444444444,
              "#bd3786"
             ],
             [
              0.5555555555555556,
              "#d8576b"
             ],
             [
              0.6666666666666666,
              "#ed7953"
             ],
             [
              0.7777777777777778,
              "#fb9f3a"
             ],
             [
              0.8888888888888888,
              "#fdca26"
             ],
             [
              1,
              "#f0f921"
             ]
            ],
            "type": "heatmapgl"
           }
          ],
          "histogram": [
           {
            "marker": {
             "pattern": {
              "fillmode": "overlay",
              "size": 10,
              "solidity": 0.2
             }
            },
            "type": "histogram"
           }
          ],
          "histogram2d": [
           {
            "colorbar": {
             "outlinewidth": 0,
             "ticks": ""
            },
            "colorscale": [
             [
              0,
              "#0d0887"
             ],
             [
              0.1111111111111111,
              "#46039f"
             ],
             [
              0.2222222222222222,
              "#7201a8"
             ],
             [
              0.3333333333333333,
              "#9c179e"
             ],
             [
              0.4444444444444444,
              "#bd3786"
             ],
             [
              0.5555555555555556,
              "#d8576b"
             ],
             [
              0.6666666666666666,
              "#ed7953"
             ],
             [
              0.7777777777777778,
              "#fb9f3a"
             ],
             [
              0.8888888888888888,
              "#fdca26"
             ],
             [
              1,
              "#f0f921"
             ]
            ],
            "type": "histogram2d"
           }
          ],
          "histogram2dcontour": [
           {
            "colorbar": {
             "outlinewidth": 0,
             "ticks": ""
            },
            "colorscale": [
             [
              0,
              "#0d0887"
             ],
             [
              0.1111111111111111,
              "#46039f"
             ],
             [
              0.2222222222222222,
              "#7201a8"
             ],
             [
              0.3333333333333333,
              "#9c179e"
             ],
             [
              0.4444444444444444,
              "#bd3786"
             ],
             [
              0.5555555555555556,
              "#d8576b"
             ],
             [
              0.6666666666666666,
              "#ed7953"
             ],
             [
              0.7777777777777778,
              "#fb9f3a"
             ],
             [
              0.8888888888888888,
              "#fdca26"
             ],
             [
              1,
              "#f0f921"
             ]
            ],
            "type": "histogram2dcontour"
           }
          ],
          "mesh3d": [
           {
            "colorbar": {
             "outlinewidth": 0,
             "ticks": ""
            },
            "type": "mesh3d"
           }
          ],
          "parcoords": [
           {
            "line": {
             "colorbar": {
              "outlinewidth": 0,
              "ticks": ""
             }
            },
            "type": "parcoords"
           }
          ],
          "pie": [
           {
            "automargin": true,
            "type": "pie"
           }
          ],
          "scatter": [
           {
            "fillpattern": {
             "fillmode": "overlay",
             "size": 10,
             "solidity": 0.2
            },
            "type": "scatter"
           }
          ],
          "scatter3d": [
           {
            "line": {
             "colorbar": {
              "outlinewidth": 0,
              "ticks": ""
             }
            },
            "marker": {
             "colorbar": {
              "outlinewidth": 0,
              "ticks": ""
             }
            },
            "type": "scatter3d"
           }
          ],
          "scattercarpet": [
           {
            "marker": {
             "colorbar": {
              "outlinewidth": 0,
              "ticks": ""
             }
            },
            "type": "scattercarpet"
           }
          ],
          "scattergeo": [
           {
            "marker": {
             "colorbar": {
              "outlinewidth": 0,
              "ticks": ""
             }
            },
            "type": "scattergeo"
           }
          ],
          "scattergl": [
           {
            "marker": {
             "colorbar": {
              "outlinewidth": 0,
              "ticks": ""
             }
            },
            "type": "scattergl"
           }
          ],
          "scattermapbox": [
           {
            "marker": {
             "colorbar": {
              "outlinewidth": 0,
              "ticks": ""
             }
            },
            "type": "scattermapbox"
           }
          ],
          "scatterpolar": [
           {
            "marker": {
             "colorbar": {
              "outlinewidth": 0,
              "ticks": ""
             }
            },
            "type": "scatterpolar"
           }
          ],
          "scatterpolargl": [
           {
            "marker": {
             "colorbar": {
              "outlinewidth": 0,
              "ticks": ""
             }
            },
            "type": "scatterpolargl"
           }
          ],
          "scatterternary": [
           {
            "marker": {
             "colorbar": {
              "outlinewidth": 0,
              "ticks": ""
             }
            },
            "type": "scatterternary"
           }
          ],
          "surface": [
           {
            "colorbar": {
             "outlinewidth": 0,
             "ticks": ""
            },
            "colorscale": [
             [
              0,
              "#0d0887"
             ],
             [
              0.1111111111111111,
              "#46039f"
             ],
             [
              0.2222222222222222,
              "#7201a8"
             ],
             [
              0.3333333333333333,
              "#9c179e"
             ],
             [
              0.4444444444444444,
              "#bd3786"
             ],
             [
              0.5555555555555556,
              "#d8576b"
             ],
             [
              0.6666666666666666,
              "#ed7953"
             ],
             [
              0.7777777777777778,
              "#fb9f3a"
             ],
             [
              0.8888888888888888,
              "#fdca26"
             ],
             [
              1,
              "#f0f921"
             ]
            ],
            "type": "surface"
           }
          ],
          "table": [
           {
            "cells": {
             "fill": {
              "color": "#EBF0F8"
             },
             "line": {
              "color": "white"
             }
            },
            "header": {
             "fill": {
              "color": "#C8D4E3"
             },
             "line": {
              "color": "white"
             }
            },
            "type": "table"
           }
          ]
         },
         "layout": {
          "annotationdefaults": {
           "arrowcolor": "#2a3f5f",
           "arrowhead": 0,
           "arrowwidth": 1
          },
          "autotypenumbers": "strict",
          "coloraxis": {
           "colorbar": {
            "outlinewidth": 0,
            "ticks": ""
           }
          },
          "colorscale": {
           "diverging": [
            [
             0,
             "#8e0152"
            ],
            [
             0.1,
             "#c51b7d"
            ],
            [
             0.2,
             "#de77ae"
            ],
            [
             0.3,
             "#f1b6da"
            ],
            [
             0.4,
             "#fde0ef"
            ],
            [
             0.5,
             "#f7f7f7"
            ],
            [
             0.6,
             "#e6f5d0"
            ],
            [
             0.7,
             "#b8e186"
            ],
            [
             0.8,
             "#7fbc41"
            ],
            [
             0.9,
             "#4d9221"
            ],
            [
             1,
             "#276419"
            ]
           ],
           "sequential": [
            [
             0,
             "#0d0887"
            ],
            [
             0.1111111111111111,
             "#46039f"
            ],
            [
             0.2222222222222222,
             "#7201a8"
            ],
            [
             0.3333333333333333,
             "#9c179e"
            ],
            [
             0.4444444444444444,
             "#bd3786"
            ],
            [
             0.5555555555555556,
             "#d8576b"
            ],
            [
             0.6666666666666666,
             "#ed7953"
            ],
            [
             0.7777777777777778,
             "#fb9f3a"
            ],
            [
             0.8888888888888888,
             "#fdca26"
            ],
            [
             1,
             "#f0f921"
            ]
           ],
           "sequentialminus": [
            [
             0,
             "#0d0887"
            ],
            [
             0.1111111111111111,
             "#46039f"
            ],
            [
             0.2222222222222222,
             "#7201a8"
            ],
            [
             0.3333333333333333,
             "#9c179e"
            ],
            [
             0.4444444444444444,
             "#bd3786"
            ],
            [
             0.5555555555555556,
             "#d8576b"
            ],
            [
             0.6666666666666666,
             "#ed7953"
            ],
            [
             0.7777777777777778,
             "#fb9f3a"
            ],
            [
             0.8888888888888888,
             "#fdca26"
            ],
            [
             1,
             "#f0f921"
            ]
           ]
          },
          "colorway": [
           "#636efa",
           "#EF553B",
           "#00cc96",
           "#ab63fa",
           "#FFA15A",
           "#19d3f3",
           "#FF6692",
           "#B6E880",
           "#FF97FF",
           "#FECB52"
          ],
          "font": {
           "color": "#2a3f5f"
          },
          "geo": {
           "bgcolor": "white",
           "lakecolor": "white",
           "landcolor": "#E5ECF6",
           "showlakes": true,
           "showland": true,
           "subunitcolor": "white"
          },
          "hoverlabel": {
           "align": "left"
          },
          "hovermode": "closest",
          "mapbox": {
           "style": "light"
          },
          "paper_bgcolor": "white",
          "plot_bgcolor": "#E5ECF6",
          "polar": {
           "angularaxis": {
            "gridcolor": "white",
            "linecolor": "white",
            "ticks": ""
           },
           "bgcolor": "#E5ECF6",
           "radialaxis": {
            "gridcolor": "white",
            "linecolor": "white",
            "ticks": ""
           }
          },
          "scene": {
           "xaxis": {
            "backgroundcolor": "#E5ECF6",
            "gridcolor": "white",
            "gridwidth": 2,
            "linecolor": "white",
            "showbackground": true,
            "ticks": "",
            "zerolinecolor": "white"
           },
           "yaxis": {
            "backgroundcolor": "#E5ECF6",
            "gridcolor": "white",
            "gridwidth": 2,
            "linecolor": "white",
            "showbackground": true,
            "ticks": "",
            "zerolinecolor": "white"
           },
           "zaxis": {
            "backgroundcolor": "#E5ECF6",
            "gridcolor": "white",
            "gridwidth": 2,
            "linecolor": "white",
            "showbackground": true,
            "ticks": "",
            "zerolinecolor": "white"
           }
          },
          "shapedefaults": {
           "line": {
            "color": "#2a3f5f"
           }
          },
          "ternary": {
           "aaxis": {
            "gridcolor": "white",
            "linecolor": "white",
            "ticks": ""
           },
           "baxis": {
            "gridcolor": "white",
            "linecolor": "white",
            "ticks": ""
           },
           "bgcolor": "#E5ECF6",
           "caxis": {
            "gridcolor": "white",
            "linecolor": "white",
            "ticks": ""
           }
          },
          "title": {
           "x": 0.05
          },
          "xaxis": {
           "automargin": true,
           "gridcolor": "white",
           "linecolor": "white",
           "ticks": "",
           "title": {
            "standoff": 15
           },
           "zerolinecolor": "white",
           "zerolinewidth": 2
          },
          "yaxis": {
           "automargin": true,
           "gridcolor": "white",
           "linecolor": "white",
           "ticks": "",
           "title": {
            "standoff": 15
           },
           "zerolinecolor": "white",
           "zerolinewidth": 2
          }
         }
        },
        "title": {
         "text": "Verteiltung nach Geschlecht, n=203"
        },
        "yaxis": {
         "title": {
          "text": "Alter in Jahren"
         }
        }
       }
      }
     },
     "metadata": {},
     "output_type": "display_data"
    },
    {
     "data": {
      "application/vnd.plotly.v1+json": {
       "config": {
        "plotlyServerURL": "https://plot.ly"
       },
       "data": [
        {
         "cells": {
          "align": [
           "left",
           "center"
          ],
          "fill": {
           "color": [
            [
             "white",
             "lightgrey",
             "white",
             "lightgrey",
             "white",
             "white",
             "lightgrey",
             "white",
             "lightgrey",
             "white",
             "white",
             "lightgrey",
             "white",
             "lightgrey",
             "white",
             "white",
             "lightgrey",
             "white",
             "lightgrey",
             "white",
             "white",
             "lightgrey",
             "white",
             "lightgrey",
             "white"
            ]
           ]
          },
          "font": {
           "color": "darkslategray",
           "size": 11
          },
          "line": {
           "color": "darkslategray"
          },
          "values": [
           [
            "<b>Anzahl</b>"
           ],
           [
            104
           ],
           [
            4
           ],
           [
            95
           ],
           [
            203
           ]
          ]
         },
         "header": {
          "align": [
           "left",
           "center"
          ],
          "fill": {
           "color": "grey"
          },
          "font": {
           "color": "white",
           "size": 12
          },
          "line": {
           "color": "darkslategray"
          },
          "values": [
           "<b>Geschlecht</b>",
           "<b>Männlich</b>",
           "<b>Keine Angabe</b>",
           "<b>Weiblich</b>",
           "<b>Gesamt</b>"
          ]
         },
         "type": "table"
        }
       ],
       "layout": {
        "font": {
         "family": "Frutiger Next LT W1G, Gill Sans, sans-serif",
         "size": 12
        },
        "template": {
         "data": {
          "bar": [
           {
            "error_x": {
             "color": "#2a3f5f"
            },
            "error_y": {
             "color": "#2a3f5f"
            },
            "marker": {
             "line": {
              "color": "#E5ECF6",
              "width": 0.5
             },
             "pattern": {
              "fillmode": "overlay",
              "size": 10,
              "solidity": 0.2
             }
            },
            "type": "bar"
           }
          ],
          "barpolar": [
           {
            "marker": {
             "line": {
              "color": "#E5ECF6",
              "width": 0.5
             },
             "pattern": {
              "fillmode": "overlay",
              "size": 10,
              "solidity": 0.2
             }
            },
            "type": "barpolar"
           }
          ],
          "carpet": [
           {
            "aaxis": {
             "endlinecolor": "#2a3f5f",
             "gridcolor": "white",
             "linecolor": "white",
             "minorgridcolor": "white",
             "startlinecolor": "#2a3f5f"
            },
            "baxis": {
             "endlinecolor": "#2a3f5f",
             "gridcolor": "white",
             "linecolor": "white",
             "minorgridcolor": "white",
             "startlinecolor": "#2a3f5f"
            },
            "type": "carpet"
           }
          ],
          "choropleth": [
           {
            "colorbar": {
             "outlinewidth": 0,
             "ticks": ""
            },
            "type": "choropleth"
           }
          ],
          "contour": [
           {
            "colorbar": {
             "outlinewidth": 0,
             "ticks": ""
            },
            "colorscale": [
             [
              0,
              "#0d0887"
             ],
             [
              0.1111111111111111,
              "#46039f"
             ],
             [
              0.2222222222222222,
              "#7201a8"
             ],
             [
              0.3333333333333333,
              "#9c179e"
             ],
             [
              0.4444444444444444,
              "#bd3786"
             ],
             [
              0.5555555555555556,
              "#d8576b"
             ],
             [
              0.6666666666666666,
              "#ed7953"
             ],
             [
              0.7777777777777778,
              "#fb9f3a"
             ],
             [
              0.8888888888888888,
              "#fdca26"
             ],
             [
              1,
              "#f0f921"
             ]
            ],
            "type": "contour"
           }
          ],
          "contourcarpet": [
           {
            "colorbar": {
             "outlinewidth": 0,
             "ticks": ""
            },
            "type": "contourcarpet"
           }
          ],
          "heatmap": [
           {
            "colorbar": {
             "outlinewidth": 0,
             "ticks": ""
            },
            "colorscale": [
             [
              0,
              "#0d0887"
             ],
             [
              0.1111111111111111,
              "#46039f"
             ],
             [
              0.2222222222222222,
              "#7201a8"
             ],
             [
              0.3333333333333333,
              "#9c179e"
             ],
             [
              0.4444444444444444,
              "#bd3786"
             ],
             [
              0.5555555555555556,
              "#d8576b"
             ],
             [
              0.6666666666666666,
              "#ed7953"
             ],
             [
              0.7777777777777778,
              "#fb9f3a"
             ],
             [
              0.8888888888888888,
              "#fdca26"
             ],
             [
              1,
              "#f0f921"
             ]
            ],
            "type": "heatmap"
           }
          ],
          "heatmapgl": [
           {
            "colorbar": {
             "outlinewidth": 0,
             "ticks": ""
            },
            "colorscale": [
             [
              0,
              "#0d0887"
             ],
             [
              0.1111111111111111,
              "#46039f"
             ],
             [
              0.2222222222222222,
              "#7201a8"
             ],
             [
              0.3333333333333333,
              "#9c179e"
             ],
             [
              0.4444444444444444,
              "#bd3786"
             ],
             [
              0.5555555555555556,
              "#d8576b"
             ],
             [
              0.6666666666666666,
              "#ed7953"
             ],
             [
              0.7777777777777778,
              "#fb9f3a"
             ],
             [
              0.8888888888888888,
              "#fdca26"
             ],
             [
              1,
              "#f0f921"
             ]
            ],
            "type": "heatmapgl"
           }
          ],
          "histogram": [
           {
            "marker": {
             "pattern": {
              "fillmode": "overlay",
              "size": 10,
              "solidity": 0.2
             }
            },
            "type": "histogram"
           }
          ],
          "histogram2d": [
           {
            "colorbar": {
             "outlinewidth": 0,
             "ticks": ""
            },
            "colorscale": [
             [
              0,
              "#0d0887"
             ],
             [
              0.1111111111111111,
              "#46039f"
             ],
             [
              0.2222222222222222,
              "#7201a8"
             ],
             [
              0.3333333333333333,
              "#9c179e"
             ],
             [
              0.4444444444444444,
              "#bd3786"
             ],
             [
              0.5555555555555556,
              "#d8576b"
             ],
             [
              0.6666666666666666,
              "#ed7953"
             ],
             [
              0.7777777777777778,
              "#fb9f3a"
             ],
             [
              0.8888888888888888,
              "#fdca26"
             ],
             [
              1,
              "#f0f921"
             ]
            ],
            "type": "histogram2d"
           }
          ],
          "histogram2dcontour": [
           {
            "colorbar": {
             "outlinewidth": 0,
             "ticks": ""
            },
            "colorscale": [
             [
              0,
              "#0d0887"
             ],
             [
              0.1111111111111111,
              "#46039f"
             ],
             [
              0.2222222222222222,
              "#7201a8"
             ],
             [
              0.3333333333333333,
              "#9c179e"
             ],
             [
              0.4444444444444444,
              "#bd3786"
             ],
             [
              0.5555555555555556,
              "#d8576b"
             ],
             [
              0.6666666666666666,
              "#ed7953"
             ],
             [
              0.7777777777777778,
              "#fb9f3a"
             ],
             [
              0.8888888888888888,
              "#fdca26"
             ],
             [
              1,
              "#f0f921"
             ]
            ],
            "type": "histogram2dcontour"
           }
          ],
          "mesh3d": [
           {
            "colorbar": {
             "outlinewidth": 0,
             "ticks": ""
            },
            "type": "mesh3d"
           }
          ],
          "parcoords": [
           {
            "line": {
             "colorbar": {
              "outlinewidth": 0,
              "ticks": ""
             }
            },
            "type": "parcoords"
           }
          ],
          "pie": [
           {
            "automargin": true,
            "type": "pie"
           }
          ],
          "scatter": [
           {
            "fillpattern": {
             "fillmode": "overlay",
             "size": 10,
             "solidity": 0.2
            },
            "type": "scatter"
           }
          ],
          "scatter3d": [
           {
            "line": {
             "colorbar": {
              "outlinewidth": 0,
              "ticks": ""
             }
            },
            "marker": {
             "colorbar": {
              "outlinewidth": 0,
              "ticks": ""
             }
            },
            "type": "scatter3d"
           }
          ],
          "scattercarpet": [
           {
            "marker": {
             "colorbar": {
              "outlinewidth": 0,
              "ticks": ""
             }
            },
            "type": "scattercarpet"
           }
          ],
          "scattergeo": [
           {
            "marker": {
             "colorbar": {
              "outlinewidth": 0,
              "ticks": ""
             }
            },
            "type": "scattergeo"
           }
          ],
          "scattergl": [
           {
            "marker": {
             "colorbar": {
              "outlinewidth": 0,
              "ticks": ""
             }
            },
            "type": "scattergl"
           }
          ],
          "scattermapbox": [
           {
            "marker": {
             "colorbar": {
              "outlinewidth": 0,
              "ticks": ""
             }
            },
            "type": "scattermapbox"
           }
          ],
          "scatterpolar": [
           {
            "marker": {
             "colorbar": {
              "outlinewidth": 0,
              "ticks": ""
             }
            },
            "type": "scatterpolar"
           }
          ],
          "scatterpolargl": [
           {
            "marker": {
             "colorbar": {
              "outlinewidth": 0,
              "ticks": ""
             }
            },
            "type": "scatterpolargl"
           }
          ],
          "scatterternary": [
           {
            "marker": {
             "colorbar": {
              "outlinewidth": 0,
              "ticks": ""
             }
            },
            "type": "scatterternary"
           }
          ],
          "surface": [
           {
            "colorbar": {
             "outlinewidth": 0,
             "ticks": ""
            },
            "colorscale": [
             [
              0,
              "#0d0887"
             ],
             [
              0.1111111111111111,
              "#46039f"
             ],
             [
              0.2222222222222222,
              "#7201a8"
             ],
             [
              0.3333333333333333,
              "#9c179e"
             ],
             [
              0.4444444444444444,
              "#bd3786"
             ],
             [
              0.5555555555555556,
              "#d8576b"
             ],
             [
              0.6666666666666666,
              "#ed7953"
             ],
             [
              0.7777777777777778,
              "#fb9f3a"
             ],
             [
              0.8888888888888888,
              "#fdca26"
             ],
             [
              1,
              "#f0f921"
             ]
            ],
            "type": "surface"
           }
          ],
          "table": [
           {
            "cells": {
             "fill": {
              "color": "#EBF0F8"
             },
             "line": {
              "color": "white"
             }
            },
            "header": {
             "fill": {
              "color": "#C8D4E3"
             },
             "line": {
              "color": "white"
             }
            },
            "type": "table"
           }
          ]
         },
         "layout": {
          "annotationdefaults": {
           "arrowcolor": "#2a3f5f",
           "arrowhead": 0,
           "arrowwidth": 1
          },
          "autotypenumbers": "strict",
          "coloraxis": {
           "colorbar": {
            "outlinewidth": 0,
            "ticks": ""
           }
          },
          "colorscale": {
           "diverging": [
            [
             0,
             "#8e0152"
            ],
            [
             0.1,
             "#c51b7d"
            ],
            [
             0.2,
             "#de77ae"
            ],
            [
             0.3,
             "#f1b6da"
            ],
            [
             0.4,
             "#fde0ef"
            ],
            [
             0.5,
             "#f7f7f7"
            ],
            [
             0.6,
             "#e6f5d0"
            ],
            [
             0.7,
             "#b8e186"
            ],
            [
             0.8,
             "#7fbc41"
            ],
            [
             0.9,
             "#4d9221"
            ],
            [
             1,
             "#276419"
            ]
           ],
           "sequential": [
            [
             0,
             "#0d0887"
            ],
            [
             0.1111111111111111,
             "#46039f"
            ],
            [
             0.2222222222222222,
             "#7201a8"
            ],
            [
             0.3333333333333333,
             "#9c179e"
            ],
            [
             0.4444444444444444,
             "#bd3786"
            ],
            [
             0.5555555555555556,
             "#d8576b"
            ],
            [
             0.6666666666666666,
             "#ed7953"
            ],
            [
             0.7777777777777778,
             "#fb9f3a"
            ],
            [
             0.8888888888888888,
             "#fdca26"
            ],
            [
             1,
             "#f0f921"
            ]
           ],
           "sequentialminus": [
            [
             0,
             "#0d0887"
            ],
            [
             0.1111111111111111,
             "#46039f"
            ],
            [
             0.2222222222222222,
             "#7201a8"
            ],
            [
             0.3333333333333333,
             "#9c179e"
            ],
            [
             0.4444444444444444,
             "#bd3786"
            ],
            [
             0.5555555555555556,
             "#d8576b"
            ],
            [
             0.6666666666666666,
             "#ed7953"
            ],
            [
             0.7777777777777778,
             "#fb9f3a"
            ],
            [
             0.8888888888888888,
             "#fdca26"
            ],
            [
             1,
             "#f0f921"
            ]
           ]
          },
          "colorway": [
           "#636efa",
           "#EF553B",
           "#00cc96",
           "#ab63fa",
           "#FFA15A",
           "#19d3f3",
           "#FF6692",
           "#B6E880",
           "#FF97FF",
           "#FECB52"
          ],
          "font": {
           "color": "#2a3f5f"
          },
          "geo": {
           "bgcolor": "white",
           "lakecolor": "white",
           "landcolor": "#E5ECF6",
           "showlakes": true,
           "showland": true,
           "subunitcolor": "white"
          },
          "hoverlabel": {
           "align": "left"
          },
          "hovermode": "closest",
          "mapbox": {
           "style": "light"
          },
          "paper_bgcolor": "white",
          "plot_bgcolor": "#E5ECF6",
          "polar": {
           "angularaxis": {
            "gridcolor": "white",
            "linecolor": "white",
            "ticks": ""
           },
           "bgcolor": "#E5ECF6",
           "radialaxis": {
            "gridcolor": "white",
            "linecolor": "white",
            "ticks": ""
           }
          },
          "scene": {
           "xaxis": {
            "backgroundcolor": "#E5ECF6",
            "gridcolor": "white",
            "gridwidth": 2,
            "linecolor": "white",
            "showbackground": true,
            "ticks": "",
            "zerolinecolor": "white"
           },
           "yaxis": {
            "backgroundcolor": "#E5ECF6",
            "gridcolor": "white",
            "gridwidth": 2,
            "linecolor": "white",
            "showbackground": true,
            "ticks": "",
            "zerolinecolor": "white"
           },
           "zaxis": {
            "backgroundcolor": "#E5ECF6",
            "gridcolor": "white",
            "gridwidth": 2,
            "linecolor": "white",
            "showbackground": true,
            "ticks": "",
            "zerolinecolor": "white"
           }
          },
          "shapedefaults": {
           "line": {
            "color": "#2a3f5f"
           }
          },
          "ternary": {
           "aaxis": {
            "gridcolor": "white",
            "linecolor": "white",
            "ticks": ""
           },
           "baxis": {
            "gridcolor": "white",
            "linecolor": "white",
            "ticks": ""
           },
           "bgcolor": "#E5ECF6",
           "caxis": {
            "gridcolor": "white",
            "linecolor": "white",
            "ticks": ""
           }
          },
          "title": {
           "x": 0.05
          },
          "xaxis": {
           "automargin": true,
           "gridcolor": "white",
           "linecolor": "white",
           "ticks": "",
           "title": {
            "standoff": 15
           },
           "zerolinecolor": "white",
           "zerolinewidth": 2
          },
          "yaxis": {
           "automargin": true,
           "gridcolor": "white",
           "linecolor": "white",
           "ticks": "",
           "title": {
            "standoff": 15
           },
           "zerolinecolor": "white",
           "zerolinewidth": 2
          }
         }
        },
        "title": {
         "text": "Verteiltung nach Geschlecht, n=203"
        },
        "yaxis": {
         "title": {
          "text": "Alter in Jahren"
         }
        }
       }
      }
     },
     "metadata": {},
     "output_type": "display_data"
    }
   ],
   "source": [
    "df = surveyData[['sex']]\n",
    "\n",
    "df.fillna('nicht angegeben', inplace=True)\n",
    "df = df.groupby(['sex'], dropna=False)['sex'].count().reset_index(name='count')\n",
    "\n",
    "# Label strings\n",
    "chartLabel = f\"Verteiltung nach Geschlecht, n={len(surveyData[['sex']])}\"\n",
    "categoryGroups = [\"Männlich\", \"Keine Angabe\", \"Weiblich\"]\n",
    "\n",
    "fig = go.Figure(data=[go.Pie( labels=categoryGroups, values=df['count'])])\n",
    "fig.update_traces(textinfo='percent+label', marker=dict(colors=urCdColors))\n",
    "fig.update_layout(\n",
    "    title=chartLabel,\n",
    "    yaxis_title=yLabel,\n",
    "    # legend_title=\"Legend Title\",\n",
    "    font=dict(\n",
    "        family=\"Frutiger Next LT W1G, Gill Sans, sans-serif\",\n",
    "        size=12,\n",
    "        # color=\"RebeccaPurple\"\n",
    "    )\n",
    ")\n",
    "fig.show()\n",
    "\n",
    "# Table sex\n",
    "fig = go.Figure(data=[go.Table(\n",
    "  header=dict(\n",
    "    values=['<b>Geschlecht</b>', f\"<b>{categoryGroups[0]}</b>\", f\"<b>{categoryGroups[1]}</b>\", f\"<b>{categoryGroups[2]}</b>\", \"<b>Gesamt</b>\"],\n",
    "    line_color='darkslategray',\n",
    "    fill_color=headerColor,\n",
    "    align=['left','center'],\n",
    "    font=dict(color='white', size=12)\n",
    "  ),\n",
    "  cells=dict(\n",
    "    values=[\n",
    "      # [surveyData[surveyData['sex'] == 'männlich'], surveyData[surveyData['sex'] == 'nicht angegeben'], surveyData[surveyData['sex'] == 'weiblich']]],\n",
    "        ['<b>Anzahl</b>'],\n",
    "        [len(surveyData[surveyData['sex'] == 'männlich'])],\n",
    "        [surveyData['sex'].isnull().sum()],\n",
    "        [len(surveyData[surveyData['sex'] == 'weiblich'])],\n",
    "        [len(surveyData[['sex']])]\n",
    "      ],\n",
    "    line_color='darkslategray',\n",
    "    # 2-D list of colors for alternating rows\n",
    "    fill_color = [[rowOddColor,rowEvenColor,rowOddColor, rowEvenColor,rowOddColor]*5],\n",
    "    align = ['left', 'center'],\n",
    "    font = dict(color = 'darkslategray', size = 11)\n",
    "    ))\n",
    "])\n",
    "\n",
    "fig.update_layout(\n",
    "    title=chartLabel,\n",
    "    yaxis_title=yLabel,\n",
    "    # legend_title=\"Legend Title\",\n",
    "    font=dict(\n",
    "        family=\"Frutiger Next LT W1G, Gill Sans, sans-serif\",\n",
    "        size=12,\n",
    "        # color=\"RebeccaPurple\"\n",
    "    )\n",
    ")\n",
    "\n",
    "fig.show()"
   ]
  },
  {
   "cell_type": "markdown",
   "metadata": {},
   "source": [
    "### Education"
   ]
  },
  {
   "cell_type": "code",
   "execution_count": 6,
   "metadata": {},
   "outputs": [
    {
     "name": "stdout",
     "output_type": "stream",
     "text": [
      "4\n"
     ]
    },
    {
     "data": {
      "application/vnd.plotly.v1+json": {
       "config": {
        "plotlyServerURL": "https://plot.ly"
       },
       "data": [
        {
         "alignmentgroup": "True",
         "hovertemplate": "Anzahl=%{x}<br>Grad des Bildungsabschluss=%{y}<extra></extra>",
         "legendgroup": "",
         "marker": {
          "color": [
           "rgb(156,0,75)",
           "rgb(0,155,119)",
           "rgb(0,135,178)",
           "rgb(174,167,0)",
           "rgb(236,98,0)",
           "rgb(191,0,42)",
           "rgb(79,184,0)",
           "rgb(0,137,147)",
           "rgb(0,85,106)",
           "rgb(205,211,15)",
           "rgb(236,188,0)"
          ],
          "pattern": {
           "shape": ""
          }
         },
         "name": "",
         "offsetgroup": "",
         "opacity": 0.75,
         "orientation": "v",
         "showlegend": false,
         "textposition": "auto",
         "texttemplate": "%{y:.0s}",
         "type": "bar",
         "x": [
          "Qualifizierender Hauptschulabschluss",
          "Mittlere Reife",
          "Hochschulreife",
          "Studium",
          "Promotion"
         ],
         "xaxis": "x",
         "y": [
          4,
          3,
          100,
          85,
          11
         ],
         "yaxis": "y"
        }
       ],
       "layout": {
        "barmode": "relative",
        "legend": {
         "tracegroupgap": 0
        },
        "template": {
         "data": {
          "bar": [
           {
            "error_x": {
             "color": "#2a3f5f"
            },
            "error_y": {
             "color": "#2a3f5f"
            },
            "marker": {
             "line": {
              "color": "#E5ECF6",
              "width": 0.5
             },
             "pattern": {
              "fillmode": "overlay",
              "size": 10,
              "solidity": 0.2
             }
            },
            "type": "bar"
           }
          ],
          "barpolar": [
           {
            "marker": {
             "line": {
              "color": "#E5ECF6",
              "width": 0.5
             },
             "pattern": {
              "fillmode": "overlay",
              "size": 10,
              "solidity": 0.2
             }
            },
            "type": "barpolar"
           }
          ],
          "carpet": [
           {
            "aaxis": {
             "endlinecolor": "#2a3f5f",
             "gridcolor": "white",
             "linecolor": "white",
             "minorgridcolor": "white",
             "startlinecolor": "#2a3f5f"
            },
            "baxis": {
             "endlinecolor": "#2a3f5f",
             "gridcolor": "white",
             "linecolor": "white",
             "minorgridcolor": "white",
             "startlinecolor": "#2a3f5f"
            },
            "type": "carpet"
           }
          ],
          "choropleth": [
           {
            "colorbar": {
             "outlinewidth": 0,
             "ticks": ""
            },
            "type": "choropleth"
           }
          ],
          "contour": [
           {
            "colorbar": {
             "outlinewidth": 0,
             "ticks": ""
            },
            "colorscale": [
             [
              0,
              "#0d0887"
             ],
             [
              0.1111111111111111,
              "#46039f"
             ],
             [
              0.2222222222222222,
              "#7201a8"
             ],
             [
              0.3333333333333333,
              "#9c179e"
             ],
             [
              0.4444444444444444,
              "#bd3786"
             ],
             [
              0.5555555555555556,
              "#d8576b"
             ],
             [
              0.6666666666666666,
              "#ed7953"
             ],
             [
              0.7777777777777778,
              "#fb9f3a"
             ],
             [
              0.8888888888888888,
              "#fdca26"
             ],
             [
              1,
              "#f0f921"
             ]
            ],
            "type": "contour"
           }
          ],
          "contourcarpet": [
           {
            "colorbar": {
             "outlinewidth": 0,
             "ticks": ""
            },
            "type": "contourcarpet"
           }
          ],
          "heatmap": [
           {
            "colorbar": {
             "outlinewidth": 0,
             "ticks": ""
            },
            "colorscale": [
             [
              0,
              "#0d0887"
             ],
             [
              0.1111111111111111,
              "#46039f"
             ],
             [
              0.2222222222222222,
              "#7201a8"
             ],
             [
              0.3333333333333333,
              "#9c179e"
             ],
             [
              0.4444444444444444,
              "#bd3786"
             ],
             [
              0.5555555555555556,
              "#d8576b"
             ],
             [
              0.6666666666666666,
              "#ed7953"
             ],
             [
              0.7777777777777778,
              "#fb9f3a"
             ],
             [
              0.8888888888888888,
              "#fdca26"
             ],
             [
              1,
              "#f0f921"
             ]
            ],
            "type": "heatmap"
           }
          ],
          "heatmapgl": [
           {
            "colorbar": {
             "outlinewidth": 0,
             "ticks": ""
            },
            "colorscale": [
             [
              0,
              "#0d0887"
             ],
             [
              0.1111111111111111,
              "#46039f"
             ],
             [
              0.2222222222222222,
              "#7201a8"
             ],
             [
              0.3333333333333333,
              "#9c179e"
             ],
             [
              0.4444444444444444,
              "#bd3786"
             ],
             [
              0.5555555555555556,
              "#d8576b"
             ],
             [
              0.6666666666666666,
              "#ed7953"
             ],
             [
              0.7777777777777778,
              "#fb9f3a"
             ],
             [
              0.8888888888888888,
              "#fdca26"
             ],
             [
              1,
              "#f0f921"
             ]
            ],
            "type": "heatmapgl"
           }
          ],
          "histogram": [
           {
            "marker": {
             "pattern": {
              "fillmode": "overlay",
              "size": 10,
              "solidity": 0.2
             }
            },
            "type": "histogram"
           }
          ],
          "histogram2d": [
           {
            "colorbar": {
             "outlinewidth": 0,
             "ticks": ""
            },
            "colorscale": [
             [
              0,
              "#0d0887"
             ],
             [
              0.1111111111111111,
              "#46039f"
             ],
             [
              0.2222222222222222,
              "#7201a8"
             ],
             [
              0.3333333333333333,
              "#9c179e"
             ],
             [
              0.4444444444444444,
              "#bd3786"
             ],
             [
              0.5555555555555556,
              "#d8576b"
             ],
             [
              0.6666666666666666,
              "#ed7953"
             ],
             [
              0.7777777777777778,
              "#fb9f3a"
             ],
             [
              0.8888888888888888,
              "#fdca26"
             ],
             [
              1,
              "#f0f921"
             ]
            ],
            "type": "histogram2d"
           }
          ],
          "histogram2dcontour": [
           {
            "colorbar": {
             "outlinewidth": 0,
             "ticks": ""
            },
            "colorscale": [
             [
              0,
              "#0d0887"
             ],
             [
              0.1111111111111111,
              "#46039f"
             ],
             [
              0.2222222222222222,
              "#7201a8"
             ],
             [
              0.3333333333333333,
              "#9c179e"
             ],
             [
              0.4444444444444444,
              "#bd3786"
             ],
             [
              0.5555555555555556,
              "#d8576b"
             ],
             [
              0.6666666666666666,
              "#ed7953"
             ],
             [
              0.7777777777777778,
              "#fb9f3a"
             ],
             [
              0.8888888888888888,
              "#fdca26"
             ],
             [
              1,
              "#f0f921"
             ]
            ],
            "type": "histogram2dcontour"
           }
          ],
          "mesh3d": [
           {
            "colorbar": {
             "outlinewidth": 0,
             "ticks": ""
            },
            "type": "mesh3d"
           }
          ],
          "parcoords": [
           {
            "line": {
             "colorbar": {
              "outlinewidth": 0,
              "ticks": ""
             }
            },
            "type": "parcoords"
           }
          ],
          "pie": [
           {
            "automargin": true,
            "type": "pie"
           }
          ],
          "scatter": [
           {
            "fillpattern": {
             "fillmode": "overlay",
             "size": 10,
             "solidity": 0.2
            },
            "type": "scatter"
           }
          ],
          "scatter3d": [
           {
            "line": {
             "colorbar": {
              "outlinewidth": 0,
              "ticks": ""
             }
            },
            "marker": {
             "colorbar": {
              "outlinewidth": 0,
              "ticks": ""
             }
            },
            "type": "scatter3d"
           }
          ],
          "scattercarpet": [
           {
            "marker": {
             "colorbar": {
              "outlinewidth": 0,
              "ticks": ""
             }
            },
            "type": "scattercarpet"
           }
          ],
          "scattergeo": [
           {
            "marker": {
             "colorbar": {
              "outlinewidth": 0,
              "ticks": ""
             }
            },
            "type": "scattergeo"
           }
          ],
          "scattergl": [
           {
            "marker": {
             "colorbar": {
              "outlinewidth": 0,
              "ticks": ""
             }
            },
            "type": "scattergl"
           }
          ],
          "scattermapbox": [
           {
            "marker": {
             "colorbar": {
              "outlinewidth": 0,
              "ticks": ""
             }
            },
            "type": "scattermapbox"
           }
          ],
          "scatterpolar": [
           {
            "marker": {
             "colorbar": {
              "outlinewidth": 0,
              "ticks": ""
             }
            },
            "type": "scatterpolar"
           }
          ],
          "scatterpolargl": [
           {
            "marker": {
             "colorbar": {
              "outlinewidth": 0,
              "ticks": ""
             }
            },
            "type": "scatterpolargl"
           }
          ],
          "scatterternary": [
           {
            "marker": {
             "colorbar": {
              "outlinewidth": 0,
              "ticks": ""
             }
            },
            "type": "scatterternary"
           }
          ],
          "surface": [
           {
            "colorbar": {
             "outlinewidth": 0,
             "ticks": ""
            },
            "colorscale": [
             [
              0,
              "#0d0887"
             ],
             [
              0.1111111111111111,
              "#46039f"
             ],
             [
              0.2222222222222222,
              "#7201a8"
             ],
             [
              0.3333333333333333,
              "#9c179e"
             ],
             [
              0.4444444444444444,
              "#bd3786"
             ],
             [
              0.5555555555555556,
              "#d8576b"
             ],
             [
              0.6666666666666666,
              "#ed7953"
             ],
             [
              0.7777777777777778,
              "#fb9f3a"
             ],
             [
              0.8888888888888888,
              "#fdca26"
             ],
             [
              1,
              "#f0f921"
             ]
            ],
            "type": "surface"
           }
          ],
          "table": [
           {
            "cells": {
             "fill": {
              "color": "#EBF0F8"
             },
             "line": {
              "color": "white"
             }
            },
            "header": {
             "fill": {
              "color": "#C8D4E3"
             },
             "line": {
              "color": "white"
             }
            },
            "type": "table"
           }
          ]
         },
         "layout": {
          "annotationdefaults": {
           "arrowcolor": "#2a3f5f",
           "arrowhead": 0,
           "arrowwidth": 1
          },
          "autotypenumbers": "strict",
          "coloraxis": {
           "colorbar": {
            "outlinewidth": 0,
            "ticks": ""
           }
          },
          "colorscale": {
           "diverging": [
            [
             0,
             "#8e0152"
            ],
            [
             0.1,
             "#c51b7d"
            ],
            [
             0.2,
             "#de77ae"
            ],
            [
             0.3,
             "#f1b6da"
            ],
            [
             0.4,
             "#fde0ef"
            ],
            [
             0.5,
             "#f7f7f7"
            ],
            [
             0.6,
             "#e6f5d0"
            ],
            [
             0.7,
             "#b8e186"
            ],
            [
             0.8,
             "#7fbc41"
            ],
            [
             0.9,
             "#4d9221"
            ],
            [
             1,
             "#276419"
            ]
           ],
           "sequential": [
            [
             0,
             "#0d0887"
            ],
            [
             0.1111111111111111,
             "#46039f"
            ],
            [
             0.2222222222222222,
             "#7201a8"
            ],
            [
             0.3333333333333333,
             "#9c179e"
            ],
            [
             0.4444444444444444,
             "#bd3786"
            ],
            [
             0.5555555555555556,
             "#d8576b"
            ],
            [
             0.6666666666666666,
             "#ed7953"
            ],
            [
             0.7777777777777778,
             "#fb9f3a"
            ],
            [
             0.8888888888888888,
             "#fdca26"
            ],
            [
             1,
             "#f0f921"
            ]
           ],
           "sequentialminus": [
            [
             0,
             "#0d0887"
            ],
            [
             0.1111111111111111,
             "#46039f"
            ],
            [
             0.2222222222222222,
             "#7201a8"
            ],
            [
             0.3333333333333333,
             "#9c179e"
            ],
            [
             0.4444444444444444,
             "#bd3786"
            ],
            [
             0.5555555555555556,
             "#d8576b"
            ],
            [
             0.6666666666666666,
             "#ed7953"
            ],
            [
             0.7777777777777778,
             "#fb9f3a"
            ],
            [
             0.8888888888888888,
             "#fdca26"
            ],
            [
             1,
             "#f0f921"
            ]
           ]
          },
          "colorway": [
           "#636efa",
           "#EF553B",
           "#00cc96",
           "#ab63fa",
           "#FFA15A",
           "#19d3f3",
           "#FF6692",
           "#B6E880",
           "#FF97FF",
           "#FECB52"
          ],
          "font": {
           "color": "#2a3f5f"
          },
          "geo": {
           "bgcolor": "white",
           "lakecolor": "white",
           "landcolor": "#E5ECF6",
           "showlakes": true,
           "showland": true,
           "subunitcolor": "white"
          },
          "hoverlabel": {
           "align": "left"
          },
          "hovermode": "closest",
          "mapbox": {
           "style": "light"
          },
          "paper_bgcolor": "white",
          "plot_bgcolor": "#E5ECF6",
          "polar": {
           "angularaxis": {
            "gridcolor": "white",
            "linecolor": "white",
            "ticks": ""
           },
           "bgcolor": "#E5ECF6",
           "radialaxis": {
            "gridcolor": "white",
            "linecolor": "white",
            "ticks": ""
           }
          },
          "scene": {
           "xaxis": {
            "backgroundcolor": "#E5ECF6",
            "gridcolor": "white",
            "gridwidth": 2,
            "linecolor": "white",
            "showbackground": true,
            "ticks": "",
            "zerolinecolor": "white"
           },
           "yaxis": {
            "backgroundcolor": "#E5ECF6",
            "gridcolor": "white",
            "gridwidth": 2,
            "linecolor": "white",
            "showbackground": true,
            "ticks": "",
            "zerolinecolor": "white"
           },
           "zaxis": {
            "backgroundcolor": "#E5ECF6",
            "gridcolor": "white",
            "gridwidth": 2,
            "linecolor": "white",
            "showbackground": true,
            "ticks": "",
            "zerolinecolor": "white"
           }
          },
          "shapedefaults": {
           "line": {
            "color": "#2a3f5f"
           }
          },
          "ternary": {
           "aaxis": {
            "gridcolor": "white",
            "linecolor": "white",
            "ticks": ""
           },
           "baxis": {
            "gridcolor": "white",
            "linecolor": "white",
            "ticks": ""
           },
           "bgcolor": "#E5ECF6",
           "caxis": {
            "gridcolor": "white",
            "linecolor": "white",
            "ticks": ""
           }
          },
          "title": {
           "x": 0.05
          },
          "xaxis": {
           "automargin": true,
           "gridcolor": "white",
           "linecolor": "white",
           "ticks": "",
           "title": {
            "standoff": 15
           },
           "zerolinecolor": "white",
           "zerolinewidth": 2
          },
          "yaxis": {
           "automargin": true,
           "gridcolor": "white",
           "linecolor": "white",
           "ticks": "",
           "title": {
            "standoff": 15
           },
           "zerolinecolor": "white",
           "zerolinewidth": 2
          }
         }
        },
        "title": {
         "text": "Verteilung nach Ausbildung, n=203"
        },
        "xaxis": {
         "anchor": "y",
         "domain": [
          0,
          1
         ],
         "title": {
          "text": "Anzahl"
         }
        },
        "yaxis": {
         "anchor": "x",
         "domain": [
          0,
          1
         ],
         "title": {
          "text": "Grad des Bildungsabschluss"
         }
        }
       }
      }
     },
     "metadata": {},
     "output_type": "display_data"
    },
    {
     "data": {
      "application/vnd.plotly.v1+json": {
       "config": {
        "plotlyServerURL": "https://plot.ly"
       },
       "data": [
        {
         "cells": {
          "align": [
           "left",
           "center"
          ],
          "fill": {
           "color": [
            [
             "white",
             "lightgrey",
             "white",
             "lightgrey",
             "white",
             "white",
             "lightgrey",
             "white",
             "lightgrey",
             "white",
             "white",
             "lightgrey",
             "white",
             "lightgrey",
             "white",
             "white",
             "lightgrey",
             "white",
             "lightgrey",
             "white",
             "white",
             "lightgrey",
             "white",
             "lightgrey",
             "white"
            ]
           ]
          },
          "font": {
           "color": "darkslategray",
           "size": 11
          },
          "line": {
           "color": "darkslategray"
          },
          "values": [
           [
            "<b>Anzahl</b>"
           ],
           [
            4
           ],
           [
            3
           ],
           [
            100
           ],
           [
            85
           ],
           [
            11
           ]
          ]
         },
         "header": {
          "align": [
           "left",
           "center"
          ],
          "fill": {
           "color": "grey"
          },
          "font": {
           "color": "white",
           "size": 12
          },
          "line": {
           "color": "darkslategray"
          },
          "values": [
           "<b>Bildungsgrad nach Abschluss</b>",
           "<b>Qualifizierender Hauptschulabschluss</b>",
           "<b>Mittlere Reife</b>",
           "<b>Hochschulreife</b>",
           "<b>Studium</b>",
           "<b>Promotion</b>"
          ]
         },
         "type": "table"
        }
       ],
       "layout": {
        "font": {
         "family": "Frutiger Next LT W1G, Gill Sans, sans-serif",
         "size": 12
        },
        "template": {
         "data": {
          "bar": [
           {
            "error_x": {
             "color": "#2a3f5f"
            },
            "error_y": {
             "color": "#2a3f5f"
            },
            "marker": {
             "line": {
              "color": "#E5ECF6",
              "width": 0.5
             },
             "pattern": {
              "fillmode": "overlay",
              "size": 10,
              "solidity": 0.2
             }
            },
            "type": "bar"
           }
          ],
          "barpolar": [
           {
            "marker": {
             "line": {
              "color": "#E5ECF6",
              "width": 0.5
             },
             "pattern": {
              "fillmode": "overlay",
              "size": 10,
              "solidity": 0.2
             }
            },
            "type": "barpolar"
           }
          ],
          "carpet": [
           {
            "aaxis": {
             "endlinecolor": "#2a3f5f",
             "gridcolor": "white",
             "linecolor": "white",
             "minorgridcolor": "white",
             "startlinecolor": "#2a3f5f"
            },
            "baxis": {
             "endlinecolor": "#2a3f5f",
             "gridcolor": "white",
             "linecolor": "white",
             "minorgridcolor": "white",
             "startlinecolor": "#2a3f5f"
            },
            "type": "carpet"
           }
          ],
          "choropleth": [
           {
            "colorbar": {
             "outlinewidth": 0,
             "ticks": ""
            },
            "type": "choropleth"
           }
          ],
          "contour": [
           {
            "colorbar": {
             "outlinewidth": 0,
             "ticks": ""
            },
            "colorscale": [
             [
              0,
              "#0d0887"
             ],
             [
              0.1111111111111111,
              "#46039f"
             ],
             [
              0.2222222222222222,
              "#7201a8"
             ],
             [
              0.3333333333333333,
              "#9c179e"
             ],
             [
              0.4444444444444444,
              "#bd3786"
             ],
             [
              0.5555555555555556,
              "#d8576b"
             ],
             [
              0.6666666666666666,
              "#ed7953"
             ],
             [
              0.7777777777777778,
              "#fb9f3a"
             ],
             [
              0.8888888888888888,
              "#fdca26"
             ],
             [
              1,
              "#f0f921"
             ]
            ],
            "type": "contour"
           }
          ],
          "contourcarpet": [
           {
            "colorbar": {
             "outlinewidth": 0,
             "ticks": ""
            },
            "type": "contourcarpet"
           }
          ],
          "heatmap": [
           {
            "colorbar": {
             "outlinewidth": 0,
             "ticks": ""
            },
            "colorscale": [
             [
              0,
              "#0d0887"
             ],
             [
              0.1111111111111111,
              "#46039f"
             ],
             [
              0.2222222222222222,
              "#7201a8"
             ],
             [
              0.3333333333333333,
              "#9c179e"
             ],
             [
              0.4444444444444444,
              "#bd3786"
             ],
             [
              0.5555555555555556,
              "#d8576b"
             ],
             [
              0.6666666666666666,
              "#ed7953"
             ],
             [
              0.7777777777777778,
              "#fb9f3a"
             ],
             [
              0.8888888888888888,
              "#fdca26"
             ],
             [
              1,
              "#f0f921"
             ]
            ],
            "type": "heatmap"
           }
          ],
          "heatmapgl": [
           {
            "colorbar": {
             "outlinewidth": 0,
             "ticks": ""
            },
            "colorscale": [
             [
              0,
              "#0d0887"
             ],
             [
              0.1111111111111111,
              "#46039f"
             ],
             [
              0.2222222222222222,
              "#7201a8"
             ],
             [
              0.3333333333333333,
              "#9c179e"
             ],
             [
              0.4444444444444444,
              "#bd3786"
             ],
             [
              0.5555555555555556,
              "#d8576b"
             ],
             [
              0.6666666666666666,
              "#ed7953"
             ],
             [
              0.7777777777777778,
              "#fb9f3a"
             ],
             [
              0.8888888888888888,
              "#fdca26"
             ],
             [
              1,
              "#f0f921"
             ]
            ],
            "type": "heatmapgl"
           }
          ],
          "histogram": [
           {
            "marker": {
             "pattern": {
              "fillmode": "overlay",
              "size": 10,
              "solidity": 0.2
             }
            },
            "type": "histogram"
           }
          ],
          "histogram2d": [
           {
            "colorbar": {
             "outlinewidth": 0,
             "ticks": ""
            },
            "colorscale": [
             [
              0,
              "#0d0887"
             ],
             [
              0.1111111111111111,
              "#46039f"
             ],
             [
              0.2222222222222222,
              "#7201a8"
             ],
             [
              0.3333333333333333,
              "#9c179e"
             ],
             [
              0.4444444444444444,
              "#bd3786"
             ],
             [
              0.5555555555555556,
              "#d8576b"
             ],
             [
              0.6666666666666666,
              "#ed7953"
             ],
             [
              0.7777777777777778,
              "#fb9f3a"
             ],
             [
              0.8888888888888888,
              "#fdca26"
             ],
             [
              1,
              "#f0f921"
             ]
            ],
            "type": "histogram2d"
           }
          ],
          "histogram2dcontour": [
           {
            "colorbar": {
             "outlinewidth": 0,
             "ticks": ""
            },
            "colorscale": [
             [
              0,
              "#0d0887"
             ],
             [
              0.1111111111111111,
              "#46039f"
             ],
             [
              0.2222222222222222,
              "#7201a8"
             ],
             [
              0.3333333333333333,
              "#9c179e"
             ],
             [
              0.4444444444444444,
              "#bd3786"
             ],
             [
              0.5555555555555556,
              "#d8576b"
             ],
             [
              0.6666666666666666,
              "#ed7953"
             ],
             [
              0.7777777777777778,
              "#fb9f3a"
             ],
             [
              0.8888888888888888,
              "#fdca26"
             ],
             [
              1,
              "#f0f921"
             ]
            ],
            "type": "histogram2dcontour"
           }
          ],
          "mesh3d": [
           {
            "colorbar": {
             "outlinewidth": 0,
             "ticks": ""
            },
            "type": "mesh3d"
           }
          ],
          "parcoords": [
           {
            "line": {
             "colorbar": {
              "outlinewidth": 0,
              "ticks": ""
             }
            },
            "type": "parcoords"
           }
          ],
          "pie": [
           {
            "automargin": true,
            "type": "pie"
           }
          ],
          "scatter": [
           {
            "fillpattern": {
             "fillmode": "overlay",
             "size": 10,
             "solidity": 0.2
            },
            "type": "scatter"
           }
          ],
          "scatter3d": [
           {
            "line": {
             "colorbar": {
              "outlinewidth": 0,
              "ticks": ""
             }
            },
            "marker": {
             "colorbar": {
              "outlinewidth": 0,
              "ticks": ""
             }
            },
            "type": "scatter3d"
           }
          ],
          "scattercarpet": [
           {
            "marker": {
             "colorbar": {
              "outlinewidth": 0,
              "ticks": ""
             }
            },
            "type": "scattercarpet"
           }
          ],
          "scattergeo": [
           {
            "marker": {
             "colorbar": {
              "outlinewidth": 0,
              "ticks": ""
             }
            },
            "type": "scattergeo"
           }
          ],
          "scattergl": [
           {
            "marker": {
             "colorbar": {
              "outlinewidth": 0,
              "ticks": ""
             }
            },
            "type": "scattergl"
           }
          ],
          "scattermapbox": [
           {
            "marker": {
             "colorbar": {
              "outlinewidth": 0,
              "ticks": ""
             }
            },
            "type": "scattermapbox"
           }
          ],
          "scatterpolar": [
           {
            "marker": {
             "colorbar": {
              "outlinewidth": 0,
              "ticks": ""
             }
            },
            "type": "scatterpolar"
           }
          ],
          "scatterpolargl": [
           {
            "marker": {
             "colorbar": {
              "outlinewidth": 0,
              "ticks": ""
             }
            },
            "type": "scatterpolargl"
           }
          ],
          "scatterternary": [
           {
            "marker": {
             "colorbar": {
              "outlinewidth": 0,
              "ticks": ""
             }
            },
            "type": "scatterternary"
           }
          ],
          "surface": [
           {
            "colorbar": {
             "outlinewidth": 0,
             "ticks": ""
            },
            "colorscale": [
             [
              0,
              "#0d0887"
             ],
             [
              0.1111111111111111,
              "#46039f"
             ],
             [
              0.2222222222222222,
              "#7201a8"
             ],
             [
              0.3333333333333333,
              "#9c179e"
             ],
             [
              0.4444444444444444,
              "#bd3786"
             ],
             [
              0.5555555555555556,
              "#d8576b"
             ],
             [
              0.6666666666666666,
              "#ed7953"
             ],
             [
              0.7777777777777778,
              "#fb9f3a"
             ],
             [
              0.8888888888888888,
              "#fdca26"
             ],
             [
              1,
              "#f0f921"
             ]
            ],
            "type": "surface"
           }
          ],
          "table": [
           {
            "cells": {
             "fill": {
              "color": "#EBF0F8"
             },
             "line": {
              "color": "white"
             }
            },
            "header": {
             "fill": {
              "color": "#C8D4E3"
             },
             "line": {
              "color": "white"
             }
            },
            "type": "table"
           }
          ]
         },
         "layout": {
          "annotationdefaults": {
           "arrowcolor": "#2a3f5f",
           "arrowhead": 0,
           "arrowwidth": 1
          },
          "autotypenumbers": "strict",
          "coloraxis": {
           "colorbar": {
            "outlinewidth": 0,
            "ticks": ""
           }
          },
          "colorscale": {
           "diverging": [
            [
             0,
             "#8e0152"
            ],
            [
             0.1,
             "#c51b7d"
            ],
            [
             0.2,
             "#de77ae"
            ],
            [
             0.3,
             "#f1b6da"
            ],
            [
             0.4,
             "#fde0ef"
            ],
            [
             0.5,
             "#f7f7f7"
            ],
            [
             0.6,
             "#e6f5d0"
            ],
            [
             0.7,
             "#b8e186"
            ],
            [
             0.8,
             "#7fbc41"
            ],
            [
             0.9,
             "#4d9221"
            ],
            [
             1,
             "#276419"
            ]
           ],
           "sequential": [
            [
             0,
             "#0d0887"
            ],
            [
             0.1111111111111111,
             "#46039f"
            ],
            [
             0.2222222222222222,
             "#7201a8"
            ],
            [
             0.3333333333333333,
             "#9c179e"
            ],
            [
             0.4444444444444444,
             "#bd3786"
            ],
            [
             0.5555555555555556,
             "#d8576b"
            ],
            [
             0.6666666666666666,
             "#ed7953"
            ],
            [
             0.7777777777777778,
             "#fb9f3a"
            ],
            [
             0.8888888888888888,
             "#fdca26"
            ],
            [
             1,
             "#f0f921"
            ]
           ],
           "sequentialminus": [
            [
             0,
             "#0d0887"
            ],
            [
             0.1111111111111111,
             "#46039f"
            ],
            [
             0.2222222222222222,
             "#7201a8"
            ],
            [
             0.3333333333333333,
             "#9c179e"
            ],
            [
             0.4444444444444444,
             "#bd3786"
            ],
            [
             0.5555555555555556,
             "#d8576b"
            ],
            [
             0.6666666666666666,
             "#ed7953"
            ],
            [
             0.7777777777777778,
             "#fb9f3a"
            ],
            [
             0.8888888888888888,
             "#fdca26"
            ],
            [
             1,
             "#f0f921"
            ]
           ]
          },
          "colorway": [
           "#636efa",
           "#EF553B",
           "#00cc96",
           "#ab63fa",
           "#FFA15A",
           "#19d3f3",
           "#FF6692",
           "#B6E880",
           "#FF97FF",
           "#FECB52"
          ],
          "font": {
           "color": "#2a3f5f"
          },
          "geo": {
           "bgcolor": "white",
           "lakecolor": "white",
           "landcolor": "#E5ECF6",
           "showlakes": true,
           "showland": true,
           "subunitcolor": "white"
          },
          "hoverlabel": {
           "align": "left"
          },
          "hovermode": "closest",
          "mapbox": {
           "style": "light"
          },
          "paper_bgcolor": "white",
          "plot_bgcolor": "#E5ECF6",
          "polar": {
           "angularaxis": {
            "gridcolor": "white",
            "linecolor": "white",
            "ticks": ""
           },
           "bgcolor": "#E5ECF6",
           "radialaxis": {
            "gridcolor": "white",
            "linecolor": "white",
            "ticks": ""
           }
          },
          "scene": {
           "xaxis": {
            "backgroundcolor": "#E5ECF6",
            "gridcolor": "white",
            "gridwidth": 2,
            "linecolor": "white",
            "showbackground": true,
            "ticks": "",
            "zerolinecolor": "white"
           },
           "yaxis": {
            "backgroundcolor": "#E5ECF6",
            "gridcolor": "white",
            "gridwidth": 2,
            "linecolor": "white",
            "showbackground": true,
            "ticks": "",
            "zerolinecolor": "white"
           },
           "zaxis": {
            "backgroundcolor": "#E5ECF6",
            "gridcolor": "white",
            "gridwidth": 2,
            "linecolor": "white",
            "showbackground": true,
            "ticks": "",
            "zerolinecolor": "white"
           }
          },
          "shapedefaults": {
           "line": {
            "color": "#2a3f5f"
           }
          },
          "ternary": {
           "aaxis": {
            "gridcolor": "white",
            "linecolor": "white",
            "ticks": ""
           },
           "baxis": {
            "gridcolor": "white",
            "linecolor": "white",
            "ticks": ""
           },
           "bgcolor": "#E5ECF6",
           "caxis": {
            "gridcolor": "white",
            "linecolor": "white",
            "ticks": ""
           }
          },
          "title": {
           "x": 0.05
          },
          "xaxis": {
           "automargin": true,
           "gridcolor": "white",
           "linecolor": "white",
           "ticks": "",
           "title": {
            "standoff": 15
           },
           "zerolinecolor": "white",
           "zerolinewidth": 2
          },
          "yaxis": {
           "automargin": true,
           "gridcolor": "white",
           "linecolor": "white",
           "ticks": "",
           "title": {
            "standoff": 15
           },
           "zerolinecolor": "white",
           "zerolinewidth": 2
          }
         }
        },
        "title": {
         "text": "Verteilung nach Ausbildung, n=203"
        },
        "yaxis": {
         "title": {
          "text": "Anzahl"
         }
        }
       }
      }
     },
     "metadata": {},
     "output_type": "display_data"
    }
   ],
   "source": [
    "df = surveyData[['education']]\n",
    "df = df.groupby(['education'])['education'].count().reset_index(name='count')\n",
    "\n",
    "# Label strings\n",
    "chartLabel = f\"Verteilung nach Ausbildung, n={len(surveyData[['education']])}\"\n",
    "categoryGroups = [\"Qualifizierender Hauptschulabschluss\", \"Mittlere Reife\", \"Hochschulreife\", \"Studium\", \"Promotion\"]\n",
    "xLabel = \"Höchster Bildungsabschluss\"\n",
    "yLabel = \"Anzahl\"\n",
    "\n",
    "data = [\n",
    "    df.loc[df['education'] == categoryGroups[0], 'count'].iloc[0],\n",
    "    df.loc[df['education'] == categoryGroups[1], 'count'].iloc[0],\n",
    "    df.loc[df['education'] == categoryGroups[2], 'count'].iloc[0],\n",
    "    df.loc[df['education'] == categoryGroups[3], 'count'].iloc[0],\n",
    "    df.loc[df['education'] == categoryGroups[4], 'count'].iloc[0],\n",
    "] \n",
    "\n",
    "# print(df[['education'] == categoryGroups[0]].count)\n",
    "print(df.loc[df['education'] == categoryGroups[0], 'count'].iloc[0])\n",
    "\n",
    "fig = px.bar(df, x=categoryGroups, y=data, text_auto='.0s',\n",
    "            labels={'x':'Anzahl', 'y':'Grad des Bildungsabschluss'},\n",
    "            title=chartLabel,\n",
    "            )\n",
    "fig.update_traces(marker_color=urCdColors, opacity=0.75)\n",
    "fig.show()\n",
    "\n",
    "# Table\n",
    "fig = go.Figure(data=[go.Table(\n",
    "  header=dict(\n",
    "    values=['<b>Bildungsgrad nach Abschluss</b>', f\"<b>{categoryGroups[0]}</b>\", f\"<b>{categoryGroups[1]}</b>\", f\"<b>{categoryGroups[2]}</b>\", f\"<b>{categoryGroups[3]}</b>\", f\"<b>{categoryGroups[4]}</b>\"],\n",
    "    line_color='darkslategray',\n",
    "    fill_color=headerColor,\n",
    "    align=['left','center'],\n",
    "    font=dict(color='white', size=12)\n",
    "  ),\n",
    "  cells=dict(\n",
    "    values=[\n",
    "      # [surveyData[surveyData['sex'] == 'männlich'], surveyData[surveyData['sex'] == 'nicht angegeben'], surveyData[surveyData['sex'] == 'weiblich']]],\n",
    "        ['<b>Anzahl</b>'],\n",
    "        [data[0]],\n",
    "        [data[1]],\n",
    "        [data[2]],\n",
    "        [data[3]],\n",
    "        [data[4]]\n",
    "      ],\n",
    "    line_color='darkslategray',\n",
    "    # 2-D list of colors for alternating rows\n",
    "    fill_color = [[rowOddColor,rowEvenColor,rowOddColor, rowEvenColor,rowOddColor]*5],\n",
    "    align = ['left', 'center'],\n",
    "    font = dict(color = 'darkslategray', size = 11)\n",
    "    ))\n",
    "])\n",
    "\n",
    "fig.update_layout(\n",
    "    title=chartLabel,\n",
    "    yaxis_title=yLabel,\n",
    "    # legend_title=\"Legend Title\",\n",
    "    font=dict(\n",
    "        family=\"Frutiger Next LT W1G, Gill Sans, sans-serif\",\n",
    "        size=12,\n",
    "        # color=\"RebeccaPurple\"\n",
    "    )\n",
    ")\n",
    "\n",
    "fig.show()"
   ]
  },
  {
   "cell_type": "markdown",
   "metadata": {},
   "source": [
    "### Profession"
   ]
  },
  {
   "cell_type": "code",
   "execution_count": 7,
   "metadata": {},
   "outputs": [
    {
     "data": {
      "application/vnd.plotly.v1+json": {
       "config": {
        "plotlyServerURL": "https://plot.ly"
       },
       "data": [
        {
         "cells": {
          "align": [
           "left",
           "center"
          ],
          "fill": {
           "color": [
            [
             "white",
             "lightgrey",
             "white",
             "lightgrey",
             "white",
             "lightgrey",
             "white",
             "lightgrey",
             "white",
             "lightgrey",
             "white",
             "lightgrey",
             "white",
             "lightgrey",
             "white",
             "lightgrey",
             "white",
             "lightgrey",
             "white",
             "lightgrey",
             "white",
             "lightgrey",
             "white",
             "lightgrey",
             "white",
             "lightgrey",
             "white",
             "lightgrey",
             "white",
             "lightgrey",
             "white",
             "lightgrey",
             "white",
             "lightgrey",
             "white",
             "lightgrey",
             "white",
             "lightgrey",
             "white",
             "lightgrey",
             "white",
             "lightgrey"
            ]
           ]
          },
          "font": {
           "color": "darkslategray",
           "size": 11
          },
          "line": {
           "color": "darkslategray"
          },
          "values": [
           [
            "Student:in",
            "Wiss. Mitarbeiter:in",
            "Arbeitslos/Ehrenamt",
            "Ingenieur:in",
            "Software Entwickler:in",
            "Ärtzin/Arzt",
            "Kauffrau/Kaufmann",
            "Lehrer:in",
            "Mechaniker:in/Mechatroniker:in",
            "Angestellte/Angestellter",
            "Beamtin/Beamter",
            "Briefzusteller:in/Postbot:in",
            "IT Systemadministrator:in",
            "Künstler:in",
            "Mediengestalter:in",
            "Bankfachwirt:in",
            "Barkeeper:in",
            "Berater:in",
            "Bibliothekar:in",
            "Buchhändler:in",
            "Doktorand:in",
            "Fachangestellte:r für Bäderbetriebe",
            "Fachverkäufer:in im Lebensmittelhandwerk",
            "Fotograf:in",
            "Fremdsprachenkorrespondent:in",
            "Informatiker:in",
            "Kassierer:in",
            "Landwirt:in",
            "Lektorin:in",
            "Manager:in",
            "Medizinische Fachangestellte ",
            "Musikvermittler:in",
            "Pflegedienstleitung",
            "Professor:in",
            "Projektassistent:in",
            "Referent:in",
            "Sachbearbeiter:in",
            "Schriftsteller:in und Literaturwissenschaftler:in",
            "Sekretär:in",
            "Vertriebsaußendienstler:in",
            "Verwaltungsangestellte",
            "Verwaltungsmitarbeiter:in"
           ],
           [
            115,
            12,
            11,
            9,
            4,
            4,
            3,
            3,
            3,
            2,
            2,
            2,
            2,
            2,
            2,
            1,
            1,
            1,
            1,
            1,
            1,
            1,
            1,
            1,
            1,
            1,
            1,
            1,
            1,
            1,
            1,
            1,
            1,
            1,
            1,
            1,
            1,
            1,
            1,
            1,
            1,
            1
           ]
          ]
         },
         "header": {
          "align": [
           "left",
           "center"
          ],
          "fill": {
           "color": "grey"
          },
          "font": {
           "color": "white",
           "size": 12
          },
          "line": {
           "color": "darkslategray"
          },
          "values": [
           "<b>Beruf</b>",
           "<b>Anzahl</b>"
          ]
         },
         "type": "table"
        }
       ],
       "layout": {
        "font": {
         "family": "Frutiger Next LT W1G, Gill Sans, sans-serif",
         "size": 12
        },
        "height": 1100,
        "template": {
         "data": {
          "bar": [
           {
            "error_x": {
             "color": "#2a3f5f"
            },
            "error_y": {
             "color": "#2a3f5f"
            },
            "marker": {
             "line": {
              "color": "#E5ECF6",
              "width": 0.5
             },
             "pattern": {
              "fillmode": "overlay",
              "size": 10,
              "solidity": 0.2
             }
            },
            "type": "bar"
           }
          ],
          "barpolar": [
           {
            "marker": {
             "line": {
              "color": "#E5ECF6",
              "width": 0.5
             },
             "pattern": {
              "fillmode": "overlay",
              "size": 10,
              "solidity": 0.2
             }
            },
            "type": "barpolar"
           }
          ],
          "carpet": [
           {
            "aaxis": {
             "endlinecolor": "#2a3f5f",
             "gridcolor": "white",
             "linecolor": "white",
             "minorgridcolor": "white",
             "startlinecolor": "#2a3f5f"
            },
            "baxis": {
             "endlinecolor": "#2a3f5f",
             "gridcolor": "white",
             "linecolor": "white",
             "minorgridcolor": "white",
             "startlinecolor": "#2a3f5f"
            },
            "type": "carpet"
           }
          ],
          "choropleth": [
           {
            "colorbar": {
             "outlinewidth": 0,
             "ticks": ""
            },
            "type": "choropleth"
           }
          ],
          "contour": [
           {
            "colorbar": {
             "outlinewidth": 0,
             "ticks": ""
            },
            "colorscale": [
             [
              0,
              "#0d0887"
             ],
             [
              0.1111111111111111,
              "#46039f"
             ],
             [
              0.2222222222222222,
              "#7201a8"
             ],
             [
              0.3333333333333333,
              "#9c179e"
             ],
             [
              0.4444444444444444,
              "#bd3786"
             ],
             [
              0.5555555555555556,
              "#d8576b"
             ],
             [
              0.6666666666666666,
              "#ed7953"
             ],
             [
              0.7777777777777778,
              "#fb9f3a"
             ],
             [
              0.8888888888888888,
              "#fdca26"
             ],
             [
              1,
              "#f0f921"
             ]
            ],
            "type": "contour"
           }
          ],
          "contourcarpet": [
           {
            "colorbar": {
             "outlinewidth": 0,
             "ticks": ""
            },
            "type": "contourcarpet"
           }
          ],
          "heatmap": [
           {
            "colorbar": {
             "outlinewidth": 0,
             "ticks": ""
            },
            "colorscale": [
             [
              0,
              "#0d0887"
             ],
             [
              0.1111111111111111,
              "#46039f"
             ],
             [
              0.2222222222222222,
              "#7201a8"
             ],
             [
              0.3333333333333333,
              "#9c179e"
             ],
             [
              0.4444444444444444,
              "#bd3786"
             ],
             [
              0.5555555555555556,
              "#d8576b"
             ],
             [
              0.6666666666666666,
              "#ed7953"
             ],
             [
              0.7777777777777778,
              "#fb9f3a"
             ],
             [
              0.8888888888888888,
              "#fdca26"
             ],
             [
              1,
              "#f0f921"
             ]
            ],
            "type": "heatmap"
           }
          ],
          "heatmapgl": [
           {
            "colorbar": {
             "outlinewidth": 0,
             "ticks": ""
            },
            "colorscale": [
             [
              0,
              "#0d0887"
             ],
             [
              0.1111111111111111,
              "#46039f"
             ],
             [
              0.2222222222222222,
              "#7201a8"
             ],
             [
              0.3333333333333333,
              "#9c179e"
             ],
             [
              0.4444444444444444,
              "#bd3786"
             ],
             [
              0.5555555555555556,
              "#d8576b"
             ],
             [
              0.6666666666666666,
              "#ed7953"
             ],
             [
              0.7777777777777778,
              "#fb9f3a"
             ],
             [
              0.8888888888888888,
              "#fdca26"
             ],
             [
              1,
              "#f0f921"
             ]
            ],
            "type": "heatmapgl"
           }
          ],
          "histogram": [
           {
            "marker": {
             "pattern": {
              "fillmode": "overlay",
              "size": 10,
              "solidity": 0.2
             }
            },
            "type": "histogram"
           }
          ],
          "histogram2d": [
           {
            "colorbar": {
             "outlinewidth": 0,
             "ticks": ""
            },
            "colorscale": [
             [
              0,
              "#0d0887"
             ],
             [
              0.1111111111111111,
              "#46039f"
             ],
             [
              0.2222222222222222,
              "#7201a8"
             ],
             [
              0.3333333333333333,
              "#9c179e"
             ],
             [
              0.4444444444444444,
              "#bd3786"
             ],
             [
              0.5555555555555556,
              "#d8576b"
             ],
             [
              0.6666666666666666,
              "#ed7953"
             ],
             [
              0.7777777777777778,
              "#fb9f3a"
             ],
             [
              0.8888888888888888,
              "#fdca26"
             ],
             [
              1,
              "#f0f921"
             ]
            ],
            "type": "histogram2d"
           }
          ],
          "histogram2dcontour": [
           {
            "colorbar": {
             "outlinewidth": 0,
             "ticks": ""
            },
            "colorscale": [
             [
              0,
              "#0d0887"
             ],
             [
              0.1111111111111111,
              "#46039f"
             ],
             [
              0.2222222222222222,
              "#7201a8"
             ],
             [
              0.3333333333333333,
              "#9c179e"
             ],
             [
              0.4444444444444444,
              "#bd3786"
             ],
             [
              0.5555555555555556,
              "#d8576b"
             ],
             [
              0.6666666666666666,
              "#ed7953"
             ],
             [
              0.7777777777777778,
              "#fb9f3a"
             ],
             [
              0.8888888888888888,
              "#fdca26"
             ],
             [
              1,
              "#f0f921"
             ]
            ],
            "type": "histogram2dcontour"
           }
          ],
          "mesh3d": [
           {
            "colorbar": {
             "outlinewidth": 0,
             "ticks": ""
            },
            "type": "mesh3d"
           }
          ],
          "parcoords": [
           {
            "line": {
             "colorbar": {
              "outlinewidth": 0,
              "ticks": ""
             }
            },
            "type": "parcoords"
           }
          ],
          "pie": [
           {
            "automargin": true,
            "type": "pie"
           }
          ],
          "scatter": [
           {
            "fillpattern": {
             "fillmode": "overlay",
             "size": 10,
             "solidity": 0.2
            },
            "type": "scatter"
           }
          ],
          "scatter3d": [
           {
            "line": {
             "colorbar": {
              "outlinewidth": 0,
              "ticks": ""
             }
            },
            "marker": {
             "colorbar": {
              "outlinewidth": 0,
              "ticks": ""
             }
            },
            "type": "scatter3d"
           }
          ],
          "scattercarpet": [
           {
            "marker": {
             "colorbar": {
              "outlinewidth": 0,
              "ticks": ""
             }
            },
            "type": "scattercarpet"
           }
          ],
          "scattergeo": [
           {
            "marker": {
             "colorbar": {
              "outlinewidth": 0,
              "ticks": ""
             }
            },
            "type": "scattergeo"
           }
          ],
          "scattergl": [
           {
            "marker": {
             "colorbar": {
              "outlinewidth": 0,
              "ticks": ""
             }
            },
            "type": "scattergl"
           }
          ],
          "scattermapbox": [
           {
            "marker": {
             "colorbar": {
              "outlinewidth": 0,
              "ticks": ""
             }
            },
            "type": "scattermapbox"
           }
          ],
          "scatterpolar": [
           {
            "marker": {
             "colorbar": {
              "outlinewidth": 0,
              "ticks": ""
             }
            },
            "type": "scatterpolar"
           }
          ],
          "scatterpolargl": [
           {
            "marker": {
             "colorbar": {
              "outlinewidth": 0,
              "ticks": ""
             }
            },
            "type": "scatterpolargl"
           }
          ],
          "scatterternary": [
           {
            "marker": {
             "colorbar": {
              "outlinewidth": 0,
              "ticks": ""
             }
            },
            "type": "scatterternary"
           }
          ],
          "surface": [
           {
            "colorbar": {
             "outlinewidth": 0,
             "ticks": ""
            },
            "colorscale": [
             [
              0,
              "#0d0887"
             ],
             [
              0.1111111111111111,
              "#46039f"
             ],
             [
              0.2222222222222222,
              "#7201a8"
             ],
             [
              0.3333333333333333,
              "#9c179e"
             ],
             [
              0.4444444444444444,
              "#bd3786"
             ],
             [
              0.5555555555555556,
              "#d8576b"
             ],
             [
              0.6666666666666666,
              "#ed7953"
             ],
             [
              0.7777777777777778,
              "#fb9f3a"
             ],
             [
              0.8888888888888888,
              "#fdca26"
             ],
             [
              1,
              "#f0f921"
             ]
            ],
            "type": "surface"
           }
          ],
          "table": [
           {
            "cells": {
             "fill": {
              "color": "#EBF0F8"
             },
             "line": {
              "color": "white"
             }
            },
            "header": {
             "fill": {
              "color": "#C8D4E3"
             },
             "line": {
              "color": "white"
             }
            },
            "type": "table"
           }
          ]
         },
         "layout": {
          "annotationdefaults": {
           "arrowcolor": "#2a3f5f",
           "arrowhead": 0,
           "arrowwidth": 1
          },
          "autotypenumbers": "strict",
          "coloraxis": {
           "colorbar": {
            "outlinewidth": 0,
            "ticks": ""
           }
          },
          "colorscale": {
           "diverging": [
            [
             0,
             "#8e0152"
            ],
            [
             0.1,
             "#c51b7d"
            ],
            [
             0.2,
             "#de77ae"
            ],
            [
             0.3,
             "#f1b6da"
            ],
            [
             0.4,
             "#fde0ef"
            ],
            [
             0.5,
             "#f7f7f7"
            ],
            [
             0.6,
             "#e6f5d0"
            ],
            [
             0.7,
             "#b8e186"
            ],
            [
             0.8,
             "#7fbc41"
            ],
            [
             0.9,
             "#4d9221"
            ],
            [
             1,
             "#276419"
            ]
           ],
           "sequential": [
            [
             0,
             "#0d0887"
            ],
            [
             0.1111111111111111,
             "#46039f"
            ],
            [
             0.2222222222222222,
             "#7201a8"
            ],
            [
             0.3333333333333333,
             "#9c179e"
            ],
            [
             0.4444444444444444,
             "#bd3786"
            ],
            [
             0.5555555555555556,
             "#d8576b"
            ],
            [
             0.6666666666666666,
             "#ed7953"
            ],
            [
             0.7777777777777778,
             "#fb9f3a"
            ],
            [
             0.8888888888888888,
             "#fdca26"
            ],
            [
             1,
             "#f0f921"
            ]
           ],
           "sequentialminus": [
            [
             0,
             "#0d0887"
            ],
            [
             0.1111111111111111,
             "#46039f"
            ],
            [
             0.2222222222222222,
             "#7201a8"
            ],
            [
             0.3333333333333333,
             "#9c179e"
            ],
            [
             0.4444444444444444,
             "#bd3786"
            ],
            [
             0.5555555555555556,
             "#d8576b"
            ],
            [
             0.6666666666666666,
             "#ed7953"
            ],
            [
             0.7777777777777778,
             "#fb9f3a"
            ],
            [
             0.8888888888888888,
             "#fdca26"
            ],
            [
             1,
             "#f0f921"
            ]
           ]
          },
          "colorway": [
           "#636efa",
           "#EF553B",
           "#00cc96",
           "#ab63fa",
           "#FFA15A",
           "#19d3f3",
           "#FF6692",
           "#B6E880",
           "#FF97FF",
           "#FECB52"
          ],
          "font": {
           "color": "#2a3f5f"
          },
          "geo": {
           "bgcolor": "white",
           "lakecolor": "white",
           "landcolor": "#E5ECF6",
           "showlakes": true,
           "showland": true,
           "subunitcolor": "white"
          },
          "hoverlabel": {
           "align": "left"
          },
          "hovermode": "closest",
          "mapbox": {
           "style": "light"
          },
          "paper_bgcolor": "white",
          "plot_bgcolor": "#E5ECF6",
          "polar": {
           "angularaxis": {
            "gridcolor": "white",
            "linecolor": "white",
            "ticks": ""
           },
           "bgcolor": "#E5ECF6",
           "radialaxis": {
            "gridcolor": "white",
            "linecolor": "white",
            "ticks": ""
           }
          },
          "scene": {
           "xaxis": {
            "backgroundcolor": "#E5ECF6",
            "gridcolor": "white",
            "gridwidth": 2,
            "linecolor": "white",
            "showbackground": true,
            "ticks": "",
            "zerolinecolor": "white"
           },
           "yaxis": {
            "backgroundcolor": "#E5ECF6",
            "gridcolor": "white",
            "gridwidth": 2,
            "linecolor": "white",
            "showbackground": true,
            "ticks": "",
            "zerolinecolor": "white"
           },
           "zaxis": {
            "backgroundcolor": "#E5ECF6",
            "gridcolor": "white",
            "gridwidth": 2,
            "linecolor": "white",
            "showbackground": true,
            "ticks": "",
            "zerolinecolor": "white"
           }
          },
          "shapedefaults": {
           "line": {
            "color": "#2a3f5f"
           }
          },
          "ternary": {
           "aaxis": {
            "gridcolor": "white",
            "linecolor": "white",
            "ticks": ""
           },
           "baxis": {
            "gridcolor": "white",
            "linecolor": "white",
            "ticks": ""
           },
           "bgcolor": "#E5ECF6",
           "caxis": {
            "gridcolor": "white",
            "linecolor": "white",
            "ticks": ""
           }
          },
          "title": {
           "x": 0.05
          },
          "xaxis": {
           "automargin": true,
           "gridcolor": "white",
           "linecolor": "white",
           "ticks": "",
           "title": {
            "standoff": 15
           },
           "zerolinecolor": "white",
           "zerolinewidth": 2
          },
          "yaxis": {
           "automargin": true,
           "gridcolor": "white",
           "linecolor": "white",
           "ticks": "",
           "title": {
            "standoff": 15
           },
           "zerolinecolor": "white",
           "zerolinewidth": 2
          }
         }
        },
        "title": {
         "text": "Verteilung nach Berufen, n=203"
        }
       }
      }
     },
     "metadata": {},
     "output_type": "display_data"
    }
   ],
   "source": [
    "df = surveyData[['profession']]\n",
    "\n",
    "# print(df)\n",
    "\n",
    "# Replacements\n",
    "pd.options.mode.chained_assignment = None  # default='warn'\n",
    "df.loc[df['profession'].str.contains('student', case=False), 'profession'] = 'Student:in'\n",
    "df.loc[df['profession'].str.contains('Studium', case=False), 'profession'] = 'Student:in'\n",
    "df.loc[df['profession'].str.contains('Studierend', case=False), 'profession'] = 'Student:in'\n",
    "df.loc[df['profession'].str.contains('Medientechnik und Produktion', case=False), 'profession'] = 'Student:in'\n",
    "df.loc[df['profession'].str.contains('Barkeeper', case=False), 'profession'] = 'Barkeeper:in'\n",
    "df.loc[df['profession'].str.contains('ingenieur', case=False), 'profession'] = 'Ingenieur:in'\n",
    "df.loc[df['profession'].str.contains('Dipl.Ing.grad', case=False), 'profession'] = 'Ingenieur:in'\n",
    "df.loc[df['profession'].str.contains('Software', case=False), 'profession'] = 'Software Entwickler:in'\n",
    "df.loc[df['profession'].str.contains('Mediengestalt', case=False), 'profession'] = 'Mediengestalter:in'\n",
    "df.loc[df['profession'].str.contains('Ehrenamt', case=False), 'profession'] = 'Arbeitslos/Ehrenamt'\n",
    "df.loc[df['profession'].str.contains('Arbeitslos', case=False), 'profession'] = 'Arbeitslos/Ehrenamt'\n",
    "df.loc[df['profession'].str.contains('-', case=False), 'profession'] = 'Arbeitslos/Ehrenamt'\n",
    "df.loc[df['profession'].str.contains('/', case=False), 'profession'] = 'Arbeitslos/Ehrenamt'\n",
    "df.loc[df['profession'].str.contains('Keinen', case=False), 'profession'] = 'Arbeitslos/Ehrenamt'\n",
    "df.loc[df['profession'].str.contains('Nicht vorhanden', case=False), 'profession'] = 'Arbeitslos/Ehrenamt'\n",
    "df.loc[df['profession'].str.contains('Beamt', case=False), 'profession'] = 'Beamtin/Beamter'\n",
    "df.loc[df['profession'].str.contains('rzt', case=False), 'profession'] = 'Ärtzin/Arzt'\n",
    "df.loc[df['profession'].str.contains('Kieferorthopädin', case=False), 'profession'] = 'Ärtzin/Arzt'\n",
    "df.loc[df['profession'].str.contains('Künstler', case=False), 'profession'] = 'Künstler:in'\n",
    "df.loc[df['profession'].str.contains('Bäderbetriebe', case=False), 'profession'] = 'Bademeister:in'\n",
    "df.loc[df['profession'].str.contains('Bademeister:in', case=False), 'profession'] = 'Fachangestellte:r für Bäderbetriebe'\n",
    "df.loc[df['profession'].str.contains('^Angestellte', case=False), 'profession'] = 'Angestellte/Angestellter'\n",
    "df.loc[df['profession'].str.contains('Systemadministrator', case=False), 'profession'] = 'IT Systemadministrator:in'\n",
    "df.loc[df['profession'].str.contains('senschaftlicher Mitarb', case=False), 'profession'] = 'Wiss. Mitarbeiter:in'\n",
    "df.loc[df['profession'].str.contains('senschaftliche Mitarb', case=False), 'profession'] = 'Wiss. Mitarbeiter:in'\n",
    "df.loc[df['profession'].str.contains('wiissenschaftliche', case=False), 'profession'] = 'Wiss. Mitarbeiter:in'\n",
    "df.loc[df['profession'].str.contains('wiss. Mitarb', case=False), 'profession'] = 'Wiss. Mitarbeiter:in'\n",
    "df.loc[df['profession'].str.contains('Bankfachwirtin', case=False), 'profession'] = 'Bankfachwirt:in'\n",
    "df.loc[df['profession'].str.contains('Beratung', case=False), 'profession'] = 'Berater:in'\n",
    "df.loc[df['profession'].str.contains('Bibliothekar', case=False), 'profession'] = 'Bibliothekar:in'\n",
    "df.loc[df['profession'].str.contains('Briefzusteller', case=False), 'profession'] = 'Briefzusteller:in/Postbot:in'\n",
    "df.loc[df['profession'].str.contains('postbot', case=False), 'profession'] = 'Briefzusteller:in/Postbot:in'\n",
    "df.loc[df['profession'].str.contains('Buchhändler', case=False), 'profession'] = 'Buchhändler:in'\n",
    "df.loc[df['profession'].str.contains('Doktorand', case=False), 'profession'] = 'Doktorand:in'\n",
    "df.loc[df['profession'].str.contains('kauffrau', case=False), 'profession'] = 'Kauffrau/Kaufmann'\n",
    "df.loc[df['profession'].str.contains('Fachverkäuferin im Lebensmittelhandwerk', case=False), 'profession'] = 'Fachverkäufer:in im Lebensmittelhandwerk'\n",
    "df.loc[df['profession'].str.contains('Fremdsprachenkorrespondentin', case=False), 'profession'] = 'Fremdsprachenkorrespondent:in'\n",
    "df.loc[df['profession'].str.contains('Informatiker', case=False), 'profession'] = 'Informatiker:in'\n",
    "df.loc[df['profession'].str.contains('Kassiererin', case=False), 'profession'] = 'Kassierer:in'\n",
    "df.loc[df['profession'].str.contains('Landwirt', case=False), 'profession'] = 'Landwirt:in'\n",
    "df.loc[df['profession'].str.contains('Manager', case=False), 'profession'] = 'Manager:in'\n",
    "df.loc[df['profession'].str.contains('Lehrer', case=False), 'profession'] = 'Lehrer:in'\n",
    "df.loc[df['profession'].str.contains('Mechaniker', case=False), 'profession'] = 'Mechaniker:in/Mechatroniker:in'\n",
    "df.loc[df['profession'].str.contains('Mechatroniker', case=False), 'profession'] = 'Mechaniker:in/Mechatroniker:in'\n",
    "df.loc[df['profession'].str.contains('Lektorin', case=False), 'profession'] = 'Lektorin:in'\n",
    "df.loc[df['profession'].str.contains('Musikvermittlerin', case=False), 'profession'] = 'Musikvermittler:in'\n",
    "df.loc[df['profession'].str.contains('Professor', case=False), 'profession'] = 'Professor:in'\n",
    "df.loc[df['profession'].str.contains('Projektassistenz', case=False), 'profession'] = 'Projektassistent:in'\n",
    "df.loc[df['profession'].str.contains('Referent', case=False), 'profession'] = 'Referent:in'\n",
    "df.loc[df['profession'].str.contains('Sachbearbeiterin', case=False), 'profession'] = 'Sachbearbeiter:in'\n",
    "df.loc[df['profession'].str.contains('Schriftsteller', case=False), 'profession'] = 'Schriftsteller:in und Literaturwissenschaftler:in'\n",
    "df.loc[df['profession'].str.contains('Sekretärin', case=False), 'profession'] = 'Sekretär:in'\n",
    "df.loc[df['profession'].str.contains('Verwaltungsmitarbeiter', case=False), 'profession'] = 'Verwaltungsmitarbeiter:in'\n",
    "df.loc[df['profession'].str.contains('Vertriebsaußendienst', case=False), 'profession'] = 'Vertriebsaußendienstler:in'\n",
    "df.loc[df['profession'].str.contains('Selbstständiger Fotograf', case=False), 'profession'] = 'Fotograf:in'\n",
    "pd.options.mode.chained_assignment = 'warn'  # default='warn'\n",
    "#df\n",
    "unifiedProfessionsCounts = df.groupby(['profession'])['profession'].count().reset_index(name='count')\n",
    "sortedProfessions = unifiedProfessionsCounts.sort_values(['count', 'profession'], ascending=[False, True])\n",
    "# sortedProfessions = unifiedProfessionsCounts.sort_values(['count'], ascending=False)\n",
    "\n",
    "# print(len(sortedProfessions))\n",
    "\n",
    "# Label strings\n",
    "chartLabel = f\"Verteilung nach Berufen, n={len(surveyData[['education']])}\"\n",
    "categoryGroups = [\"Beruf\", \"Anzahl\"]\n",
    "xLabel = \"Eigenschaft\"\n",
    "yLabel = \"Beruf\"\n",
    "\n",
    "# Table\n",
    "fig = go.Figure(data=[go.Table(\n",
    "  header=dict(\n",
    "    values=[f\"<b>{categoryGroups[0]}</b>\", f\"<b>{categoryGroups[1]}</b>\"],\n",
    "    line_color='darkslategray',\n",
    "    fill_color=headerColor,\n",
    "    align=['left','center'],\n",
    "    font=dict(color='white', size=12)\n",
    "  ),\n",
    "  cells=dict(\n",
    "    values=[sortedProfessions.profession, sortedProfessions['count']],\n",
    "  #     # [surveyData[surveyData['sex'] == 'männlich'], surveyData[surveyData['sex'] == 'nicht angegeben'], surveyData[surveyData['sex'] == 'weiblich']]],\n",
    "  #       ['<b>Anzahl</b>'],\n",
    "  #       [data[0]],\n",
    "  #       [data[1]],\n",
    "  #       [data[2]],\n",
    "  #       [data[3]],\n",
    "  #       [data[4]]\n",
    "  #     ],\n",
    "    line_color='darkslategray',\n",
    "    # 2-D list of colors for alternating rows\n",
    "    fill_color = [[rowOddColor,rowEvenColor]*21],\n",
    "    align = ['left', 'center'],\n",
    "    font = dict(color = 'darkslategray', size = 11)\n",
    "    ))\n",
    "])\n",
    "\n",
    "fig.update_layout(\n",
    "    title=chartLabel,\n",
    "    # yaxis_title=yLabel,\n",
    "    # legend_title=\"Legend Title\",\n",
    "    height=1100,\n",
    "    font=dict(\n",
    "        family=\"Frutiger Next LT W1G, Gill Sans, sans-serif\",\n",
    "        size=12,\n",
    "        # color=\"RebeccaPurple\"\n",
    "    )\n",
    ")\n",
    "\n",
    "fig.show()\n",
    "\n"
   ]
  },
  {
   "cell_type": "markdown",
   "metadata": {},
   "source": [
    "### Feeling Start And End"
   ]
  },
  {
   "cell_type": "code",
   "execution_count": 8,
   "metadata": {},
   "outputs": [
    {
     "name": "stdout",
     "output_type": "stream",
     "text": [
      "Neutrale Entwicklung 145\n",
      "Verbesserung 35\n",
      "Mood-Booster 2\n",
      "Verschlechterung 23\n",
      "Mood-Killer 3\n"
     ]
    }
   ],
   "source": [
    "df = surveyData[['mood-start', 'mood-start-val', 'mood-end', 'mood-end-val', 'mood-delta', 'highest-preferenced-viz', 'duration-date-based', 'duration-over-all-time', 'duration-shortest-val']]\n",
    "\n",
    "moodNeutral = df.loc[df['mood-delta'] == 0]\n",
    "moodImproved = df.loc[df['mood-delta'] >= 1]\n",
    "moodBoosted = df.loc[df['mood-delta'] > 1]\n",
    "moodDecreased = df.loc[df['mood-delta'] <= -1]\n",
    "moodKilled = df.loc[df['mood-delta'] < -1]\n",
    "\n",
    "print(\"Neutrale Entwicklung\", len(moodNeutral))\n",
    "print(\"Verbesserung\", len(moodImproved))\n",
    "print(\"Mood-Booster\", len(moodBoosted))\n",
    "print(\"Verschlechterung\", len(moodDecreased))\n",
    "print(\"Mood-Killer\", len(moodKilled))"
   ]
  },
  {
   "cell_type": "markdown",
   "metadata": {},
   "source": [
    "### Standard Deviation of Test Time"
   ]
  },
  {
   "cell_type": "code",
   "execution_count": 9,
   "metadata": {},
   "outputs": [
    {
     "data": {
      "application/vnd.plotly.v1+json": {
       "config": {
        "plotlyServerURL": "https://plot.ly"
       },
       "data": [
        {
         "marker": {
          "color": "rgb(156,0,75)"
         },
         "name": "alle Teilnehmer:innen",
         "type": "box",
         "y": [
          2245.25,
          2178,
          1931,
          2372,
          2524,
          2732,
          2733,
          2062,
          2404,
          2306.85,
          2546,
          1214,
          2084,
          1983,
          1620,
          2255.27,
          3118,
          2460,
          2054,
          2911,
          2511,
          2668,
          3004,
          2717,
          2226.56,
          1807,
          1600,
          2665,
          2485,
          1878,
          2550,
          2333,
          2919,
          1956,
          2511,
          939,
          626.22,
          1460.77,
          3409.94,
          3079,
          2279,
          1823,
          2015,
          2177,
          1845,
          2662,
          1658,
          1217,
          2360,
          2275,
          1874,
          2073,
          4941,
          2352,
          1953,
          2086,
          2310,
          3167,
          2291,
          2927,
          2678,
          1060,
          1776.61,
          1889,
          2277.19,
          1773,
          1241,
          2429.09,
          2309,
          2561.71,
          3876.59,
          1927.3,
          2736.33,
          760,
          3428,
          1175.8,
          2282,
          1424,
          1138,
          1778.45,
          2512.11,
          1402,
          936.69,
          2455,
          1383.19,
          1909.11,
          1044,
          1668.82,
          1982,
          2052.46,
          2094.84,
          2827,
          1223,
          2329.74,
          1379.76,
          1790.83,
          1807.36,
          1049.36,
          2367.72,
          2808.06,
          2882.78,
          1105.89,
          4082.7,
          2801,
          3157,
          2323.38,
          3122,
          319,
          1287,
          744,
          849,
          423.99,
          1062,
          3166,
          554,
          1781.8,
          1640,
          799.03,
          2819,
          3528,
          2420,
          1923.64,
          478,
          1934,
          2248,
          2161,
          4367,
          1404.03,
          555,
          3682,
          875.92,
          1360,
          2578.89,
          1582,
          2428,
          499.9,
          1808.87,
          730.72,
          1376,
          1225,
          2482,
          642,
          496,
          770,
          1313,
          2312.34,
          1043,
          1005,
          1698,
          1608.27,
          2939,
          922,
          757,
          2045,
          393,
          447.14,
          1537,
          680,
          1022,
          2163,
          2035.56,
          677,
          1769,
          700,
          1872.68,
          2033.25,
          1444.81,
          708,
          870,
          612.53,
          2470,
          1932,
          678,
          2284,
          2280.3,
          2998,
          3110.13,
          2488,
          3873.54,
          4114,
          3682.1,
          1364,
          744,
          1218.26,
          2845.01,
          2222,
          1289.69,
          535,
          989.45,
          2972.51,
          2759.62,
          945.61,
          1382,
          759.85,
          2285,
          3953.38,
          2048,
          5666.06,
          1440
         ]
        },
        {
         "marker": {
          "color": "rgb(0,155,119)"
         },
         "name": "stabile Gefühlsentwicklung",
         "type": "box",
         "y": [
          2245.25,
          2178,
          1931,
          2372,
          2524,
          2732,
          2733,
          2062,
          2404,
          2546,
          1983,
          1620,
          2255.27,
          2460,
          2054,
          2911,
          2511,
          2668,
          2717,
          2226.56,
          1807,
          1600,
          1878,
          2550,
          1956,
          2511,
          939,
          1460.77,
          3409.94,
          3079,
          2279,
          2015,
          1845,
          2662,
          1217,
          2275,
          2073,
          4941,
          2352,
          1953,
          2086,
          2310,
          2291,
          2927,
          2678,
          1776.61,
          1889,
          2277.19,
          1773,
          2309,
          2561.71,
          3876.59,
          1927.3,
          2736.33,
          2282,
          1424,
          1138,
          2512.11,
          1402,
          936.69,
          2455,
          1383.19,
          1909.11,
          1044,
          2052.46,
          1223,
          2329.74,
          1379.76,
          1807.36,
          1049.36,
          2882.78,
          1105.89,
          4082.7,
          2801,
          3157,
          1287,
          744,
          849,
          423.99,
          1062,
          3166,
          554,
          1781.8,
          1640,
          799.03,
          2819,
          3528,
          2420,
          1923.64,
          478,
          1934,
          4367,
          1404.03,
          555,
          1360,
          2578.89,
          1582,
          2428,
          499.9,
          730.72,
          1376,
          1225,
          2482,
          642,
          496,
          770,
          2312.34,
          1043,
          1005,
          1698,
          1608.27,
          2939,
          922,
          2045,
          447.14,
          1537,
          680,
          1022,
          2163,
          2035.56,
          1769,
          1872.68,
          708,
          870,
          612.53,
          1932,
          678,
          2284,
          2280.3,
          2998,
          2488,
          3873.54,
          1364,
          1218.26,
          2845.01,
          2222,
          1289.69,
          535,
          2759.62,
          945.61,
          759.85,
          2285,
          3953.38,
          2048,
          5666.06
         ]
        },
        {
         "marker": {
          "color": "rgb(0,135,178)"
         },
         "name": "Verbesserung d. Gefühlsentwicklung",
         "type": "box",
         "y": [
          2306.85,
          3118,
          3004,
          2485,
          2919,
          1823,
          2177,
          1658,
          2360,
          1874,
          3167,
          3428,
          1778.45,
          1668.82,
          1982,
          2827,
          2808.06,
          2323.38,
          3122,
          319,
          2248,
          2161,
          1808.87,
          1313,
          757,
          677,
          2033.25,
          1444.81,
          2470,
          3110.13,
          3682.1,
          989.45,
          2972.51,
          1440
         ]
        },
        {
         "marker": {
          "color": "rgb(174,167,0)"
         },
         "name": "Verschlechterung d. Gefühlsentwicklung",
         "type": "box",
         "y": [
          1214,
          2084,
          2665,
          2333,
          626.22,
          1060,
          1241,
          2429.09,
          760,
          1175.8,
          2094.84,
          1790.83,
          2367.72,
          3682,
          875.92,
          393,
          700,
          4114,
          744,
          1382
         ]
        }
       ],
       "layout": {
        "font": {
         "family": "Frutiger Next LT W1G, Gill Sans, sans-serif",
         "size": 12
        },
        "template": {
         "data": {
          "bar": [
           {
            "error_x": {
             "color": "#2a3f5f"
            },
            "error_y": {
             "color": "#2a3f5f"
            },
            "marker": {
             "line": {
              "color": "#E5ECF6",
              "width": 0.5
             },
             "pattern": {
              "fillmode": "overlay",
              "size": 10,
              "solidity": 0.2
             }
            },
            "type": "bar"
           }
          ],
          "barpolar": [
           {
            "marker": {
             "line": {
              "color": "#E5ECF6",
              "width": 0.5
             },
             "pattern": {
              "fillmode": "overlay",
              "size": 10,
              "solidity": 0.2
             }
            },
            "type": "barpolar"
           }
          ],
          "carpet": [
           {
            "aaxis": {
             "endlinecolor": "#2a3f5f",
             "gridcolor": "white",
             "linecolor": "white",
             "minorgridcolor": "white",
             "startlinecolor": "#2a3f5f"
            },
            "baxis": {
             "endlinecolor": "#2a3f5f",
             "gridcolor": "white",
             "linecolor": "white",
             "minorgridcolor": "white",
             "startlinecolor": "#2a3f5f"
            },
            "type": "carpet"
           }
          ],
          "choropleth": [
           {
            "colorbar": {
             "outlinewidth": 0,
             "ticks": ""
            },
            "type": "choropleth"
           }
          ],
          "contour": [
           {
            "colorbar": {
             "outlinewidth": 0,
             "ticks": ""
            },
            "colorscale": [
             [
              0,
              "#0d0887"
             ],
             [
              0.1111111111111111,
              "#46039f"
             ],
             [
              0.2222222222222222,
              "#7201a8"
             ],
             [
              0.3333333333333333,
              "#9c179e"
             ],
             [
              0.4444444444444444,
              "#bd3786"
             ],
             [
              0.5555555555555556,
              "#d8576b"
             ],
             [
              0.6666666666666666,
              "#ed7953"
             ],
             [
              0.7777777777777778,
              "#fb9f3a"
             ],
             [
              0.8888888888888888,
              "#fdca26"
             ],
             [
              1,
              "#f0f921"
             ]
            ],
            "type": "contour"
           }
          ],
          "contourcarpet": [
           {
            "colorbar": {
             "outlinewidth": 0,
             "ticks": ""
            },
            "type": "contourcarpet"
           }
          ],
          "heatmap": [
           {
            "colorbar": {
             "outlinewidth": 0,
             "ticks": ""
            },
            "colorscale": [
             [
              0,
              "#0d0887"
             ],
             [
              0.1111111111111111,
              "#46039f"
             ],
             [
              0.2222222222222222,
              "#7201a8"
             ],
             [
              0.3333333333333333,
              "#9c179e"
             ],
             [
              0.4444444444444444,
              "#bd3786"
             ],
             [
              0.5555555555555556,
              "#d8576b"
             ],
             [
              0.6666666666666666,
              "#ed7953"
             ],
             [
              0.7777777777777778,
              "#fb9f3a"
             ],
             [
              0.8888888888888888,
              "#fdca26"
             ],
             [
              1,
              "#f0f921"
             ]
            ],
            "type": "heatmap"
           }
          ],
          "heatmapgl": [
           {
            "colorbar": {
             "outlinewidth": 0,
             "ticks": ""
            },
            "colorscale": [
             [
              0,
              "#0d0887"
             ],
             [
              0.1111111111111111,
              "#46039f"
             ],
             [
              0.2222222222222222,
              "#7201a8"
             ],
             [
              0.3333333333333333,
              "#9c179e"
             ],
             [
              0.4444444444444444,
              "#bd3786"
             ],
             [
              0.5555555555555556,
              "#d8576b"
             ],
             [
              0.6666666666666666,
              "#ed7953"
             ],
             [
              0.7777777777777778,
              "#fb9f3a"
             ],
             [
              0.8888888888888888,
              "#fdca26"
             ],
             [
              1,
              "#f0f921"
             ]
            ],
            "type": "heatmapgl"
           }
          ],
          "histogram": [
           {
            "marker": {
             "pattern": {
              "fillmode": "overlay",
              "size": 10,
              "solidity": 0.2
             }
            },
            "type": "histogram"
           }
          ],
          "histogram2d": [
           {
            "colorbar": {
             "outlinewidth": 0,
             "ticks": ""
            },
            "colorscale": [
             [
              0,
              "#0d0887"
             ],
             [
              0.1111111111111111,
              "#46039f"
             ],
             [
              0.2222222222222222,
              "#7201a8"
             ],
             [
              0.3333333333333333,
              "#9c179e"
             ],
             [
              0.4444444444444444,
              "#bd3786"
             ],
             [
              0.5555555555555556,
              "#d8576b"
             ],
             [
              0.6666666666666666,
              "#ed7953"
             ],
             [
              0.7777777777777778,
              "#fb9f3a"
             ],
             [
              0.8888888888888888,
              "#fdca26"
             ],
             [
              1,
              "#f0f921"
             ]
            ],
            "type": "histogram2d"
           }
          ],
          "histogram2dcontour": [
           {
            "colorbar": {
             "outlinewidth": 0,
             "ticks": ""
            },
            "colorscale": [
             [
              0,
              "#0d0887"
             ],
             [
              0.1111111111111111,
              "#46039f"
             ],
             [
              0.2222222222222222,
              "#7201a8"
             ],
             [
              0.3333333333333333,
              "#9c179e"
             ],
             [
              0.4444444444444444,
              "#bd3786"
             ],
             [
              0.5555555555555556,
              "#d8576b"
             ],
             [
              0.6666666666666666,
              "#ed7953"
             ],
             [
              0.7777777777777778,
              "#fb9f3a"
             ],
             [
              0.8888888888888888,
              "#fdca26"
             ],
             [
              1,
              "#f0f921"
             ]
            ],
            "type": "histogram2dcontour"
           }
          ],
          "mesh3d": [
           {
            "colorbar": {
             "outlinewidth": 0,
             "ticks": ""
            },
            "type": "mesh3d"
           }
          ],
          "parcoords": [
           {
            "line": {
             "colorbar": {
              "outlinewidth": 0,
              "ticks": ""
             }
            },
            "type": "parcoords"
           }
          ],
          "pie": [
           {
            "automargin": true,
            "type": "pie"
           }
          ],
          "scatter": [
           {
            "fillpattern": {
             "fillmode": "overlay",
             "size": 10,
             "solidity": 0.2
            },
            "type": "scatter"
           }
          ],
          "scatter3d": [
           {
            "line": {
             "colorbar": {
              "outlinewidth": 0,
              "ticks": ""
             }
            },
            "marker": {
             "colorbar": {
              "outlinewidth": 0,
              "ticks": ""
             }
            },
            "type": "scatter3d"
           }
          ],
          "scattercarpet": [
           {
            "marker": {
             "colorbar": {
              "outlinewidth": 0,
              "ticks": ""
             }
            },
            "type": "scattercarpet"
           }
          ],
          "scattergeo": [
           {
            "marker": {
             "colorbar": {
              "outlinewidth": 0,
              "ticks": ""
             }
            },
            "type": "scattergeo"
           }
          ],
          "scattergl": [
           {
            "marker": {
             "colorbar": {
              "outlinewidth": 0,
              "ticks": ""
             }
            },
            "type": "scattergl"
           }
          ],
          "scattermapbox": [
           {
            "marker": {
             "colorbar": {
              "outlinewidth": 0,
              "ticks": ""
             }
            },
            "type": "scattermapbox"
           }
          ],
          "scatterpolar": [
           {
            "marker": {
             "colorbar": {
              "outlinewidth": 0,
              "ticks": ""
             }
            },
            "type": "scatterpolar"
           }
          ],
          "scatterpolargl": [
           {
            "marker": {
             "colorbar": {
              "outlinewidth": 0,
              "ticks": ""
             }
            },
            "type": "scatterpolargl"
           }
          ],
          "scatterternary": [
           {
            "marker": {
             "colorbar": {
              "outlinewidth": 0,
              "ticks": ""
             }
            },
            "type": "scatterternary"
           }
          ],
          "surface": [
           {
            "colorbar": {
             "outlinewidth": 0,
             "ticks": ""
            },
            "colorscale": [
             [
              0,
              "#0d0887"
             ],
             [
              0.1111111111111111,
              "#46039f"
             ],
             [
              0.2222222222222222,
              "#7201a8"
             ],
             [
              0.3333333333333333,
              "#9c179e"
             ],
             [
              0.4444444444444444,
              "#bd3786"
             ],
             [
              0.5555555555555556,
              "#d8576b"
             ],
             [
              0.6666666666666666,
              "#ed7953"
             ],
             [
              0.7777777777777778,
              "#fb9f3a"
             ],
             [
              0.8888888888888888,
              "#fdca26"
             ],
             [
              1,
              "#f0f921"
             ]
            ],
            "type": "surface"
           }
          ],
          "table": [
           {
            "cells": {
             "fill": {
              "color": "#EBF0F8"
             },
             "line": {
              "color": "white"
             }
            },
            "header": {
             "fill": {
              "color": "#C8D4E3"
             },
             "line": {
              "color": "white"
             }
            },
            "type": "table"
           }
          ]
         },
         "layout": {
          "annotationdefaults": {
           "arrowcolor": "#2a3f5f",
           "arrowhead": 0,
           "arrowwidth": 1
          },
          "autotypenumbers": "strict",
          "coloraxis": {
           "colorbar": {
            "outlinewidth": 0,
            "ticks": ""
           }
          },
          "colorscale": {
           "diverging": [
            [
             0,
             "#8e0152"
            ],
            [
             0.1,
             "#c51b7d"
            ],
            [
             0.2,
             "#de77ae"
            ],
            [
             0.3,
             "#f1b6da"
            ],
            [
             0.4,
             "#fde0ef"
            ],
            [
             0.5,
             "#f7f7f7"
            ],
            [
             0.6,
             "#e6f5d0"
            ],
            [
             0.7,
             "#b8e186"
            ],
            [
             0.8,
             "#7fbc41"
            ],
            [
             0.9,
             "#4d9221"
            ],
            [
             1,
             "#276419"
            ]
           ],
           "sequential": [
            [
             0,
             "#0d0887"
            ],
            [
             0.1111111111111111,
             "#46039f"
            ],
            [
             0.2222222222222222,
             "#7201a8"
            ],
            [
             0.3333333333333333,
             "#9c179e"
            ],
            [
             0.4444444444444444,
             "#bd3786"
            ],
            [
             0.5555555555555556,
             "#d8576b"
            ],
            [
             0.6666666666666666,
             "#ed7953"
            ],
            [
             0.7777777777777778,
             "#fb9f3a"
            ],
            [
             0.8888888888888888,
             "#fdca26"
            ],
            [
             1,
             "#f0f921"
            ]
           ],
           "sequentialminus": [
            [
             0,
             "#0d0887"
            ],
            [
             0.1111111111111111,
             "#46039f"
            ],
            [
             0.2222222222222222,
             "#7201a8"
            ],
            [
             0.3333333333333333,
             "#9c179e"
            ],
            [
             0.4444444444444444,
             "#bd3786"
            ],
            [
             0.5555555555555556,
             "#d8576b"
            ],
            [
             0.6666666666666666,
             "#ed7953"
            ],
            [
             0.7777777777777778,
             "#fb9f3a"
            ],
            [
             0.8888888888888888,
             "#fdca26"
            ],
            [
             1,
             "#f0f921"
            ]
           ]
          },
          "colorway": [
           "#636efa",
           "#EF553B",
           "#00cc96",
           "#ab63fa",
           "#FFA15A",
           "#19d3f3",
           "#FF6692",
           "#B6E880",
           "#FF97FF",
           "#FECB52"
          ],
          "font": {
           "color": "#2a3f5f"
          },
          "geo": {
           "bgcolor": "white",
           "lakecolor": "white",
           "landcolor": "#E5ECF6",
           "showlakes": true,
           "showland": true,
           "subunitcolor": "white"
          },
          "hoverlabel": {
           "align": "left"
          },
          "hovermode": "closest",
          "mapbox": {
           "style": "light"
          },
          "paper_bgcolor": "white",
          "plot_bgcolor": "#E5ECF6",
          "polar": {
           "angularaxis": {
            "gridcolor": "white",
            "linecolor": "white",
            "ticks": ""
           },
           "bgcolor": "#E5ECF6",
           "radialaxis": {
            "gridcolor": "white",
            "linecolor": "white",
            "ticks": ""
           }
          },
          "scene": {
           "xaxis": {
            "backgroundcolor": "#E5ECF6",
            "gridcolor": "white",
            "gridwidth": 2,
            "linecolor": "white",
            "showbackground": true,
            "ticks": "",
            "zerolinecolor": "white"
           },
           "yaxis": {
            "backgroundcolor": "#E5ECF6",
            "gridcolor": "white",
            "gridwidth": 2,
            "linecolor": "white",
            "showbackground": true,
            "ticks": "",
            "zerolinecolor": "white"
           },
           "zaxis": {
            "backgroundcolor": "#E5ECF6",
            "gridcolor": "white",
            "gridwidth": 2,
            "linecolor": "white",
            "showbackground": true,
            "ticks": "",
            "zerolinecolor": "white"
           }
          },
          "shapedefaults": {
           "line": {
            "color": "#2a3f5f"
           }
          },
          "ternary": {
           "aaxis": {
            "gridcolor": "white",
            "linecolor": "white",
            "ticks": ""
           },
           "baxis": {
            "gridcolor": "white",
            "linecolor": "white",
            "ticks": ""
           },
           "bgcolor": "#E5ECF6",
           "caxis": {
            "gridcolor": "white",
            "linecolor": "white",
            "ticks": ""
           }
          },
          "title": {
           "x": 0.05
          },
          "xaxis": {
           "automargin": true,
           "gridcolor": "white",
           "linecolor": "white",
           "ticks": "",
           "title": {
            "standoff": 15
           },
           "zerolinecolor": "white",
           "zerolinewidth": 2
          },
          "yaxis": {
           "automargin": true,
           "gridcolor": "white",
           "linecolor": "white",
           "ticks": "",
           "title": {
            "standoff": 15
           },
           "zerolinecolor": "white",
           "zerolinewidth": 2
          }
         }
        },
        "title": {
         "text": "Zeitverteilung, n=199 von 203, t < 100 Minuten"
        },
        "xaxis": {
         "title": {
          "text": "Zeitverteilung nach Gefühlsentwicklung"
         }
        },
        "yaxis": {
         "title": {
          "text": "Dauer des Tests in Sekunden"
         }
        }
       }
      }
     },
     "metadata": {},
     "output_type": "display_data"
    },
    {
     "data": {
      "application/vnd.plotly.v1+json": {
       "config": {
        "plotlyServerURL": "https://plot.ly"
       },
       "data": [
        {
         "cells": {
          "align": [
           "left",
           "center"
          ],
          "fill": {
           "color": [
            [
             "white",
             "lightgrey",
             "white",
             "lightgrey",
             "white",
             "white",
             "lightgrey",
             "white",
             "lightgrey",
             "white",
             "white",
             "lightgrey",
             "white",
             "lightgrey",
             "white",
             "white",
             "lightgrey",
             "white",
             "lightgrey",
             "white",
             "white",
             "lightgrey",
             "white",
             "lightgrey",
             "white"
            ]
           ]
          },
          "font": {
           "color": "darkslategray",
           "size": 11
          },
          "line": {
           "color": "darkslategray"
          },
          "values": [
           [
            "<b>Maximum</b>",
            "<b>Oberes Quartil</b>",
            "<b>Median</b>",
            "<b>Unteres Quartil</b>",
            "<b>Minimum</b>"
           ],
           [
            4367,
            2505,
            2015,
            1253,
            319
           ],
           [
            4083,
            2494,
            1983,
            1272,
            424
           ],
           [
            3682,
            2919,
            2213,
            1669,
            319
           ],
           [
            4414,
            2350,
            1312,
            818,
            393
           ]
          ]
         },
         "header": {
          "align": [
           "left",
           "center"
          ],
          "fill": {
           "color": "grey"
          },
          "font": {
           "color": "white",
           "size": 12
          },
          "line": {
           "color": "darkslategray"
          },
          "values": [
           "<b>Kennwert</b>",
           "<b>alle Teilnehmer:innen</b>",
           "<b>stabile Gefühlsentwicklung</b>",
           "<b>Verbesserung d. Gefühlsentwicklung</b>",
           "<b>Verschlechterung d. Gefühlsentwicklung</b>"
          ]
         },
         "type": "table"
        }
       ],
       "layout": {
        "font": {
         "family": "Frutiger Next LT W1G, Gill Sans, sans-serif",
         "size": 12
        },
        "template": {
         "data": {
          "bar": [
           {
            "error_x": {
             "color": "#2a3f5f"
            },
            "error_y": {
             "color": "#2a3f5f"
            },
            "marker": {
             "line": {
              "color": "#E5ECF6",
              "width": 0.5
             },
             "pattern": {
              "fillmode": "overlay",
              "size": 10,
              "solidity": 0.2
             }
            },
            "type": "bar"
           }
          ],
          "barpolar": [
           {
            "marker": {
             "line": {
              "color": "#E5ECF6",
              "width": 0.5
             },
             "pattern": {
              "fillmode": "overlay",
              "size": 10,
              "solidity": 0.2
             }
            },
            "type": "barpolar"
           }
          ],
          "carpet": [
           {
            "aaxis": {
             "endlinecolor": "#2a3f5f",
             "gridcolor": "white",
             "linecolor": "white",
             "minorgridcolor": "white",
             "startlinecolor": "#2a3f5f"
            },
            "baxis": {
             "endlinecolor": "#2a3f5f",
             "gridcolor": "white",
             "linecolor": "white",
             "minorgridcolor": "white",
             "startlinecolor": "#2a3f5f"
            },
            "type": "carpet"
           }
          ],
          "choropleth": [
           {
            "colorbar": {
             "outlinewidth": 0,
             "ticks": ""
            },
            "type": "choropleth"
           }
          ],
          "contour": [
           {
            "colorbar": {
             "outlinewidth": 0,
             "ticks": ""
            },
            "colorscale": [
             [
              0,
              "#0d0887"
             ],
             [
              0.1111111111111111,
              "#46039f"
             ],
             [
              0.2222222222222222,
              "#7201a8"
             ],
             [
              0.3333333333333333,
              "#9c179e"
             ],
             [
              0.4444444444444444,
              "#bd3786"
             ],
             [
              0.5555555555555556,
              "#d8576b"
             ],
             [
              0.6666666666666666,
              "#ed7953"
             ],
             [
              0.7777777777777778,
              "#fb9f3a"
             ],
             [
              0.8888888888888888,
              "#fdca26"
             ],
             [
              1,
              "#f0f921"
             ]
            ],
            "type": "contour"
           }
          ],
          "contourcarpet": [
           {
            "colorbar": {
             "outlinewidth": 0,
             "ticks": ""
            },
            "type": "contourcarpet"
           }
          ],
          "heatmap": [
           {
            "colorbar": {
             "outlinewidth": 0,
             "ticks": ""
            },
            "colorscale": [
             [
              0,
              "#0d0887"
             ],
             [
              0.1111111111111111,
              "#46039f"
             ],
             [
              0.2222222222222222,
              "#7201a8"
             ],
             [
              0.3333333333333333,
              "#9c179e"
             ],
             [
              0.4444444444444444,
              "#bd3786"
             ],
             [
              0.5555555555555556,
              "#d8576b"
             ],
             [
              0.6666666666666666,
              "#ed7953"
             ],
             [
              0.7777777777777778,
              "#fb9f3a"
             ],
             [
              0.8888888888888888,
              "#fdca26"
             ],
             [
              1,
              "#f0f921"
             ]
            ],
            "type": "heatmap"
           }
          ],
          "heatmapgl": [
           {
            "colorbar": {
             "outlinewidth": 0,
             "ticks": ""
            },
            "colorscale": [
             [
              0,
              "#0d0887"
             ],
             [
              0.1111111111111111,
              "#46039f"
             ],
             [
              0.2222222222222222,
              "#7201a8"
             ],
             [
              0.3333333333333333,
              "#9c179e"
             ],
             [
              0.4444444444444444,
              "#bd3786"
             ],
             [
              0.5555555555555556,
              "#d8576b"
             ],
             [
              0.6666666666666666,
              "#ed7953"
             ],
             [
              0.7777777777777778,
              "#fb9f3a"
             ],
             [
              0.8888888888888888,
              "#fdca26"
             ],
             [
              1,
              "#f0f921"
             ]
            ],
            "type": "heatmapgl"
           }
          ],
          "histogram": [
           {
            "marker": {
             "pattern": {
              "fillmode": "overlay",
              "size": 10,
              "solidity": 0.2
             }
            },
            "type": "histogram"
           }
          ],
          "histogram2d": [
           {
            "colorbar": {
             "outlinewidth": 0,
             "ticks": ""
            },
            "colorscale": [
             [
              0,
              "#0d0887"
             ],
             [
              0.1111111111111111,
              "#46039f"
             ],
             [
              0.2222222222222222,
              "#7201a8"
             ],
             [
              0.3333333333333333,
              "#9c179e"
             ],
             [
              0.4444444444444444,
              "#bd3786"
             ],
             [
              0.5555555555555556,
              "#d8576b"
             ],
             [
              0.6666666666666666,
              "#ed7953"
             ],
             [
              0.7777777777777778,
              "#fb9f3a"
             ],
             [
              0.8888888888888888,
              "#fdca26"
             ],
             [
              1,
              "#f0f921"
             ]
            ],
            "type": "histogram2d"
           }
          ],
          "histogram2dcontour": [
           {
            "colorbar": {
             "outlinewidth": 0,
             "ticks": ""
            },
            "colorscale": [
             [
              0,
              "#0d0887"
             ],
             [
              0.1111111111111111,
              "#46039f"
             ],
             [
              0.2222222222222222,
              "#7201a8"
             ],
             [
              0.3333333333333333,
              "#9c179e"
             ],
             [
              0.4444444444444444,
              "#bd3786"
             ],
             [
              0.5555555555555556,
              "#d8576b"
             ],
             [
              0.6666666666666666,
              "#ed7953"
             ],
             [
              0.7777777777777778,
              "#fb9f3a"
             ],
             [
              0.8888888888888888,
              "#fdca26"
             ],
             [
              1,
              "#f0f921"
             ]
            ],
            "type": "histogram2dcontour"
           }
          ],
          "mesh3d": [
           {
            "colorbar": {
             "outlinewidth": 0,
             "ticks": ""
            },
            "type": "mesh3d"
           }
          ],
          "parcoords": [
           {
            "line": {
             "colorbar": {
              "outlinewidth": 0,
              "ticks": ""
             }
            },
            "type": "parcoords"
           }
          ],
          "pie": [
           {
            "automargin": true,
            "type": "pie"
           }
          ],
          "scatter": [
           {
            "fillpattern": {
             "fillmode": "overlay",
             "size": 10,
             "solidity": 0.2
            },
            "type": "scatter"
           }
          ],
          "scatter3d": [
           {
            "line": {
             "colorbar": {
              "outlinewidth": 0,
              "ticks": ""
             }
            },
            "marker": {
             "colorbar": {
              "outlinewidth": 0,
              "ticks": ""
             }
            },
            "type": "scatter3d"
           }
          ],
          "scattercarpet": [
           {
            "marker": {
             "colorbar": {
              "outlinewidth": 0,
              "ticks": ""
             }
            },
            "type": "scattercarpet"
           }
          ],
          "scattergeo": [
           {
            "marker": {
             "colorbar": {
              "outlinewidth": 0,
              "ticks": ""
             }
            },
            "type": "scattergeo"
           }
          ],
          "scattergl": [
           {
            "marker": {
             "colorbar": {
              "outlinewidth": 0,
              "ticks": ""
             }
            },
            "type": "scattergl"
           }
          ],
          "scattermapbox": [
           {
            "marker": {
             "colorbar": {
              "outlinewidth": 0,
              "ticks": ""
             }
            },
            "type": "scattermapbox"
           }
          ],
          "scatterpolar": [
           {
            "marker": {
             "colorbar": {
              "outlinewidth": 0,
              "ticks": ""
             }
            },
            "type": "scatterpolar"
           }
          ],
          "scatterpolargl": [
           {
            "marker": {
             "colorbar": {
              "outlinewidth": 0,
              "ticks": ""
             }
            },
            "type": "scatterpolargl"
           }
          ],
          "scatterternary": [
           {
            "marker": {
             "colorbar": {
              "outlinewidth": 0,
              "ticks": ""
             }
            },
            "type": "scatterternary"
           }
          ],
          "surface": [
           {
            "colorbar": {
             "outlinewidth": 0,
             "ticks": ""
            },
            "colorscale": [
             [
              0,
              "#0d0887"
             ],
             [
              0.1111111111111111,
              "#46039f"
             ],
             [
              0.2222222222222222,
              "#7201a8"
             ],
             [
              0.3333333333333333,
              "#9c179e"
             ],
             [
              0.4444444444444444,
              "#bd3786"
             ],
             [
              0.5555555555555556,
              "#d8576b"
             ],
             [
              0.6666666666666666,
              "#ed7953"
             ],
             [
              0.7777777777777778,
              "#fb9f3a"
             ],
             [
              0.8888888888888888,
              "#fdca26"
             ],
             [
              1,
              "#f0f921"
             ]
            ],
            "type": "surface"
           }
          ],
          "table": [
           {
            "cells": {
             "fill": {
              "color": "#EBF0F8"
             },
             "line": {
              "color": "white"
             }
            },
            "header": {
             "fill": {
              "color": "#C8D4E3"
             },
             "line": {
              "color": "white"
             }
            },
            "type": "table"
           }
          ]
         },
         "layout": {
          "annotationdefaults": {
           "arrowcolor": "#2a3f5f",
           "arrowhead": 0,
           "arrowwidth": 1
          },
          "autotypenumbers": "strict",
          "coloraxis": {
           "colorbar": {
            "outlinewidth": 0,
            "ticks": ""
           }
          },
          "colorscale": {
           "diverging": [
            [
             0,
             "#8e0152"
            ],
            [
             0.1,
             "#c51b7d"
            ],
            [
             0.2,
             "#de77ae"
            ],
            [
             0.3,
             "#f1b6da"
            ],
            [
             0.4,
             "#fde0ef"
            ],
            [
             0.5,
             "#f7f7f7"
            ],
            [
             0.6,
             "#e6f5d0"
            ],
            [
             0.7,
             "#b8e186"
            ],
            [
             0.8,
             "#7fbc41"
            ],
            [
             0.9,
             "#4d9221"
            ],
            [
             1,
             "#276419"
            ]
           ],
           "sequential": [
            [
             0,
             "#0d0887"
            ],
            [
             0.1111111111111111,
             "#46039f"
            ],
            [
             0.2222222222222222,
             "#7201a8"
            ],
            [
             0.3333333333333333,
             "#9c179e"
            ],
            [
             0.4444444444444444,
             "#bd3786"
            ],
            [
             0.5555555555555556,
             "#d8576b"
            ],
            [
             0.6666666666666666,
             "#ed7953"
            ],
            [
             0.7777777777777778,
             "#fb9f3a"
            ],
            [
             0.8888888888888888,
             "#fdca26"
            ],
            [
             1,
             "#f0f921"
            ]
           ],
           "sequentialminus": [
            [
             0,
             "#0d0887"
            ],
            [
             0.1111111111111111,
             "#46039f"
            ],
            [
             0.2222222222222222,
             "#7201a8"
            ],
            [
             0.3333333333333333,
             "#9c179e"
            ],
            [
             0.4444444444444444,
             "#bd3786"
            ],
            [
             0.5555555555555556,
             "#d8576b"
            ],
            [
             0.6666666666666666,
             "#ed7953"
            ],
            [
             0.7777777777777778,
             "#fb9f3a"
            ],
            [
             0.8888888888888888,
             "#fdca26"
            ],
            [
             1,
             "#f0f921"
            ]
           ]
          },
          "colorway": [
           "#636efa",
           "#EF553B",
           "#00cc96",
           "#ab63fa",
           "#FFA15A",
           "#19d3f3",
           "#FF6692",
           "#B6E880",
           "#FF97FF",
           "#FECB52"
          ],
          "font": {
           "color": "#2a3f5f"
          },
          "geo": {
           "bgcolor": "white",
           "lakecolor": "white",
           "landcolor": "#E5ECF6",
           "showlakes": true,
           "showland": true,
           "subunitcolor": "white"
          },
          "hoverlabel": {
           "align": "left"
          },
          "hovermode": "closest",
          "mapbox": {
           "style": "light"
          },
          "paper_bgcolor": "white",
          "plot_bgcolor": "#E5ECF6",
          "polar": {
           "angularaxis": {
            "gridcolor": "white",
            "linecolor": "white",
            "ticks": ""
           },
           "bgcolor": "#E5ECF6",
           "radialaxis": {
            "gridcolor": "white",
            "linecolor": "white",
            "ticks": ""
           }
          },
          "scene": {
           "xaxis": {
            "backgroundcolor": "#E5ECF6",
            "gridcolor": "white",
            "gridwidth": 2,
            "linecolor": "white",
            "showbackground": true,
            "ticks": "",
            "zerolinecolor": "white"
           },
           "yaxis": {
            "backgroundcolor": "#E5ECF6",
            "gridcolor": "white",
            "gridwidth": 2,
            "linecolor": "white",
            "showbackground": true,
            "ticks": "",
            "zerolinecolor": "white"
           },
           "zaxis": {
            "backgroundcolor": "#E5ECF6",
            "gridcolor": "white",
            "gridwidth": 2,
            "linecolor": "white",
            "showbackground": true,
            "ticks": "",
            "zerolinecolor": "white"
           }
          },
          "shapedefaults": {
           "line": {
            "color": "#2a3f5f"
           }
          },
          "ternary": {
           "aaxis": {
            "gridcolor": "white",
            "linecolor": "white",
            "ticks": ""
           },
           "baxis": {
            "gridcolor": "white",
            "linecolor": "white",
            "ticks": ""
           },
           "bgcolor": "#E5ECF6",
           "caxis": {
            "gridcolor": "white",
            "linecolor": "white",
            "ticks": ""
           }
          },
          "title": {
           "x": 0.05
          },
          "xaxis": {
           "automargin": true,
           "gridcolor": "white",
           "linecolor": "white",
           "ticks": "",
           "title": {
            "standoff": 15
           },
           "zerolinecolor": "white",
           "zerolinewidth": 2
          },
          "yaxis": {
           "automargin": true,
           "gridcolor": "white",
           "linecolor": "white",
           "ticks": "",
           "title": {
            "standoff": 15
           },
           "zerolinecolor": "white",
           "zerolinewidth": 2
          }
         }
        },
        "title": {
         "text": "Zeitverteilung, n=199 von 203, t < 100 Minuten"
        },
        "yaxis": {
         "title": {
          "text": "Dauer des Tests in Sekunden"
         }
        }
       }
      }
     },
     "metadata": {},
     "output_type": "display_data"
    }
   ],
   "source": [
    "# Standard deviation time and mood\n",
    "# df = surveyData[['duration-shortest-val', 'mood-delta']]\n",
    "df = surveyData.loc[surveyData['duration-shortest-val'] < 6000][['duration-shortest-val', 'mood-delta']]\n",
    "\n",
    "# Label strings\n",
    "chartLabel = f\"Zeitverteilung, n={len(df)} von 203, t < 100 Minuten\"\n",
    "categoryGroups = [\"alle Teilnehmer:innen\", \"stabile Gefühlsentwicklung\", \"Verbesserung d. Gefühlsentwicklung\", \"Verschlechterung d. Gefühlsentwicklung\"]\n",
    "yLabel = \"Dauer des Tests in Sekunden\"\n",
    "fig = go.Figure()\n",
    "\n",
    "# Age over all\n",
    "fig.add_trace(go.Box(y=df['duration-shortest-val'], name=categoryGroups[0],\n",
    "                marker_color = urCdColors[0]))\n",
    "# Age preferred List\n",
    "fig.add_trace(go.Box(y=df[df['mood-delta'] == 0]['duration-shortest-val'], name=categoryGroups[1],\n",
    "                marker_color = urCdColors[1]))\n",
    "# Age preferred Chord\n",
    "fig.add_trace(go.Box(y=df[df['mood-delta'] >= 1]['duration-shortest-val'], name=categoryGroups[2],\n",
    "                marker_color = urCdColors[2]))\n",
    "# Age preferred Map\n",
    "fig.add_trace(go.Box(y=df[df['mood-delta'] <= -1]['duration-shortest-val'], name=categoryGroups[3],\n",
    "                marker_color = urCdColors[3]))\n",
    "fig.update_layout(\n",
    "    title=chartLabel,\n",
    "    xaxis_title=\"Zeitverteilung nach Gefühlsentwicklung\",\n",
    "    yaxis_title=yLabel,\n",
    "    # legend_title=\"Legend Title\",\n",
    "    font=dict(\n",
    "        family=\"Frutiger Next LT W1G, Gill Sans, sans-serif\",\n",
    "        size=12,\n",
    "        # color=\"RebeccaPurple\"\n",
    "    )\n",
    ")\n",
    "\n",
    "fig.update_layout(title_text=chartLabel)\n",
    "fig.show()\n",
    "\n",
    "# Table age\n",
    "fig = go.Figure(data=[go.Table(\n",
    "  header=dict(\n",
    "    values=['<b>Kennwert</b>', f\"<b>{categoryGroups[0]}</b>\", f\"<b>{categoryGroups[1]}</b>\", f\"<b>{categoryGroups[2]}</b>\", f\"<b>{categoryGroups[3]}</b>\"],\n",
    "    line_color='darkslategray',\n",
    "    fill_color=headerColor,\n",
    "    align=['left','center'],\n",
    "    font=dict(color='white', size=12)\n",
    "  ),\n",
    "  cells=dict(\n",
    "    values=[\n",
    "      ['<b>Maximum</b>', '<b>Oberes Quartil</b>', '<b>Median</b>', '<b>Unteres Quartil</b>', '<b>Minimum</b>'],\n",
    "      # TODO: GET DIRECT VALUES\n",
    "      [4367, 2505, 2015, 1253, 319],\n",
    "      [4083,2494, 1983, 1272, 424],\n",
    "      [3682, 2919, 2213, 1669, 319],\n",
    "      [4414, 2350, 1312, 818, 393]],\n",
    "    line_color='darkslategray',\n",
    "    # 2-D list of colors for alternating rows\n",
    "    fill_color = [[rowOddColor,rowEvenColor,rowOddColor, rowEvenColor,rowOddColor]*5],\n",
    "    align = ['left', 'center'],\n",
    "    font = dict(color = 'darkslategray', size = 11)\n",
    "    ))\n",
    "])\n",
    "\n",
    "fig.update_layout(\n",
    "    title=chartLabel,\n",
    "    yaxis_title=yLabel,\n",
    "    # legend_title=\"Legend Title\",\n",
    "    font=dict(\n",
    "        family=\"Frutiger Next LT W1G, Gill Sans, sans-serif\",\n",
    "        size=12,\n",
    "        # color=\"RebeccaPurple\"\n",
    "    )\n",
    ")\n",
    "\n",
    "fig.show()\n"
   ]
  },
  {
   "cell_type": "markdown",
   "metadata": {},
   "source": [
    "## Mood Development"
   ]
  },
  {
   "cell_type": "code",
   "execution_count": 10,
   "metadata": {},
   "outputs": [
    {
     "data": {
      "application/vnd.plotly.v1+json": {
       "config": {
        "plotlyServerURL": "https://plot.ly"
       },
       "data": [
        {
         "labels": [
          "Verschlechterung um 3 Grade",
          "Verschlechterung um 2 Grade",
          "Verschlechterung um 1 Grad",
          "Stabile Entwicklung",
          "Verbesserung um 1 Grad",
          "Verbesserung um 2 Grade"
         ],
         "marker": {
          "colors": [
           "rgb(156,0,75)",
           "rgb(0,155,119)",
           "rgb(0,135,178)",
           "rgb(174,167,0)",
           "rgb(236,98,0)",
           "rgb(191,0,42)",
           "rgb(79,184,0)",
           "rgb(0,137,147)",
           "rgb(0,85,106)",
           "rgb(205,211,15)",
           "rgb(236,188,0)"
          ]
         },
         "sort": false,
         "textinfo": "percent+label",
         "type": "pie",
         "values": [
          2,
          1,
          20,
          145,
          33,
          2
         ]
        }
       ],
       "layout": {
        "font": {
         "family": "Frutiger Next LT W1G, Gill Sans, sans-serif",
         "size": 12
        },
        "template": {
         "data": {
          "bar": [
           {
            "error_x": {
             "color": "#2a3f5f"
            },
            "error_y": {
             "color": "#2a3f5f"
            },
            "marker": {
             "line": {
              "color": "#E5ECF6",
              "width": 0.5
             },
             "pattern": {
              "fillmode": "overlay",
              "size": 10,
              "solidity": 0.2
             }
            },
            "type": "bar"
           }
          ],
          "barpolar": [
           {
            "marker": {
             "line": {
              "color": "#E5ECF6",
              "width": 0.5
             },
             "pattern": {
              "fillmode": "overlay",
              "size": 10,
              "solidity": 0.2
             }
            },
            "type": "barpolar"
           }
          ],
          "carpet": [
           {
            "aaxis": {
             "endlinecolor": "#2a3f5f",
             "gridcolor": "white",
             "linecolor": "white",
             "minorgridcolor": "white",
             "startlinecolor": "#2a3f5f"
            },
            "baxis": {
             "endlinecolor": "#2a3f5f",
             "gridcolor": "white",
             "linecolor": "white",
             "minorgridcolor": "white",
             "startlinecolor": "#2a3f5f"
            },
            "type": "carpet"
           }
          ],
          "choropleth": [
           {
            "colorbar": {
             "outlinewidth": 0,
             "ticks": ""
            },
            "type": "choropleth"
           }
          ],
          "contour": [
           {
            "colorbar": {
             "outlinewidth": 0,
             "ticks": ""
            },
            "colorscale": [
             [
              0,
              "#0d0887"
             ],
             [
              0.1111111111111111,
              "#46039f"
             ],
             [
              0.2222222222222222,
              "#7201a8"
             ],
             [
              0.3333333333333333,
              "#9c179e"
             ],
             [
              0.4444444444444444,
              "#bd3786"
             ],
             [
              0.5555555555555556,
              "#d8576b"
             ],
             [
              0.6666666666666666,
              "#ed7953"
             ],
             [
              0.7777777777777778,
              "#fb9f3a"
             ],
             [
              0.8888888888888888,
              "#fdca26"
             ],
             [
              1,
              "#f0f921"
             ]
            ],
            "type": "contour"
           }
          ],
          "contourcarpet": [
           {
            "colorbar": {
             "outlinewidth": 0,
             "ticks": ""
            },
            "type": "contourcarpet"
           }
          ],
          "heatmap": [
           {
            "colorbar": {
             "outlinewidth": 0,
             "ticks": ""
            },
            "colorscale": [
             [
              0,
              "#0d0887"
             ],
             [
              0.1111111111111111,
              "#46039f"
             ],
             [
              0.2222222222222222,
              "#7201a8"
             ],
             [
              0.3333333333333333,
              "#9c179e"
             ],
             [
              0.4444444444444444,
              "#bd3786"
             ],
             [
              0.5555555555555556,
              "#d8576b"
             ],
             [
              0.6666666666666666,
              "#ed7953"
             ],
             [
              0.7777777777777778,
              "#fb9f3a"
             ],
             [
              0.8888888888888888,
              "#fdca26"
             ],
             [
              1,
              "#f0f921"
             ]
            ],
            "type": "heatmap"
           }
          ],
          "heatmapgl": [
           {
            "colorbar": {
             "outlinewidth": 0,
             "ticks": ""
            },
            "colorscale": [
             [
              0,
              "#0d0887"
             ],
             [
              0.1111111111111111,
              "#46039f"
             ],
             [
              0.2222222222222222,
              "#7201a8"
             ],
             [
              0.3333333333333333,
              "#9c179e"
             ],
             [
              0.4444444444444444,
              "#bd3786"
             ],
             [
              0.5555555555555556,
              "#d8576b"
             ],
             [
              0.6666666666666666,
              "#ed7953"
             ],
             [
              0.7777777777777778,
              "#fb9f3a"
             ],
             [
              0.8888888888888888,
              "#fdca26"
             ],
             [
              1,
              "#f0f921"
             ]
            ],
            "type": "heatmapgl"
           }
          ],
          "histogram": [
           {
            "marker": {
             "pattern": {
              "fillmode": "overlay",
              "size": 10,
              "solidity": 0.2
             }
            },
            "type": "histogram"
           }
          ],
          "histogram2d": [
           {
            "colorbar": {
             "outlinewidth": 0,
             "ticks": ""
            },
            "colorscale": [
             [
              0,
              "#0d0887"
             ],
             [
              0.1111111111111111,
              "#46039f"
             ],
             [
              0.2222222222222222,
              "#7201a8"
             ],
             [
              0.3333333333333333,
              "#9c179e"
             ],
             [
              0.4444444444444444,
              "#bd3786"
             ],
             [
              0.5555555555555556,
              "#d8576b"
             ],
             [
              0.6666666666666666,
              "#ed7953"
             ],
             [
              0.7777777777777778,
              "#fb9f3a"
             ],
             [
              0.8888888888888888,
              "#fdca26"
             ],
             [
              1,
              "#f0f921"
             ]
            ],
            "type": "histogram2d"
           }
          ],
          "histogram2dcontour": [
           {
            "colorbar": {
             "outlinewidth": 0,
             "ticks": ""
            },
            "colorscale": [
             [
              0,
              "#0d0887"
             ],
             [
              0.1111111111111111,
              "#46039f"
             ],
             [
              0.2222222222222222,
              "#7201a8"
             ],
             [
              0.3333333333333333,
              "#9c179e"
             ],
             [
              0.4444444444444444,
              "#bd3786"
             ],
             [
              0.5555555555555556,
              "#d8576b"
             ],
             [
              0.6666666666666666,
              "#ed7953"
             ],
             [
              0.7777777777777778,
              "#fb9f3a"
             ],
             [
              0.8888888888888888,
              "#fdca26"
             ],
             [
              1,
              "#f0f921"
             ]
            ],
            "type": "histogram2dcontour"
           }
          ],
          "mesh3d": [
           {
            "colorbar": {
             "outlinewidth": 0,
             "ticks": ""
            },
            "type": "mesh3d"
           }
          ],
          "parcoords": [
           {
            "line": {
             "colorbar": {
              "outlinewidth": 0,
              "ticks": ""
             }
            },
            "type": "parcoords"
           }
          ],
          "pie": [
           {
            "automargin": true,
            "type": "pie"
           }
          ],
          "scatter": [
           {
            "fillpattern": {
             "fillmode": "overlay",
             "size": 10,
             "solidity": 0.2
            },
            "type": "scatter"
           }
          ],
          "scatter3d": [
           {
            "line": {
             "colorbar": {
              "outlinewidth": 0,
              "ticks": ""
             }
            },
            "marker": {
             "colorbar": {
              "outlinewidth": 0,
              "ticks": ""
             }
            },
            "type": "scatter3d"
           }
          ],
          "scattercarpet": [
           {
            "marker": {
             "colorbar": {
              "outlinewidth": 0,
              "ticks": ""
             }
            },
            "type": "scattercarpet"
           }
          ],
          "scattergeo": [
           {
            "marker": {
             "colorbar": {
              "outlinewidth": 0,
              "ticks": ""
             }
            },
            "type": "scattergeo"
           }
          ],
          "scattergl": [
           {
            "marker": {
             "colorbar": {
              "outlinewidth": 0,
              "ticks": ""
             }
            },
            "type": "scattergl"
           }
          ],
          "scattermapbox": [
           {
            "marker": {
             "colorbar": {
              "outlinewidth": 0,
              "ticks": ""
             }
            },
            "type": "scattermapbox"
           }
          ],
          "scatterpolar": [
           {
            "marker": {
             "colorbar": {
              "outlinewidth": 0,
              "ticks": ""
             }
            },
            "type": "scatterpolar"
           }
          ],
          "scatterpolargl": [
           {
            "marker": {
             "colorbar": {
              "outlinewidth": 0,
              "ticks": ""
             }
            },
            "type": "scatterpolargl"
           }
          ],
          "scatterternary": [
           {
            "marker": {
             "colorbar": {
              "outlinewidth": 0,
              "ticks": ""
             }
            },
            "type": "scatterternary"
           }
          ],
          "surface": [
           {
            "colorbar": {
             "outlinewidth": 0,
             "ticks": ""
            },
            "colorscale": [
             [
              0,
              "#0d0887"
             ],
             [
              0.1111111111111111,
              "#46039f"
             ],
             [
              0.2222222222222222,
              "#7201a8"
             ],
             [
              0.3333333333333333,
              "#9c179e"
             ],
             [
              0.4444444444444444,
              "#bd3786"
             ],
             [
              0.5555555555555556,
              "#d8576b"
             ],
             [
              0.6666666666666666,
              "#ed7953"
             ],
             [
              0.7777777777777778,
              "#fb9f3a"
             ],
             [
              0.8888888888888888,
              "#fdca26"
             ],
             [
              1,
              "#f0f921"
             ]
            ],
            "type": "surface"
           }
          ],
          "table": [
           {
            "cells": {
             "fill": {
              "color": "#EBF0F8"
             },
             "line": {
              "color": "white"
             }
            },
            "header": {
             "fill": {
              "color": "#C8D4E3"
             },
             "line": {
              "color": "white"
             }
            },
            "type": "table"
           }
          ]
         },
         "layout": {
          "annotationdefaults": {
           "arrowcolor": "#2a3f5f",
           "arrowhead": 0,
           "arrowwidth": 1
          },
          "autotypenumbers": "strict",
          "coloraxis": {
           "colorbar": {
            "outlinewidth": 0,
            "ticks": ""
           }
          },
          "colorscale": {
           "diverging": [
            [
             0,
             "#8e0152"
            ],
            [
             0.1,
             "#c51b7d"
            ],
            [
             0.2,
             "#de77ae"
            ],
            [
             0.3,
             "#f1b6da"
            ],
            [
             0.4,
             "#fde0ef"
            ],
            [
             0.5,
             "#f7f7f7"
            ],
            [
             0.6,
             "#e6f5d0"
            ],
            [
             0.7,
             "#b8e186"
            ],
            [
             0.8,
             "#7fbc41"
            ],
            [
             0.9,
             "#4d9221"
            ],
            [
             1,
             "#276419"
            ]
           ],
           "sequential": [
            [
             0,
             "#0d0887"
            ],
            [
             0.1111111111111111,
             "#46039f"
            ],
            [
             0.2222222222222222,
             "#7201a8"
            ],
            [
             0.3333333333333333,
             "#9c179e"
            ],
            [
             0.4444444444444444,
             "#bd3786"
            ],
            [
             0.5555555555555556,
             "#d8576b"
            ],
            [
             0.6666666666666666,
             "#ed7953"
            ],
            [
             0.7777777777777778,
             "#fb9f3a"
            ],
            [
             0.8888888888888888,
             "#fdca26"
            ],
            [
             1,
             "#f0f921"
            ]
           ],
           "sequentialminus": [
            [
             0,
             "#0d0887"
            ],
            [
             0.1111111111111111,
             "#46039f"
            ],
            [
             0.2222222222222222,
             "#7201a8"
            ],
            [
             0.3333333333333333,
             "#9c179e"
            ],
            [
             0.4444444444444444,
             "#bd3786"
            ],
            [
             0.5555555555555556,
             "#d8576b"
            ],
            [
             0.6666666666666666,
             "#ed7953"
            ],
            [
             0.7777777777777778,
             "#fb9f3a"
            ],
            [
             0.8888888888888888,
             "#fdca26"
            ],
            [
             1,
             "#f0f921"
            ]
           ]
          },
          "colorway": [
           "#636efa",
           "#EF553B",
           "#00cc96",
           "#ab63fa",
           "#FFA15A",
           "#19d3f3",
           "#FF6692",
           "#B6E880",
           "#FF97FF",
           "#FECB52"
          ],
          "font": {
           "color": "#2a3f5f"
          },
          "geo": {
           "bgcolor": "white",
           "lakecolor": "white",
           "landcolor": "#E5ECF6",
           "showlakes": true,
           "showland": true,
           "subunitcolor": "white"
          },
          "hoverlabel": {
           "align": "left"
          },
          "hovermode": "closest",
          "mapbox": {
           "style": "light"
          },
          "paper_bgcolor": "white",
          "plot_bgcolor": "#E5ECF6",
          "polar": {
           "angularaxis": {
            "gridcolor": "white",
            "linecolor": "white",
            "ticks": ""
           },
           "bgcolor": "#E5ECF6",
           "radialaxis": {
            "gridcolor": "white",
            "linecolor": "white",
            "ticks": ""
           }
          },
          "scene": {
           "xaxis": {
            "backgroundcolor": "#E5ECF6",
            "gridcolor": "white",
            "gridwidth": 2,
            "linecolor": "white",
            "showbackground": true,
            "ticks": "",
            "zerolinecolor": "white"
           },
           "yaxis": {
            "backgroundcolor": "#E5ECF6",
            "gridcolor": "white",
            "gridwidth": 2,
            "linecolor": "white",
            "showbackground": true,
            "ticks": "",
            "zerolinecolor": "white"
           },
           "zaxis": {
            "backgroundcolor": "#E5ECF6",
            "gridcolor": "white",
            "gridwidth": 2,
            "linecolor": "white",
            "showbackground": true,
            "ticks": "",
            "zerolinecolor": "white"
           }
          },
          "shapedefaults": {
           "line": {
            "color": "#2a3f5f"
           }
          },
          "ternary": {
           "aaxis": {
            "gridcolor": "white",
            "linecolor": "white",
            "ticks": ""
           },
           "baxis": {
            "gridcolor": "white",
            "linecolor": "white",
            "ticks": ""
           },
           "bgcolor": "#E5ECF6",
           "caxis": {
            "gridcolor": "white",
            "linecolor": "white",
            "ticks": ""
           }
          },
          "title": {
           "x": 0.05
          },
          "xaxis": {
           "automargin": true,
           "gridcolor": "white",
           "linecolor": "white",
           "ticks": "",
           "title": {
            "standoff": 15
           },
           "zerolinecolor": "white",
           "zerolinewidth": 2
          },
          "yaxis": {
           "automargin": true,
           "gridcolor": "white",
           "linecolor": "white",
           "ticks": "",
           "title": {
            "standoff": 15
           },
           "zerolinecolor": "white",
           "zerolinewidth": 2
          }
         }
        },
        "title": {
         "text": "Gefühlsentwicklung der Teilnehmer:innen, n=203"
        },
        "yaxis": {
         "title": {
          "text": "Dauer des Tests in Sekunden"
         }
        }
       }
      }
     },
     "metadata": {},
     "output_type": "display_data"
    },
    {
     "data": {
      "application/vnd.plotly.v1+json": {
       "config": {
        "plotlyServerURL": "https://plot.ly"
       },
       "data": [
        {
         "cells": {
          "align": [
           "left",
           "center"
          ],
          "fill": {
           "color": [
            [
             "white",
             "lightgrey",
             "white",
             "lightgrey",
             "white",
             "white",
             "lightgrey",
             "white",
             "lightgrey",
             "white",
             "white",
             "lightgrey",
             "white",
             "lightgrey",
             "white",
             "white",
             "lightgrey",
             "white",
             "lightgrey",
             "white",
             "white",
             "lightgrey",
             "white",
             "lightgrey",
             "white"
            ]
           ]
          },
          "font": {
           "color": "darkslategray",
           "size": 11
          },
          "line": {
           "color": "darkslategray"
          },
          "values": [
           [
            "<b>Anzahl</b>"
           ],
           [
            2
           ],
           [
            1
           ],
           [
            20
           ],
           [
            145
           ],
           [
            33
           ],
           [
            2
           ]
          ]
         },
         "header": {
          "align": [
           "left",
           "center"
          ],
          "fill": {
           "color": "grey"
          },
          "font": {
           "color": "white",
           "size": 12
          },
          "line": {
           "color": "darkslategray"
          },
          "values": [
           "<b>Gefühlsentwicklung</b>",
           "<b>Verschlechterung um 3 Grade</b>",
           "<b>Verschlechterung um 2 Grade</b>",
           "<b>Verschlechterung um 1 Grad</b>",
           "<b>Stabile Entwicklung</b>",
           "<b>Verbesserung um 1 Grad</b>",
           "<b>Verbesserung um 2 Grade</b>"
          ]
         },
         "type": "table"
        }
       ],
       "layout": {
        "font": {
         "family": "Frutiger Next LT W1G, Gill Sans, sans-serif",
         "size": 12
        },
        "template": {
         "data": {
          "bar": [
           {
            "error_x": {
             "color": "#2a3f5f"
            },
            "error_y": {
             "color": "#2a3f5f"
            },
            "marker": {
             "line": {
              "color": "#E5ECF6",
              "width": 0.5
             },
             "pattern": {
              "fillmode": "overlay",
              "size": 10,
              "solidity": 0.2
             }
            },
            "type": "bar"
           }
          ],
          "barpolar": [
           {
            "marker": {
             "line": {
              "color": "#E5ECF6",
              "width": 0.5
             },
             "pattern": {
              "fillmode": "overlay",
              "size": 10,
              "solidity": 0.2
             }
            },
            "type": "barpolar"
           }
          ],
          "carpet": [
           {
            "aaxis": {
             "endlinecolor": "#2a3f5f",
             "gridcolor": "white",
             "linecolor": "white",
             "minorgridcolor": "white",
             "startlinecolor": "#2a3f5f"
            },
            "baxis": {
             "endlinecolor": "#2a3f5f",
             "gridcolor": "white",
             "linecolor": "white",
             "minorgridcolor": "white",
             "startlinecolor": "#2a3f5f"
            },
            "type": "carpet"
           }
          ],
          "choropleth": [
           {
            "colorbar": {
             "outlinewidth": 0,
             "ticks": ""
            },
            "type": "choropleth"
           }
          ],
          "contour": [
           {
            "colorbar": {
             "outlinewidth": 0,
             "ticks": ""
            },
            "colorscale": [
             [
              0,
              "#0d0887"
             ],
             [
              0.1111111111111111,
              "#46039f"
             ],
             [
              0.2222222222222222,
              "#7201a8"
             ],
             [
              0.3333333333333333,
              "#9c179e"
             ],
             [
              0.4444444444444444,
              "#bd3786"
             ],
             [
              0.5555555555555556,
              "#d8576b"
             ],
             [
              0.6666666666666666,
              "#ed7953"
             ],
             [
              0.7777777777777778,
              "#fb9f3a"
             ],
             [
              0.8888888888888888,
              "#fdca26"
             ],
             [
              1,
              "#f0f921"
             ]
            ],
            "type": "contour"
           }
          ],
          "contourcarpet": [
           {
            "colorbar": {
             "outlinewidth": 0,
             "ticks": ""
            },
            "type": "contourcarpet"
           }
          ],
          "heatmap": [
           {
            "colorbar": {
             "outlinewidth": 0,
             "ticks": ""
            },
            "colorscale": [
             [
              0,
              "#0d0887"
             ],
             [
              0.1111111111111111,
              "#46039f"
             ],
             [
              0.2222222222222222,
              "#7201a8"
             ],
             [
              0.3333333333333333,
              "#9c179e"
             ],
             [
              0.4444444444444444,
              "#bd3786"
             ],
             [
              0.5555555555555556,
              "#d8576b"
             ],
             [
              0.6666666666666666,
              "#ed7953"
             ],
             [
              0.7777777777777778,
              "#fb9f3a"
             ],
             [
              0.8888888888888888,
              "#fdca26"
             ],
             [
              1,
              "#f0f921"
             ]
            ],
            "type": "heatmap"
           }
          ],
          "heatmapgl": [
           {
            "colorbar": {
             "outlinewidth": 0,
             "ticks": ""
            },
            "colorscale": [
             [
              0,
              "#0d0887"
             ],
             [
              0.1111111111111111,
              "#46039f"
             ],
             [
              0.2222222222222222,
              "#7201a8"
             ],
             [
              0.3333333333333333,
              "#9c179e"
             ],
             [
              0.4444444444444444,
              "#bd3786"
             ],
             [
              0.5555555555555556,
              "#d8576b"
             ],
             [
              0.6666666666666666,
              "#ed7953"
             ],
             [
              0.7777777777777778,
              "#fb9f3a"
             ],
             [
              0.8888888888888888,
              "#fdca26"
             ],
             [
              1,
              "#f0f921"
             ]
            ],
            "type": "heatmapgl"
           }
          ],
          "histogram": [
           {
            "marker": {
             "pattern": {
              "fillmode": "overlay",
              "size": 10,
              "solidity": 0.2
             }
            },
            "type": "histogram"
           }
          ],
          "histogram2d": [
           {
            "colorbar": {
             "outlinewidth": 0,
             "ticks": ""
            },
            "colorscale": [
             [
              0,
              "#0d0887"
             ],
             [
              0.1111111111111111,
              "#46039f"
             ],
             [
              0.2222222222222222,
              "#7201a8"
             ],
             [
              0.3333333333333333,
              "#9c179e"
             ],
             [
              0.4444444444444444,
              "#bd3786"
             ],
             [
              0.5555555555555556,
              "#d8576b"
             ],
             [
              0.6666666666666666,
              "#ed7953"
             ],
             [
              0.7777777777777778,
              "#fb9f3a"
             ],
             [
              0.8888888888888888,
              "#fdca26"
             ],
             [
              1,
              "#f0f921"
             ]
            ],
            "type": "histogram2d"
           }
          ],
          "histogram2dcontour": [
           {
            "colorbar": {
             "outlinewidth": 0,
             "ticks": ""
            },
            "colorscale": [
             [
              0,
              "#0d0887"
             ],
             [
              0.1111111111111111,
              "#46039f"
             ],
             [
              0.2222222222222222,
              "#7201a8"
             ],
             [
              0.3333333333333333,
              "#9c179e"
             ],
             [
              0.4444444444444444,
              "#bd3786"
             ],
             [
              0.5555555555555556,
              "#d8576b"
             ],
             [
              0.6666666666666666,
              "#ed7953"
             ],
             [
              0.7777777777777778,
              "#fb9f3a"
             ],
             [
              0.8888888888888888,
              "#fdca26"
             ],
             [
              1,
              "#f0f921"
             ]
            ],
            "type": "histogram2dcontour"
           }
          ],
          "mesh3d": [
           {
            "colorbar": {
             "outlinewidth": 0,
             "ticks": ""
            },
            "type": "mesh3d"
           }
          ],
          "parcoords": [
           {
            "line": {
             "colorbar": {
              "outlinewidth": 0,
              "ticks": ""
             }
            },
            "type": "parcoords"
           }
          ],
          "pie": [
           {
            "automargin": true,
            "type": "pie"
           }
          ],
          "scatter": [
           {
            "fillpattern": {
             "fillmode": "overlay",
             "size": 10,
             "solidity": 0.2
            },
            "type": "scatter"
           }
          ],
          "scatter3d": [
           {
            "line": {
             "colorbar": {
              "outlinewidth": 0,
              "ticks": ""
             }
            },
            "marker": {
             "colorbar": {
              "outlinewidth": 0,
              "ticks": ""
             }
            },
            "type": "scatter3d"
           }
          ],
          "scattercarpet": [
           {
            "marker": {
             "colorbar": {
              "outlinewidth": 0,
              "ticks": ""
             }
            },
            "type": "scattercarpet"
           }
          ],
          "scattergeo": [
           {
            "marker": {
             "colorbar": {
              "outlinewidth": 0,
              "ticks": ""
             }
            },
            "type": "scattergeo"
           }
          ],
          "scattergl": [
           {
            "marker": {
             "colorbar": {
              "outlinewidth": 0,
              "ticks": ""
             }
            },
            "type": "scattergl"
           }
          ],
          "scattermapbox": [
           {
            "marker": {
             "colorbar": {
              "outlinewidth": 0,
              "ticks": ""
             }
            },
            "type": "scattermapbox"
           }
          ],
          "scatterpolar": [
           {
            "marker": {
             "colorbar": {
              "outlinewidth": 0,
              "ticks": ""
             }
            },
            "type": "scatterpolar"
           }
          ],
          "scatterpolargl": [
           {
            "marker": {
             "colorbar": {
              "outlinewidth": 0,
              "ticks": ""
             }
            },
            "type": "scatterpolargl"
           }
          ],
          "scatterternary": [
           {
            "marker": {
             "colorbar": {
              "outlinewidth": 0,
              "ticks": ""
             }
            },
            "type": "scatterternary"
           }
          ],
          "surface": [
           {
            "colorbar": {
             "outlinewidth": 0,
             "ticks": ""
            },
            "colorscale": [
             [
              0,
              "#0d0887"
             ],
             [
              0.1111111111111111,
              "#46039f"
             ],
             [
              0.2222222222222222,
              "#7201a8"
             ],
             [
              0.3333333333333333,
              "#9c179e"
             ],
             [
              0.4444444444444444,
              "#bd3786"
             ],
             [
              0.5555555555555556,
              "#d8576b"
             ],
             [
              0.6666666666666666,
              "#ed7953"
             ],
             [
              0.7777777777777778,
              "#fb9f3a"
             ],
             [
              0.8888888888888888,
              "#fdca26"
             ],
             [
              1,
              "#f0f921"
             ]
            ],
            "type": "surface"
           }
          ],
          "table": [
           {
            "cells": {
             "fill": {
              "color": "#EBF0F8"
             },
             "line": {
              "color": "white"
             }
            },
            "header": {
             "fill": {
              "color": "#C8D4E3"
             },
             "line": {
              "color": "white"
             }
            },
            "type": "table"
           }
          ]
         },
         "layout": {
          "annotationdefaults": {
           "arrowcolor": "#2a3f5f",
           "arrowhead": 0,
           "arrowwidth": 1
          },
          "autotypenumbers": "strict",
          "coloraxis": {
           "colorbar": {
            "outlinewidth": 0,
            "ticks": ""
           }
          },
          "colorscale": {
           "diverging": [
            [
             0,
             "#8e0152"
            ],
            [
             0.1,
             "#c51b7d"
            ],
            [
             0.2,
             "#de77ae"
            ],
            [
             0.3,
             "#f1b6da"
            ],
            [
             0.4,
             "#fde0ef"
            ],
            [
             0.5,
             "#f7f7f7"
            ],
            [
             0.6,
             "#e6f5d0"
            ],
            [
             0.7,
             "#b8e186"
            ],
            [
             0.8,
             "#7fbc41"
            ],
            [
             0.9,
             "#4d9221"
            ],
            [
             1,
             "#276419"
            ]
           ],
           "sequential": [
            [
             0,
             "#0d0887"
            ],
            [
             0.1111111111111111,
             "#46039f"
            ],
            [
             0.2222222222222222,
             "#7201a8"
            ],
            [
             0.3333333333333333,
             "#9c179e"
            ],
            [
             0.4444444444444444,
             "#bd3786"
            ],
            [
             0.5555555555555556,
             "#d8576b"
            ],
            [
             0.6666666666666666,
             "#ed7953"
            ],
            [
             0.7777777777777778,
             "#fb9f3a"
            ],
            [
             0.8888888888888888,
             "#fdca26"
            ],
            [
             1,
             "#f0f921"
            ]
           ],
           "sequentialminus": [
            [
             0,
             "#0d0887"
            ],
            [
             0.1111111111111111,
             "#46039f"
            ],
            [
             0.2222222222222222,
             "#7201a8"
            ],
            [
             0.3333333333333333,
             "#9c179e"
            ],
            [
             0.4444444444444444,
             "#bd3786"
            ],
            [
             0.5555555555555556,
             "#d8576b"
            ],
            [
             0.6666666666666666,
             "#ed7953"
            ],
            [
             0.7777777777777778,
             "#fb9f3a"
            ],
            [
             0.8888888888888888,
             "#fdca26"
            ],
            [
             1,
             "#f0f921"
            ]
           ]
          },
          "colorway": [
           "#636efa",
           "#EF553B",
           "#00cc96",
           "#ab63fa",
           "#FFA15A",
           "#19d3f3",
           "#FF6692",
           "#B6E880",
           "#FF97FF",
           "#FECB52"
          ],
          "font": {
           "color": "#2a3f5f"
          },
          "geo": {
           "bgcolor": "white",
           "lakecolor": "white",
           "landcolor": "#E5ECF6",
           "showlakes": true,
           "showland": true,
           "subunitcolor": "white"
          },
          "hoverlabel": {
           "align": "left"
          },
          "hovermode": "closest",
          "mapbox": {
           "style": "light"
          },
          "paper_bgcolor": "white",
          "plot_bgcolor": "#E5ECF6",
          "polar": {
           "angularaxis": {
            "gridcolor": "white",
            "linecolor": "white",
            "ticks": ""
           },
           "bgcolor": "#E5ECF6",
           "radialaxis": {
            "gridcolor": "white",
            "linecolor": "white",
            "ticks": ""
           }
          },
          "scene": {
           "xaxis": {
            "backgroundcolor": "#E5ECF6",
            "gridcolor": "white",
            "gridwidth": 2,
            "linecolor": "white",
            "showbackground": true,
            "ticks": "",
            "zerolinecolor": "white"
           },
           "yaxis": {
            "backgroundcolor": "#E5ECF6",
            "gridcolor": "white",
            "gridwidth": 2,
            "linecolor": "white",
            "showbackground": true,
            "ticks": "",
            "zerolinecolor": "white"
           },
           "zaxis": {
            "backgroundcolor": "#E5ECF6",
            "gridcolor": "white",
            "gridwidth": 2,
            "linecolor": "white",
            "showbackground": true,
            "ticks": "",
            "zerolinecolor": "white"
           }
          },
          "shapedefaults": {
           "line": {
            "color": "#2a3f5f"
           }
          },
          "ternary": {
           "aaxis": {
            "gridcolor": "white",
            "linecolor": "white",
            "ticks": ""
           },
           "baxis": {
            "gridcolor": "white",
            "linecolor": "white",
            "ticks": ""
           },
           "bgcolor": "#E5ECF6",
           "caxis": {
            "gridcolor": "white",
            "linecolor": "white",
            "ticks": ""
           }
          },
          "title": {
           "x": 0.05
          },
          "xaxis": {
           "automargin": true,
           "gridcolor": "white",
           "linecolor": "white",
           "ticks": "",
           "title": {
            "standoff": 15
           },
           "zerolinecolor": "white",
           "zerolinewidth": 2
          },
          "yaxis": {
           "automargin": true,
           "gridcolor": "white",
           "linecolor": "white",
           "ticks": "",
           "title": {
            "standoff": 15
           },
           "zerolinecolor": "white",
           "zerolinewidth": 2
          }
         }
        },
        "title": {
         "text": "Gefühlsentwicklung der Teilnehmer:innen, n=203"
        },
        "yaxis": {
         "title": {
          "text": "Dauer des Tests in Sekunden"
         }
        }
       }
      }
     },
     "metadata": {},
     "output_type": "display_data"
    }
   ],
   "source": [
    "df = surveyData[['duration-shortest-val', 'mood-delta']]\n",
    "\n",
    "df = df.groupby(['mood-delta'], dropna=False)['mood-delta'].count().reset_index(name='count')\n",
    "\n",
    "# Label strings\n",
    "chartLabel = f\"Gefühlsentwicklung der Teilnehmer:innen, n={len(surveyData[['mood-delta']])}\"\n",
    "categoryGroups = [\"Verschlechterung um 3 Grade\", \"Verschlechterung um 2 Grade\", \"Verschlechterung um 1 Grad\", \"Stabile Entwicklung\", \"Verbesserung um 1 Grad\", \"Verbesserung um 2 Grade\"]\n",
    "\n",
    "fig = go.Figure(data=[go.Pie( labels=categoryGroups, values=df['count'], sort=False)])\n",
    "fig.update_traces(textinfo='percent+label', marker=dict(colors=urCdColors))\n",
    "fig.update_layout(\n",
    "    title=chartLabel,\n",
    "    yaxis_title=yLabel,\n",
    "    # legend_title=\"Legend Title\",\n",
    "    font=dict(\n",
    "        family=\"Frutiger Next LT W1G, Gill Sans, sans-serif\",\n",
    "        size=12,\n",
    "        # color=\"RebeccaPurple\"\n",
    "    )\n",
    ")\n",
    "fig.show()\n",
    "\n",
    "# Table mood development\n",
    "fig = go.Figure(data=[go.Table(\n",
    "  header=dict(\n",
    "    values=['<b>Gefühlsentwicklung</b>', f\"<b>{categoryGroups[0]}</b>\", f\"<b>{categoryGroups[1]}</b>\", f\"<b>{categoryGroups[2]}</b>\", f\"<b>{categoryGroups[3]}</b>\", f\"<b>{categoryGroups[4]}</b>\", f\"<b>{categoryGroups[5]}</b>\"],\n",
    "    line_color='darkslategray',\n",
    "    fill_color=headerColor,\n",
    "    align=['left','center'],\n",
    "    font=dict(color='white', size=12)\n",
    "  ),\n",
    "  cells=dict(\n",
    "    values=[\n",
    "      # [surveyData[surveyData['sex'] == 'männlich'], surveyData[surveyData['sex'] == 'nicht angegeben'], surveyData[surveyData['sex'] == 'weiblich']]],\n",
    "        ['<b>Anzahl</b>'],\n",
    "        [df.iloc[0]['count']],\n",
    "        [df.iloc[1]['count']],\n",
    "        [df.iloc[2]['count']],\n",
    "        [df.iloc[3]['count']],\n",
    "        [df.iloc[4]['count']],\n",
    "        [df.iloc[5]['count']]\n",
    "      ],\n",
    "    line_color='darkslategray',\n",
    "    # 2-D list of colors for alternating rows\n",
    "    fill_color = [[rowOddColor,rowEvenColor,rowOddColor, rowEvenColor,rowOddColor]*5],\n",
    "    align = ['left', 'center'],\n",
    "    font = dict(color = 'darkslategray', size = 11)\n",
    "    ))\n",
    "])\n",
    "\n",
    "fig.update_layout(\n",
    "    title=chartLabel,\n",
    "    yaxis_title=yLabel,\n",
    "    # legend_title=\"Legend Title\",\n",
    "    font=dict(\n",
    "        family=\"Frutiger Next LT W1G, Gill Sans, sans-serif\",\n",
    "        size=12,\n",
    "        # color=\"RebeccaPurple\"\n",
    "    )\n",
    ")\n",
    "\n",
    "fig.show()"
   ]
  },
  {
   "cell_type": "markdown",
   "metadata": {},
   "source": [
    "### Mood Development To Choice"
   ]
  },
  {
   "cell_type": "code",
   "execution_count": 11,
   "metadata": {},
   "outputs": [
    {
     "data": {
      "application/vnd.plotly.v1+json": {
       "config": {
        "plotlyServerURL": "https://plot.ly"
       },
       "data": [
        {
         "direction": "clockwise",
         "domain": {
          "x": [
           0.35555555555555557,
           0.6444444444444445
          ],
          "y": [
           0.625,
           1
          ]
         },
         "labels": [
          "Verschlechterung um 3 Grade",
          "Verschlechterung um 2 Grade",
          "Verschlechterung um 1 Grad",
          "Stabile Entwicklung",
          "Verbesserung um 1 Grad",
          "Verbesserung um 2 Grade"
         ],
         "marker": {
          "colors": [
           "rgb(156,0,75)",
           "rgb(0,155,119)",
           "rgb(0,135,178)",
           "rgb(174,167,0)",
           "rgb(236,98,0)",
           "rgb(191,0,42)",
           "rgb(79,184,0)",
           "rgb(0,137,147)",
           "rgb(0,85,106)",
           "rgb(205,211,15)",
           "rgb(236,188,0)"
          ]
         },
         "sort": false,
         "textinfo": "percent+label",
         "type": "pie",
         "values": [
          2,
          1,
          20,
          145,
          33,
          2
         ]
        },
        {
         "direction": "clockwise",
         "domain": {
          "x": [
           0,
           0.2888888888888889
          ],
          "y": [
           0,
           0.375
          ]
         },
         "labels": [
          "Verschlechterung um 3 Grade",
          "Verschlechterung um 2 Grade",
          "Verschlechterung um 1 Grad",
          "Stabile Entwicklung",
          "Verbesserung um 1 Grad",
          "Verbesserung um 2 Grade"
         ],
         "marker": {
          "colors": [
           "rgb(156,0,75)",
           "rgb(0,155,119)",
           "rgb(0,135,178)",
           "rgb(174,167,0)",
           "rgb(236,98,0)",
           "rgb(191,0,42)",
           "rgb(79,184,0)",
           "rgb(0,137,147)",
           "rgb(0,85,106)",
           "rgb(205,211,15)",
           "rgb(236,188,0)"
          ]
         },
         "sort": false,
         "textinfo": "percent+label",
         "type": "pie",
         "values": [
          1,
          1,
          8,
          36,
          7
         ]
        },
        {
         "direction": "clockwise",
         "domain": {
          "x": [
           0.35555555555555557,
           0.6444444444444445
          ],
          "y": [
           0,
           0.375
          ]
         },
         "labels": [
          "Verschlechterung um 3 Grade",
          "Verschlechterung um 1 Grad",
          "Stabile Entwicklung",
          "Verbesserung um 1 Grad",
          "Verbesserung um 2 Grade"
         ],
         "marker": {
          "colors": [
           "rgb(156,0,75)",
           "rgb(0,135,178)",
           "rgb(174,167,0)",
           "rgb(236,98,0)",
           "rgb(191,0,42)"
          ]
         },
         "sort": false,
         "textinfo": "percent+label",
         "type": "pie",
         "values": [
          1,
          5,
          40,
          11,
          1
         ]
        },
        {
         "direction": "clockwise",
         "domain": {
          "x": [
           0.7111111111111111,
           1
          ],
          "y": [
           0,
           0.375
          ]
         },
         "labels": [
          "Verschlechterung um 1 Grad",
          "Stabile Entwicklung",
          "Verbesserung um 1 Grad",
          "Verbesserung um 2 Grade"
         ],
         "marker": {
          "colors": [
           "rgb(0,135,178)",
           "rgb(174,167,0)",
           "rgb(236,98,0)",
           "rgb(191,0,42)"
          ]
         },
         "sort": false,
         "textinfo": "percent+label",
         "type": "pie",
         "values": [
          7,
          69,
          15,
          1
         ]
        }
       ],
       "layout": {
        "annotations": [
         {
          "font": {
           "size": 16
          },
          "showarrow": false,
          "text": "Gesamt",
          "x": 0.5,
          "xanchor": "center",
          "xref": "paper",
          "y": 1,
          "yanchor": "bottom",
          "yref": "paper",
          "yshift": 70
         },
         {
          "font": {
           "size": 16
          },
          "showarrow": false,
          "text": "Liste favorisiert",
          "x": 0.14444444444444446,
          "xanchor": "center",
          "xref": "paper",
          "y": 0.375,
          "yanchor": "bottom",
          "yref": "paper",
          "yshift": 70
         },
         {
          "font": {
           "size": 16
          },
          "showarrow": false,
          "text": "Chord  favorisiert",
          "x": 0.5,
          "xanchor": "center",
          "xref": "paper",
          "y": 0.375,
          "yanchor": "bottom",
          "yref": "paper",
          "yshift": 70
         },
         {
          "font": {
           "size": 16
          },
          "showarrow": false,
          "text": "Map favorisiert",
          "x": 0.8555555555555556,
          "xanchor": "center",
          "xref": "paper",
          "y": 0.375,
          "yanchor": "bottom",
          "yref": "paper",
          "yshift": 70
         }
        ],
        "font": {
         "family": "Frutiger Next LT W1G, Gill Sans, sans-serif",
         "size": 12
        },
        "height": 850,
        "showlegend": true,
        "template": {
         "data": {
          "bar": [
           {
            "error_x": {
             "color": "#2a3f5f"
            },
            "error_y": {
             "color": "#2a3f5f"
            },
            "marker": {
             "line": {
              "color": "#E5ECF6",
              "width": 0.5
             },
             "pattern": {
              "fillmode": "overlay",
              "size": 10,
              "solidity": 0.2
             }
            },
            "type": "bar"
           }
          ],
          "barpolar": [
           {
            "marker": {
             "line": {
              "color": "#E5ECF6",
              "width": 0.5
             },
             "pattern": {
              "fillmode": "overlay",
              "size": 10,
              "solidity": 0.2
             }
            },
            "type": "barpolar"
           }
          ],
          "carpet": [
           {
            "aaxis": {
             "endlinecolor": "#2a3f5f",
             "gridcolor": "white",
             "linecolor": "white",
             "minorgridcolor": "white",
             "startlinecolor": "#2a3f5f"
            },
            "baxis": {
             "endlinecolor": "#2a3f5f",
             "gridcolor": "white",
             "linecolor": "white",
             "minorgridcolor": "white",
             "startlinecolor": "#2a3f5f"
            },
            "type": "carpet"
           }
          ],
          "choropleth": [
           {
            "colorbar": {
             "outlinewidth": 0,
             "ticks": ""
            },
            "type": "choropleth"
           }
          ],
          "contour": [
           {
            "colorbar": {
             "outlinewidth": 0,
             "ticks": ""
            },
            "colorscale": [
             [
              0,
              "#0d0887"
             ],
             [
              0.1111111111111111,
              "#46039f"
             ],
             [
              0.2222222222222222,
              "#7201a8"
             ],
             [
              0.3333333333333333,
              "#9c179e"
             ],
             [
              0.4444444444444444,
              "#bd3786"
             ],
             [
              0.5555555555555556,
              "#d8576b"
             ],
             [
              0.6666666666666666,
              "#ed7953"
             ],
             [
              0.7777777777777778,
              "#fb9f3a"
             ],
             [
              0.8888888888888888,
              "#fdca26"
             ],
             [
              1,
              "#f0f921"
             ]
            ],
            "type": "contour"
           }
          ],
          "contourcarpet": [
           {
            "colorbar": {
             "outlinewidth": 0,
             "ticks": ""
            },
            "type": "contourcarpet"
           }
          ],
          "heatmap": [
           {
            "colorbar": {
             "outlinewidth": 0,
             "ticks": ""
            },
            "colorscale": [
             [
              0,
              "#0d0887"
             ],
             [
              0.1111111111111111,
              "#46039f"
             ],
             [
              0.2222222222222222,
              "#7201a8"
             ],
             [
              0.3333333333333333,
              "#9c179e"
             ],
             [
              0.4444444444444444,
              "#bd3786"
             ],
             [
              0.5555555555555556,
              "#d8576b"
             ],
             [
              0.6666666666666666,
              "#ed7953"
             ],
             [
              0.7777777777777778,
              "#fb9f3a"
             ],
             [
              0.8888888888888888,
              "#fdca26"
             ],
             [
              1,
              "#f0f921"
             ]
            ],
            "type": "heatmap"
           }
          ],
          "heatmapgl": [
           {
            "colorbar": {
             "outlinewidth": 0,
             "ticks": ""
            },
            "colorscale": [
             [
              0,
              "#0d0887"
             ],
             [
              0.1111111111111111,
              "#46039f"
             ],
             [
              0.2222222222222222,
              "#7201a8"
             ],
             [
              0.3333333333333333,
              "#9c179e"
             ],
             [
              0.4444444444444444,
              "#bd3786"
             ],
             [
              0.5555555555555556,
              "#d8576b"
             ],
             [
              0.6666666666666666,
              "#ed7953"
             ],
             [
              0.7777777777777778,
              "#fb9f3a"
             ],
             [
              0.8888888888888888,
              "#fdca26"
             ],
             [
              1,
              "#f0f921"
             ]
            ],
            "type": "heatmapgl"
           }
          ],
          "histogram": [
           {
            "marker": {
             "pattern": {
              "fillmode": "overlay",
              "size": 10,
              "solidity": 0.2
             }
            },
            "type": "histogram"
           }
          ],
          "histogram2d": [
           {
            "colorbar": {
             "outlinewidth": 0,
             "ticks": ""
            },
            "colorscale": [
             [
              0,
              "#0d0887"
             ],
             [
              0.1111111111111111,
              "#46039f"
             ],
             [
              0.2222222222222222,
              "#7201a8"
             ],
             [
              0.3333333333333333,
              "#9c179e"
             ],
             [
              0.4444444444444444,
              "#bd3786"
             ],
             [
              0.5555555555555556,
              "#d8576b"
             ],
             [
              0.6666666666666666,
              "#ed7953"
             ],
             [
              0.7777777777777778,
              "#fb9f3a"
             ],
             [
              0.8888888888888888,
              "#fdca26"
             ],
             [
              1,
              "#f0f921"
             ]
            ],
            "type": "histogram2d"
           }
          ],
          "histogram2dcontour": [
           {
            "colorbar": {
             "outlinewidth": 0,
             "ticks": ""
            },
            "colorscale": [
             [
              0,
              "#0d0887"
             ],
             [
              0.1111111111111111,
              "#46039f"
             ],
             [
              0.2222222222222222,
              "#7201a8"
             ],
             [
              0.3333333333333333,
              "#9c179e"
             ],
             [
              0.4444444444444444,
              "#bd3786"
             ],
             [
              0.5555555555555556,
              "#d8576b"
             ],
             [
              0.6666666666666666,
              "#ed7953"
             ],
             [
              0.7777777777777778,
              "#fb9f3a"
             ],
             [
              0.8888888888888888,
              "#fdca26"
             ],
             [
              1,
              "#f0f921"
             ]
            ],
            "type": "histogram2dcontour"
           }
          ],
          "mesh3d": [
           {
            "colorbar": {
             "outlinewidth": 0,
             "ticks": ""
            },
            "type": "mesh3d"
           }
          ],
          "parcoords": [
           {
            "line": {
             "colorbar": {
              "outlinewidth": 0,
              "ticks": ""
             }
            },
            "type": "parcoords"
           }
          ],
          "pie": [
           {
            "automargin": true,
            "type": "pie"
           }
          ],
          "scatter": [
           {
            "fillpattern": {
             "fillmode": "overlay",
             "size": 10,
             "solidity": 0.2
            },
            "type": "scatter"
           }
          ],
          "scatter3d": [
           {
            "line": {
             "colorbar": {
              "outlinewidth": 0,
              "ticks": ""
             }
            },
            "marker": {
             "colorbar": {
              "outlinewidth": 0,
              "ticks": ""
             }
            },
            "type": "scatter3d"
           }
          ],
          "scattercarpet": [
           {
            "marker": {
             "colorbar": {
              "outlinewidth": 0,
              "ticks": ""
             }
            },
            "type": "scattercarpet"
           }
          ],
          "scattergeo": [
           {
            "marker": {
             "colorbar": {
              "outlinewidth": 0,
              "ticks": ""
             }
            },
            "type": "scattergeo"
           }
          ],
          "scattergl": [
           {
            "marker": {
             "colorbar": {
              "outlinewidth": 0,
              "ticks": ""
             }
            },
            "type": "scattergl"
           }
          ],
          "scattermapbox": [
           {
            "marker": {
             "colorbar": {
              "outlinewidth": 0,
              "ticks": ""
             }
            },
            "type": "scattermapbox"
           }
          ],
          "scatterpolar": [
           {
            "marker": {
             "colorbar": {
              "outlinewidth": 0,
              "ticks": ""
             }
            },
            "type": "scatterpolar"
           }
          ],
          "scatterpolargl": [
           {
            "marker": {
             "colorbar": {
              "outlinewidth": 0,
              "ticks": ""
             }
            },
            "type": "scatterpolargl"
           }
          ],
          "scatterternary": [
           {
            "marker": {
             "colorbar": {
              "outlinewidth": 0,
              "ticks": ""
             }
            },
            "type": "scatterternary"
           }
          ],
          "surface": [
           {
            "colorbar": {
             "outlinewidth": 0,
             "ticks": ""
            },
            "colorscale": [
             [
              0,
              "#0d0887"
             ],
             [
              0.1111111111111111,
              "#46039f"
             ],
             [
              0.2222222222222222,
              "#7201a8"
             ],
             [
              0.3333333333333333,
              "#9c179e"
             ],
             [
              0.4444444444444444,
              "#bd3786"
             ],
             [
              0.5555555555555556,
              "#d8576b"
             ],
             [
              0.6666666666666666,
              "#ed7953"
             ],
             [
              0.7777777777777778,
              "#fb9f3a"
             ],
             [
              0.8888888888888888,
              "#fdca26"
             ],
             [
              1,
              "#f0f921"
             ]
            ],
            "type": "surface"
           }
          ],
          "table": [
           {
            "cells": {
             "fill": {
              "color": "#EBF0F8"
             },
             "line": {
              "color": "white"
             }
            },
            "header": {
             "fill": {
              "color": "#C8D4E3"
             },
             "line": {
              "color": "white"
             }
            },
            "type": "table"
           }
          ]
         },
         "layout": {
          "annotationdefaults": {
           "arrowcolor": "#2a3f5f",
           "arrowhead": 0,
           "arrowwidth": 1
          },
          "autotypenumbers": "strict",
          "coloraxis": {
           "colorbar": {
            "outlinewidth": 0,
            "ticks": ""
           }
          },
          "colorscale": {
           "diverging": [
            [
             0,
             "#8e0152"
            ],
            [
             0.1,
             "#c51b7d"
            ],
            [
             0.2,
             "#de77ae"
            ],
            [
             0.3,
             "#f1b6da"
            ],
            [
             0.4,
             "#fde0ef"
            ],
            [
             0.5,
             "#f7f7f7"
            ],
            [
             0.6,
             "#e6f5d0"
            ],
            [
             0.7,
             "#b8e186"
            ],
            [
             0.8,
             "#7fbc41"
            ],
            [
             0.9,
             "#4d9221"
            ],
            [
             1,
             "#276419"
            ]
           ],
           "sequential": [
            [
             0,
             "#0d0887"
            ],
            [
             0.1111111111111111,
             "#46039f"
            ],
            [
             0.2222222222222222,
             "#7201a8"
            ],
            [
             0.3333333333333333,
             "#9c179e"
            ],
            [
             0.4444444444444444,
             "#bd3786"
            ],
            [
             0.5555555555555556,
             "#d8576b"
            ],
            [
             0.6666666666666666,
             "#ed7953"
            ],
            [
             0.7777777777777778,
             "#fb9f3a"
            ],
            [
             0.8888888888888888,
             "#fdca26"
            ],
            [
             1,
             "#f0f921"
            ]
           ],
           "sequentialminus": [
            [
             0,
             "#0d0887"
            ],
            [
             0.1111111111111111,
             "#46039f"
            ],
            [
             0.2222222222222222,
             "#7201a8"
            ],
            [
             0.3333333333333333,
             "#9c179e"
            ],
            [
             0.4444444444444444,
             "#bd3786"
            ],
            [
             0.5555555555555556,
             "#d8576b"
            ],
            [
             0.6666666666666666,
             "#ed7953"
            ],
            [
             0.7777777777777778,
             "#fb9f3a"
            ],
            [
             0.8888888888888888,
             "#fdca26"
            ],
            [
             1,
             "#f0f921"
            ]
           ]
          },
          "colorway": [
           "#636efa",
           "#EF553B",
           "#00cc96",
           "#ab63fa",
           "#FFA15A",
           "#19d3f3",
           "#FF6692",
           "#B6E880",
           "#FF97FF",
           "#FECB52"
          ],
          "font": {
           "color": "#2a3f5f"
          },
          "geo": {
           "bgcolor": "white",
           "lakecolor": "white",
           "landcolor": "#E5ECF6",
           "showlakes": true,
           "showland": true,
           "subunitcolor": "white"
          },
          "hoverlabel": {
           "align": "left"
          },
          "hovermode": "closest",
          "mapbox": {
           "style": "light"
          },
          "paper_bgcolor": "white",
          "plot_bgcolor": "#E5ECF6",
          "polar": {
           "angularaxis": {
            "gridcolor": "white",
            "linecolor": "white",
            "ticks": ""
           },
           "bgcolor": "#E5ECF6",
           "radialaxis": {
            "gridcolor": "white",
            "linecolor": "white",
            "ticks": ""
           }
          },
          "scene": {
           "xaxis": {
            "backgroundcolor": "#E5ECF6",
            "gridcolor": "white",
            "gridwidth": 2,
            "linecolor": "white",
            "showbackground": true,
            "ticks": "",
            "zerolinecolor": "white"
           },
           "yaxis": {
            "backgroundcolor": "#E5ECF6",
            "gridcolor": "white",
            "gridwidth": 2,
            "linecolor": "white",
            "showbackground": true,
            "ticks": "",
            "zerolinecolor": "white"
           },
           "zaxis": {
            "backgroundcolor": "#E5ECF6",
            "gridcolor": "white",
            "gridwidth": 2,
            "linecolor": "white",
            "showbackground": true,
            "ticks": "",
            "zerolinecolor": "white"
           }
          },
          "shapedefaults": {
           "line": {
            "color": "#2a3f5f"
           }
          },
          "ternary": {
           "aaxis": {
            "gridcolor": "white",
            "linecolor": "white",
            "ticks": ""
           },
           "baxis": {
            "gridcolor": "white",
            "linecolor": "white",
            "ticks": ""
           },
           "bgcolor": "#E5ECF6",
           "caxis": {
            "gridcolor": "white",
            "linecolor": "white",
            "ticks": ""
           }
          },
          "title": {
           "x": 0.05
          },
          "xaxis": {
           "automargin": true,
           "gridcolor": "white",
           "linecolor": "white",
           "ticks": "",
           "title": {
            "standoff": 15
           },
           "zerolinecolor": "white",
           "zerolinewidth": 2
          },
          "yaxis": {
           "automargin": true,
           "gridcolor": "white",
           "linecolor": "white",
           "ticks": "",
           "title": {
            "standoff": 15
           },
           "zerolinecolor": "white",
           "zerolinewidth": 2
          }
         }
        },
        "title": {
         "text": "Gefühlsentwicklung der Teilnehmer:innen, n=203"
        },
        "yaxis": {
         "title": {
          "text": "Dauer des Tests in Sekunden"
         }
        }
       }
      }
     },
     "metadata": {},
     "output_type": "display_data"
    },
    {
     "data": {
      "application/vnd.plotly.v1+json": {
       "config": {
        "plotlyServerURL": "https://plot.ly"
       },
       "data": [
        {
         "cells": {
          "align": [
           "left",
           "center"
          ],
          "fill": {
           "color": [
            [
             "white",
             "lightgrey",
             "white",
             "lightgrey",
             "white",
             "white",
             "lightgrey",
             "white",
             "lightgrey",
             "white",
             "white",
             "lightgrey",
             "white",
             "lightgrey",
             "white",
             "white",
             "lightgrey",
             "white",
             "lightgrey",
             "white",
             "white",
             "lightgrey",
             "white",
             "lightgrey",
             "white"
            ]
           ]
          },
          "font": {
           "color": "darkslategray",
           "size": 11
          },
          "line": {
           "color": "darkslategray"
          },
          "values": [
           [
            "<b>Gesamt</b>",
            "<b>Liste</b>",
            "<b>Chord</b>",
            "<b>Map</b>"
           ],
           [
            2,
            1,
            1,
            0
           ],
           [
            1,
            1,
            0,
            0
           ],
           [
            20,
            8,
            5,
            7
           ],
           [
            145,
            36,
            40,
            69
           ],
           [
            33,
            7,
            11,
            15
           ],
           [
            2,
            0,
            1,
            1
           ]
          ]
         },
         "header": {
          "align": [
           "left",
           "center"
          ],
          "fill": {
           "color": "grey"
          },
          "font": {
           "color": "white",
           "size": 12
          },
          "line": {
           "color": "darkslategray"
          },
          "values": [
           "<b>Gefühlsentwicklung</b>",
           "<b>Verschlechterung um 3 Grade</b>",
           "<b>Verschlechterung um 2 Grade</b>",
           "<b>Verschlechterung um 1 Grad</b>",
           "<b>Stabile Entwicklung</b>",
           "<b>Verbesserung um 1 Grad</b>",
           "<b>Verbesserung um 2 Grade</b>"
          ]
         },
         "type": "table"
        }
       ],
       "layout": {
        "font": {
         "family": "Frutiger Next LT W1G, Gill Sans, sans-serif",
         "size": 12
        },
        "template": {
         "data": {
          "bar": [
           {
            "error_x": {
             "color": "#2a3f5f"
            },
            "error_y": {
             "color": "#2a3f5f"
            },
            "marker": {
             "line": {
              "color": "#E5ECF6",
              "width": 0.5
             },
             "pattern": {
              "fillmode": "overlay",
              "size": 10,
              "solidity": 0.2
             }
            },
            "type": "bar"
           }
          ],
          "barpolar": [
           {
            "marker": {
             "line": {
              "color": "#E5ECF6",
              "width": 0.5
             },
             "pattern": {
              "fillmode": "overlay",
              "size": 10,
              "solidity": 0.2
             }
            },
            "type": "barpolar"
           }
          ],
          "carpet": [
           {
            "aaxis": {
             "endlinecolor": "#2a3f5f",
             "gridcolor": "white",
             "linecolor": "white",
             "minorgridcolor": "white",
             "startlinecolor": "#2a3f5f"
            },
            "baxis": {
             "endlinecolor": "#2a3f5f",
             "gridcolor": "white",
             "linecolor": "white",
             "minorgridcolor": "white",
             "startlinecolor": "#2a3f5f"
            },
            "type": "carpet"
           }
          ],
          "choropleth": [
           {
            "colorbar": {
             "outlinewidth": 0,
             "ticks": ""
            },
            "type": "choropleth"
           }
          ],
          "contour": [
           {
            "colorbar": {
             "outlinewidth": 0,
             "ticks": ""
            },
            "colorscale": [
             [
              0,
              "#0d0887"
             ],
             [
              0.1111111111111111,
              "#46039f"
             ],
             [
              0.2222222222222222,
              "#7201a8"
             ],
             [
              0.3333333333333333,
              "#9c179e"
             ],
             [
              0.4444444444444444,
              "#bd3786"
             ],
             [
              0.5555555555555556,
              "#d8576b"
             ],
             [
              0.6666666666666666,
              "#ed7953"
             ],
             [
              0.7777777777777778,
              "#fb9f3a"
             ],
             [
              0.8888888888888888,
              "#fdca26"
             ],
             [
              1,
              "#f0f921"
             ]
            ],
            "type": "contour"
           }
          ],
          "contourcarpet": [
           {
            "colorbar": {
             "outlinewidth": 0,
             "ticks": ""
            },
            "type": "contourcarpet"
           }
          ],
          "heatmap": [
           {
            "colorbar": {
             "outlinewidth": 0,
             "ticks": ""
            },
            "colorscale": [
             [
              0,
              "#0d0887"
             ],
             [
              0.1111111111111111,
              "#46039f"
             ],
             [
              0.2222222222222222,
              "#7201a8"
             ],
             [
              0.3333333333333333,
              "#9c179e"
             ],
             [
              0.4444444444444444,
              "#bd3786"
             ],
             [
              0.5555555555555556,
              "#d8576b"
             ],
             [
              0.6666666666666666,
              "#ed7953"
             ],
             [
              0.7777777777777778,
              "#fb9f3a"
             ],
             [
              0.8888888888888888,
              "#fdca26"
             ],
             [
              1,
              "#f0f921"
             ]
            ],
            "type": "heatmap"
           }
          ],
          "heatmapgl": [
           {
            "colorbar": {
             "outlinewidth": 0,
             "ticks": ""
            },
            "colorscale": [
             [
              0,
              "#0d0887"
             ],
             [
              0.1111111111111111,
              "#46039f"
             ],
             [
              0.2222222222222222,
              "#7201a8"
             ],
             [
              0.3333333333333333,
              "#9c179e"
             ],
             [
              0.4444444444444444,
              "#bd3786"
             ],
             [
              0.5555555555555556,
              "#d8576b"
             ],
             [
              0.6666666666666666,
              "#ed7953"
             ],
             [
              0.7777777777777778,
              "#fb9f3a"
             ],
             [
              0.8888888888888888,
              "#fdca26"
             ],
             [
              1,
              "#f0f921"
             ]
            ],
            "type": "heatmapgl"
           }
          ],
          "histogram": [
           {
            "marker": {
             "pattern": {
              "fillmode": "overlay",
              "size": 10,
              "solidity": 0.2
             }
            },
            "type": "histogram"
           }
          ],
          "histogram2d": [
           {
            "colorbar": {
             "outlinewidth": 0,
             "ticks": ""
            },
            "colorscale": [
             [
              0,
              "#0d0887"
             ],
             [
              0.1111111111111111,
              "#46039f"
             ],
             [
              0.2222222222222222,
              "#7201a8"
             ],
             [
              0.3333333333333333,
              "#9c179e"
             ],
             [
              0.4444444444444444,
              "#bd3786"
             ],
             [
              0.5555555555555556,
              "#d8576b"
             ],
             [
              0.6666666666666666,
              "#ed7953"
             ],
             [
              0.7777777777777778,
              "#fb9f3a"
             ],
             [
              0.8888888888888888,
              "#fdca26"
             ],
             [
              1,
              "#f0f921"
             ]
            ],
            "type": "histogram2d"
           }
          ],
          "histogram2dcontour": [
           {
            "colorbar": {
             "outlinewidth": 0,
             "ticks": ""
            },
            "colorscale": [
             [
              0,
              "#0d0887"
             ],
             [
              0.1111111111111111,
              "#46039f"
             ],
             [
              0.2222222222222222,
              "#7201a8"
             ],
             [
              0.3333333333333333,
              "#9c179e"
             ],
             [
              0.4444444444444444,
              "#bd3786"
             ],
             [
              0.5555555555555556,
              "#d8576b"
             ],
             [
              0.6666666666666666,
              "#ed7953"
             ],
             [
              0.7777777777777778,
              "#fb9f3a"
             ],
             [
              0.8888888888888888,
              "#fdca26"
             ],
             [
              1,
              "#f0f921"
             ]
            ],
            "type": "histogram2dcontour"
           }
          ],
          "mesh3d": [
           {
            "colorbar": {
             "outlinewidth": 0,
             "ticks": ""
            },
            "type": "mesh3d"
           }
          ],
          "parcoords": [
           {
            "line": {
             "colorbar": {
              "outlinewidth": 0,
              "ticks": ""
             }
            },
            "type": "parcoords"
           }
          ],
          "pie": [
           {
            "automargin": true,
            "type": "pie"
           }
          ],
          "scatter": [
           {
            "fillpattern": {
             "fillmode": "overlay",
             "size": 10,
             "solidity": 0.2
            },
            "type": "scatter"
           }
          ],
          "scatter3d": [
           {
            "line": {
             "colorbar": {
              "outlinewidth": 0,
              "ticks": ""
             }
            },
            "marker": {
             "colorbar": {
              "outlinewidth": 0,
              "ticks": ""
             }
            },
            "type": "scatter3d"
           }
          ],
          "scattercarpet": [
           {
            "marker": {
             "colorbar": {
              "outlinewidth": 0,
              "ticks": ""
             }
            },
            "type": "scattercarpet"
           }
          ],
          "scattergeo": [
           {
            "marker": {
             "colorbar": {
              "outlinewidth": 0,
              "ticks": ""
             }
            },
            "type": "scattergeo"
           }
          ],
          "scattergl": [
           {
            "marker": {
             "colorbar": {
              "outlinewidth": 0,
              "ticks": ""
             }
            },
            "type": "scattergl"
           }
          ],
          "scattermapbox": [
           {
            "marker": {
             "colorbar": {
              "outlinewidth": 0,
              "ticks": ""
             }
            },
            "type": "scattermapbox"
           }
          ],
          "scatterpolar": [
           {
            "marker": {
             "colorbar": {
              "outlinewidth": 0,
              "ticks": ""
             }
            },
            "type": "scatterpolar"
           }
          ],
          "scatterpolargl": [
           {
            "marker": {
             "colorbar": {
              "outlinewidth": 0,
              "ticks": ""
             }
            },
            "type": "scatterpolargl"
           }
          ],
          "scatterternary": [
           {
            "marker": {
             "colorbar": {
              "outlinewidth": 0,
              "ticks": ""
             }
            },
            "type": "scatterternary"
           }
          ],
          "surface": [
           {
            "colorbar": {
             "outlinewidth": 0,
             "ticks": ""
            },
            "colorscale": [
             [
              0,
              "#0d0887"
             ],
             [
              0.1111111111111111,
              "#46039f"
             ],
             [
              0.2222222222222222,
              "#7201a8"
             ],
             [
              0.3333333333333333,
              "#9c179e"
             ],
             [
              0.4444444444444444,
              "#bd3786"
             ],
             [
              0.5555555555555556,
              "#d8576b"
             ],
             [
              0.6666666666666666,
              "#ed7953"
             ],
             [
              0.7777777777777778,
              "#fb9f3a"
             ],
             [
              0.8888888888888888,
              "#fdca26"
             ],
             [
              1,
              "#f0f921"
             ]
            ],
            "type": "surface"
           }
          ],
          "table": [
           {
            "cells": {
             "fill": {
              "color": "#EBF0F8"
             },
             "line": {
              "color": "white"
             }
            },
            "header": {
             "fill": {
              "color": "#C8D4E3"
             },
             "line": {
              "color": "white"
             }
            },
            "type": "table"
           }
          ]
         },
         "layout": {
          "annotationdefaults": {
           "arrowcolor": "#2a3f5f",
           "arrowhead": 0,
           "arrowwidth": 1
          },
          "autotypenumbers": "strict",
          "coloraxis": {
           "colorbar": {
            "outlinewidth": 0,
            "ticks": ""
           }
          },
          "colorscale": {
           "diverging": [
            [
             0,
             "#8e0152"
            ],
            [
             0.1,
             "#c51b7d"
            ],
            [
             0.2,
             "#de77ae"
            ],
            [
             0.3,
             "#f1b6da"
            ],
            [
             0.4,
             "#fde0ef"
            ],
            [
             0.5,
             "#f7f7f7"
            ],
            [
             0.6,
             "#e6f5d0"
            ],
            [
             0.7,
             "#b8e186"
            ],
            [
             0.8,
             "#7fbc41"
            ],
            [
             0.9,
             "#4d9221"
            ],
            [
             1,
             "#276419"
            ]
           ],
           "sequential": [
            [
             0,
             "#0d0887"
            ],
            [
             0.1111111111111111,
             "#46039f"
            ],
            [
             0.2222222222222222,
             "#7201a8"
            ],
            [
             0.3333333333333333,
             "#9c179e"
            ],
            [
             0.4444444444444444,
             "#bd3786"
            ],
            [
             0.5555555555555556,
             "#d8576b"
            ],
            [
             0.6666666666666666,
             "#ed7953"
            ],
            [
             0.7777777777777778,
             "#fb9f3a"
            ],
            [
             0.8888888888888888,
             "#fdca26"
            ],
            [
             1,
             "#f0f921"
            ]
           ],
           "sequentialminus": [
            [
             0,
             "#0d0887"
            ],
            [
             0.1111111111111111,
             "#46039f"
            ],
            [
             0.2222222222222222,
             "#7201a8"
            ],
            [
             0.3333333333333333,
             "#9c179e"
            ],
            [
             0.4444444444444444,
             "#bd3786"
            ],
            [
             0.5555555555555556,
             "#d8576b"
            ],
            [
             0.6666666666666666,
             "#ed7953"
            ],
            [
             0.7777777777777778,
             "#fb9f3a"
            ],
            [
             0.8888888888888888,
             "#fdca26"
            ],
            [
             1,
             "#f0f921"
            ]
           ]
          },
          "colorway": [
           "#636efa",
           "#EF553B",
           "#00cc96",
           "#ab63fa",
           "#FFA15A",
           "#19d3f3",
           "#FF6692",
           "#B6E880",
           "#FF97FF",
           "#FECB52"
          ],
          "font": {
           "color": "#2a3f5f"
          },
          "geo": {
           "bgcolor": "white",
           "lakecolor": "white",
           "landcolor": "#E5ECF6",
           "showlakes": true,
           "showland": true,
           "subunitcolor": "white"
          },
          "hoverlabel": {
           "align": "left"
          },
          "hovermode": "closest",
          "mapbox": {
           "style": "light"
          },
          "paper_bgcolor": "white",
          "plot_bgcolor": "#E5ECF6",
          "polar": {
           "angularaxis": {
            "gridcolor": "white",
            "linecolor": "white",
            "ticks": ""
           },
           "bgcolor": "#E5ECF6",
           "radialaxis": {
            "gridcolor": "white",
            "linecolor": "white",
            "ticks": ""
           }
          },
          "scene": {
           "xaxis": {
            "backgroundcolor": "#E5ECF6",
            "gridcolor": "white",
            "gridwidth": 2,
            "linecolor": "white",
            "showbackground": true,
            "ticks": "",
            "zerolinecolor": "white"
           },
           "yaxis": {
            "backgroundcolor": "#E5ECF6",
            "gridcolor": "white",
            "gridwidth": 2,
            "linecolor": "white",
            "showbackground": true,
            "ticks": "",
            "zerolinecolor": "white"
           },
           "zaxis": {
            "backgroundcolor": "#E5ECF6",
            "gridcolor": "white",
            "gridwidth": 2,
            "linecolor": "white",
            "showbackground": true,
            "ticks": "",
            "zerolinecolor": "white"
           }
          },
          "shapedefaults": {
           "line": {
            "color": "#2a3f5f"
           }
          },
          "ternary": {
           "aaxis": {
            "gridcolor": "white",
            "linecolor": "white",
            "ticks": ""
           },
           "baxis": {
            "gridcolor": "white",
            "linecolor": "white",
            "ticks": ""
           },
           "bgcolor": "#E5ECF6",
           "caxis": {
            "gridcolor": "white",
            "linecolor": "white",
            "ticks": ""
           }
          },
          "title": {
           "x": 0.05
          },
          "xaxis": {
           "automargin": true,
           "gridcolor": "white",
           "linecolor": "white",
           "ticks": "",
           "title": {
            "standoff": 15
           },
           "zerolinecolor": "white",
           "zerolinewidth": 2
          },
          "yaxis": {
           "automargin": true,
           "gridcolor": "white",
           "linecolor": "white",
           "ticks": "",
           "title": {
            "standoff": 15
           },
           "zerolinecolor": "white",
           "zerolinewidth": 2
          }
         }
        },
        "title": {
         "text": "Gefühlsentwicklung der Teilnehmer:innen, n=203"
        },
        "yaxis": {
         "title": {
          "text": "Dauer des Tests in Sekunden"
         }
        }
       }
      }
     },
     "metadata": {},
     "output_type": "display_data"
    }
   ],
   "source": [
    "dfAll = surveyData[['duration-shortest-val', 'mood-delta', 'highest-preferenced-viz']]\n",
    "dfAll = dfAll.groupby(['mood-delta'], dropna=False)['mood-delta'].count().reset_index(name='count')\n",
    "\n",
    "dfListe = surveyData.loc[surveyData['highest-preferenced-viz'] == 'Liste'][['duration-shortest-val', 'mood-delta', 'highest-preferenced-viz']]\n",
    "dfListe = dfListe.groupby(['mood-delta'], dropna=False)['mood-delta'].count().reset_index(name='count')\n",
    "\n",
    "dfChord = surveyData.loc[surveyData['highest-preferenced-viz'] == 'Chord'][['duration-shortest-val', 'mood-delta', 'highest-preferenced-viz']]\n",
    "dfChord = dfChord.groupby(['mood-delta'], dropna=False)['mood-delta'].count().reset_index(name='count')\n",
    "\n",
    "dfMap = surveyData.loc[surveyData['highest-preferenced-viz'] == 'Map'][['duration-shortest-val', 'mood-delta', 'highest-preferenced-viz']]\n",
    "dfMap = dfMap.groupby(['mood-delta'], dropna=False)['mood-delta'].count().reset_index(name='count')\n",
    "\n",
    "# Label strings\n",
    "chartLabel = f\"Gefühlsentwicklung der Teilnehmer:innen, n={len(surveyData[['mood-delta']])}\"\n",
    "categoryGroups = [\"Verschlechterung um 3 Grade\", \"Verschlechterung um 2 Grade\", \"Verschlechterung um 1 Grad\", \"Stabile Entwicklung\", \"Verbesserung um 1 Grad\", \"Verbesserung um 2 Grade\"]\n",
    "\n",
    "fig = make_subplots(rows=2, cols=3, \n",
    "    specs=[\n",
    "        [None, {'type':'domain'}, None],\n",
    "        [{'type':'domain'}, {'type':'domain'}, {'type':'domain'}],\n",
    "    ],\n",
    "    subplot_titles=(\"Gesamt\",\"Liste favorisiert\", \"Chord  favorisiert\",  \"Map favorisiert\"))\n",
    "\n",
    "fig.add_trace(go.Pie(labels=categoryGroups, values=dfAll['count'], sort=False, direction='clockwise', marker_colors=urCdColors),\n",
    "              1, 2)\n",
    "fig.add_trace(go.Pie(labels=categoryGroups, values=dfListe['count'], sort=False, direction='clockwise', marker_colors=urCdColors),\n",
    "              2, 1)\n",
    "fig.add_trace(go.Pie(labels=[categoryGroups[0], categoryGroups[2],categoryGroups[3], categoryGroups[4], categoryGroups[5]], values=dfChord['count'], sort=False, direction='clockwise', marker_colors=[urCdColors[0], urCdColors[2], urCdColors[3], urCdColors[4], urCdColors[5]]),\n",
    "              2, 2)\n",
    "fig.add_trace(go.Pie(labels=[categoryGroups[2], categoryGroups[3], categoryGroups[4], categoryGroups[5]], values=dfMap['count'], sort=False, direction='clockwise', marker_colors=[urCdColors[2], urCdColors[3], urCdColors[4], urCdColors[5]]),\n",
    "              2, 3)\n",
    "\n",
    "fig.update_traces(textinfo='percent+label')\n",
    "fig.update_layout(\n",
    "    title=chartLabel,\n",
    "    yaxis_title=yLabel,\n",
    "    height=850,\n",
    "    #legend_title=\"Legend Title\",\n",
    "    font=dict(\n",
    "        family=\"Frutiger Next LT W1G, Gill Sans, sans-serif\",\n",
    "        size=12,\n",
    "        # color=\"RebeccaPurple\"\n",
    "    )\n",
    ")\n",
    "fig.update(layout_showlegend=True)\n",
    "fig.update_annotations(yshift=70)\n",
    "fig.show()\n",
    "\n",
    "\n",
    "# Table mood development\n",
    "fig = go.Figure(data=[go.Table(\n",
    "  header=dict(\n",
    "    values=['<b>Gefühlsentwicklung</b>', f\"<b>{categoryGroups[0]}</b>\", f\"<b>{categoryGroups[1]}</b>\", f\"<b>{categoryGroups[2]}</b>\", f\"<b>{categoryGroups[3]}</b>\", f\"<b>{categoryGroups[4]}</b>\", f\"<b>{categoryGroups[5]}</b>\"],\n",
    "    line_color='darkslategray',\n",
    "    fill_color=headerColor,\n",
    "    align=['left','center'],\n",
    "    font=dict(color='white', size=12)\n",
    "  ),\n",
    "  cells=dict(\n",
    "    values=[\n",
    "      # [surveyData[surveyData['sex'] == 'männlich'], surveyData[surveyData['sex'] == 'nicht angegeben'], surveyData[surveyData['sex'] == 'weiblich']]],\n",
    "        ['<b>Gesamt</b>','<b>Liste</b>', '<b>Chord</b>', '<b>Map</b>'],\n",
    "        [dfAll.iloc[0]['count'], dfListe.iloc[0]['count'], dfChord.iloc[0]['count'], 0],\n",
    "        [dfAll.iloc[1]['count'], dfListe.iloc[1]['count'], 0, 0],\n",
    "        [dfAll.iloc[2]['count'], dfListe.iloc[2]['count'], dfChord.iloc[1]['count'], dfMap.iloc[0]['count']],\n",
    "        [dfAll.iloc[3]['count'], dfListe.iloc[3]['count'], dfChord.iloc[2]['count'], dfMap.iloc[1]['count']],\n",
    "        [dfAll.iloc[4]['count'], dfListe.iloc[4]['count'], dfChord.iloc[3]['count'], dfMap.iloc[2]['count']],\n",
    "        [dfAll.iloc[5]['count'], 0, dfChord.iloc[4]['count'], dfMap.iloc[3]['count']]\n",
    "      ],\n",
    "    line_color='darkslategray',\n",
    "    # 2-D list of colors for alternating rows\n",
    "    fill_color = [[rowOddColor,rowEvenColor,rowOddColor, rowEvenColor,rowOddColor]*5],\n",
    "    align = ['left', 'center'],\n",
    "    font = dict(color = 'darkslategray', size = 11)\n",
    "    ))\n",
    "])\n",
    "\n",
    "fig.update_layout(\n",
    "    title=chartLabel,\n",
    "    yaxis_title=yLabel,\n",
    "    # legend_title=\"Legend Title\",\n",
    "    font=dict(\n",
    "        family=\"Frutiger Next LT W1G, Gill Sans, sans-serif\",\n",
    "        size=12,\n",
    "        # color=\"RebeccaPurple\"\n",
    "    )\n",
    ")\n",
    "\n",
    "fig.show()\n"
   ]
  },
  {
   "cell_type": "markdown",
   "metadata": {},
   "source": [
    "## Internet Level"
   ]
  },
  {
   "cell_type": "code",
   "execution_count": 12,
   "metadata": {},
   "outputs": [
    {
     "data": {
      "application/vnd.plotly.v1+json": {
       "config": {
        "plotlyServerURL": "https://plot.ly"
       },
       "data": [
        {
         "labels": [
          "Anfänger",
          "Erfahrene Nutzerin, Erfahrener Nutzer",
          "Internet-Profi"
         ],
         "marker": {
          "colors": [
           "rgb(156,0,75)",
           "rgb(0,155,119)",
           "rgb(0,135,178)",
           "rgb(174,167,0)",
           "rgb(236,98,0)",
           "rgb(191,0,42)",
           "rgb(79,184,0)",
           "rgb(0,137,147)",
           "rgb(0,85,106)",
           "rgb(205,211,15)",
           "rgb(236,188,0)"
          ]
         },
         "sort": false,
         "textinfo": "percent+label",
         "type": "pie",
         "values": [
          8,
          114,
          81
         ]
        }
       ],
       "layout": {
        "font": {
         "family": "Frutiger Next LT W1G, Gill Sans, sans-serif",
         "size": 12
        },
        "template": {
         "data": {
          "bar": [
           {
            "error_x": {
             "color": "#2a3f5f"
            },
            "error_y": {
             "color": "#2a3f5f"
            },
            "marker": {
             "line": {
              "color": "#E5ECF6",
              "width": 0.5
             },
             "pattern": {
              "fillmode": "overlay",
              "size": 10,
              "solidity": 0.2
             }
            },
            "type": "bar"
           }
          ],
          "barpolar": [
           {
            "marker": {
             "line": {
              "color": "#E5ECF6",
              "width": 0.5
             },
             "pattern": {
              "fillmode": "overlay",
              "size": 10,
              "solidity": 0.2
             }
            },
            "type": "barpolar"
           }
          ],
          "carpet": [
           {
            "aaxis": {
             "endlinecolor": "#2a3f5f",
             "gridcolor": "white",
             "linecolor": "white",
             "minorgridcolor": "white",
             "startlinecolor": "#2a3f5f"
            },
            "baxis": {
             "endlinecolor": "#2a3f5f",
             "gridcolor": "white",
             "linecolor": "white",
             "minorgridcolor": "white",
             "startlinecolor": "#2a3f5f"
            },
            "type": "carpet"
           }
          ],
          "choropleth": [
           {
            "colorbar": {
             "outlinewidth": 0,
             "ticks": ""
            },
            "type": "choropleth"
           }
          ],
          "contour": [
           {
            "colorbar": {
             "outlinewidth": 0,
             "ticks": ""
            },
            "colorscale": [
             [
              0,
              "#0d0887"
             ],
             [
              0.1111111111111111,
              "#46039f"
             ],
             [
              0.2222222222222222,
              "#7201a8"
             ],
             [
              0.3333333333333333,
              "#9c179e"
             ],
             [
              0.4444444444444444,
              "#bd3786"
             ],
             [
              0.5555555555555556,
              "#d8576b"
             ],
             [
              0.6666666666666666,
              "#ed7953"
             ],
             [
              0.7777777777777778,
              "#fb9f3a"
             ],
             [
              0.8888888888888888,
              "#fdca26"
             ],
             [
              1,
              "#f0f921"
             ]
            ],
            "type": "contour"
           }
          ],
          "contourcarpet": [
           {
            "colorbar": {
             "outlinewidth": 0,
             "ticks": ""
            },
            "type": "contourcarpet"
           }
          ],
          "heatmap": [
           {
            "colorbar": {
             "outlinewidth": 0,
             "ticks": ""
            },
            "colorscale": [
             [
              0,
              "#0d0887"
             ],
             [
              0.1111111111111111,
              "#46039f"
             ],
             [
              0.2222222222222222,
              "#7201a8"
             ],
             [
              0.3333333333333333,
              "#9c179e"
             ],
             [
              0.4444444444444444,
              "#bd3786"
             ],
             [
              0.5555555555555556,
              "#d8576b"
             ],
             [
              0.6666666666666666,
              "#ed7953"
             ],
             [
              0.7777777777777778,
              "#fb9f3a"
             ],
             [
              0.8888888888888888,
              "#fdca26"
             ],
             [
              1,
              "#f0f921"
             ]
            ],
            "type": "heatmap"
           }
          ],
          "heatmapgl": [
           {
            "colorbar": {
             "outlinewidth": 0,
             "ticks": ""
            },
            "colorscale": [
             [
              0,
              "#0d0887"
             ],
             [
              0.1111111111111111,
              "#46039f"
             ],
             [
              0.2222222222222222,
              "#7201a8"
             ],
             [
              0.3333333333333333,
              "#9c179e"
             ],
             [
              0.4444444444444444,
              "#bd3786"
             ],
             [
              0.5555555555555556,
              "#d8576b"
             ],
             [
              0.6666666666666666,
              "#ed7953"
             ],
             [
              0.7777777777777778,
              "#fb9f3a"
             ],
             [
              0.8888888888888888,
              "#fdca26"
             ],
             [
              1,
              "#f0f921"
             ]
            ],
            "type": "heatmapgl"
           }
          ],
          "histogram": [
           {
            "marker": {
             "pattern": {
              "fillmode": "overlay",
              "size": 10,
              "solidity": 0.2
             }
            },
            "type": "histogram"
           }
          ],
          "histogram2d": [
           {
            "colorbar": {
             "outlinewidth": 0,
             "ticks": ""
            },
            "colorscale": [
             [
              0,
              "#0d0887"
             ],
             [
              0.1111111111111111,
              "#46039f"
             ],
             [
              0.2222222222222222,
              "#7201a8"
             ],
             [
              0.3333333333333333,
              "#9c179e"
             ],
             [
              0.4444444444444444,
              "#bd3786"
             ],
             [
              0.5555555555555556,
              "#d8576b"
             ],
             [
              0.6666666666666666,
              "#ed7953"
             ],
             [
              0.7777777777777778,
              "#fb9f3a"
             ],
             [
              0.8888888888888888,
              "#fdca26"
             ],
             [
              1,
              "#f0f921"
             ]
            ],
            "type": "histogram2d"
           }
          ],
          "histogram2dcontour": [
           {
            "colorbar": {
             "outlinewidth": 0,
             "ticks": ""
            },
            "colorscale": [
             [
              0,
              "#0d0887"
             ],
             [
              0.1111111111111111,
              "#46039f"
             ],
             [
              0.2222222222222222,
              "#7201a8"
             ],
             [
              0.3333333333333333,
              "#9c179e"
             ],
             [
              0.4444444444444444,
              "#bd3786"
             ],
             [
              0.5555555555555556,
              "#d8576b"
             ],
             [
              0.6666666666666666,
              "#ed7953"
             ],
             [
              0.7777777777777778,
              "#fb9f3a"
             ],
             [
              0.8888888888888888,
              "#fdca26"
             ],
             [
              1,
              "#f0f921"
             ]
            ],
            "type": "histogram2dcontour"
           }
          ],
          "mesh3d": [
           {
            "colorbar": {
             "outlinewidth": 0,
             "ticks": ""
            },
            "type": "mesh3d"
           }
          ],
          "parcoords": [
           {
            "line": {
             "colorbar": {
              "outlinewidth": 0,
              "ticks": ""
             }
            },
            "type": "parcoords"
           }
          ],
          "pie": [
           {
            "automargin": true,
            "type": "pie"
           }
          ],
          "scatter": [
           {
            "fillpattern": {
             "fillmode": "overlay",
             "size": 10,
             "solidity": 0.2
            },
            "type": "scatter"
           }
          ],
          "scatter3d": [
           {
            "line": {
             "colorbar": {
              "outlinewidth": 0,
              "ticks": ""
             }
            },
            "marker": {
             "colorbar": {
              "outlinewidth": 0,
              "ticks": ""
             }
            },
            "type": "scatter3d"
           }
          ],
          "scattercarpet": [
           {
            "marker": {
             "colorbar": {
              "outlinewidth": 0,
              "ticks": ""
             }
            },
            "type": "scattercarpet"
           }
          ],
          "scattergeo": [
           {
            "marker": {
             "colorbar": {
              "outlinewidth": 0,
              "ticks": ""
             }
            },
            "type": "scattergeo"
           }
          ],
          "scattergl": [
           {
            "marker": {
             "colorbar": {
              "outlinewidth": 0,
              "ticks": ""
             }
            },
            "type": "scattergl"
           }
          ],
          "scattermapbox": [
           {
            "marker": {
             "colorbar": {
              "outlinewidth": 0,
              "ticks": ""
             }
            },
            "type": "scattermapbox"
           }
          ],
          "scatterpolar": [
           {
            "marker": {
             "colorbar": {
              "outlinewidth": 0,
              "ticks": ""
             }
            },
            "type": "scatterpolar"
           }
          ],
          "scatterpolargl": [
           {
            "marker": {
             "colorbar": {
              "outlinewidth": 0,
              "ticks": ""
             }
            },
            "type": "scatterpolargl"
           }
          ],
          "scatterternary": [
           {
            "marker": {
             "colorbar": {
              "outlinewidth": 0,
              "ticks": ""
             }
            },
            "type": "scatterternary"
           }
          ],
          "surface": [
           {
            "colorbar": {
             "outlinewidth": 0,
             "ticks": ""
            },
            "colorscale": [
             [
              0,
              "#0d0887"
             ],
             [
              0.1111111111111111,
              "#46039f"
             ],
             [
              0.2222222222222222,
              "#7201a8"
             ],
             [
              0.3333333333333333,
              "#9c179e"
             ],
             [
              0.4444444444444444,
              "#bd3786"
             ],
             [
              0.5555555555555556,
              "#d8576b"
             ],
             [
              0.6666666666666666,
              "#ed7953"
             ],
             [
              0.7777777777777778,
              "#fb9f3a"
             ],
             [
              0.8888888888888888,
              "#fdca26"
             ],
             [
              1,
              "#f0f921"
             ]
            ],
            "type": "surface"
           }
          ],
          "table": [
           {
            "cells": {
             "fill": {
              "color": "#EBF0F8"
             },
             "line": {
              "color": "white"
             }
            },
            "header": {
             "fill": {
              "color": "#C8D4E3"
             },
             "line": {
              "color": "white"
             }
            },
            "type": "table"
           }
          ]
         },
         "layout": {
          "annotationdefaults": {
           "arrowcolor": "#2a3f5f",
           "arrowhead": 0,
           "arrowwidth": 1
          },
          "autotypenumbers": "strict",
          "coloraxis": {
           "colorbar": {
            "outlinewidth": 0,
            "ticks": ""
           }
          },
          "colorscale": {
           "diverging": [
            [
             0,
             "#8e0152"
            ],
            [
             0.1,
             "#c51b7d"
            ],
            [
             0.2,
             "#de77ae"
            ],
            [
             0.3,
             "#f1b6da"
            ],
            [
             0.4,
             "#fde0ef"
            ],
            [
             0.5,
             "#f7f7f7"
            ],
            [
             0.6,
             "#e6f5d0"
            ],
            [
             0.7,
             "#b8e186"
            ],
            [
             0.8,
             "#7fbc41"
            ],
            [
             0.9,
             "#4d9221"
            ],
            [
             1,
             "#276419"
            ]
           ],
           "sequential": [
            [
             0,
             "#0d0887"
            ],
            [
             0.1111111111111111,
             "#46039f"
            ],
            [
             0.2222222222222222,
             "#7201a8"
            ],
            [
             0.3333333333333333,
             "#9c179e"
            ],
            [
             0.4444444444444444,
             "#bd3786"
            ],
            [
             0.5555555555555556,
             "#d8576b"
            ],
            [
             0.6666666666666666,
             "#ed7953"
            ],
            [
             0.7777777777777778,
             "#fb9f3a"
            ],
            [
             0.8888888888888888,
             "#fdca26"
            ],
            [
             1,
             "#f0f921"
            ]
           ],
           "sequentialminus": [
            [
             0,
             "#0d0887"
            ],
            [
             0.1111111111111111,
             "#46039f"
            ],
            [
             0.2222222222222222,
             "#7201a8"
            ],
            [
             0.3333333333333333,
             "#9c179e"
            ],
            [
             0.4444444444444444,
             "#bd3786"
            ],
            [
             0.5555555555555556,
             "#d8576b"
            ],
            [
             0.6666666666666666,
             "#ed7953"
            ],
            [
             0.7777777777777778,
             "#fb9f3a"
            ],
            [
             0.8888888888888888,
             "#fdca26"
            ],
            [
             1,
             "#f0f921"
            ]
           ]
          },
          "colorway": [
           "#636efa",
           "#EF553B",
           "#00cc96",
           "#ab63fa",
           "#FFA15A",
           "#19d3f3",
           "#FF6692",
           "#B6E880",
           "#FF97FF",
           "#FECB52"
          ],
          "font": {
           "color": "#2a3f5f"
          },
          "geo": {
           "bgcolor": "white",
           "lakecolor": "white",
           "landcolor": "#E5ECF6",
           "showlakes": true,
           "showland": true,
           "subunitcolor": "white"
          },
          "hoverlabel": {
           "align": "left"
          },
          "hovermode": "closest",
          "mapbox": {
           "style": "light"
          },
          "paper_bgcolor": "white",
          "plot_bgcolor": "#E5ECF6",
          "polar": {
           "angularaxis": {
            "gridcolor": "white",
            "linecolor": "white",
            "ticks": ""
           },
           "bgcolor": "#E5ECF6",
           "radialaxis": {
            "gridcolor": "white",
            "linecolor": "white",
            "ticks": ""
           }
          },
          "scene": {
           "xaxis": {
            "backgroundcolor": "#E5ECF6",
            "gridcolor": "white",
            "gridwidth": 2,
            "linecolor": "white",
            "showbackground": true,
            "ticks": "",
            "zerolinecolor": "white"
           },
           "yaxis": {
            "backgroundcolor": "#E5ECF6",
            "gridcolor": "white",
            "gridwidth": 2,
            "linecolor": "white",
            "showbackground": true,
            "ticks": "",
            "zerolinecolor": "white"
           },
           "zaxis": {
            "backgroundcolor": "#E5ECF6",
            "gridcolor": "white",
            "gridwidth": 2,
            "linecolor": "white",
            "showbackground": true,
            "ticks": "",
            "zerolinecolor": "white"
           }
          },
          "shapedefaults": {
           "line": {
            "color": "#2a3f5f"
           }
          },
          "ternary": {
           "aaxis": {
            "gridcolor": "white",
            "linecolor": "white",
            "ticks": ""
           },
           "baxis": {
            "gridcolor": "white",
            "linecolor": "white",
            "ticks": ""
           },
           "bgcolor": "#E5ECF6",
           "caxis": {
            "gridcolor": "white",
            "linecolor": "white",
            "ticks": ""
           }
          },
          "title": {
           "x": 0.05
          },
          "xaxis": {
           "automargin": true,
           "gridcolor": "white",
           "linecolor": "white",
           "ticks": "",
           "title": {
            "standoff": 15
           },
           "zerolinecolor": "white",
           "zerolinewidth": 2
          },
          "yaxis": {
           "automargin": true,
           "gridcolor": "white",
           "linecolor": "white",
           "ticks": "",
           "title": {
            "standoff": 15
           },
           "zerolinecolor": "white",
           "zerolinewidth": 2
          }
         }
        },
        "title": {
         "text": "Internetlevel der Teilnehmer:innen, n=203"
        },
        "yaxis": {
         "title": {
          "text": "Dauer des Tests in Sekunden"
         }
        }
       }
      }
     },
     "metadata": {},
     "output_type": "display_data"
    },
    {
     "data": {
      "application/vnd.plotly.v1+json": {
       "config": {
        "plotlyServerURL": "https://plot.ly"
       },
       "data": [
        {
         "cells": {
          "align": [
           "left",
           "center"
          ],
          "fill": {
           "color": [
            [
             "white",
             "lightgrey",
             "white",
             "lightgrey",
             "white",
             "white",
             "lightgrey",
             "white",
             "lightgrey",
             "white",
             "white",
             "lightgrey",
             "white",
             "lightgrey",
             "white",
             "white",
             "lightgrey",
             "white",
             "lightgrey",
             "white",
             "white",
             "lightgrey",
             "white",
             "lightgrey",
             "white"
            ]
           ]
          },
          "font": {
           "color": "darkslategray",
           "size": 11
          },
          "line": {
           "color": "darkslategray"
          },
          "values": [
           [
            "<b>Anzahl</b>"
           ],
           [
            8
           ],
           [
            114
           ],
           [
            81
           ]
          ]
         },
         "header": {
          "align": [
           "left",
           "center"
          ],
          "fill": {
           "color": "grey"
          },
          "font": {
           "color": "white",
           "size": 12
          },
          "line": {
           "color": "darkslategray"
          },
          "values": [
           "<b>Internetlevel</b>",
           "<b>Anfänger</b>",
           "<b>Erfahrene Nutzerin, Erfahrener Nutzer</b>",
           "<b>Internet-Profi</b>"
          ]
         },
         "type": "table"
        }
       ],
       "layout": {
        "font": {
         "family": "Frutiger Next LT W1G, Gill Sans, sans-serif",
         "size": 12
        },
        "template": {
         "data": {
          "bar": [
           {
            "error_x": {
             "color": "#2a3f5f"
            },
            "error_y": {
             "color": "#2a3f5f"
            },
            "marker": {
             "line": {
              "color": "#E5ECF6",
              "width": 0.5
             },
             "pattern": {
              "fillmode": "overlay",
              "size": 10,
              "solidity": 0.2
             }
            },
            "type": "bar"
           }
          ],
          "barpolar": [
           {
            "marker": {
             "line": {
              "color": "#E5ECF6",
              "width": 0.5
             },
             "pattern": {
              "fillmode": "overlay",
              "size": 10,
              "solidity": 0.2
             }
            },
            "type": "barpolar"
           }
          ],
          "carpet": [
           {
            "aaxis": {
             "endlinecolor": "#2a3f5f",
             "gridcolor": "white",
             "linecolor": "white",
             "minorgridcolor": "white",
             "startlinecolor": "#2a3f5f"
            },
            "baxis": {
             "endlinecolor": "#2a3f5f",
             "gridcolor": "white",
             "linecolor": "white",
             "minorgridcolor": "white",
             "startlinecolor": "#2a3f5f"
            },
            "type": "carpet"
           }
          ],
          "choropleth": [
           {
            "colorbar": {
             "outlinewidth": 0,
             "ticks": ""
            },
            "type": "choropleth"
           }
          ],
          "contour": [
           {
            "colorbar": {
             "outlinewidth": 0,
             "ticks": ""
            },
            "colorscale": [
             [
              0,
              "#0d0887"
             ],
             [
              0.1111111111111111,
              "#46039f"
             ],
             [
              0.2222222222222222,
              "#7201a8"
             ],
             [
              0.3333333333333333,
              "#9c179e"
             ],
             [
              0.4444444444444444,
              "#bd3786"
             ],
             [
              0.5555555555555556,
              "#d8576b"
             ],
             [
              0.6666666666666666,
              "#ed7953"
             ],
             [
              0.7777777777777778,
              "#fb9f3a"
             ],
             [
              0.8888888888888888,
              "#fdca26"
             ],
             [
              1,
              "#f0f921"
             ]
            ],
            "type": "contour"
           }
          ],
          "contourcarpet": [
           {
            "colorbar": {
             "outlinewidth": 0,
             "ticks": ""
            },
            "type": "contourcarpet"
           }
          ],
          "heatmap": [
           {
            "colorbar": {
             "outlinewidth": 0,
             "ticks": ""
            },
            "colorscale": [
             [
              0,
              "#0d0887"
             ],
             [
              0.1111111111111111,
              "#46039f"
             ],
             [
              0.2222222222222222,
              "#7201a8"
             ],
             [
              0.3333333333333333,
              "#9c179e"
             ],
             [
              0.4444444444444444,
              "#bd3786"
             ],
             [
              0.5555555555555556,
              "#d8576b"
             ],
             [
              0.6666666666666666,
              "#ed7953"
             ],
             [
              0.7777777777777778,
              "#fb9f3a"
             ],
             [
              0.8888888888888888,
              "#fdca26"
             ],
             [
              1,
              "#f0f921"
             ]
            ],
            "type": "heatmap"
           }
          ],
          "heatmapgl": [
           {
            "colorbar": {
             "outlinewidth": 0,
             "ticks": ""
            },
            "colorscale": [
             [
              0,
              "#0d0887"
             ],
             [
              0.1111111111111111,
              "#46039f"
             ],
             [
              0.2222222222222222,
              "#7201a8"
             ],
             [
              0.3333333333333333,
              "#9c179e"
             ],
             [
              0.4444444444444444,
              "#bd3786"
             ],
             [
              0.5555555555555556,
              "#d8576b"
             ],
             [
              0.6666666666666666,
              "#ed7953"
             ],
             [
              0.7777777777777778,
              "#fb9f3a"
             ],
             [
              0.8888888888888888,
              "#fdca26"
             ],
             [
              1,
              "#f0f921"
             ]
            ],
            "type": "heatmapgl"
           }
          ],
          "histogram": [
           {
            "marker": {
             "pattern": {
              "fillmode": "overlay",
              "size": 10,
              "solidity": 0.2
             }
            },
            "type": "histogram"
           }
          ],
          "histogram2d": [
           {
            "colorbar": {
             "outlinewidth": 0,
             "ticks": ""
            },
            "colorscale": [
             [
              0,
              "#0d0887"
             ],
             [
              0.1111111111111111,
              "#46039f"
             ],
             [
              0.2222222222222222,
              "#7201a8"
             ],
             [
              0.3333333333333333,
              "#9c179e"
             ],
             [
              0.4444444444444444,
              "#bd3786"
             ],
             [
              0.5555555555555556,
              "#d8576b"
             ],
             [
              0.6666666666666666,
              "#ed7953"
             ],
             [
              0.7777777777777778,
              "#fb9f3a"
             ],
             [
              0.8888888888888888,
              "#fdca26"
             ],
             [
              1,
              "#f0f921"
             ]
            ],
            "type": "histogram2d"
           }
          ],
          "histogram2dcontour": [
           {
            "colorbar": {
             "outlinewidth": 0,
             "ticks": ""
            },
            "colorscale": [
             [
              0,
              "#0d0887"
             ],
             [
              0.1111111111111111,
              "#46039f"
             ],
             [
              0.2222222222222222,
              "#7201a8"
             ],
             [
              0.3333333333333333,
              "#9c179e"
             ],
             [
              0.4444444444444444,
              "#bd3786"
             ],
             [
              0.5555555555555556,
              "#d8576b"
             ],
             [
              0.6666666666666666,
              "#ed7953"
             ],
             [
              0.7777777777777778,
              "#fb9f3a"
             ],
             [
              0.8888888888888888,
              "#fdca26"
             ],
             [
              1,
              "#f0f921"
             ]
            ],
            "type": "histogram2dcontour"
           }
          ],
          "mesh3d": [
           {
            "colorbar": {
             "outlinewidth": 0,
             "ticks": ""
            },
            "type": "mesh3d"
           }
          ],
          "parcoords": [
           {
            "line": {
             "colorbar": {
              "outlinewidth": 0,
              "ticks": ""
             }
            },
            "type": "parcoords"
           }
          ],
          "pie": [
           {
            "automargin": true,
            "type": "pie"
           }
          ],
          "scatter": [
           {
            "fillpattern": {
             "fillmode": "overlay",
             "size": 10,
             "solidity": 0.2
            },
            "type": "scatter"
           }
          ],
          "scatter3d": [
           {
            "line": {
             "colorbar": {
              "outlinewidth": 0,
              "ticks": ""
             }
            },
            "marker": {
             "colorbar": {
              "outlinewidth": 0,
              "ticks": ""
             }
            },
            "type": "scatter3d"
           }
          ],
          "scattercarpet": [
           {
            "marker": {
             "colorbar": {
              "outlinewidth": 0,
              "ticks": ""
             }
            },
            "type": "scattercarpet"
           }
          ],
          "scattergeo": [
           {
            "marker": {
             "colorbar": {
              "outlinewidth": 0,
              "ticks": ""
             }
            },
            "type": "scattergeo"
           }
          ],
          "scattergl": [
           {
            "marker": {
             "colorbar": {
              "outlinewidth": 0,
              "ticks": ""
             }
            },
            "type": "scattergl"
           }
          ],
          "scattermapbox": [
           {
            "marker": {
             "colorbar": {
              "outlinewidth": 0,
              "ticks": ""
             }
            },
            "type": "scattermapbox"
           }
          ],
          "scatterpolar": [
           {
            "marker": {
             "colorbar": {
              "outlinewidth": 0,
              "ticks": ""
             }
            },
            "type": "scatterpolar"
           }
          ],
          "scatterpolargl": [
           {
            "marker": {
             "colorbar": {
              "outlinewidth": 0,
              "ticks": ""
             }
            },
            "type": "scatterpolargl"
           }
          ],
          "scatterternary": [
           {
            "marker": {
             "colorbar": {
              "outlinewidth": 0,
              "ticks": ""
             }
            },
            "type": "scatterternary"
           }
          ],
          "surface": [
           {
            "colorbar": {
             "outlinewidth": 0,
             "ticks": ""
            },
            "colorscale": [
             [
              0,
              "#0d0887"
             ],
             [
              0.1111111111111111,
              "#46039f"
             ],
             [
              0.2222222222222222,
              "#7201a8"
             ],
             [
              0.3333333333333333,
              "#9c179e"
             ],
             [
              0.4444444444444444,
              "#bd3786"
             ],
             [
              0.5555555555555556,
              "#d8576b"
             ],
             [
              0.6666666666666666,
              "#ed7953"
             ],
             [
              0.7777777777777778,
              "#fb9f3a"
             ],
             [
              0.8888888888888888,
              "#fdca26"
             ],
             [
              1,
              "#f0f921"
             ]
            ],
            "type": "surface"
           }
          ],
          "table": [
           {
            "cells": {
             "fill": {
              "color": "#EBF0F8"
             },
             "line": {
              "color": "white"
             }
            },
            "header": {
             "fill": {
              "color": "#C8D4E3"
             },
             "line": {
              "color": "white"
             }
            },
            "type": "table"
           }
          ]
         },
         "layout": {
          "annotationdefaults": {
           "arrowcolor": "#2a3f5f",
           "arrowhead": 0,
           "arrowwidth": 1
          },
          "autotypenumbers": "strict",
          "coloraxis": {
           "colorbar": {
            "outlinewidth": 0,
            "ticks": ""
           }
          },
          "colorscale": {
           "diverging": [
            [
             0,
             "#8e0152"
            ],
            [
             0.1,
             "#c51b7d"
            ],
            [
             0.2,
             "#de77ae"
            ],
            [
             0.3,
             "#f1b6da"
            ],
            [
             0.4,
             "#fde0ef"
            ],
            [
             0.5,
             "#f7f7f7"
            ],
            [
             0.6,
             "#e6f5d0"
            ],
            [
             0.7,
             "#b8e186"
            ],
            [
             0.8,
             "#7fbc41"
            ],
            [
             0.9,
             "#4d9221"
            ],
            [
             1,
             "#276419"
            ]
           ],
           "sequential": [
            [
             0,
             "#0d0887"
            ],
            [
             0.1111111111111111,
             "#46039f"
            ],
            [
             0.2222222222222222,
             "#7201a8"
            ],
            [
             0.3333333333333333,
             "#9c179e"
            ],
            [
             0.4444444444444444,
             "#bd3786"
            ],
            [
             0.5555555555555556,
             "#d8576b"
            ],
            [
             0.6666666666666666,
             "#ed7953"
            ],
            [
             0.7777777777777778,
             "#fb9f3a"
            ],
            [
             0.8888888888888888,
             "#fdca26"
            ],
            [
             1,
             "#f0f921"
            ]
           ],
           "sequentialminus": [
            [
             0,
             "#0d0887"
            ],
            [
             0.1111111111111111,
             "#46039f"
            ],
            [
             0.2222222222222222,
             "#7201a8"
            ],
            [
             0.3333333333333333,
             "#9c179e"
            ],
            [
             0.4444444444444444,
             "#bd3786"
            ],
            [
             0.5555555555555556,
             "#d8576b"
            ],
            [
             0.6666666666666666,
             "#ed7953"
            ],
            [
             0.7777777777777778,
             "#fb9f3a"
            ],
            [
             0.8888888888888888,
             "#fdca26"
            ],
            [
             1,
             "#f0f921"
            ]
           ]
          },
          "colorway": [
           "#636efa",
           "#EF553B",
           "#00cc96",
           "#ab63fa",
           "#FFA15A",
           "#19d3f3",
           "#FF6692",
           "#B6E880",
           "#FF97FF",
           "#FECB52"
          ],
          "font": {
           "color": "#2a3f5f"
          },
          "geo": {
           "bgcolor": "white",
           "lakecolor": "white",
           "landcolor": "#E5ECF6",
           "showlakes": true,
           "showland": true,
           "subunitcolor": "white"
          },
          "hoverlabel": {
           "align": "left"
          },
          "hovermode": "closest",
          "mapbox": {
           "style": "light"
          },
          "paper_bgcolor": "white",
          "plot_bgcolor": "#E5ECF6",
          "polar": {
           "angularaxis": {
            "gridcolor": "white",
            "linecolor": "white",
            "ticks": ""
           },
           "bgcolor": "#E5ECF6",
           "radialaxis": {
            "gridcolor": "white",
            "linecolor": "white",
            "ticks": ""
           }
          },
          "scene": {
           "xaxis": {
            "backgroundcolor": "#E5ECF6",
            "gridcolor": "white",
            "gridwidth": 2,
            "linecolor": "white",
            "showbackground": true,
            "ticks": "",
            "zerolinecolor": "white"
           },
           "yaxis": {
            "backgroundcolor": "#E5ECF6",
            "gridcolor": "white",
            "gridwidth": 2,
            "linecolor": "white",
            "showbackground": true,
            "ticks": "",
            "zerolinecolor": "white"
           },
           "zaxis": {
            "backgroundcolor": "#E5ECF6",
            "gridcolor": "white",
            "gridwidth": 2,
            "linecolor": "white",
            "showbackground": true,
            "ticks": "",
            "zerolinecolor": "white"
           }
          },
          "shapedefaults": {
           "line": {
            "color": "#2a3f5f"
           }
          },
          "ternary": {
           "aaxis": {
            "gridcolor": "white",
            "linecolor": "white",
            "ticks": ""
           },
           "baxis": {
            "gridcolor": "white",
            "linecolor": "white",
            "ticks": ""
           },
           "bgcolor": "#E5ECF6",
           "caxis": {
            "gridcolor": "white",
            "linecolor": "white",
            "ticks": ""
           }
          },
          "title": {
           "x": 0.05
          },
          "xaxis": {
           "automargin": true,
           "gridcolor": "white",
           "linecolor": "white",
           "ticks": "",
           "title": {
            "standoff": 15
           },
           "zerolinecolor": "white",
           "zerolinewidth": 2
          },
          "yaxis": {
           "automargin": true,
           "gridcolor": "white",
           "linecolor": "white",
           "ticks": "",
           "title": {
            "standoff": 15
           },
           "zerolinecolor": "white",
           "zerolinewidth": 2
          }
         }
        },
        "title": {
         "text": "Internetlevel der Teilnehmer:innen, n=203"
        },
        "yaxis": {
         "title": {
          "text": "Dauer des Tests in Sekunden"
         }
        }
       }
      }
     },
     "metadata": {},
     "output_type": "display_data"
    }
   ],
   "source": [
    "df = surveyData[['internet-level']]\n",
    "\n",
    "df = df.groupby(['internet-level'], dropna=False)['internet-level'].count().reset_index(name='count')\n",
    "\n",
    "# Label strings\n",
    "chartLabel = f\"Internetlevel der Teilnehmer:innen, n={len(surveyData[['internet-level']])}\"\n",
    "categoryGroups = [\"Anfänger\", \"Erfahrene Nutzerin, Erfahrener Nutzer\", \"Internet-Profi\"]\n",
    "\n",
    "fig = go.Figure(data=[go.Pie( labels=categoryGroups, values=df['count'], sort=False)])\n",
    "fig.update_traces(textinfo='percent+label', marker=dict(colors=urCdColors))\n",
    "fig.update_layout(\n",
    "    title=chartLabel,\n",
    "    yaxis_title=yLabel,\n",
    "    # legend_title=\"Legend Title\",\n",
    "    font=dict(\n",
    "        family=\"Frutiger Next LT W1G, Gill Sans, sans-serif\",\n",
    "        size=12,\n",
    "        # color=\"RebeccaPurple\"\n",
    "    )\n",
    ")\n",
    "fig.show()\n",
    "\n",
    "# Table mood development\n",
    "fig = go.Figure(data=[go.Table(\n",
    "  header=dict(\n",
    "    values=['<b>Internetlevel</b>', f\"<b>{categoryGroups[0]}</b>\", f\"<b>{categoryGroups[1]}</b>\", f\"<b>{categoryGroups[2]}</b>\"],\n",
    "    line_color='darkslategray',\n",
    "    fill_color=headerColor,\n",
    "    align=['left','center'],\n",
    "    font=dict(color='white', size=12)\n",
    "  ),\n",
    "  cells=dict(\n",
    "    values=[\n",
    "      # [surveyData[surveyData['sex'] == 'männlich'], surveyData[surveyData['sex'] == 'nicht angegeben'], surveyData[surveyData['sex'] == 'weiblich']]],\n",
    "        ['<b>Anzahl</b>'],\n",
    "        [df.iloc[0]['count']],\n",
    "        [df.iloc[1]['count']],\n",
    "        [df.iloc[2]['count']]\n",
    "      ],\n",
    "    line_color='darkslategray',\n",
    "    # 2-D list of colors for alternating rows\n",
    "    fill_color = [[rowOddColor,rowEvenColor,rowOddColor, rowEvenColor,rowOddColor]*5],\n",
    "    align = ['left', 'center'],\n",
    "    font = dict(color = 'darkslategray', size = 11)\n",
    "    ))\n",
    "])\n",
    "\n",
    "fig.update_layout(\n",
    "    title=chartLabel,\n",
    "    yaxis_title=yLabel,\n",
    "    # legend_title=\"Legend Title\",\n",
    "    font=dict(\n",
    "        family=\"Frutiger Next LT W1G, Gill Sans, sans-serif\",\n",
    "        size=12,\n",
    "        # color=\"RebeccaPurple\"\n",
    "    )\n",
    ")\n",
    "\n",
    "fig.show()"
   ]
  },
  {
   "cell_type": "markdown",
   "metadata": {},
   "source": [
    "### Internet Level To Choice"
   ]
  },
  {
   "cell_type": "code",
   "execution_count": 13,
   "metadata": {},
   "outputs": [
    {
     "data": {
      "application/vnd.plotly.v1+json": {
       "config": {
        "plotlyServerURL": "https://plot.ly"
       },
       "data": [
        {
         "direction": "clockwise",
         "domain": {
          "x": [
           0.35555555555555557,
           0.6444444444444445
          ],
          "y": [
           0.625,
           1
          ]
         },
         "labels": [
          "Anfänger",
          "Erfahrene Nutzerin, Erfahrener Nutzer",
          "Internet-Profi"
         ],
         "marker": {
          "colors": [
           "rgb(156,0,75)",
           "rgb(0,155,119)",
           "rgb(0,135,178)",
           "rgb(174,167,0)",
           "rgb(236,98,0)",
           "rgb(191,0,42)",
           "rgb(79,184,0)",
           "rgb(0,137,147)",
           "rgb(0,85,106)",
           "rgb(205,211,15)",
           "rgb(236,188,0)"
          ]
         },
         "sort": false,
         "textinfo": "percent+label",
         "type": "pie",
         "values": [
          8,
          114,
          81
         ]
        },
        {
         "direction": "clockwise",
         "domain": {
          "x": [
           0,
           0.2888888888888889
          ],
          "y": [
           0,
           0.375
          ]
         },
         "labels": [
          "Anfänger",
          "Erfahrene Nutzerin, Erfahrener Nutzer",
          "Internet-Profi"
         ],
         "marker": {
          "colors": [
           "rgb(156,0,75)",
           "rgb(0,155,119)",
           "rgb(0,135,178)",
           "rgb(174,167,0)",
           "rgb(236,98,0)",
           "rgb(191,0,42)",
           "rgb(79,184,0)",
           "rgb(0,137,147)",
           "rgb(0,85,106)",
           "rgb(205,211,15)",
           "rgb(236,188,0)"
          ]
         },
         "sort": false,
         "textinfo": "percent+label",
         "type": "pie",
         "values": [
          3,
          30,
          20
         ]
        },
        {
         "direction": "clockwise",
         "domain": {
          "x": [
           0.35555555555555557,
           0.6444444444444445
          ],
          "y": [
           0,
           0.375
          ]
         },
         "labels": [
          "Anfänger",
          "Erfahrene Nutzerin, Erfahrener Nutzer",
          "Internet-Profi"
         ],
         "marker": {
          "colors": [
           "rgb(156,0,75)",
           "rgb(0,155,119)",
           "rgb(0,135,178)",
           "rgb(174,167,0)",
           "rgb(236,98,0)",
           "rgb(191,0,42)",
           "rgb(79,184,0)",
           "rgb(0,137,147)",
           "rgb(0,85,106)",
           "rgb(205,211,15)",
           "rgb(236,188,0)"
          ]
         },
         "sort": false,
         "textinfo": "percent+label",
         "type": "pie",
         "values": [
          4,
          32,
          22
         ]
        },
        {
         "direction": "clockwise",
         "domain": {
          "x": [
           0.7111111111111111,
           1
          ],
          "y": [
           0,
           0.375
          ]
         },
         "labels": [
          "Anfänger",
          "Erfahrene Nutzerin, Erfahrener Nutzer",
          "Internet-Profi"
         ],
         "marker": {
          "colors": [
           "rgb(156,0,75)",
           "rgb(0,155,119)",
           "rgb(0,135,178)",
           "rgb(174,167,0)",
           "rgb(236,98,0)",
           "rgb(191,0,42)",
           "rgb(79,184,0)",
           "rgb(0,137,147)",
           "rgb(0,85,106)",
           "rgb(205,211,15)",
           "rgb(236,188,0)"
          ]
         },
         "sort": false,
         "textinfo": "percent+label",
         "type": "pie",
         "values": [
          1,
          52,
          39
         ]
        }
       ],
       "layout": {
        "annotations": [
         {
          "font": {
           "size": 16
          },
          "showarrow": false,
          "text": "Gesamt",
          "x": 0.5,
          "xanchor": "center",
          "xref": "paper",
          "y": 1,
          "yanchor": "bottom",
          "yref": "paper",
          "yshift": 70
         },
         {
          "font": {
           "size": 16
          },
          "showarrow": false,
          "text": "Liste favorisiert",
          "x": 0.14444444444444446,
          "xanchor": "center",
          "xref": "paper",
          "y": 0.375,
          "yanchor": "bottom",
          "yref": "paper",
          "yshift": 70
         },
         {
          "font": {
           "size": 16
          },
          "showarrow": false,
          "text": "Chord  favorisiert",
          "x": 0.5,
          "xanchor": "center",
          "xref": "paper",
          "y": 0.375,
          "yanchor": "bottom",
          "yref": "paper",
          "yshift": 70
         },
         {
          "font": {
           "size": 16
          },
          "showarrow": false,
          "text": "Map favorisiert",
          "x": 0.8555555555555556,
          "xanchor": "center",
          "xref": "paper",
          "y": 0.375,
          "yanchor": "bottom",
          "yref": "paper",
          "yshift": 70
         }
        ],
        "font": {
         "family": "Frutiger Next LT W1G, Gill Sans, sans-serif",
         "size": 12
        },
        "height": 850,
        "showlegend": true,
        "template": {
         "data": {
          "bar": [
           {
            "error_x": {
             "color": "#2a3f5f"
            },
            "error_y": {
             "color": "#2a3f5f"
            },
            "marker": {
             "line": {
              "color": "#E5ECF6",
              "width": 0.5
             },
             "pattern": {
              "fillmode": "overlay",
              "size": 10,
              "solidity": 0.2
             }
            },
            "type": "bar"
           }
          ],
          "barpolar": [
           {
            "marker": {
             "line": {
              "color": "#E5ECF6",
              "width": 0.5
             },
             "pattern": {
              "fillmode": "overlay",
              "size": 10,
              "solidity": 0.2
             }
            },
            "type": "barpolar"
           }
          ],
          "carpet": [
           {
            "aaxis": {
             "endlinecolor": "#2a3f5f",
             "gridcolor": "white",
             "linecolor": "white",
             "minorgridcolor": "white",
             "startlinecolor": "#2a3f5f"
            },
            "baxis": {
             "endlinecolor": "#2a3f5f",
             "gridcolor": "white",
             "linecolor": "white",
             "minorgridcolor": "white",
             "startlinecolor": "#2a3f5f"
            },
            "type": "carpet"
           }
          ],
          "choropleth": [
           {
            "colorbar": {
             "outlinewidth": 0,
             "ticks": ""
            },
            "type": "choropleth"
           }
          ],
          "contour": [
           {
            "colorbar": {
             "outlinewidth": 0,
             "ticks": ""
            },
            "colorscale": [
             [
              0,
              "#0d0887"
             ],
             [
              0.1111111111111111,
              "#46039f"
             ],
             [
              0.2222222222222222,
              "#7201a8"
             ],
             [
              0.3333333333333333,
              "#9c179e"
             ],
             [
              0.4444444444444444,
              "#bd3786"
             ],
             [
              0.5555555555555556,
              "#d8576b"
             ],
             [
              0.6666666666666666,
              "#ed7953"
             ],
             [
              0.7777777777777778,
              "#fb9f3a"
             ],
             [
              0.8888888888888888,
              "#fdca26"
             ],
             [
              1,
              "#f0f921"
             ]
            ],
            "type": "contour"
           }
          ],
          "contourcarpet": [
           {
            "colorbar": {
             "outlinewidth": 0,
             "ticks": ""
            },
            "type": "contourcarpet"
           }
          ],
          "heatmap": [
           {
            "colorbar": {
             "outlinewidth": 0,
             "ticks": ""
            },
            "colorscale": [
             [
              0,
              "#0d0887"
             ],
             [
              0.1111111111111111,
              "#46039f"
             ],
             [
              0.2222222222222222,
              "#7201a8"
             ],
             [
              0.3333333333333333,
              "#9c179e"
             ],
             [
              0.4444444444444444,
              "#bd3786"
             ],
             [
              0.5555555555555556,
              "#d8576b"
             ],
             [
              0.6666666666666666,
              "#ed7953"
             ],
             [
              0.7777777777777778,
              "#fb9f3a"
             ],
             [
              0.8888888888888888,
              "#fdca26"
             ],
             [
              1,
              "#f0f921"
             ]
            ],
            "type": "heatmap"
           }
          ],
          "heatmapgl": [
           {
            "colorbar": {
             "outlinewidth": 0,
             "ticks": ""
            },
            "colorscale": [
             [
              0,
              "#0d0887"
             ],
             [
              0.1111111111111111,
              "#46039f"
             ],
             [
              0.2222222222222222,
              "#7201a8"
             ],
             [
              0.3333333333333333,
              "#9c179e"
             ],
             [
              0.4444444444444444,
              "#bd3786"
             ],
             [
              0.5555555555555556,
              "#d8576b"
             ],
             [
              0.6666666666666666,
              "#ed7953"
             ],
             [
              0.7777777777777778,
              "#fb9f3a"
             ],
             [
              0.8888888888888888,
              "#fdca26"
             ],
             [
              1,
              "#f0f921"
             ]
            ],
            "type": "heatmapgl"
           }
          ],
          "histogram": [
           {
            "marker": {
             "pattern": {
              "fillmode": "overlay",
              "size": 10,
              "solidity": 0.2
             }
            },
            "type": "histogram"
           }
          ],
          "histogram2d": [
           {
            "colorbar": {
             "outlinewidth": 0,
             "ticks": ""
            },
            "colorscale": [
             [
              0,
              "#0d0887"
             ],
             [
              0.1111111111111111,
              "#46039f"
             ],
             [
              0.2222222222222222,
              "#7201a8"
             ],
             [
              0.3333333333333333,
              "#9c179e"
             ],
             [
              0.4444444444444444,
              "#bd3786"
             ],
             [
              0.5555555555555556,
              "#d8576b"
             ],
             [
              0.6666666666666666,
              "#ed7953"
             ],
             [
              0.7777777777777778,
              "#fb9f3a"
             ],
             [
              0.8888888888888888,
              "#fdca26"
             ],
             [
              1,
              "#f0f921"
             ]
            ],
            "type": "histogram2d"
           }
          ],
          "histogram2dcontour": [
           {
            "colorbar": {
             "outlinewidth": 0,
             "ticks": ""
            },
            "colorscale": [
             [
              0,
              "#0d0887"
             ],
             [
              0.1111111111111111,
              "#46039f"
             ],
             [
              0.2222222222222222,
              "#7201a8"
             ],
             [
              0.3333333333333333,
              "#9c179e"
             ],
             [
              0.4444444444444444,
              "#bd3786"
             ],
             [
              0.5555555555555556,
              "#d8576b"
             ],
             [
              0.6666666666666666,
              "#ed7953"
             ],
             [
              0.7777777777777778,
              "#fb9f3a"
             ],
             [
              0.8888888888888888,
              "#fdca26"
             ],
             [
              1,
              "#f0f921"
             ]
            ],
            "type": "histogram2dcontour"
           }
          ],
          "mesh3d": [
           {
            "colorbar": {
             "outlinewidth": 0,
             "ticks": ""
            },
            "type": "mesh3d"
           }
          ],
          "parcoords": [
           {
            "line": {
             "colorbar": {
              "outlinewidth": 0,
              "ticks": ""
             }
            },
            "type": "parcoords"
           }
          ],
          "pie": [
           {
            "automargin": true,
            "type": "pie"
           }
          ],
          "scatter": [
           {
            "fillpattern": {
             "fillmode": "overlay",
             "size": 10,
             "solidity": 0.2
            },
            "type": "scatter"
           }
          ],
          "scatter3d": [
           {
            "line": {
             "colorbar": {
              "outlinewidth": 0,
              "ticks": ""
             }
            },
            "marker": {
             "colorbar": {
              "outlinewidth": 0,
              "ticks": ""
             }
            },
            "type": "scatter3d"
           }
          ],
          "scattercarpet": [
           {
            "marker": {
             "colorbar": {
              "outlinewidth": 0,
              "ticks": ""
             }
            },
            "type": "scattercarpet"
           }
          ],
          "scattergeo": [
           {
            "marker": {
             "colorbar": {
              "outlinewidth": 0,
              "ticks": ""
             }
            },
            "type": "scattergeo"
           }
          ],
          "scattergl": [
           {
            "marker": {
             "colorbar": {
              "outlinewidth": 0,
              "ticks": ""
             }
            },
            "type": "scattergl"
           }
          ],
          "scattermapbox": [
           {
            "marker": {
             "colorbar": {
              "outlinewidth": 0,
              "ticks": ""
             }
            },
            "type": "scattermapbox"
           }
          ],
          "scatterpolar": [
           {
            "marker": {
             "colorbar": {
              "outlinewidth": 0,
              "ticks": ""
             }
            },
            "type": "scatterpolar"
           }
          ],
          "scatterpolargl": [
           {
            "marker": {
             "colorbar": {
              "outlinewidth": 0,
              "ticks": ""
             }
            },
            "type": "scatterpolargl"
           }
          ],
          "scatterternary": [
           {
            "marker": {
             "colorbar": {
              "outlinewidth": 0,
              "ticks": ""
             }
            },
            "type": "scatterternary"
           }
          ],
          "surface": [
           {
            "colorbar": {
             "outlinewidth": 0,
             "ticks": ""
            },
            "colorscale": [
             [
              0,
              "#0d0887"
             ],
             [
              0.1111111111111111,
              "#46039f"
             ],
             [
              0.2222222222222222,
              "#7201a8"
             ],
             [
              0.3333333333333333,
              "#9c179e"
             ],
             [
              0.4444444444444444,
              "#bd3786"
             ],
             [
              0.5555555555555556,
              "#d8576b"
             ],
             [
              0.6666666666666666,
              "#ed7953"
             ],
             [
              0.7777777777777778,
              "#fb9f3a"
             ],
             [
              0.8888888888888888,
              "#fdca26"
             ],
             [
              1,
              "#f0f921"
             ]
            ],
            "type": "surface"
           }
          ],
          "table": [
           {
            "cells": {
             "fill": {
              "color": "#EBF0F8"
             },
             "line": {
              "color": "white"
             }
            },
            "header": {
             "fill": {
              "color": "#C8D4E3"
             },
             "line": {
              "color": "white"
             }
            },
            "type": "table"
           }
          ]
         },
         "layout": {
          "annotationdefaults": {
           "arrowcolor": "#2a3f5f",
           "arrowhead": 0,
           "arrowwidth": 1
          },
          "autotypenumbers": "strict",
          "coloraxis": {
           "colorbar": {
            "outlinewidth": 0,
            "ticks": ""
           }
          },
          "colorscale": {
           "diverging": [
            [
             0,
             "#8e0152"
            ],
            [
             0.1,
             "#c51b7d"
            ],
            [
             0.2,
             "#de77ae"
            ],
            [
             0.3,
             "#f1b6da"
            ],
            [
             0.4,
             "#fde0ef"
            ],
            [
             0.5,
             "#f7f7f7"
            ],
            [
             0.6,
             "#e6f5d0"
            ],
            [
             0.7,
             "#b8e186"
            ],
            [
             0.8,
             "#7fbc41"
            ],
            [
             0.9,
             "#4d9221"
            ],
            [
             1,
             "#276419"
            ]
           ],
           "sequential": [
            [
             0,
             "#0d0887"
            ],
            [
             0.1111111111111111,
             "#46039f"
            ],
            [
             0.2222222222222222,
             "#7201a8"
            ],
            [
             0.3333333333333333,
             "#9c179e"
            ],
            [
             0.4444444444444444,
             "#bd3786"
            ],
            [
             0.5555555555555556,
             "#d8576b"
            ],
            [
             0.6666666666666666,
             "#ed7953"
            ],
            [
             0.7777777777777778,
             "#fb9f3a"
            ],
            [
             0.8888888888888888,
             "#fdca26"
            ],
            [
             1,
             "#f0f921"
            ]
           ],
           "sequentialminus": [
            [
             0,
             "#0d0887"
            ],
            [
             0.1111111111111111,
             "#46039f"
            ],
            [
             0.2222222222222222,
             "#7201a8"
            ],
            [
             0.3333333333333333,
             "#9c179e"
            ],
            [
             0.4444444444444444,
             "#bd3786"
            ],
            [
             0.5555555555555556,
             "#d8576b"
            ],
            [
             0.6666666666666666,
             "#ed7953"
            ],
            [
             0.7777777777777778,
             "#fb9f3a"
            ],
            [
             0.8888888888888888,
             "#fdca26"
            ],
            [
             1,
             "#f0f921"
            ]
           ]
          },
          "colorway": [
           "#636efa",
           "#EF553B",
           "#00cc96",
           "#ab63fa",
           "#FFA15A",
           "#19d3f3",
           "#FF6692",
           "#B6E880",
           "#FF97FF",
           "#FECB52"
          ],
          "font": {
           "color": "#2a3f5f"
          },
          "geo": {
           "bgcolor": "white",
           "lakecolor": "white",
           "landcolor": "#E5ECF6",
           "showlakes": true,
           "showland": true,
           "subunitcolor": "white"
          },
          "hoverlabel": {
           "align": "left"
          },
          "hovermode": "closest",
          "mapbox": {
           "style": "light"
          },
          "paper_bgcolor": "white",
          "plot_bgcolor": "#E5ECF6",
          "polar": {
           "angularaxis": {
            "gridcolor": "white",
            "linecolor": "white",
            "ticks": ""
           },
           "bgcolor": "#E5ECF6",
           "radialaxis": {
            "gridcolor": "white",
            "linecolor": "white",
            "ticks": ""
           }
          },
          "scene": {
           "xaxis": {
            "backgroundcolor": "#E5ECF6",
            "gridcolor": "white",
            "gridwidth": 2,
            "linecolor": "white",
            "showbackground": true,
            "ticks": "",
            "zerolinecolor": "white"
           },
           "yaxis": {
            "backgroundcolor": "#E5ECF6",
            "gridcolor": "white",
            "gridwidth": 2,
            "linecolor": "white",
            "showbackground": true,
            "ticks": "",
            "zerolinecolor": "white"
           },
           "zaxis": {
            "backgroundcolor": "#E5ECF6",
            "gridcolor": "white",
            "gridwidth": 2,
            "linecolor": "white",
            "showbackground": true,
            "ticks": "",
            "zerolinecolor": "white"
           }
          },
          "shapedefaults": {
           "line": {
            "color": "#2a3f5f"
           }
          },
          "ternary": {
           "aaxis": {
            "gridcolor": "white",
            "linecolor": "white",
            "ticks": ""
           },
           "baxis": {
            "gridcolor": "white",
            "linecolor": "white",
            "ticks": ""
           },
           "bgcolor": "#E5ECF6",
           "caxis": {
            "gridcolor": "white",
            "linecolor": "white",
            "ticks": ""
           }
          },
          "title": {
           "x": 0.05
          },
          "xaxis": {
           "automargin": true,
           "gridcolor": "white",
           "linecolor": "white",
           "ticks": "",
           "title": {
            "standoff": 15
           },
           "zerolinecolor": "white",
           "zerolinewidth": 2
          },
          "yaxis": {
           "automargin": true,
           "gridcolor": "white",
           "linecolor": "white",
           "ticks": "",
           "title": {
            "standoff": 15
           },
           "zerolinecolor": "white",
           "zerolinewidth": 2
          }
         }
        },
        "title": {
         "text": "Internetlevel der Teilnehmer:innen, n=203"
        },
        "yaxis": {
         "title": {
          "text": "Dauer des Tests in Sekunden"
         }
        }
       }
      }
     },
     "metadata": {},
     "output_type": "display_data"
    },
    {
     "data": {
      "application/vnd.plotly.v1+json": {
       "config": {
        "plotlyServerURL": "https://plot.ly"
       },
       "data": [
        {
         "cells": {
          "align": [
           "left",
           "center"
          ],
          "fill": {
           "color": [
            [
             "white",
             "lightgrey",
             "white",
             "lightgrey",
             "white",
             "white",
             "lightgrey",
             "white",
             "lightgrey",
             "white",
             "white",
             "lightgrey",
             "white",
             "lightgrey",
             "white",
             "white",
             "lightgrey",
             "white",
             "lightgrey",
             "white",
             "white",
             "lightgrey",
             "white",
             "lightgrey",
             "white"
            ]
           ]
          },
          "font": {
           "color": "darkslategray",
           "size": 11
          },
          "line": {
           "color": "darkslategray"
          },
          "values": [
           [
            "<b>Gesamt</b>",
            "<b>Liste</b>",
            "<b>Chord</b>",
            "<b>Map</b>"
           ],
           [
            8,
            3,
            4,
            1
           ],
           [
            114,
            30,
            32,
            52
           ],
           [
            81,
            20,
            22,
            39
           ]
          ]
         },
         "header": {
          "align": [
           "left",
           "center"
          ],
          "fill": {
           "color": "grey"
          },
          "font": {
           "color": "white",
           "size": 12
          },
          "line": {
           "color": "darkslategray"
          },
          "values": [
           "<b>Internetlevel</b>",
           "<b>Anfänger</b>",
           "<b>Erfahrene Nutzerin, Erfahrener Nutzer</b>",
           "<b>Internet-Profi</b>"
          ]
         },
         "type": "table"
        }
       ],
       "layout": {
        "font": {
         "family": "Frutiger Next LT W1G, Gill Sans, sans-serif",
         "size": 12
        },
        "template": {
         "data": {
          "bar": [
           {
            "error_x": {
             "color": "#2a3f5f"
            },
            "error_y": {
             "color": "#2a3f5f"
            },
            "marker": {
             "line": {
              "color": "#E5ECF6",
              "width": 0.5
             },
             "pattern": {
              "fillmode": "overlay",
              "size": 10,
              "solidity": 0.2
             }
            },
            "type": "bar"
           }
          ],
          "barpolar": [
           {
            "marker": {
             "line": {
              "color": "#E5ECF6",
              "width": 0.5
             },
             "pattern": {
              "fillmode": "overlay",
              "size": 10,
              "solidity": 0.2
             }
            },
            "type": "barpolar"
           }
          ],
          "carpet": [
           {
            "aaxis": {
             "endlinecolor": "#2a3f5f",
             "gridcolor": "white",
             "linecolor": "white",
             "minorgridcolor": "white",
             "startlinecolor": "#2a3f5f"
            },
            "baxis": {
             "endlinecolor": "#2a3f5f",
             "gridcolor": "white",
             "linecolor": "white",
             "minorgridcolor": "white",
             "startlinecolor": "#2a3f5f"
            },
            "type": "carpet"
           }
          ],
          "choropleth": [
           {
            "colorbar": {
             "outlinewidth": 0,
             "ticks": ""
            },
            "type": "choropleth"
           }
          ],
          "contour": [
           {
            "colorbar": {
             "outlinewidth": 0,
             "ticks": ""
            },
            "colorscale": [
             [
              0,
              "#0d0887"
             ],
             [
              0.1111111111111111,
              "#46039f"
             ],
             [
              0.2222222222222222,
              "#7201a8"
             ],
             [
              0.3333333333333333,
              "#9c179e"
             ],
             [
              0.4444444444444444,
              "#bd3786"
             ],
             [
              0.5555555555555556,
              "#d8576b"
             ],
             [
              0.6666666666666666,
              "#ed7953"
             ],
             [
              0.7777777777777778,
              "#fb9f3a"
             ],
             [
              0.8888888888888888,
              "#fdca26"
             ],
             [
              1,
              "#f0f921"
             ]
            ],
            "type": "contour"
           }
          ],
          "contourcarpet": [
           {
            "colorbar": {
             "outlinewidth": 0,
             "ticks": ""
            },
            "type": "contourcarpet"
           }
          ],
          "heatmap": [
           {
            "colorbar": {
             "outlinewidth": 0,
             "ticks": ""
            },
            "colorscale": [
             [
              0,
              "#0d0887"
             ],
             [
              0.1111111111111111,
              "#46039f"
             ],
             [
              0.2222222222222222,
              "#7201a8"
             ],
             [
              0.3333333333333333,
              "#9c179e"
             ],
             [
              0.4444444444444444,
              "#bd3786"
             ],
             [
              0.5555555555555556,
              "#d8576b"
             ],
             [
              0.6666666666666666,
              "#ed7953"
             ],
             [
              0.7777777777777778,
              "#fb9f3a"
             ],
             [
              0.8888888888888888,
              "#fdca26"
             ],
             [
              1,
              "#f0f921"
             ]
            ],
            "type": "heatmap"
           }
          ],
          "heatmapgl": [
           {
            "colorbar": {
             "outlinewidth": 0,
             "ticks": ""
            },
            "colorscale": [
             [
              0,
              "#0d0887"
             ],
             [
              0.1111111111111111,
              "#46039f"
             ],
             [
              0.2222222222222222,
              "#7201a8"
             ],
             [
              0.3333333333333333,
              "#9c179e"
             ],
             [
              0.4444444444444444,
              "#bd3786"
             ],
             [
              0.5555555555555556,
              "#d8576b"
             ],
             [
              0.6666666666666666,
              "#ed7953"
             ],
             [
              0.7777777777777778,
              "#fb9f3a"
             ],
             [
              0.8888888888888888,
              "#fdca26"
             ],
             [
              1,
              "#f0f921"
             ]
            ],
            "type": "heatmapgl"
           }
          ],
          "histogram": [
           {
            "marker": {
             "pattern": {
              "fillmode": "overlay",
              "size": 10,
              "solidity": 0.2
             }
            },
            "type": "histogram"
           }
          ],
          "histogram2d": [
           {
            "colorbar": {
             "outlinewidth": 0,
             "ticks": ""
            },
            "colorscale": [
             [
              0,
              "#0d0887"
             ],
             [
              0.1111111111111111,
              "#46039f"
             ],
             [
              0.2222222222222222,
              "#7201a8"
             ],
             [
              0.3333333333333333,
              "#9c179e"
             ],
             [
              0.4444444444444444,
              "#bd3786"
             ],
             [
              0.5555555555555556,
              "#d8576b"
             ],
             [
              0.6666666666666666,
              "#ed7953"
             ],
             [
              0.7777777777777778,
              "#fb9f3a"
             ],
             [
              0.8888888888888888,
              "#fdca26"
             ],
             [
              1,
              "#f0f921"
             ]
            ],
            "type": "histogram2d"
           }
          ],
          "histogram2dcontour": [
           {
            "colorbar": {
             "outlinewidth": 0,
             "ticks": ""
            },
            "colorscale": [
             [
              0,
              "#0d0887"
             ],
             [
              0.1111111111111111,
              "#46039f"
             ],
             [
              0.2222222222222222,
              "#7201a8"
             ],
             [
              0.3333333333333333,
              "#9c179e"
             ],
             [
              0.4444444444444444,
              "#bd3786"
             ],
             [
              0.5555555555555556,
              "#d8576b"
             ],
             [
              0.6666666666666666,
              "#ed7953"
             ],
             [
              0.7777777777777778,
              "#fb9f3a"
             ],
             [
              0.8888888888888888,
              "#fdca26"
             ],
             [
              1,
              "#f0f921"
             ]
            ],
            "type": "histogram2dcontour"
           }
          ],
          "mesh3d": [
           {
            "colorbar": {
             "outlinewidth": 0,
             "ticks": ""
            },
            "type": "mesh3d"
           }
          ],
          "parcoords": [
           {
            "line": {
             "colorbar": {
              "outlinewidth": 0,
              "ticks": ""
             }
            },
            "type": "parcoords"
           }
          ],
          "pie": [
           {
            "automargin": true,
            "type": "pie"
           }
          ],
          "scatter": [
           {
            "fillpattern": {
             "fillmode": "overlay",
             "size": 10,
             "solidity": 0.2
            },
            "type": "scatter"
           }
          ],
          "scatter3d": [
           {
            "line": {
             "colorbar": {
              "outlinewidth": 0,
              "ticks": ""
             }
            },
            "marker": {
             "colorbar": {
              "outlinewidth": 0,
              "ticks": ""
             }
            },
            "type": "scatter3d"
           }
          ],
          "scattercarpet": [
           {
            "marker": {
             "colorbar": {
              "outlinewidth": 0,
              "ticks": ""
             }
            },
            "type": "scattercarpet"
           }
          ],
          "scattergeo": [
           {
            "marker": {
             "colorbar": {
              "outlinewidth": 0,
              "ticks": ""
             }
            },
            "type": "scattergeo"
           }
          ],
          "scattergl": [
           {
            "marker": {
             "colorbar": {
              "outlinewidth": 0,
              "ticks": ""
             }
            },
            "type": "scattergl"
           }
          ],
          "scattermapbox": [
           {
            "marker": {
             "colorbar": {
              "outlinewidth": 0,
              "ticks": ""
             }
            },
            "type": "scattermapbox"
           }
          ],
          "scatterpolar": [
           {
            "marker": {
             "colorbar": {
              "outlinewidth": 0,
              "ticks": ""
             }
            },
            "type": "scatterpolar"
           }
          ],
          "scatterpolargl": [
           {
            "marker": {
             "colorbar": {
              "outlinewidth": 0,
              "ticks": ""
             }
            },
            "type": "scatterpolargl"
           }
          ],
          "scatterternary": [
           {
            "marker": {
             "colorbar": {
              "outlinewidth": 0,
              "ticks": ""
             }
            },
            "type": "scatterternary"
           }
          ],
          "surface": [
           {
            "colorbar": {
             "outlinewidth": 0,
             "ticks": ""
            },
            "colorscale": [
             [
              0,
              "#0d0887"
             ],
             [
              0.1111111111111111,
              "#46039f"
             ],
             [
              0.2222222222222222,
              "#7201a8"
             ],
             [
              0.3333333333333333,
              "#9c179e"
             ],
             [
              0.4444444444444444,
              "#bd3786"
             ],
             [
              0.5555555555555556,
              "#d8576b"
             ],
             [
              0.6666666666666666,
              "#ed7953"
             ],
             [
              0.7777777777777778,
              "#fb9f3a"
             ],
             [
              0.8888888888888888,
              "#fdca26"
             ],
             [
              1,
              "#f0f921"
             ]
            ],
            "type": "surface"
           }
          ],
          "table": [
           {
            "cells": {
             "fill": {
              "color": "#EBF0F8"
             },
             "line": {
              "color": "white"
             }
            },
            "header": {
             "fill": {
              "color": "#C8D4E3"
             },
             "line": {
              "color": "white"
             }
            },
            "type": "table"
           }
          ]
         },
         "layout": {
          "annotationdefaults": {
           "arrowcolor": "#2a3f5f",
           "arrowhead": 0,
           "arrowwidth": 1
          },
          "autotypenumbers": "strict",
          "coloraxis": {
           "colorbar": {
            "outlinewidth": 0,
            "ticks": ""
           }
          },
          "colorscale": {
           "diverging": [
            [
             0,
             "#8e0152"
            ],
            [
             0.1,
             "#c51b7d"
            ],
            [
             0.2,
             "#de77ae"
            ],
            [
             0.3,
             "#f1b6da"
            ],
            [
             0.4,
             "#fde0ef"
            ],
            [
             0.5,
             "#f7f7f7"
            ],
            [
             0.6,
             "#e6f5d0"
            ],
            [
             0.7,
             "#b8e186"
            ],
            [
             0.8,
             "#7fbc41"
            ],
            [
             0.9,
             "#4d9221"
            ],
            [
             1,
             "#276419"
            ]
           ],
           "sequential": [
            [
             0,
             "#0d0887"
            ],
            [
             0.1111111111111111,
             "#46039f"
            ],
            [
             0.2222222222222222,
             "#7201a8"
            ],
            [
             0.3333333333333333,
             "#9c179e"
            ],
            [
             0.4444444444444444,
             "#bd3786"
            ],
            [
             0.5555555555555556,
             "#d8576b"
            ],
            [
             0.6666666666666666,
             "#ed7953"
            ],
            [
             0.7777777777777778,
             "#fb9f3a"
            ],
            [
             0.8888888888888888,
             "#fdca26"
            ],
            [
             1,
             "#f0f921"
            ]
           ],
           "sequentialminus": [
            [
             0,
             "#0d0887"
            ],
            [
             0.1111111111111111,
             "#46039f"
            ],
            [
             0.2222222222222222,
             "#7201a8"
            ],
            [
             0.3333333333333333,
             "#9c179e"
            ],
            [
             0.4444444444444444,
             "#bd3786"
            ],
            [
             0.5555555555555556,
             "#d8576b"
            ],
            [
             0.6666666666666666,
             "#ed7953"
            ],
            [
             0.7777777777777778,
             "#fb9f3a"
            ],
            [
             0.8888888888888888,
             "#fdca26"
            ],
            [
             1,
             "#f0f921"
            ]
           ]
          },
          "colorway": [
           "#636efa",
           "#EF553B",
           "#00cc96",
           "#ab63fa",
           "#FFA15A",
           "#19d3f3",
           "#FF6692",
           "#B6E880",
           "#FF97FF",
           "#FECB52"
          ],
          "font": {
           "color": "#2a3f5f"
          },
          "geo": {
           "bgcolor": "white",
           "lakecolor": "white",
           "landcolor": "#E5ECF6",
           "showlakes": true,
           "showland": true,
           "subunitcolor": "white"
          },
          "hoverlabel": {
           "align": "left"
          },
          "hovermode": "closest",
          "mapbox": {
           "style": "light"
          },
          "paper_bgcolor": "white",
          "plot_bgcolor": "#E5ECF6",
          "polar": {
           "angularaxis": {
            "gridcolor": "white",
            "linecolor": "white",
            "ticks": ""
           },
           "bgcolor": "#E5ECF6",
           "radialaxis": {
            "gridcolor": "white",
            "linecolor": "white",
            "ticks": ""
           }
          },
          "scene": {
           "xaxis": {
            "backgroundcolor": "#E5ECF6",
            "gridcolor": "white",
            "gridwidth": 2,
            "linecolor": "white",
            "showbackground": true,
            "ticks": "",
            "zerolinecolor": "white"
           },
           "yaxis": {
            "backgroundcolor": "#E5ECF6",
            "gridcolor": "white",
            "gridwidth": 2,
            "linecolor": "white",
            "showbackground": true,
            "ticks": "",
            "zerolinecolor": "white"
           },
           "zaxis": {
            "backgroundcolor": "#E5ECF6",
            "gridcolor": "white",
            "gridwidth": 2,
            "linecolor": "white",
            "showbackground": true,
            "ticks": "",
            "zerolinecolor": "white"
           }
          },
          "shapedefaults": {
           "line": {
            "color": "#2a3f5f"
           }
          },
          "ternary": {
           "aaxis": {
            "gridcolor": "white",
            "linecolor": "white",
            "ticks": ""
           },
           "baxis": {
            "gridcolor": "white",
            "linecolor": "white",
            "ticks": ""
           },
           "bgcolor": "#E5ECF6",
           "caxis": {
            "gridcolor": "white",
            "linecolor": "white",
            "ticks": ""
           }
          },
          "title": {
           "x": 0.05
          },
          "xaxis": {
           "automargin": true,
           "gridcolor": "white",
           "linecolor": "white",
           "ticks": "",
           "title": {
            "standoff": 15
           },
           "zerolinecolor": "white",
           "zerolinewidth": 2
          },
          "yaxis": {
           "automargin": true,
           "gridcolor": "white",
           "linecolor": "white",
           "ticks": "",
           "title": {
            "standoff": 15
           },
           "zerolinecolor": "white",
           "zerolinewidth": 2
          }
         }
        },
        "title": {
         "text": "Internetlevel der Teilnehmer:innen, n=203"
        },
        "yaxis": {
         "title": {
          "text": "Dauer des Tests in Sekunden"
         }
        }
       }
      }
     },
     "metadata": {},
     "output_type": "display_data"
    }
   ],
   "source": [
    "dfAll = surveyData[['internet-level', 'highest-preferenced-viz']]\n",
    "dfAll = dfAll.groupby(['internet-level'], dropna=False)['internet-level'].count().reset_index(name='count')\n",
    "\n",
    "dfListe = surveyData.loc[surveyData['highest-preferenced-viz'] == 'Liste'][['internet-level', 'highest-preferenced-viz']]\n",
    "dfListe = dfListe.groupby(['internet-level'], dropna=False)['internet-level'].count().reset_index(name='count')\n",
    "\n",
    "dfChord = surveyData.loc[surveyData['highest-preferenced-viz'] == 'Chord'][['internet-level', 'highest-preferenced-viz']]\n",
    "dfChord = dfChord.groupby(['internet-level'], dropna=False)['internet-level'].count().reset_index(name='count')\n",
    "\n",
    "dfMap = surveyData.loc[surveyData['highest-preferenced-viz'] == 'Map'][['internet-level', 'highest-preferenced-viz']]\n",
    "dfMap = dfMap.groupby(['internet-level'], dropna=False)['internet-level'].count().reset_index(name='count')\n",
    "\n",
    "# Label strings\n",
    "chartLabel = f\"Internetlevel der Teilnehmer:innen, n={len(surveyData[['internet-level']])}\"\n",
    "categoryGroups = [\"Anfänger\", \"Erfahrene Nutzerin, Erfahrener Nutzer\", \"Internet-Profi\"]\n",
    "\n",
    "fig = make_subplots(rows=2, cols=3, \n",
    "    specs=[\n",
    "        [None, {'type':'domain'}, None],\n",
    "        [{'type':'domain'}, {'type':'domain'}, {'type':'domain'}],\n",
    "    ],\n",
    "    subplot_titles=(\"Gesamt\",\"Liste favorisiert\", \"Chord  favorisiert\",  \"Map favorisiert\"))\n",
    "\n",
    "fig.add_trace(go.Pie(labels=categoryGroups, values=dfAll['count'], sort=False, direction='clockwise', marker_colors=urCdColors),\n",
    "              1, 2)\n",
    "fig.add_trace(go.Pie(labels=categoryGroups, values=dfListe['count'], sort=False, direction='clockwise', marker_colors=urCdColors),\n",
    "              2, 1)\n",
    "fig.add_trace(go.Pie(labels=categoryGroups, values=dfChord['count'], sort=False, direction='clockwise', marker_colors=urCdColors),\n",
    "              2, 2)\n",
    "fig.add_trace(go.Pie(labels=categoryGroups, values=dfMap['count'], sort=False, direction='clockwise', marker_colors=urCdColors),\n",
    "              2, 3)\n",
    "\n",
    "fig.update_traces(textinfo='percent+label')\n",
    "fig.update_layout(\n",
    "    title=chartLabel,\n",
    "    yaxis_title=yLabel,\n",
    "    height=850,\n",
    "    #legend_title=\"Legend Title\",\n",
    "    font=dict(\n",
    "        family=\"Frutiger Next LT W1G, Gill Sans, sans-serif\",\n",
    "        size=12,\n",
    "        # color=\"RebeccaPurple\"\n",
    "    )\n",
    ")\n",
    "fig.update(layout_showlegend=True)\n",
    "fig.update_annotations(yshift=70)\n",
    "fig.show()\n",
    "\n",
    "\n",
    "# Table mood development\n",
    "fig = go.Figure(data=[go.Table(\n",
    "  header=dict(\n",
    "    values=['<b>Internetlevel</b>', f\"<b>{categoryGroups[0]}</b>\", f\"<b>{categoryGroups[1]}</b>\", f\"<b>{categoryGroups[2]}</b>\"],\n",
    "    line_color='darkslategray',\n",
    "    fill_color=headerColor,\n",
    "    align=['left','center'],\n",
    "    font=dict(color='white', size=12)\n",
    "  ),\n",
    "  cells=dict(\n",
    "    values=[\n",
    "      # [surveyData[surveyData['sex'] == 'männlich'], surveyData[surveyData['sex'] == 'nicht angegeben'], surveyData[surveyData['sex'] == 'weiblich']]],\n",
    "        ['<b>Gesamt</b>','<b>Liste</b>', '<b>Chord</b>', '<b>Map</b>'],\n",
    "        [dfAll.iloc[0]['count'], dfListe.iloc[0]['count'], dfChord.iloc[0]['count'], dfMap.iloc[0]['count']],\n",
    "        [dfAll.iloc[1]['count'], dfListe.iloc[1]['count'], dfChord.iloc[1]['count'], dfMap.iloc[1]['count']],\n",
    "        [dfAll.iloc[2]['count'], dfListe.iloc[2]['count'], dfChord.iloc[2]['count'], dfMap.iloc[2]['count']]\n",
    "      ],\n",
    "    line_color='darkslategray',\n",
    "    # 2-D list of colors for alternating rows\n",
    "    fill_color = [[rowOddColor,rowEvenColor,rowOddColor, rowEvenColor,rowOddColor]*5],\n",
    "    align = ['left', 'center'],\n",
    "    font = dict(color = 'darkslategray', size = 11)\n",
    "    ))\n",
    "])\n",
    "\n",
    "fig.update_layout(\n",
    "    title=chartLabel,\n",
    "    yaxis_title=yLabel,\n",
    "    # legend_title=\"Legend Title\",\n",
    "    font=dict(\n",
    "        family=\"Frutiger Next LT W1G, Gill Sans, sans-serif\",\n",
    "        size=12,\n",
    "        # color=\"RebeccaPurple\"\n",
    "    )\n",
    ")\n",
    "\n",
    "fig.show()\n"
   ]
  },
  {
   "cell_type": "markdown",
   "metadata": {},
   "source": [
    "## Internet Usage Setting"
   ]
  },
  {
   "cell_type": "code",
   "execution_count": 14,
   "metadata": {},
   "outputs": [
    {
     "data": {
      "application/vnd.plotly.v1+json": {
       "config": {
        "plotlyServerURL": "https://plot.ly"
       },
       "data": [
        {
         "labels": [
          "Arbeit",
          "Beides etwa gleich",
          "Privat"
         ],
         "marker": {
          "colors": [
           "rgb(156,0,75)",
           "rgb(0,155,119)",
           "rgb(0,135,178)",
           "rgb(174,167,0)",
           "rgb(236,98,0)",
           "rgb(191,0,42)",
           "rgb(79,184,0)",
           "rgb(0,137,147)",
           "rgb(0,85,106)",
           "rgb(205,211,15)",
           "rgb(236,188,0)"
          ]
         },
         "sort": false,
         "textinfo": "percent+label",
         "type": "pie",
         "values": [
          3,
          51,
          149
         ]
        }
       ],
       "layout": {
        "font": {
         "family": "Frutiger Next LT W1G, Gill Sans, sans-serif",
         "size": 12
        },
        "template": {
         "data": {
          "bar": [
           {
            "error_x": {
             "color": "#2a3f5f"
            },
            "error_y": {
             "color": "#2a3f5f"
            },
            "marker": {
             "line": {
              "color": "#E5ECF6",
              "width": 0.5
             },
             "pattern": {
              "fillmode": "overlay",
              "size": 10,
              "solidity": 0.2
             }
            },
            "type": "bar"
           }
          ],
          "barpolar": [
           {
            "marker": {
             "line": {
              "color": "#E5ECF6",
              "width": 0.5
             },
             "pattern": {
              "fillmode": "overlay",
              "size": 10,
              "solidity": 0.2
             }
            },
            "type": "barpolar"
           }
          ],
          "carpet": [
           {
            "aaxis": {
             "endlinecolor": "#2a3f5f",
             "gridcolor": "white",
             "linecolor": "white",
             "minorgridcolor": "white",
             "startlinecolor": "#2a3f5f"
            },
            "baxis": {
             "endlinecolor": "#2a3f5f",
             "gridcolor": "white",
             "linecolor": "white",
             "minorgridcolor": "white",
             "startlinecolor": "#2a3f5f"
            },
            "type": "carpet"
           }
          ],
          "choropleth": [
           {
            "colorbar": {
             "outlinewidth": 0,
             "ticks": ""
            },
            "type": "choropleth"
           }
          ],
          "contour": [
           {
            "colorbar": {
             "outlinewidth": 0,
             "ticks": ""
            },
            "colorscale": [
             [
              0,
              "#0d0887"
             ],
             [
              0.1111111111111111,
              "#46039f"
             ],
             [
              0.2222222222222222,
              "#7201a8"
             ],
             [
              0.3333333333333333,
              "#9c179e"
             ],
             [
              0.4444444444444444,
              "#bd3786"
             ],
             [
              0.5555555555555556,
              "#d8576b"
             ],
             [
              0.6666666666666666,
              "#ed7953"
             ],
             [
              0.7777777777777778,
              "#fb9f3a"
             ],
             [
              0.8888888888888888,
              "#fdca26"
             ],
             [
              1,
              "#f0f921"
             ]
            ],
            "type": "contour"
           }
          ],
          "contourcarpet": [
           {
            "colorbar": {
             "outlinewidth": 0,
             "ticks": ""
            },
            "type": "contourcarpet"
           }
          ],
          "heatmap": [
           {
            "colorbar": {
             "outlinewidth": 0,
             "ticks": ""
            },
            "colorscale": [
             [
              0,
              "#0d0887"
             ],
             [
              0.1111111111111111,
              "#46039f"
             ],
             [
              0.2222222222222222,
              "#7201a8"
             ],
             [
              0.3333333333333333,
              "#9c179e"
             ],
             [
              0.4444444444444444,
              "#bd3786"
             ],
             [
              0.5555555555555556,
              "#d8576b"
             ],
             [
              0.6666666666666666,
              "#ed7953"
             ],
             [
              0.7777777777777778,
              "#fb9f3a"
             ],
             [
              0.8888888888888888,
              "#fdca26"
             ],
             [
              1,
              "#f0f921"
             ]
            ],
            "type": "heatmap"
           }
          ],
          "heatmapgl": [
           {
            "colorbar": {
             "outlinewidth": 0,
             "ticks": ""
            },
            "colorscale": [
             [
              0,
              "#0d0887"
             ],
             [
              0.1111111111111111,
              "#46039f"
             ],
             [
              0.2222222222222222,
              "#7201a8"
             ],
             [
              0.3333333333333333,
              "#9c179e"
             ],
             [
              0.4444444444444444,
              "#bd3786"
             ],
             [
              0.5555555555555556,
              "#d8576b"
             ],
             [
              0.6666666666666666,
              "#ed7953"
             ],
             [
              0.7777777777777778,
              "#fb9f3a"
             ],
             [
              0.8888888888888888,
              "#fdca26"
             ],
             [
              1,
              "#f0f921"
             ]
            ],
            "type": "heatmapgl"
           }
          ],
          "histogram": [
           {
            "marker": {
             "pattern": {
              "fillmode": "overlay",
              "size": 10,
              "solidity": 0.2
             }
            },
            "type": "histogram"
           }
          ],
          "histogram2d": [
           {
            "colorbar": {
             "outlinewidth": 0,
             "ticks": ""
            },
            "colorscale": [
             [
              0,
              "#0d0887"
             ],
             [
              0.1111111111111111,
              "#46039f"
             ],
             [
              0.2222222222222222,
              "#7201a8"
             ],
             [
              0.3333333333333333,
              "#9c179e"
             ],
             [
              0.4444444444444444,
              "#bd3786"
             ],
             [
              0.5555555555555556,
              "#d8576b"
             ],
             [
              0.6666666666666666,
              "#ed7953"
             ],
             [
              0.7777777777777778,
              "#fb9f3a"
             ],
             [
              0.8888888888888888,
              "#fdca26"
             ],
             [
              1,
              "#f0f921"
             ]
            ],
            "type": "histogram2d"
           }
          ],
          "histogram2dcontour": [
           {
            "colorbar": {
             "outlinewidth": 0,
             "ticks": ""
            },
            "colorscale": [
             [
              0,
              "#0d0887"
             ],
             [
              0.1111111111111111,
              "#46039f"
             ],
             [
              0.2222222222222222,
              "#7201a8"
             ],
             [
              0.3333333333333333,
              "#9c179e"
             ],
             [
              0.4444444444444444,
              "#bd3786"
             ],
             [
              0.5555555555555556,
              "#d8576b"
             ],
             [
              0.6666666666666666,
              "#ed7953"
             ],
             [
              0.7777777777777778,
              "#fb9f3a"
             ],
             [
              0.8888888888888888,
              "#fdca26"
             ],
             [
              1,
              "#f0f921"
             ]
            ],
            "type": "histogram2dcontour"
           }
          ],
          "mesh3d": [
           {
            "colorbar": {
             "outlinewidth": 0,
             "ticks": ""
            },
            "type": "mesh3d"
           }
          ],
          "parcoords": [
           {
            "line": {
             "colorbar": {
              "outlinewidth": 0,
              "ticks": ""
             }
            },
            "type": "parcoords"
           }
          ],
          "pie": [
           {
            "automargin": true,
            "type": "pie"
           }
          ],
          "scatter": [
           {
            "fillpattern": {
             "fillmode": "overlay",
             "size": 10,
             "solidity": 0.2
            },
            "type": "scatter"
           }
          ],
          "scatter3d": [
           {
            "line": {
             "colorbar": {
              "outlinewidth": 0,
              "ticks": ""
             }
            },
            "marker": {
             "colorbar": {
              "outlinewidth": 0,
              "ticks": ""
             }
            },
            "type": "scatter3d"
           }
          ],
          "scattercarpet": [
           {
            "marker": {
             "colorbar": {
              "outlinewidth": 0,
              "ticks": ""
             }
            },
            "type": "scattercarpet"
           }
          ],
          "scattergeo": [
           {
            "marker": {
             "colorbar": {
              "outlinewidth": 0,
              "ticks": ""
             }
            },
            "type": "scattergeo"
           }
          ],
          "scattergl": [
           {
            "marker": {
             "colorbar": {
              "outlinewidth": 0,
              "ticks": ""
             }
            },
            "type": "scattergl"
           }
          ],
          "scattermapbox": [
           {
            "marker": {
             "colorbar": {
              "outlinewidth": 0,
              "ticks": ""
             }
            },
            "type": "scattermapbox"
           }
          ],
          "scatterpolar": [
           {
            "marker": {
             "colorbar": {
              "outlinewidth": 0,
              "ticks": ""
             }
            },
            "type": "scatterpolar"
           }
          ],
          "scatterpolargl": [
           {
            "marker": {
             "colorbar": {
              "outlinewidth": 0,
              "ticks": ""
             }
            },
            "type": "scatterpolargl"
           }
          ],
          "scatterternary": [
           {
            "marker": {
             "colorbar": {
              "outlinewidth": 0,
              "ticks": ""
             }
            },
            "type": "scatterternary"
           }
          ],
          "surface": [
           {
            "colorbar": {
             "outlinewidth": 0,
             "ticks": ""
            },
            "colorscale": [
             [
              0,
              "#0d0887"
             ],
             [
              0.1111111111111111,
              "#46039f"
             ],
             [
              0.2222222222222222,
              "#7201a8"
             ],
             [
              0.3333333333333333,
              "#9c179e"
             ],
             [
              0.4444444444444444,
              "#bd3786"
             ],
             [
              0.5555555555555556,
              "#d8576b"
             ],
             [
              0.6666666666666666,
              "#ed7953"
             ],
             [
              0.7777777777777778,
              "#fb9f3a"
             ],
             [
              0.8888888888888888,
              "#fdca26"
             ],
             [
              1,
              "#f0f921"
             ]
            ],
            "type": "surface"
           }
          ],
          "table": [
           {
            "cells": {
             "fill": {
              "color": "#EBF0F8"
             },
             "line": {
              "color": "white"
             }
            },
            "header": {
             "fill": {
              "color": "#C8D4E3"
             },
             "line": {
              "color": "white"
             }
            },
            "type": "table"
           }
          ]
         },
         "layout": {
          "annotationdefaults": {
           "arrowcolor": "#2a3f5f",
           "arrowhead": 0,
           "arrowwidth": 1
          },
          "autotypenumbers": "strict",
          "coloraxis": {
           "colorbar": {
            "outlinewidth": 0,
            "ticks": ""
           }
          },
          "colorscale": {
           "diverging": [
            [
             0,
             "#8e0152"
            ],
            [
             0.1,
             "#c51b7d"
            ],
            [
             0.2,
             "#de77ae"
            ],
            [
             0.3,
             "#f1b6da"
            ],
            [
             0.4,
             "#fde0ef"
            ],
            [
             0.5,
             "#f7f7f7"
            ],
            [
             0.6,
             "#e6f5d0"
            ],
            [
             0.7,
             "#b8e186"
            ],
            [
             0.8,
             "#7fbc41"
            ],
            [
             0.9,
             "#4d9221"
            ],
            [
             1,
             "#276419"
            ]
           ],
           "sequential": [
            [
             0,
             "#0d0887"
            ],
            [
             0.1111111111111111,
             "#46039f"
            ],
            [
             0.2222222222222222,
             "#7201a8"
            ],
            [
             0.3333333333333333,
             "#9c179e"
            ],
            [
             0.4444444444444444,
             "#bd3786"
            ],
            [
             0.5555555555555556,
             "#d8576b"
            ],
            [
             0.6666666666666666,
             "#ed7953"
            ],
            [
             0.7777777777777778,
             "#fb9f3a"
            ],
            [
             0.8888888888888888,
             "#fdca26"
            ],
            [
             1,
             "#f0f921"
            ]
           ],
           "sequentialminus": [
            [
             0,
             "#0d0887"
            ],
            [
             0.1111111111111111,
             "#46039f"
            ],
            [
             0.2222222222222222,
             "#7201a8"
            ],
            [
             0.3333333333333333,
             "#9c179e"
            ],
            [
             0.4444444444444444,
             "#bd3786"
            ],
            [
             0.5555555555555556,
             "#d8576b"
            ],
            [
             0.6666666666666666,
             "#ed7953"
            ],
            [
             0.7777777777777778,
             "#fb9f3a"
            ],
            [
             0.8888888888888888,
             "#fdca26"
            ],
            [
             1,
             "#f0f921"
            ]
           ]
          },
          "colorway": [
           "#636efa",
           "#EF553B",
           "#00cc96",
           "#ab63fa",
           "#FFA15A",
           "#19d3f3",
           "#FF6692",
           "#B6E880",
           "#FF97FF",
           "#FECB52"
          ],
          "font": {
           "color": "#2a3f5f"
          },
          "geo": {
           "bgcolor": "white",
           "lakecolor": "white",
           "landcolor": "#E5ECF6",
           "showlakes": true,
           "showland": true,
           "subunitcolor": "white"
          },
          "hoverlabel": {
           "align": "left"
          },
          "hovermode": "closest",
          "mapbox": {
           "style": "light"
          },
          "paper_bgcolor": "white",
          "plot_bgcolor": "#E5ECF6",
          "polar": {
           "angularaxis": {
            "gridcolor": "white",
            "linecolor": "white",
            "ticks": ""
           },
           "bgcolor": "#E5ECF6",
           "radialaxis": {
            "gridcolor": "white",
            "linecolor": "white",
            "ticks": ""
           }
          },
          "scene": {
           "xaxis": {
            "backgroundcolor": "#E5ECF6",
            "gridcolor": "white",
            "gridwidth": 2,
            "linecolor": "white",
            "showbackground": true,
            "ticks": "",
            "zerolinecolor": "white"
           },
           "yaxis": {
            "backgroundcolor": "#E5ECF6",
            "gridcolor": "white",
            "gridwidth": 2,
            "linecolor": "white",
            "showbackground": true,
            "ticks": "",
            "zerolinecolor": "white"
           },
           "zaxis": {
            "backgroundcolor": "#E5ECF6",
            "gridcolor": "white",
            "gridwidth": 2,
            "linecolor": "white",
            "showbackground": true,
            "ticks": "",
            "zerolinecolor": "white"
           }
          },
          "shapedefaults": {
           "line": {
            "color": "#2a3f5f"
           }
          },
          "ternary": {
           "aaxis": {
            "gridcolor": "white",
            "linecolor": "white",
            "ticks": ""
           },
           "baxis": {
            "gridcolor": "white",
            "linecolor": "white",
            "ticks": ""
           },
           "bgcolor": "#E5ECF6",
           "caxis": {
            "gridcolor": "white",
            "linecolor": "white",
            "ticks": ""
           }
          },
          "title": {
           "x": 0.05
          },
          "xaxis": {
           "automargin": true,
           "gridcolor": "white",
           "linecolor": "white",
           "ticks": "",
           "title": {
            "standoff": 15
           },
           "zerolinecolor": "white",
           "zerolinewidth": 2
          },
          "yaxis": {
           "automargin": true,
           "gridcolor": "white",
           "linecolor": "white",
           "ticks": "",
           "title": {
            "standoff": 15
           },
           "zerolinecolor": "white",
           "zerolinewidth": 2
          }
         }
        },
        "title": {
         "text": "Internetnutzung nach Setting, n=203"
        },
        "yaxis": {
         "title": {
          "text": "Dauer des Tests in Sekunden"
         }
        }
       }
      }
     },
     "metadata": {},
     "output_type": "display_data"
    },
    {
     "data": {
      "application/vnd.plotly.v1+json": {
       "config": {
        "plotlyServerURL": "https://plot.ly"
       },
       "data": [
        {
         "cells": {
          "align": [
           "left",
           "center"
          ],
          "fill": {
           "color": [
            [
             "white",
             "lightgrey",
             "white",
             "lightgrey",
             "white",
             "white",
             "lightgrey",
             "white",
             "lightgrey",
             "white",
             "white",
             "lightgrey",
             "white",
             "lightgrey",
             "white",
             "white",
             "lightgrey",
             "white",
             "lightgrey",
             "white",
             "white",
             "lightgrey",
             "white",
             "lightgrey",
             "white"
            ]
           ]
          },
          "font": {
           "color": "darkslategray",
           "size": 11
          },
          "line": {
           "color": "darkslategray"
          },
          "values": [
           [
            "<b>Anzahl</b>"
           ],
           [
            3
           ],
           [
            51
           ],
           [
            149
           ]
          ]
         },
         "header": {
          "align": [
           "left",
           "center"
          ],
          "fill": {
           "color": "grey"
          },
          "font": {
           "color": "white",
           "size": 12
          },
          "line": {
           "color": "darkslategray"
          },
          "values": [
           "<b>Internetnutzungssetting</b>",
           "<b>Arbeit</b>",
           "<b>Beides etwa gleich</b>",
           "<b>Privat</b>"
          ]
         },
         "type": "table"
        }
       ],
       "layout": {
        "font": {
         "family": "Frutiger Next LT W1G, Gill Sans, sans-serif",
         "size": 12
        },
        "template": {
         "data": {
          "bar": [
           {
            "error_x": {
             "color": "#2a3f5f"
            },
            "error_y": {
             "color": "#2a3f5f"
            },
            "marker": {
             "line": {
              "color": "#E5ECF6",
              "width": 0.5
             },
             "pattern": {
              "fillmode": "overlay",
              "size": 10,
              "solidity": 0.2
             }
            },
            "type": "bar"
           }
          ],
          "barpolar": [
           {
            "marker": {
             "line": {
              "color": "#E5ECF6",
              "width": 0.5
             },
             "pattern": {
              "fillmode": "overlay",
              "size": 10,
              "solidity": 0.2
             }
            },
            "type": "barpolar"
           }
          ],
          "carpet": [
           {
            "aaxis": {
             "endlinecolor": "#2a3f5f",
             "gridcolor": "white",
             "linecolor": "white",
             "minorgridcolor": "white",
             "startlinecolor": "#2a3f5f"
            },
            "baxis": {
             "endlinecolor": "#2a3f5f",
             "gridcolor": "white",
             "linecolor": "white",
             "minorgridcolor": "white",
             "startlinecolor": "#2a3f5f"
            },
            "type": "carpet"
           }
          ],
          "choropleth": [
           {
            "colorbar": {
             "outlinewidth": 0,
             "ticks": ""
            },
            "type": "choropleth"
           }
          ],
          "contour": [
           {
            "colorbar": {
             "outlinewidth": 0,
             "ticks": ""
            },
            "colorscale": [
             [
              0,
              "#0d0887"
             ],
             [
              0.1111111111111111,
              "#46039f"
             ],
             [
              0.2222222222222222,
              "#7201a8"
             ],
             [
              0.3333333333333333,
              "#9c179e"
             ],
             [
              0.4444444444444444,
              "#bd3786"
             ],
             [
              0.5555555555555556,
              "#d8576b"
             ],
             [
              0.6666666666666666,
              "#ed7953"
             ],
             [
              0.7777777777777778,
              "#fb9f3a"
             ],
             [
              0.8888888888888888,
              "#fdca26"
             ],
             [
              1,
              "#f0f921"
             ]
            ],
            "type": "contour"
           }
          ],
          "contourcarpet": [
           {
            "colorbar": {
             "outlinewidth": 0,
             "ticks": ""
            },
            "type": "contourcarpet"
           }
          ],
          "heatmap": [
           {
            "colorbar": {
             "outlinewidth": 0,
             "ticks": ""
            },
            "colorscale": [
             [
              0,
              "#0d0887"
             ],
             [
              0.1111111111111111,
              "#46039f"
             ],
             [
              0.2222222222222222,
              "#7201a8"
             ],
             [
              0.3333333333333333,
              "#9c179e"
             ],
             [
              0.4444444444444444,
              "#bd3786"
             ],
             [
              0.5555555555555556,
              "#d8576b"
             ],
             [
              0.6666666666666666,
              "#ed7953"
             ],
             [
              0.7777777777777778,
              "#fb9f3a"
             ],
             [
              0.8888888888888888,
              "#fdca26"
             ],
             [
              1,
              "#f0f921"
             ]
            ],
            "type": "heatmap"
           }
          ],
          "heatmapgl": [
           {
            "colorbar": {
             "outlinewidth": 0,
             "ticks": ""
            },
            "colorscale": [
             [
              0,
              "#0d0887"
             ],
             [
              0.1111111111111111,
              "#46039f"
             ],
             [
              0.2222222222222222,
              "#7201a8"
             ],
             [
              0.3333333333333333,
              "#9c179e"
             ],
             [
              0.4444444444444444,
              "#bd3786"
             ],
             [
              0.5555555555555556,
              "#d8576b"
             ],
             [
              0.6666666666666666,
              "#ed7953"
             ],
             [
              0.7777777777777778,
              "#fb9f3a"
             ],
             [
              0.8888888888888888,
              "#fdca26"
             ],
             [
              1,
              "#f0f921"
             ]
            ],
            "type": "heatmapgl"
           }
          ],
          "histogram": [
           {
            "marker": {
             "pattern": {
              "fillmode": "overlay",
              "size": 10,
              "solidity": 0.2
             }
            },
            "type": "histogram"
           }
          ],
          "histogram2d": [
           {
            "colorbar": {
             "outlinewidth": 0,
             "ticks": ""
            },
            "colorscale": [
             [
              0,
              "#0d0887"
             ],
             [
              0.1111111111111111,
              "#46039f"
             ],
             [
              0.2222222222222222,
              "#7201a8"
             ],
             [
              0.3333333333333333,
              "#9c179e"
             ],
             [
              0.4444444444444444,
              "#bd3786"
             ],
             [
              0.5555555555555556,
              "#d8576b"
             ],
             [
              0.6666666666666666,
              "#ed7953"
             ],
             [
              0.7777777777777778,
              "#fb9f3a"
             ],
             [
              0.8888888888888888,
              "#fdca26"
             ],
             [
              1,
              "#f0f921"
             ]
            ],
            "type": "histogram2d"
           }
          ],
          "histogram2dcontour": [
           {
            "colorbar": {
             "outlinewidth": 0,
             "ticks": ""
            },
            "colorscale": [
             [
              0,
              "#0d0887"
             ],
             [
              0.1111111111111111,
              "#46039f"
             ],
             [
              0.2222222222222222,
              "#7201a8"
             ],
             [
              0.3333333333333333,
              "#9c179e"
             ],
             [
              0.4444444444444444,
              "#bd3786"
             ],
             [
              0.5555555555555556,
              "#d8576b"
             ],
             [
              0.6666666666666666,
              "#ed7953"
             ],
             [
              0.7777777777777778,
              "#fb9f3a"
             ],
             [
              0.8888888888888888,
              "#fdca26"
             ],
             [
              1,
              "#f0f921"
             ]
            ],
            "type": "histogram2dcontour"
           }
          ],
          "mesh3d": [
           {
            "colorbar": {
             "outlinewidth": 0,
             "ticks": ""
            },
            "type": "mesh3d"
           }
          ],
          "parcoords": [
           {
            "line": {
             "colorbar": {
              "outlinewidth": 0,
              "ticks": ""
             }
            },
            "type": "parcoords"
           }
          ],
          "pie": [
           {
            "automargin": true,
            "type": "pie"
           }
          ],
          "scatter": [
           {
            "fillpattern": {
             "fillmode": "overlay",
             "size": 10,
             "solidity": 0.2
            },
            "type": "scatter"
           }
          ],
          "scatter3d": [
           {
            "line": {
             "colorbar": {
              "outlinewidth": 0,
              "ticks": ""
             }
            },
            "marker": {
             "colorbar": {
              "outlinewidth": 0,
              "ticks": ""
             }
            },
            "type": "scatter3d"
           }
          ],
          "scattercarpet": [
           {
            "marker": {
             "colorbar": {
              "outlinewidth": 0,
              "ticks": ""
             }
            },
            "type": "scattercarpet"
           }
          ],
          "scattergeo": [
           {
            "marker": {
             "colorbar": {
              "outlinewidth": 0,
              "ticks": ""
             }
            },
            "type": "scattergeo"
           }
          ],
          "scattergl": [
           {
            "marker": {
             "colorbar": {
              "outlinewidth": 0,
              "ticks": ""
             }
            },
            "type": "scattergl"
           }
          ],
          "scattermapbox": [
           {
            "marker": {
             "colorbar": {
              "outlinewidth": 0,
              "ticks": ""
             }
            },
            "type": "scattermapbox"
           }
          ],
          "scatterpolar": [
           {
            "marker": {
             "colorbar": {
              "outlinewidth": 0,
              "ticks": ""
             }
            },
            "type": "scatterpolar"
           }
          ],
          "scatterpolargl": [
           {
            "marker": {
             "colorbar": {
              "outlinewidth": 0,
              "ticks": ""
             }
            },
            "type": "scatterpolargl"
           }
          ],
          "scatterternary": [
           {
            "marker": {
             "colorbar": {
              "outlinewidth": 0,
              "ticks": ""
             }
            },
            "type": "scatterternary"
           }
          ],
          "surface": [
           {
            "colorbar": {
             "outlinewidth": 0,
             "ticks": ""
            },
            "colorscale": [
             [
              0,
              "#0d0887"
             ],
             [
              0.1111111111111111,
              "#46039f"
             ],
             [
              0.2222222222222222,
              "#7201a8"
             ],
             [
              0.3333333333333333,
              "#9c179e"
             ],
             [
              0.4444444444444444,
              "#bd3786"
             ],
             [
              0.5555555555555556,
              "#d8576b"
             ],
             [
              0.6666666666666666,
              "#ed7953"
             ],
             [
              0.7777777777777778,
              "#fb9f3a"
             ],
             [
              0.8888888888888888,
              "#fdca26"
             ],
             [
              1,
              "#f0f921"
             ]
            ],
            "type": "surface"
           }
          ],
          "table": [
           {
            "cells": {
             "fill": {
              "color": "#EBF0F8"
             },
             "line": {
              "color": "white"
             }
            },
            "header": {
             "fill": {
              "color": "#C8D4E3"
             },
             "line": {
              "color": "white"
             }
            },
            "type": "table"
           }
          ]
         },
         "layout": {
          "annotationdefaults": {
           "arrowcolor": "#2a3f5f",
           "arrowhead": 0,
           "arrowwidth": 1
          },
          "autotypenumbers": "strict",
          "coloraxis": {
           "colorbar": {
            "outlinewidth": 0,
            "ticks": ""
           }
          },
          "colorscale": {
           "diverging": [
            [
             0,
             "#8e0152"
            ],
            [
             0.1,
             "#c51b7d"
            ],
            [
             0.2,
             "#de77ae"
            ],
            [
             0.3,
             "#f1b6da"
            ],
            [
             0.4,
             "#fde0ef"
            ],
            [
             0.5,
             "#f7f7f7"
            ],
            [
             0.6,
             "#e6f5d0"
            ],
            [
             0.7,
             "#b8e186"
            ],
            [
             0.8,
             "#7fbc41"
            ],
            [
             0.9,
             "#4d9221"
            ],
            [
             1,
             "#276419"
            ]
           ],
           "sequential": [
            [
             0,
             "#0d0887"
            ],
            [
             0.1111111111111111,
             "#46039f"
            ],
            [
             0.2222222222222222,
             "#7201a8"
            ],
            [
             0.3333333333333333,
             "#9c179e"
            ],
            [
             0.4444444444444444,
             "#bd3786"
            ],
            [
             0.5555555555555556,
             "#d8576b"
            ],
            [
             0.6666666666666666,
             "#ed7953"
            ],
            [
             0.7777777777777778,
             "#fb9f3a"
            ],
            [
             0.8888888888888888,
             "#fdca26"
            ],
            [
             1,
             "#f0f921"
            ]
           ],
           "sequentialminus": [
            [
             0,
             "#0d0887"
            ],
            [
             0.1111111111111111,
             "#46039f"
            ],
            [
             0.2222222222222222,
             "#7201a8"
            ],
            [
             0.3333333333333333,
             "#9c179e"
            ],
            [
             0.4444444444444444,
             "#bd3786"
            ],
            [
             0.5555555555555556,
             "#d8576b"
            ],
            [
             0.6666666666666666,
             "#ed7953"
            ],
            [
             0.7777777777777778,
             "#fb9f3a"
            ],
            [
             0.8888888888888888,
             "#fdca26"
            ],
            [
             1,
             "#f0f921"
            ]
           ]
          },
          "colorway": [
           "#636efa",
           "#EF553B",
           "#00cc96",
           "#ab63fa",
           "#FFA15A",
           "#19d3f3",
           "#FF6692",
           "#B6E880",
           "#FF97FF",
           "#FECB52"
          ],
          "font": {
           "color": "#2a3f5f"
          },
          "geo": {
           "bgcolor": "white",
           "lakecolor": "white",
           "landcolor": "#E5ECF6",
           "showlakes": true,
           "showland": true,
           "subunitcolor": "white"
          },
          "hoverlabel": {
           "align": "left"
          },
          "hovermode": "closest",
          "mapbox": {
           "style": "light"
          },
          "paper_bgcolor": "white",
          "plot_bgcolor": "#E5ECF6",
          "polar": {
           "angularaxis": {
            "gridcolor": "white",
            "linecolor": "white",
            "ticks": ""
           },
           "bgcolor": "#E5ECF6",
           "radialaxis": {
            "gridcolor": "white",
            "linecolor": "white",
            "ticks": ""
           }
          },
          "scene": {
           "xaxis": {
            "backgroundcolor": "#E5ECF6",
            "gridcolor": "white",
            "gridwidth": 2,
            "linecolor": "white",
            "showbackground": true,
            "ticks": "",
            "zerolinecolor": "white"
           },
           "yaxis": {
            "backgroundcolor": "#E5ECF6",
            "gridcolor": "white",
            "gridwidth": 2,
            "linecolor": "white",
            "showbackground": true,
            "ticks": "",
            "zerolinecolor": "white"
           },
           "zaxis": {
            "backgroundcolor": "#E5ECF6",
            "gridcolor": "white",
            "gridwidth": 2,
            "linecolor": "white",
            "showbackground": true,
            "ticks": "",
            "zerolinecolor": "white"
           }
          },
          "shapedefaults": {
           "line": {
            "color": "#2a3f5f"
           }
          },
          "ternary": {
           "aaxis": {
            "gridcolor": "white",
            "linecolor": "white",
            "ticks": ""
           },
           "baxis": {
            "gridcolor": "white",
            "linecolor": "white",
            "ticks": ""
           },
           "bgcolor": "#E5ECF6",
           "caxis": {
            "gridcolor": "white",
            "linecolor": "white",
            "ticks": ""
           }
          },
          "title": {
           "x": 0.05
          },
          "xaxis": {
           "automargin": true,
           "gridcolor": "white",
           "linecolor": "white",
           "ticks": "",
           "title": {
            "standoff": 15
           },
           "zerolinecolor": "white",
           "zerolinewidth": 2
          },
          "yaxis": {
           "automargin": true,
           "gridcolor": "white",
           "linecolor": "white",
           "ticks": "",
           "title": {
            "standoff": 15
           },
           "zerolinecolor": "white",
           "zerolinewidth": 2
          }
         }
        },
        "title": {
         "text": "Internetnutzung nach Setting, n=203"
        },
        "yaxis": {
         "title": {
          "text": "Dauer des Tests in Sekunden"
         }
        }
       }
      }
     },
     "metadata": {},
     "output_type": "display_data"
    }
   ],
   "source": [
    "df = surveyData[['browsing-type']]\n",
    "\n",
    "df = df.groupby(['browsing-type'], dropna=False)['browsing-type'].count().reset_index(name='count')\n",
    "\n",
    "# Label strings\n",
    "chartLabel = f\"Internetnutzung nach Setting, n={len(surveyData[['browsing-type']])}\"\n",
    "categoryGroups = [\"Arbeit\", \"Beides etwa gleich\", \"Privat\"]\n",
    "\n",
    "fig = go.Figure(data=[go.Pie( labels=categoryGroups, values=df['count'], sort=False)])\n",
    "fig.update_traces(textinfo='percent+label', marker=dict(colors=urCdColors))\n",
    "fig.update_layout(\n",
    "    title=chartLabel,\n",
    "    yaxis_title=yLabel,\n",
    "    # legend_title=\"Legend Title\",\n",
    "    font=dict(\n",
    "        family=\"Frutiger Next LT W1G, Gill Sans, sans-serif\",\n",
    "        size=12,\n",
    "        # color=\"RebeccaPurple\"\n",
    "    )\n",
    ")\n",
    "fig.show()\n",
    "\n",
    "# Table mood development\n",
    "fig = go.Figure(data=[go.Table(\n",
    "  header=dict(\n",
    "    values=['<b>Internetnutzungssetting</b>', f\"<b>{categoryGroups[0]}</b>\", f\"<b>{categoryGroups[1]}</b>\", f\"<b>{categoryGroups[2]}</b>\"],\n",
    "    line_color='darkslategray',\n",
    "    fill_color=headerColor,\n",
    "    align=['left','center'],\n",
    "    font=dict(color='white', size=12)\n",
    "  ),\n",
    "  cells=dict(\n",
    "    values=[\n",
    "      # [surveyData[surveyData['sex'] == 'männlich'], surveyData[surveyData['sex'] == 'nicht angegeben'], surveyData[surveyData['sex'] == 'weiblich']]],\n",
    "        ['<b>Anzahl</b>'],\n",
    "        [df.iloc[0]['count']],\n",
    "        [df.iloc[1]['count']],\n",
    "        [df.iloc[2]['count']]\n",
    "      ],\n",
    "    line_color='darkslategray',\n",
    "    # 2-D list of colors for alternating rows\n",
    "    fill_color = [[rowOddColor,rowEvenColor,rowOddColor, rowEvenColor,rowOddColor]*5],\n",
    "    align = ['left', 'center'],\n",
    "    font = dict(color = 'darkslategray', size = 11)\n",
    "    ))\n",
    "])\n",
    "\n",
    "fig.update_layout(\n",
    "    title=chartLabel,\n",
    "    yaxis_title=yLabel,\n",
    "    # legend_title=\"Legend Title\",\n",
    "    font=dict(\n",
    "        family=\"Frutiger Next LT W1G, Gill Sans, sans-serif\",\n",
    "        size=12,\n",
    "        # color=\"RebeccaPurple\"\n",
    "    )\n",
    ")\n",
    "\n",
    "fig.show()"
   ]
  },
  {
   "cell_type": "markdown",
   "metadata": {},
   "source": [
    "### Internet Usage Setting To Choice"
   ]
  },
  {
   "cell_type": "code",
   "execution_count": 15,
   "metadata": {},
   "outputs": [
    {
     "data": {
      "application/vnd.plotly.v1+json": {
       "config": {
        "plotlyServerURL": "https://plot.ly"
       },
       "data": [
        {
         "direction": "clockwise",
         "domain": {
          "x": [
           0.35555555555555557,
           0.6444444444444445
          ],
          "y": [
           0.625,
           1
          ]
         },
         "labels": [
          "Arbeit",
          "Beides etwa gleich",
          "Privat"
         ],
         "marker": {
          "colors": [
           "rgb(156,0,75)",
           "rgb(0,155,119)",
           "rgb(0,135,178)",
           "rgb(174,167,0)",
           "rgb(236,98,0)",
           "rgb(191,0,42)",
           "rgb(79,184,0)",
           "rgb(0,137,147)",
           "rgb(0,85,106)",
           "rgb(205,211,15)",
           "rgb(236,188,0)"
          ]
         },
         "sort": false,
         "textinfo": "percent+label",
         "type": "pie",
         "values": [
          3,
          51,
          149
         ]
        },
        {
         "direction": "clockwise",
         "domain": {
          "x": [
           0,
           0.2888888888888889
          ],
          "y": [
           0,
           0.375
          ]
         },
         "labels": [
          "Arbeit",
          "Beides etwa gleich",
          "Privat"
         ],
         "marker": {
          "colors": [
           "rgb(156,0,75)",
           "rgb(0,155,119)",
           "rgb(0,135,178)",
           "rgb(174,167,0)",
           "rgb(236,98,0)",
           "rgb(191,0,42)",
           "rgb(79,184,0)",
           "rgb(0,137,147)",
           "rgb(0,85,106)",
           "rgb(205,211,15)",
           "rgb(236,188,0)"
          ]
         },
         "sort": false,
         "textinfo": "percent+label",
         "type": "pie",
         "values": [
          3,
          11,
          39
         ]
        },
        {
         "direction": "clockwise",
         "domain": {
          "x": [
           0.35555555555555557,
           0.6444444444444445
          ],
          "y": [
           0,
           0.375
          ]
         },
         "labels": [
          "Beides etwa gleich",
          "Privat"
         ],
         "marker": {
          "colors": [
           "rgb(0,155,119)",
           "rgb(0,135,178)"
          ]
         },
         "sort": false,
         "textinfo": "percent+label",
         "type": "pie",
         "values": [
          17,
          41
         ]
        },
        {
         "direction": "clockwise",
         "domain": {
          "x": [
           0.7111111111111111,
           1
          ],
          "y": [
           0,
           0.375
          ]
         },
         "labels": [
          "Beides etwa gleich",
          "Privat"
         ],
         "marker": {
          "colors": [
           "rgb(0,155,119)",
           "rgb(0,135,178)"
          ]
         },
         "sort": false,
         "textinfo": "percent+label",
         "type": "pie",
         "values": [
          23,
          69
         ]
        }
       ],
       "layout": {
        "annotations": [
         {
          "font": {
           "size": 16
          },
          "showarrow": false,
          "text": "Gesamt",
          "x": 0.5,
          "xanchor": "center",
          "xref": "paper",
          "y": 1,
          "yanchor": "bottom",
          "yref": "paper",
          "yshift": 70
         },
         {
          "font": {
           "size": 16
          },
          "showarrow": false,
          "text": "Liste favorisiert",
          "x": 0.14444444444444446,
          "xanchor": "center",
          "xref": "paper",
          "y": 0.375,
          "yanchor": "bottom",
          "yref": "paper",
          "yshift": 70
         },
         {
          "font": {
           "size": 16
          },
          "showarrow": false,
          "text": "Chord  favorisiert",
          "x": 0.5,
          "xanchor": "center",
          "xref": "paper",
          "y": 0.375,
          "yanchor": "bottom",
          "yref": "paper",
          "yshift": 70
         },
         {
          "font": {
           "size": 16
          },
          "showarrow": false,
          "text": "Map favorisiert",
          "x": 0.8555555555555556,
          "xanchor": "center",
          "xref": "paper",
          "y": 0.375,
          "yanchor": "bottom",
          "yref": "paper",
          "yshift": 70
         }
        ],
        "font": {
         "family": "Frutiger Next LT W1G, Gill Sans, sans-serif",
         "size": 12
        },
        "height": 850,
        "showlegend": true,
        "template": {
         "data": {
          "bar": [
           {
            "error_x": {
             "color": "#2a3f5f"
            },
            "error_y": {
             "color": "#2a3f5f"
            },
            "marker": {
             "line": {
              "color": "#E5ECF6",
              "width": 0.5
             },
             "pattern": {
              "fillmode": "overlay",
              "size": 10,
              "solidity": 0.2
             }
            },
            "type": "bar"
           }
          ],
          "barpolar": [
           {
            "marker": {
             "line": {
              "color": "#E5ECF6",
              "width": 0.5
             },
             "pattern": {
              "fillmode": "overlay",
              "size": 10,
              "solidity": 0.2
             }
            },
            "type": "barpolar"
           }
          ],
          "carpet": [
           {
            "aaxis": {
             "endlinecolor": "#2a3f5f",
             "gridcolor": "white",
             "linecolor": "white",
             "minorgridcolor": "white",
             "startlinecolor": "#2a3f5f"
            },
            "baxis": {
             "endlinecolor": "#2a3f5f",
             "gridcolor": "white",
             "linecolor": "white",
             "minorgridcolor": "white",
             "startlinecolor": "#2a3f5f"
            },
            "type": "carpet"
           }
          ],
          "choropleth": [
           {
            "colorbar": {
             "outlinewidth": 0,
             "ticks": ""
            },
            "type": "choropleth"
           }
          ],
          "contour": [
           {
            "colorbar": {
             "outlinewidth": 0,
             "ticks": ""
            },
            "colorscale": [
             [
              0,
              "#0d0887"
             ],
             [
              0.1111111111111111,
              "#46039f"
             ],
             [
              0.2222222222222222,
              "#7201a8"
             ],
             [
              0.3333333333333333,
              "#9c179e"
             ],
             [
              0.4444444444444444,
              "#bd3786"
             ],
             [
              0.5555555555555556,
              "#d8576b"
             ],
             [
              0.6666666666666666,
              "#ed7953"
             ],
             [
              0.7777777777777778,
              "#fb9f3a"
             ],
             [
              0.8888888888888888,
              "#fdca26"
             ],
             [
              1,
              "#f0f921"
             ]
            ],
            "type": "contour"
           }
          ],
          "contourcarpet": [
           {
            "colorbar": {
             "outlinewidth": 0,
             "ticks": ""
            },
            "type": "contourcarpet"
           }
          ],
          "heatmap": [
           {
            "colorbar": {
             "outlinewidth": 0,
             "ticks": ""
            },
            "colorscale": [
             [
              0,
              "#0d0887"
             ],
             [
              0.1111111111111111,
              "#46039f"
             ],
             [
              0.2222222222222222,
              "#7201a8"
             ],
             [
              0.3333333333333333,
              "#9c179e"
             ],
             [
              0.4444444444444444,
              "#bd3786"
             ],
             [
              0.5555555555555556,
              "#d8576b"
             ],
             [
              0.6666666666666666,
              "#ed7953"
             ],
             [
              0.7777777777777778,
              "#fb9f3a"
             ],
             [
              0.8888888888888888,
              "#fdca26"
             ],
             [
              1,
              "#f0f921"
             ]
            ],
            "type": "heatmap"
           }
          ],
          "heatmapgl": [
           {
            "colorbar": {
             "outlinewidth": 0,
             "ticks": ""
            },
            "colorscale": [
             [
              0,
              "#0d0887"
             ],
             [
              0.1111111111111111,
              "#46039f"
             ],
             [
              0.2222222222222222,
              "#7201a8"
             ],
             [
              0.3333333333333333,
              "#9c179e"
             ],
             [
              0.4444444444444444,
              "#bd3786"
             ],
             [
              0.5555555555555556,
              "#d8576b"
             ],
             [
              0.6666666666666666,
              "#ed7953"
             ],
             [
              0.7777777777777778,
              "#fb9f3a"
             ],
             [
              0.8888888888888888,
              "#fdca26"
             ],
             [
              1,
              "#f0f921"
             ]
            ],
            "type": "heatmapgl"
           }
          ],
          "histogram": [
           {
            "marker": {
             "pattern": {
              "fillmode": "overlay",
              "size": 10,
              "solidity": 0.2
             }
            },
            "type": "histogram"
           }
          ],
          "histogram2d": [
           {
            "colorbar": {
             "outlinewidth": 0,
             "ticks": ""
            },
            "colorscale": [
             [
              0,
              "#0d0887"
             ],
             [
              0.1111111111111111,
              "#46039f"
             ],
             [
              0.2222222222222222,
              "#7201a8"
             ],
             [
              0.3333333333333333,
              "#9c179e"
             ],
             [
              0.4444444444444444,
              "#bd3786"
             ],
             [
              0.5555555555555556,
              "#d8576b"
             ],
             [
              0.6666666666666666,
              "#ed7953"
             ],
             [
              0.7777777777777778,
              "#fb9f3a"
             ],
             [
              0.8888888888888888,
              "#fdca26"
             ],
             [
              1,
              "#f0f921"
             ]
            ],
            "type": "histogram2d"
           }
          ],
          "histogram2dcontour": [
           {
            "colorbar": {
             "outlinewidth": 0,
             "ticks": ""
            },
            "colorscale": [
             [
              0,
              "#0d0887"
             ],
             [
              0.1111111111111111,
              "#46039f"
             ],
             [
              0.2222222222222222,
              "#7201a8"
             ],
             [
              0.3333333333333333,
              "#9c179e"
             ],
             [
              0.4444444444444444,
              "#bd3786"
             ],
             [
              0.5555555555555556,
              "#d8576b"
             ],
             [
              0.6666666666666666,
              "#ed7953"
             ],
             [
              0.7777777777777778,
              "#fb9f3a"
             ],
             [
              0.8888888888888888,
              "#fdca26"
             ],
             [
              1,
              "#f0f921"
             ]
            ],
            "type": "histogram2dcontour"
           }
          ],
          "mesh3d": [
           {
            "colorbar": {
             "outlinewidth": 0,
             "ticks": ""
            },
            "type": "mesh3d"
           }
          ],
          "parcoords": [
           {
            "line": {
             "colorbar": {
              "outlinewidth": 0,
              "ticks": ""
             }
            },
            "type": "parcoords"
           }
          ],
          "pie": [
           {
            "automargin": true,
            "type": "pie"
           }
          ],
          "scatter": [
           {
            "fillpattern": {
             "fillmode": "overlay",
             "size": 10,
             "solidity": 0.2
            },
            "type": "scatter"
           }
          ],
          "scatter3d": [
           {
            "line": {
             "colorbar": {
              "outlinewidth": 0,
              "ticks": ""
             }
            },
            "marker": {
             "colorbar": {
              "outlinewidth": 0,
              "ticks": ""
             }
            },
            "type": "scatter3d"
           }
          ],
          "scattercarpet": [
           {
            "marker": {
             "colorbar": {
              "outlinewidth": 0,
              "ticks": ""
             }
            },
            "type": "scattercarpet"
           }
          ],
          "scattergeo": [
           {
            "marker": {
             "colorbar": {
              "outlinewidth": 0,
              "ticks": ""
             }
            },
            "type": "scattergeo"
           }
          ],
          "scattergl": [
           {
            "marker": {
             "colorbar": {
              "outlinewidth": 0,
              "ticks": ""
             }
            },
            "type": "scattergl"
           }
          ],
          "scattermapbox": [
           {
            "marker": {
             "colorbar": {
              "outlinewidth": 0,
              "ticks": ""
             }
            },
            "type": "scattermapbox"
           }
          ],
          "scatterpolar": [
           {
            "marker": {
             "colorbar": {
              "outlinewidth": 0,
              "ticks": ""
             }
            },
            "type": "scatterpolar"
           }
          ],
          "scatterpolargl": [
           {
            "marker": {
             "colorbar": {
              "outlinewidth": 0,
              "ticks": ""
             }
            },
            "type": "scatterpolargl"
           }
          ],
          "scatterternary": [
           {
            "marker": {
             "colorbar": {
              "outlinewidth": 0,
              "ticks": ""
             }
            },
            "type": "scatterternary"
           }
          ],
          "surface": [
           {
            "colorbar": {
             "outlinewidth": 0,
             "ticks": ""
            },
            "colorscale": [
             [
              0,
              "#0d0887"
             ],
             [
              0.1111111111111111,
              "#46039f"
             ],
             [
              0.2222222222222222,
              "#7201a8"
             ],
             [
              0.3333333333333333,
              "#9c179e"
             ],
             [
              0.4444444444444444,
              "#bd3786"
             ],
             [
              0.5555555555555556,
              "#d8576b"
             ],
             [
              0.6666666666666666,
              "#ed7953"
             ],
             [
              0.7777777777777778,
              "#fb9f3a"
             ],
             [
              0.8888888888888888,
              "#fdca26"
             ],
             [
              1,
              "#f0f921"
             ]
            ],
            "type": "surface"
           }
          ],
          "table": [
           {
            "cells": {
             "fill": {
              "color": "#EBF0F8"
             },
             "line": {
              "color": "white"
             }
            },
            "header": {
             "fill": {
              "color": "#C8D4E3"
             },
             "line": {
              "color": "white"
             }
            },
            "type": "table"
           }
          ]
         },
         "layout": {
          "annotationdefaults": {
           "arrowcolor": "#2a3f5f",
           "arrowhead": 0,
           "arrowwidth": 1
          },
          "autotypenumbers": "strict",
          "coloraxis": {
           "colorbar": {
            "outlinewidth": 0,
            "ticks": ""
           }
          },
          "colorscale": {
           "diverging": [
            [
             0,
             "#8e0152"
            ],
            [
             0.1,
             "#c51b7d"
            ],
            [
             0.2,
             "#de77ae"
            ],
            [
             0.3,
             "#f1b6da"
            ],
            [
             0.4,
             "#fde0ef"
            ],
            [
             0.5,
             "#f7f7f7"
            ],
            [
             0.6,
             "#e6f5d0"
            ],
            [
             0.7,
             "#b8e186"
            ],
            [
             0.8,
             "#7fbc41"
            ],
            [
             0.9,
             "#4d9221"
            ],
            [
             1,
             "#276419"
            ]
           ],
           "sequential": [
            [
             0,
             "#0d0887"
            ],
            [
             0.1111111111111111,
             "#46039f"
            ],
            [
             0.2222222222222222,
             "#7201a8"
            ],
            [
             0.3333333333333333,
             "#9c179e"
            ],
            [
             0.4444444444444444,
             "#bd3786"
            ],
            [
             0.5555555555555556,
             "#d8576b"
            ],
            [
             0.6666666666666666,
             "#ed7953"
            ],
            [
             0.7777777777777778,
             "#fb9f3a"
            ],
            [
             0.8888888888888888,
             "#fdca26"
            ],
            [
             1,
             "#f0f921"
            ]
           ],
           "sequentialminus": [
            [
             0,
             "#0d0887"
            ],
            [
             0.1111111111111111,
             "#46039f"
            ],
            [
             0.2222222222222222,
             "#7201a8"
            ],
            [
             0.3333333333333333,
             "#9c179e"
            ],
            [
             0.4444444444444444,
             "#bd3786"
            ],
            [
             0.5555555555555556,
             "#d8576b"
            ],
            [
             0.6666666666666666,
             "#ed7953"
            ],
            [
             0.7777777777777778,
             "#fb9f3a"
            ],
            [
             0.8888888888888888,
             "#fdca26"
            ],
            [
             1,
             "#f0f921"
            ]
           ]
          },
          "colorway": [
           "#636efa",
           "#EF553B",
           "#00cc96",
           "#ab63fa",
           "#FFA15A",
           "#19d3f3",
           "#FF6692",
           "#B6E880",
           "#FF97FF",
           "#FECB52"
          ],
          "font": {
           "color": "#2a3f5f"
          },
          "geo": {
           "bgcolor": "white",
           "lakecolor": "white",
           "landcolor": "#E5ECF6",
           "showlakes": true,
           "showland": true,
           "subunitcolor": "white"
          },
          "hoverlabel": {
           "align": "left"
          },
          "hovermode": "closest",
          "mapbox": {
           "style": "light"
          },
          "paper_bgcolor": "white",
          "plot_bgcolor": "#E5ECF6",
          "polar": {
           "angularaxis": {
            "gridcolor": "white",
            "linecolor": "white",
            "ticks": ""
           },
           "bgcolor": "#E5ECF6",
           "radialaxis": {
            "gridcolor": "white",
            "linecolor": "white",
            "ticks": ""
           }
          },
          "scene": {
           "xaxis": {
            "backgroundcolor": "#E5ECF6",
            "gridcolor": "white",
            "gridwidth": 2,
            "linecolor": "white",
            "showbackground": true,
            "ticks": "",
            "zerolinecolor": "white"
           },
           "yaxis": {
            "backgroundcolor": "#E5ECF6",
            "gridcolor": "white",
            "gridwidth": 2,
            "linecolor": "white",
            "showbackground": true,
            "ticks": "",
            "zerolinecolor": "white"
           },
           "zaxis": {
            "backgroundcolor": "#E5ECF6",
            "gridcolor": "white",
            "gridwidth": 2,
            "linecolor": "white",
            "showbackground": true,
            "ticks": "",
            "zerolinecolor": "white"
           }
          },
          "shapedefaults": {
           "line": {
            "color": "#2a3f5f"
           }
          },
          "ternary": {
           "aaxis": {
            "gridcolor": "white",
            "linecolor": "white",
            "ticks": ""
           },
           "baxis": {
            "gridcolor": "white",
            "linecolor": "white",
            "ticks": ""
           },
           "bgcolor": "#E5ECF6",
           "caxis": {
            "gridcolor": "white",
            "linecolor": "white",
            "ticks": ""
           }
          },
          "title": {
           "x": 0.05
          },
          "xaxis": {
           "automargin": true,
           "gridcolor": "white",
           "linecolor": "white",
           "ticks": "",
           "title": {
            "standoff": 15
           },
           "zerolinecolor": "white",
           "zerolinewidth": 2
          },
          "yaxis": {
           "automargin": true,
           "gridcolor": "white",
           "linecolor": "white",
           "ticks": "",
           "title": {
            "standoff": 15
           },
           "zerolinecolor": "white",
           "zerolinewidth": 2
          }
         }
        },
        "title": {
         "text": "Internetnutzung nach Setting, n=203"
        },
        "yaxis": {
         "title": {
          "text": "Dauer des Tests in Sekunden"
         }
        }
       }
      }
     },
     "metadata": {},
     "output_type": "display_data"
    },
    {
     "data": {
      "application/vnd.plotly.v1+json": {
       "config": {
        "plotlyServerURL": "https://plot.ly"
       },
       "data": [
        {
         "cells": {
          "align": [
           "left",
           "center"
          ],
          "fill": {
           "color": [
            [
             "white",
             "lightgrey",
             "white",
             "lightgrey",
             "white",
             "white",
             "lightgrey",
             "white",
             "lightgrey",
             "white",
             "white",
             "lightgrey",
             "white",
             "lightgrey",
             "white",
             "white",
             "lightgrey",
             "white",
             "lightgrey",
             "white",
             "white",
             "lightgrey",
             "white",
             "lightgrey",
             "white"
            ]
           ]
          },
          "font": {
           "color": "darkslategray",
           "size": 11
          },
          "line": {
           "color": "darkslategray"
          },
          "values": [
           [
            "<b>Gesamt</b>",
            "<b>Liste</b>",
            "<b>Chord</b>",
            "<b>Map</b>"
           ],
           [
            3,
            3,
            0,
            0
           ],
           [
            51,
            11,
            17,
            23
           ],
           [
            149,
            39,
            41,
            69
           ]
          ]
         },
         "header": {
          "align": [
           "left",
           "center"
          ],
          "fill": {
           "color": "grey"
          },
          "font": {
           "color": "white",
           "size": 12
          },
          "line": {
           "color": "darkslategray"
          },
          "values": [
           "<b>Internetnutzungssetting</b>",
           "<b>Arbeit</b>",
           "<b>Beides etwa gleich</b>",
           "<b>Privat</b>"
          ]
         },
         "type": "table"
        }
       ],
       "layout": {
        "font": {
         "family": "Frutiger Next LT W1G, Gill Sans, sans-serif",
         "size": 12
        },
        "template": {
         "data": {
          "bar": [
           {
            "error_x": {
             "color": "#2a3f5f"
            },
            "error_y": {
             "color": "#2a3f5f"
            },
            "marker": {
             "line": {
              "color": "#E5ECF6",
              "width": 0.5
             },
             "pattern": {
              "fillmode": "overlay",
              "size": 10,
              "solidity": 0.2
             }
            },
            "type": "bar"
           }
          ],
          "barpolar": [
           {
            "marker": {
             "line": {
              "color": "#E5ECF6",
              "width": 0.5
             },
             "pattern": {
              "fillmode": "overlay",
              "size": 10,
              "solidity": 0.2
             }
            },
            "type": "barpolar"
           }
          ],
          "carpet": [
           {
            "aaxis": {
             "endlinecolor": "#2a3f5f",
             "gridcolor": "white",
             "linecolor": "white",
             "minorgridcolor": "white",
             "startlinecolor": "#2a3f5f"
            },
            "baxis": {
             "endlinecolor": "#2a3f5f",
             "gridcolor": "white",
             "linecolor": "white",
             "minorgridcolor": "white",
             "startlinecolor": "#2a3f5f"
            },
            "type": "carpet"
           }
          ],
          "choropleth": [
           {
            "colorbar": {
             "outlinewidth": 0,
             "ticks": ""
            },
            "type": "choropleth"
           }
          ],
          "contour": [
           {
            "colorbar": {
             "outlinewidth": 0,
             "ticks": ""
            },
            "colorscale": [
             [
              0,
              "#0d0887"
             ],
             [
              0.1111111111111111,
              "#46039f"
             ],
             [
              0.2222222222222222,
              "#7201a8"
             ],
             [
              0.3333333333333333,
              "#9c179e"
             ],
             [
              0.4444444444444444,
              "#bd3786"
             ],
             [
              0.5555555555555556,
              "#d8576b"
             ],
             [
              0.6666666666666666,
              "#ed7953"
             ],
             [
              0.7777777777777778,
              "#fb9f3a"
             ],
             [
              0.8888888888888888,
              "#fdca26"
             ],
             [
              1,
              "#f0f921"
             ]
            ],
            "type": "contour"
           }
          ],
          "contourcarpet": [
           {
            "colorbar": {
             "outlinewidth": 0,
             "ticks": ""
            },
            "type": "contourcarpet"
           }
          ],
          "heatmap": [
           {
            "colorbar": {
             "outlinewidth": 0,
             "ticks": ""
            },
            "colorscale": [
             [
              0,
              "#0d0887"
             ],
             [
              0.1111111111111111,
              "#46039f"
             ],
             [
              0.2222222222222222,
              "#7201a8"
             ],
             [
              0.3333333333333333,
              "#9c179e"
             ],
             [
              0.4444444444444444,
              "#bd3786"
             ],
             [
              0.5555555555555556,
              "#d8576b"
             ],
             [
              0.6666666666666666,
              "#ed7953"
             ],
             [
              0.7777777777777778,
              "#fb9f3a"
             ],
             [
              0.8888888888888888,
              "#fdca26"
             ],
             [
              1,
              "#f0f921"
             ]
            ],
            "type": "heatmap"
           }
          ],
          "heatmapgl": [
           {
            "colorbar": {
             "outlinewidth": 0,
             "ticks": ""
            },
            "colorscale": [
             [
              0,
              "#0d0887"
             ],
             [
              0.1111111111111111,
              "#46039f"
             ],
             [
              0.2222222222222222,
              "#7201a8"
             ],
             [
              0.3333333333333333,
              "#9c179e"
             ],
             [
              0.4444444444444444,
              "#bd3786"
             ],
             [
              0.5555555555555556,
              "#d8576b"
             ],
             [
              0.6666666666666666,
              "#ed7953"
             ],
             [
              0.7777777777777778,
              "#fb9f3a"
             ],
             [
              0.8888888888888888,
              "#fdca26"
             ],
             [
              1,
              "#f0f921"
             ]
            ],
            "type": "heatmapgl"
           }
          ],
          "histogram": [
           {
            "marker": {
             "pattern": {
              "fillmode": "overlay",
              "size": 10,
              "solidity": 0.2
             }
            },
            "type": "histogram"
           }
          ],
          "histogram2d": [
           {
            "colorbar": {
             "outlinewidth": 0,
             "ticks": ""
            },
            "colorscale": [
             [
              0,
              "#0d0887"
             ],
             [
              0.1111111111111111,
              "#46039f"
             ],
             [
              0.2222222222222222,
              "#7201a8"
             ],
             [
              0.3333333333333333,
              "#9c179e"
             ],
             [
              0.4444444444444444,
              "#bd3786"
             ],
             [
              0.5555555555555556,
              "#d8576b"
             ],
             [
              0.6666666666666666,
              "#ed7953"
             ],
             [
              0.7777777777777778,
              "#fb9f3a"
             ],
             [
              0.8888888888888888,
              "#fdca26"
             ],
             [
              1,
              "#f0f921"
             ]
            ],
            "type": "histogram2d"
           }
          ],
          "histogram2dcontour": [
           {
            "colorbar": {
             "outlinewidth": 0,
             "ticks": ""
            },
            "colorscale": [
             [
              0,
              "#0d0887"
             ],
             [
              0.1111111111111111,
              "#46039f"
             ],
             [
              0.2222222222222222,
              "#7201a8"
             ],
             [
              0.3333333333333333,
              "#9c179e"
             ],
             [
              0.4444444444444444,
              "#bd3786"
             ],
             [
              0.5555555555555556,
              "#d8576b"
             ],
             [
              0.6666666666666666,
              "#ed7953"
             ],
             [
              0.7777777777777778,
              "#fb9f3a"
             ],
             [
              0.8888888888888888,
              "#fdca26"
             ],
             [
              1,
              "#f0f921"
             ]
            ],
            "type": "histogram2dcontour"
           }
          ],
          "mesh3d": [
           {
            "colorbar": {
             "outlinewidth": 0,
             "ticks": ""
            },
            "type": "mesh3d"
           }
          ],
          "parcoords": [
           {
            "line": {
             "colorbar": {
              "outlinewidth": 0,
              "ticks": ""
             }
            },
            "type": "parcoords"
           }
          ],
          "pie": [
           {
            "automargin": true,
            "type": "pie"
           }
          ],
          "scatter": [
           {
            "fillpattern": {
             "fillmode": "overlay",
             "size": 10,
             "solidity": 0.2
            },
            "type": "scatter"
           }
          ],
          "scatter3d": [
           {
            "line": {
             "colorbar": {
              "outlinewidth": 0,
              "ticks": ""
             }
            },
            "marker": {
             "colorbar": {
              "outlinewidth": 0,
              "ticks": ""
             }
            },
            "type": "scatter3d"
           }
          ],
          "scattercarpet": [
           {
            "marker": {
             "colorbar": {
              "outlinewidth": 0,
              "ticks": ""
             }
            },
            "type": "scattercarpet"
           }
          ],
          "scattergeo": [
           {
            "marker": {
             "colorbar": {
              "outlinewidth": 0,
              "ticks": ""
             }
            },
            "type": "scattergeo"
           }
          ],
          "scattergl": [
           {
            "marker": {
             "colorbar": {
              "outlinewidth": 0,
              "ticks": ""
             }
            },
            "type": "scattergl"
           }
          ],
          "scattermapbox": [
           {
            "marker": {
             "colorbar": {
              "outlinewidth": 0,
              "ticks": ""
             }
            },
            "type": "scattermapbox"
           }
          ],
          "scatterpolar": [
           {
            "marker": {
             "colorbar": {
              "outlinewidth": 0,
              "ticks": ""
             }
            },
            "type": "scatterpolar"
           }
          ],
          "scatterpolargl": [
           {
            "marker": {
             "colorbar": {
              "outlinewidth": 0,
              "ticks": ""
             }
            },
            "type": "scatterpolargl"
           }
          ],
          "scatterternary": [
           {
            "marker": {
             "colorbar": {
              "outlinewidth": 0,
              "ticks": ""
             }
            },
            "type": "scatterternary"
           }
          ],
          "surface": [
           {
            "colorbar": {
             "outlinewidth": 0,
             "ticks": ""
            },
            "colorscale": [
             [
              0,
              "#0d0887"
             ],
             [
              0.1111111111111111,
              "#46039f"
             ],
             [
              0.2222222222222222,
              "#7201a8"
             ],
             [
              0.3333333333333333,
              "#9c179e"
             ],
             [
              0.4444444444444444,
              "#bd3786"
             ],
             [
              0.5555555555555556,
              "#d8576b"
             ],
             [
              0.6666666666666666,
              "#ed7953"
             ],
             [
              0.7777777777777778,
              "#fb9f3a"
             ],
             [
              0.8888888888888888,
              "#fdca26"
             ],
             [
              1,
              "#f0f921"
             ]
            ],
            "type": "surface"
           }
          ],
          "table": [
           {
            "cells": {
             "fill": {
              "color": "#EBF0F8"
             },
             "line": {
              "color": "white"
             }
            },
            "header": {
             "fill": {
              "color": "#C8D4E3"
             },
             "line": {
              "color": "white"
             }
            },
            "type": "table"
           }
          ]
         },
         "layout": {
          "annotationdefaults": {
           "arrowcolor": "#2a3f5f",
           "arrowhead": 0,
           "arrowwidth": 1
          },
          "autotypenumbers": "strict",
          "coloraxis": {
           "colorbar": {
            "outlinewidth": 0,
            "ticks": ""
           }
          },
          "colorscale": {
           "diverging": [
            [
             0,
             "#8e0152"
            ],
            [
             0.1,
             "#c51b7d"
            ],
            [
             0.2,
             "#de77ae"
            ],
            [
             0.3,
             "#f1b6da"
            ],
            [
             0.4,
             "#fde0ef"
            ],
            [
             0.5,
             "#f7f7f7"
            ],
            [
             0.6,
             "#e6f5d0"
            ],
            [
             0.7,
             "#b8e186"
            ],
            [
             0.8,
             "#7fbc41"
            ],
            [
             0.9,
             "#4d9221"
            ],
            [
             1,
             "#276419"
            ]
           ],
           "sequential": [
            [
             0,
             "#0d0887"
            ],
            [
             0.1111111111111111,
             "#46039f"
            ],
            [
             0.2222222222222222,
             "#7201a8"
            ],
            [
             0.3333333333333333,
             "#9c179e"
            ],
            [
             0.4444444444444444,
             "#bd3786"
            ],
            [
             0.5555555555555556,
             "#d8576b"
            ],
            [
             0.6666666666666666,
             "#ed7953"
            ],
            [
             0.7777777777777778,
             "#fb9f3a"
            ],
            [
             0.8888888888888888,
             "#fdca26"
            ],
            [
             1,
             "#f0f921"
            ]
           ],
           "sequentialminus": [
            [
             0,
             "#0d0887"
            ],
            [
             0.1111111111111111,
             "#46039f"
            ],
            [
             0.2222222222222222,
             "#7201a8"
            ],
            [
             0.3333333333333333,
             "#9c179e"
            ],
            [
             0.4444444444444444,
             "#bd3786"
            ],
            [
             0.5555555555555556,
             "#d8576b"
            ],
            [
             0.6666666666666666,
             "#ed7953"
            ],
            [
             0.7777777777777778,
             "#fb9f3a"
            ],
            [
             0.8888888888888888,
             "#fdca26"
            ],
            [
             1,
             "#f0f921"
            ]
           ]
          },
          "colorway": [
           "#636efa",
           "#EF553B",
           "#00cc96",
           "#ab63fa",
           "#FFA15A",
           "#19d3f3",
           "#FF6692",
           "#B6E880",
           "#FF97FF",
           "#FECB52"
          ],
          "font": {
           "color": "#2a3f5f"
          },
          "geo": {
           "bgcolor": "white",
           "lakecolor": "white",
           "landcolor": "#E5ECF6",
           "showlakes": true,
           "showland": true,
           "subunitcolor": "white"
          },
          "hoverlabel": {
           "align": "left"
          },
          "hovermode": "closest",
          "mapbox": {
           "style": "light"
          },
          "paper_bgcolor": "white",
          "plot_bgcolor": "#E5ECF6",
          "polar": {
           "angularaxis": {
            "gridcolor": "white",
            "linecolor": "white",
            "ticks": ""
           },
           "bgcolor": "#E5ECF6",
           "radialaxis": {
            "gridcolor": "white",
            "linecolor": "white",
            "ticks": ""
           }
          },
          "scene": {
           "xaxis": {
            "backgroundcolor": "#E5ECF6",
            "gridcolor": "white",
            "gridwidth": 2,
            "linecolor": "white",
            "showbackground": true,
            "ticks": "",
            "zerolinecolor": "white"
           },
           "yaxis": {
            "backgroundcolor": "#E5ECF6",
            "gridcolor": "white",
            "gridwidth": 2,
            "linecolor": "white",
            "showbackground": true,
            "ticks": "",
            "zerolinecolor": "white"
           },
           "zaxis": {
            "backgroundcolor": "#E5ECF6",
            "gridcolor": "white",
            "gridwidth": 2,
            "linecolor": "white",
            "showbackground": true,
            "ticks": "",
            "zerolinecolor": "white"
           }
          },
          "shapedefaults": {
           "line": {
            "color": "#2a3f5f"
           }
          },
          "ternary": {
           "aaxis": {
            "gridcolor": "white",
            "linecolor": "white",
            "ticks": ""
           },
           "baxis": {
            "gridcolor": "white",
            "linecolor": "white",
            "ticks": ""
           },
           "bgcolor": "#E5ECF6",
           "caxis": {
            "gridcolor": "white",
            "linecolor": "white",
            "ticks": ""
           }
          },
          "title": {
           "x": 0.05
          },
          "xaxis": {
           "automargin": true,
           "gridcolor": "white",
           "linecolor": "white",
           "ticks": "",
           "title": {
            "standoff": 15
           },
           "zerolinecolor": "white",
           "zerolinewidth": 2
          },
          "yaxis": {
           "automargin": true,
           "gridcolor": "white",
           "linecolor": "white",
           "ticks": "",
           "title": {
            "standoff": 15
           },
           "zerolinecolor": "white",
           "zerolinewidth": 2
          }
         }
        },
        "title": {
         "text": "Internetnutzung nach Setting, n=203"
        },
        "yaxis": {
         "title": {
          "text": "Dauer des Tests in Sekunden"
         }
        }
       }
      }
     },
     "metadata": {},
     "output_type": "display_data"
    }
   ],
   "source": [
    "dfAll = surveyData[['browsing-type', 'highest-preferenced-viz']]\n",
    "dfAll = dfAll.groupby(['browsing-type'], dropna=False)['browsing-type'].count().reset_index(name='count')\n",
    "\n",
    "dfListe = surveyData.loc[surveyData['highest-preferenced-viz'] == 'Liste'][['browsing-type', 'highest-preferenced-viz']]\n",
    "dfListe = dfListe.groupby(['browsing-type'], dropna=False)['browsing-type'].count().reset_index(name='count')\n",
    "\n",
    "dfChord = surveyData.loc[surveyData['highest-preferenced-viz'] == 'Chord'][['browsing-type', 'highest-preferenced-viz']]\n",
    "dfChord = dfChord.groupby(['browsing-type'], dropna=False)['browsing-type'].count().reset_index(name='count')\n",
    "\n",
    "dfMap = surveyData.loc[surveyData['highest-preferenced-viz'] == 'Map'][['browsing-type', 'highest-preferenced-viz']]\n",
    "dfMap = dfMap.groupby(['browsing-type'], dropna=False)['browsing-type'].count().reset_index(name='count')\n",
    "\n",
    "# Label strings\n",
    "chartLabel = f\"Internetnutzung nach Setting, n={len(surveyData[['browsing-type']])}\"\n",
    "categoryGroups = [\"Arbeit\", \"Beides etwa gleich\", \"Privat\"]\n",
    "\n",
    "fig = make_subplots(rows=2, cols=3, \n",
    "    specs=[\n",
    "        [None, {'type':'domain'}, None],\n",
    "        [{'type':'domain'}, {'type':'domain'}, {'type':'domain'}],\n",
    "    ],\n",
    "    subplot_titles=(\"Gesamt\",\"Liste favorisiert\", \"Chord  favorisiert\",  \"Map favorisiert\"))\n",
    "\n",
    "fig.add_trace(go.Pie(labels=categoryGroups, values=dfAll['count'], sort=False, direction='clockwise', marker_colors=urCdColors),\n",
    "              1, 2)\n",
    "fig.add_trace(go.Pie(labels=categoryGroups, values=dfListe['count'], sort=False, direction='clockwise', marker_colors=urCdColors),\n",
    "              2, 1)\n",
    "fig.add_trace(go.Pie(labels=[categoryGroups[1], categoryGroups[2]], values=dfChord['count'], sort=False, direction='clockwise', marker_colors=[urCdColors[1], urCdColors[2]]),\n",
    "              2, 2)\n",
    "fig.add_trace(go.Pie(labels=[categoryGroups[1], categoryGroups[2]], values=dfMap['count'], sort=False, direction='clockwise', marker_colors=[urCdColors[1], urCdColors[2]]),\n",
    "              2, 3)\n",
    "\n",
    "fig.update_traces(textinfo='percent+label')\n",
    "fig.update_layout(\n",
    "    title=chartLabel,\n",
    "    yaxis_title=yLabel,\n",
    "    height=850,\n",
    "    #legend_title=\"Legend Title\",\n",
    "    font=dict(\n",
    "        family=\"Frutiger Next LT W1G, Gill Sans, sans-serif\",\n",
    "        size=12,\n",
    "        # color=\"RebeccaPurple\"\n",
    "    )\n",
    ")\n",
    "fig.update(layout_showlegend=True)\n",
    "fig.update_annotations(yshift=70)\n",
    "fig.show()\n",
    "\n",
    "\n",
    "# Table mood development\n",
    "fig = go.Figure(data=[go.Table(\n",
    "  header=dict(\n",
    "    values=['<b>Internetnutzungssetting</b>', f\"<b>{categoryGroups[0]}</b>\", f\"<b>{categoryGroups[1]}</b>\", f\"<b>{categoryGroups[2]}</b>\"],\n",
    "    line_color='darkslategray',\n",
    "    fill_color=headerColor,\n",
    "    align=['left','center'],\n",
    "    font=dict(color='white', size=12)\n",
    "  ),\n",
    "  cells=dict(\n",
    "    values=[\n",
    "      # [surveyData[surveyData['sex'] == 'männlich'], surveyData[surveyData['sex'] == 'nicht angegeben'], surveyData[surveyData['sex'] == 'weiblich']]],\n",
    "        ['<b>Gesamt</b>','<b>Liste</b>', '<b>Chord</b>', '<b>Map</b>'],\n",
    "        [dfAll.iloc[0]['count'], dfListe.iloc[0]['count'], 0, 0],\n",
    "        [dfAll.iloc[1]['count'], dfListe.iloc[1]['count'], dfChord.iloc[0]['count'], dfMap.iloc[0]['count']],\n",
    "        [dfAll.iloc[2]['count'], dfListe.iloc[2]['count'], dfChord.iloc[1]['count'], dfMap.iloc[1]['count']]\n",
    "      ],\n",
    "    line_color='darkslategray',\n",
    "    # 2-D list of colors for alternating rows\n",
    "    fill_color = [[rowOddColor,rowEvenColor,rowOddColor, rowEvenColor,rowOddColor]*5],\n",
    "    align = ['left', 'center'],\n",
    "    font = dict(color = 'darkslategray', size = 11)\n",
    "    ))\n",
    "])\n",
    "\n",
    "fig.update_layout(\n",
    "    title=chartLabel,\n",
    "    yaxis_title=yLabel,\n",
    "    # legend_title=\"Legend Title\",\n",
    "    font=dict(\n",
    "        family=\"Frutiger Next LT W1G, Gill Sans, sans-serif\",\n",
    "        size=12,\n",
    "        # color=\"RebeccaPurple\"\n",
    "    )\n",
    ")\n",
    "\n",
    "fig.show()"
   ]
  },
  {
   "cell_type": "markdown",
   "metadata": {},
   "source": [
    "## Internet Usage"
   ]
  },
  {
   "cell_type": "code",
   "execution_count": null,
   "metadata": {},
   "outputs": [],
   "source": [
    "# Usage erst mal als Stacked Bar Chart, je nach Häufigkeit\n",
    "\n",
    "# https://plotly.com/python/bar-charts/ => \n",
    "\n",
    "# Dann noch mal absolute Vergleichsgrafik mit Werten Nie = 0, Seltener = 1, Mehrmals pro Monat = 2, Mehrmals pro Woche = 3, Täglich = 4 \n",
    "# So könnt absolute Graifk gebaut werden \n",
    "\n",
    "# https://plotly.com/python/horizontal-bar-charts/"
   ]
  },
  {
   "cell_type": "markdown",
   "metadata": {},
   "source": [
    "### Stacked Usage"
   ]
  },
  {
   "cell_type": "code",
   "execution_count": 19,
   "metadata": {},
   "outputs": [
    {
     "data": {
      "text/html": [
       "<div>\n",
       "<style scoped>\n",
       "    .dataframe tbody tr th:only-of-type {\n",
       "        vertical-align: middle;\n",
       "    }\n",
       "\n",
       "    .dataframe tbody tr th {\n",
       "        vertical-align: top;\n",
       "    }\n",
       "\n",
       "    .dataframe thead th {\n",
       "        text-align: right;\n",
       "    }\n",
       "</style>\n",
       "<table border=\"1\" class=\"dataframe\">\n",
       "  <thead>\n",
       "    <tr style=\"text-align: right;\">\n",
       "      <th></th>\n",
       "      <th>internet-usage-e-mails</th>\n",
       "      <th>internet-usage-messenger</th>\n",
       "      <th>internet-usage-encyclopedia</th>\n",
       "      <th>internet-usage-youtube</th>\n",
       "      <th>internet-usage-weather</th>\n",
       "      <th>internet-usage-products-and-prices</th>\n",
       "      <th>internet-usage-banking</th>\n",
       "      <th>internet-usage-maps</th>\n",
       "      <th>internet-usage-voip</th>\n",
       "      <th>internet-usage-social-media-networks</th>\n",
       "      <th>internet-usage-music-streaming</th>\n",
       "      <th>internet-usage-video-streaming</th>\n",
       "      <th>internet-usage-news</th>\n",
       "      <th>internet-usage-podcasts</th>\n",
       "      <th>internet-usage-blogs</th>\n",
       "      <th>internet-usage-contact-portals</th>\n",
       "      <th>internet-usage-news-archives</th>\n",
       "      <th>internet-usage-job-portals</th>\n",
       "      <th>internet-usage-twitter</th>\n",
       "    </tr>\n",
       "  </thead>\n",
       "  <tbody>\n",
       "    <tr>\n",
       "      <th>0</th>\n",
       "      <td>Mehrmals pro Woche</td>\n",
       "      <td>Mehrmals pro Woche</td>\n",
       "      <td>Mehrmals pro Monat</td>\n",
       "      <td>Täglich</td>\n",
       "      <td>Mehrmals pro Monat</td>\n",
       "      <td>Seltener</td>\n",
       "      <td>Mehrmals pro Monat</td>\n",
       "      <td>Mehrmals pro Monat</td>\n",
       "      <td>Mehrmals pro Woche</td>\n",
       "      <td>Täglich</td>\n",
       "      <td>Täglich</td>\n",
       "      <td>Mehrmals pro Woche</td>\n",
       "      <td>Seltener</td>\n",
       "      <td>Nie</td>\n",
       "      <td>Seltener</td>\n",
       "      <td>Mehrmals pro Monat</td>\n",
       "      <td>Seltener</td>\n",
       "      <td>Mehrmals pro Monat</td>\n",
       "      <td>Nie</td>\n",
       "    </tr>\n",
       "    <tr>\n",
       "      <th>1</th>\n",
       "      <td>Mehrmals pro Woche</td>\n",
       "      <td>Täglich</td>\n",
       "      <td>Mehrmals pro Woche</td>\n",
       "      <td>Täglich</td>\n",
       "      <td>Täglich</td>\n",
       "      <td>Mehrmals pro Woche</td>\n",
       "      <td>Täglich</td>\n",
       "      <td>Mehrmals pro Woche</td>\n",
       "      <td>Seltener</td>\n",
       "      <td>Nie</td>\n",
       "      <td>Täglich</td>\n",
       "      <td>Mehrmals pro Woche</td>\n",
       "      <td>Seltener</td>\n",
       "      <td>Mehrmals pro Monat</td>\n",
       "      <td>Seltener</td>\n",
       "      <td>Seltener</td>\n",
       "      <td>Nie</td>\n",
       "      <td>Nie</td>\n",
       "      <td>Nie</td>\n",
       "    </tr>\n",
       "    <tr>\n",
       "      <th>2</th>\n",
       "      <td>Täglich</td>\n",
       "      <td>Täglich</td>\n",
       "      <td>Mehrmals pro Monat</td>\n",
       "      <td>Täglich</td>\n",
       "      <td>Mehrmals pro Woche</td>\n",
       "      <td>Mehrmals pro Woche</td>\n",
       "      <td>Mehrmals pro Woche</td>\n",
       "      <td>Mehrmals pro Monat</td>\n",
       "      <td>Mehrmals pro Monat</td>\n",
       "      <td>Mehrmals pro Woche</td>\n",
       "      <td>Mehrmals pro Woche</td>\n",
       "      <td>Mehrmals pro Monat</td>\n",
       "      <td>Mehrmals pro Monat</td>\n",
       "      <td>Mehrmals pro Woche</td>\n",
       "      <td>Mehrmals pro Woche</td>\n",
       "      <td>Seltener</td>\n",
       "      <td>Mehrmals pro Monat</td>\n",
       "      <td>Mehrmals pro Monat</td>\n",
       "      <td>Mehrmals pro Woche</td>\n",
       "    </tr>\n",
       "    <tr>\n",
       "      <th>3</th>\n",
       "      <td>Täglich</td>\n",
       "      <td>Täglich</td>\n",
       "      <td>Mehrmals pro Woche</td>\n",
       "      <td>Mehrmals pro Monat</td>\n",
       "      <td>Mehrmals pro Woche</td>\n",
       "      <td>Mehrmals pro Woche</td>\n",
       "      <td>Mehrmals pro Woche</td>\n",
       "      <td>Mehrmals pro Woche</td>\n",
       "      <td>Mehrmals pro Woche</td>\n",
       "      <td>Mehrmals pro Monat</td>\n",
       "      <td>Mehrmals pro Woche</td>\n",
       "      <td>Mehrmals pro Woche</td>\n",
       "      <td>Mehrmals pro Monat</td>\n",
       "      <td>Nie</td>\n",
       "      <td>Mehrmals pro Monat</td>\n",
       "      <td>Nie</td>\n",
       "      <td>Seltener</td>\n",
       "      <td>Seltener</td>\n",
       "      <td>Nie</td>\n",
       "    </tr>\n",
       "    <tr>\n",
       "      <th>4</th>\n",
       "      <td>Mehrmals pro Woche</td>\n",
       "      <td>Täglich</td>\n",
       "      <td>Mehrmals pro Woche</td>\n",
       "      <td>Täglich</td>\n",
       "      <td>Täglich</td>\n",
       "      <td>Mehrmals pro Monat</td>\n",
       "      <td>Seltener</td>\n",
       "      <td>Mehrmals pro Monat</td>\n",
       "      <td>Mehrmals pro Monat</td>\n",
       "      <td>Täglich</td>\n",
       "      <td>Täglich</td>\n",
       "      <td>Mehrmals pro Woche</td>\n",
       "      <td>Mehrmals pro Monat</td>\n",
       "      <td>Mehrmals pro Woche</td>\n",
       "      <td>Mehrmals pro Woche</td>\n",
       "      <td>Seltener</td>\n",
       "      <td>Seltener</td>\n",
       "      <td>Seltener</td>\n",
       "      <td>Nie</td>\n",
       "    </tr>\n",
       "    <tr>\n",
       "      <th>5</th>\n",
       "      <td>Mehrmals pro Monat</td>\n",
       "      <td>Täglich</td>\n",
       "      <td>Mehrmals pro Monat</td>\n",
       "      <td>Täglich</td>\n",
       "      <td>Mehrmals pro Woche</td>\n",
       "      <td>Mehrmals pro Monat</td>\n",
       "      <td>Mehrmals pro Monat</td>\n",
       "      <td>Mehrmals pro Monat</td>\n",
       "      <td>Mehrmals pro Woche</td>\n",
       "      <td>Mehrmals pro Woche</td>\n",
       "      <td>Täglich</td>\n",
       "      <td>Mehrmals pro Woche</td>\n",
       "      <td>Mehrmals pro Monat</td>\n",
       "      <td>Mehrmals pro Monat</td>\n",
       "      <td>Seltener</td>\n",
       "      <td>Seltener</td>\n",
       "      <td>Mehrmals pro Monat</td>\n",
       "      <td>Seltener</td>\n",
       "      <td>Nie</td>\n",
       "    </tr>\n",
       "    <tr>\n",
       "      <th>6</th>\n",
       "      <td>Mehrmals pro Monat</td>\n",
       "      <td>Täglich</td>\n",
       "      <td>Mehrmals pro Woche</td>\n",
       "      <td>Täglich</td>\n",
       "      <td>Mehrmals pro Monat</td>\n",
       "      <td>Seltener</td>\n",
       "      <td>Seltener</td>\n",
       "      <td>Seltener</td>\n",
       "      <td>Mehrmals pro Monat</td>\n",
       "      <td>Täglich</td>\n",
       "      <td>Täglich</td>\n",
       "      <td>Mehrmals pro Woche</td>\n",
       "      <td>Mehrmals pro Woche</td>\n",
       "      <td>Seltener</td>\n",
       "      <td>Mehrmals pro Monat</td>\n",
       "      <td>Mehrmals pro Woche</td>\n",
       "      <td>Seltener</td>\n",
       "      <td>Nie</td>\n",
       "      <td>Nie</td>\n",
       "    </tr>\n",
       "    <tr>\n",
       "      <th>7</th>\n",
       "      <td>Mehrmals pro Woche</td>\n",
       "      <td>Täglich</td>\n",
       "      <td>Mehrmals pro Woche</td>\n",
       "      <td>Täglich</td>\n",
       "      <td>Mehrmals pro Woche</td>\n",
       "      <td>Mehrmals pro Monat</td>\n",
       "      <td>Mehrmals pro Monat</td>\n",
       "      <td>Mehrmals pro Woche</td>\n",
       "      <td>Mehrmals pro Woche</td>\n",
       "      <td>Täglich</td>\n",
       "      <td>Täglich</td>\n",
       "      <td>Mehrmals pro Monat</td>\n",
       "      <td>Seltener</td>\n",
       "      <td>Mehrmals pro Monat</td>\n",
       "      <td>Mehrmals pro Monat</td>\n",
       "      <td>Nie</td>\n",
       "      <td>Seltener</td>\n",
       "      <td>Seltener</td>\n",
       "      <td>Nie</td>\n",
       "    </tr>\n",
       "    <tr>\n",
       "      <th>8</th>\n",
       "      <td>Mehrmals pro Woche</td>\n",
       "      <td>Täglich</td>\n",
       "      <td>Mehrmals pro Monat</td>\n",
       "      <td>Mehrmals pro Monat</td>\n",
       "      <td>Mehrmals pro Monat</td>\n",
       "      <td>Seltener</td>\n",
       "      <td>Mehrmals pro Monat</td>\n",
       "      <td>Mehrmals pro Woche</td>\n",
       "      <td>Mehrmals pro Monat</td>\n",
       "      <td>Täglich</td>\n",
       "      <td>Täglich</td>\n",
       "      <td>Mehrmals pro Woche</td>\n",
       "      <td>Seltener</td>\n",
       "      <td>Mehrmals pro Monat</td>\n",
       "      <td>Seltener</td>\n",
       "      <td>Seltener</td>\n",
       "      <td>Nie</td>\n",
       "      <td>Seltener</td>\n",
       "      <td>Nie</td>\n",
       "    </tr>\n",
       "    <tr>\n",
       "      <th>9</th>\n",
       "      <td>Täglich</td>\n",
       "      <td>Täglich</td>\n",
       "      <td>Mehrmals pro Monat</td>\n",
       "      <td>Mehrmals pro Woche</td>\n",
       "      <td>Mehrmals pro Woche</td>\n",
       "      <td>Täglich</td>\n",
       "      <td>Täglich</td>\n",
       "      <td>Mehrmals pro Monat</td>\n",
       "      <td>Mehrmals pro Monat</td>\n",
       "      <td>Täglich</td>\n",
       "      <td>Täglich</td>\n",
       "      <td>Täglich</td>\n",
       "      <td>Mehrmals pro Monat</td>\n",
       "      <td>Nie</td>\n",
       "      <td>Nie</td>\n",
       "      <td>Mehrmals pro Monat</td>\n",
       "      <td>Mehrmals pro Monat</td>\n",
       "      <td>Seltener</td>\n",
       "      <td>Nie</td>\n",
       "    </tr>\n",
       "    <tr>\n",
       "      <th>10</th>\n",
       "      <td>Täglich</td>\n",
       "      <td>Täglich</td>\n",
       "      <td>Täglich</td>\n",
       "      <td>Täglich</td>\n",
       "      <td>Täglich</td>\n",
       "      <td>Mehrmals pro Woche</td>\n",
       "      <td>Mehrmals pro Woche</td>\n",
       "      <td>Mehrmals pro Monat</td>\n",
       "      <td>Täglich</td>\n",
       "      <td>Mehrmals pro Woche</td>\n",
       "      <td>Täglich</td>\n",
       "      <td>Mehrmals pro Woche</td>\n",
       "      <td>Mehrmals pro Woche</td>\n",
       "      <td>Nie</td>\n",
       "      <td>Mehrmals pro Woche</td>\n",
       "      <td>Mehrmals pro Monat</td>\n",
       "      <td>Mehrmals pro Woche</td>\n",
       "      <td>Mehrmals pro Monat</td>\n",
       "      <td>Nie</td>\n",
       "    </tr>\n",
       "    <tr>\n",
       "      <th>11</th>\n",
       "      <td>Seltener</td>\n",
       "      <td>Täglich</td>\n",
       "      <td>Mehrmals pro Woche</td>\n",
       "      <td>Täglich</td>\n",
       "      <td>Mehrmals pro Woche</td>\n",
       "      <td>Mehrmals pro Woche</td>\n",
       "      <td>Mehrmals pro Monat</td>\n",
       "      <td>Mehrmals pro Monat</td>\n",
       "      <td>Täglich</td>\n",
       "      <td>Täglich</td>\n",
       "      <td>Täglich</td>\n",
       "      <td>Täglich</td>\n",
       "      <td>Mehrmals pro Woche</td>\n",
       "      <td>Mehrmals pro Woche</td>\n",
       "      <td>Mehrmals pro Monat</td>\n",
       "      <td>Mehrmals pro Monat</td>\n",
       "      <td>Mehrmals pro Monat</td>\n",
       "      <td>Mehrmals pro Monat</td>\n",
       "      <td>Nie</td>\n",
       "    </tr>\n",
       "    <tr>\n",
       "      <th>12</th>\n",
       "      <td>Mehrmals pro Woche</td>\n",
       "      <td>Täglich</td>\n",
       "      <td>Mehrmals pro Woche</td>\n",
       "      <td>Täglich</td>\n",
       "      <td>Mehrmals pro Woche</td>\n",
       "      <td>Mehrmals pro Monat</td>\n",
       "      <td>Mehrmals pro Monat</td>\n",
       "      <td>Mehrmals pro Monat</td>\n",
       "      <td>Mehrmals pro Monat</td>\n",
       "      <td>Täglich</td>\n",
       "      <td>Täglich</td>\n",
       "      <td>Mehrmals pro Monat</td>\n",
       "      <td>Seltener</td>\n",
       "      <td>Nie</td>\n",
       "      <td>Seltener</td>\n",
       "      <td>Seltener</td>\n",
       "      <td>Seltener</td>\n",
       "      <td>Mehrmals pro Monat</td>\n",
       "      <td>Seltener</td>\n",
       "    </tr>\n",
       "    <tr>\n",
       "      <th>13</th>\n",
       "      <td>Seltener</td>\n",
       "      <td>Täglich</td>\n",
       "      <td>Mehrmals pro Woche</td>\n",
       "      <td>Täglich</td>\n",
       "      <td>Täglich</td>\n",
       "      <td>Mehrmals pro Woche</td>\n",
       "      <td>Mehrmals pro Woche</td>\n",
       "      <td>Mehrmals pro Woche</td>\n",
       "      <td>Mehrmals pro Woche</td>\n",
       "      <td>Täglich</td>\n",
       "      <td>Täglich</td>\n",
       "      <td>Mehrmals pro Woche</td>\n",
       "      <td>Mehrmals pro Woche</td>\n",
       "      <td>Mehrmals pro Monat</td>\n",
       "      <td>Mehrmals pro Woche</td>\n",
       "      <td>Seltener</td>\n",
       "      <td>Seltener</td>\n",
       "      <td>Seltener</td>\n",
       "      <td>Mehrmals pro Woche</td>\n",
       "    </tr>\n",
       "    <tr>\n",
       "      <th>14</th>\n",
       "      <td>Seltener</td>\n",
       "      <td>Täglich</td>\n",
       "      <td>Mehrmals pro Woche</td>\n",
       "      <td>Mehrmals pro Woche</td>\n",
       "      <td>Mehrmals pro Woche</td>\n",
       "      <td>Mehrmals pro Monat</td>\n",
       "      <td>Mehrmals pro Monat</td>\n",
       "      <td>Mehrmals pro Woche</td>\n",
       "      <td>Mehrmals pro Monat</td>\n",
       "      <td>Mehrmals pro Monat</td>\n",
       "      <td>Täglich</td>\n",
       "      <td>Mehrmals pro Woche</td>\n",
       "      <td>Mehrmals pro Monat</td>\n",
       "      <td>Seltener</td>\n",
       "      <td>Mehrmals pro Monat</td>\n",
       "      <td>Mehrmals pro Monat</td>\n",
       "      <td>Seltener</td>\n",
       "      <td>Seltener</td>\n",
       "      <td>Nie</td>\n",
       "    </tr>\n",
       "    <tr>\n",
       "      <th>15</th>\n",
       "      <td>Seltener</td>\n",
       "      <td>Mehrmals pro Woche</td>\n",
       "      <td>Mehrmals pro Monat</td>\n",
       "      <td>Mehrmals pro Woche</td>\n",
       "      <td>Mehrmals pro Monat</td>\n",
       "      <td>Mehrmals pro Monat</td>\n",
       "      <td>Mehrmals pro Monat</td>\n",
       "      <td>Mehrmals pro Monat</td>\n",
       "      <td>Seltener</td>\n",
       "      <td>Täglich</td>\n",
       "      <td>Mehrmals pro Woche</td>\n",
       "      <td>Seltener</td>\n",
       "      <td>Seltener</td>\n",
       "      <td>Mehrmals pro Monat</td>\n",
       "      <td>Seltener</td>\n",
       "      <td>Seltener</td>\n",
       "      <td>Mehrmals pro Monat</td>\n",
       "      <td>Mehrmals pro Monat</td>\n",
       "      <td>Nie</td>\n",
       "    </tr>\n",
       "    <tr>\n",
       "      <th>16</th>\n",
       "      <td>Täglich</td>\n",
       "      <td>Täglich</td>\n",
       "      <td>Mehrmals pro Woche</td>\n",
       "      <td>Täglich</td>\n",
       "      <td>Täglich</td>\n",
       "      <td>Mehrmals pro Woche</td>\n",
       "      <td>Mehrmals pro Monat</td>\n",
       "      <td>Mehrmals pro Woche</td>\n",
       "      <td>Täglich</td>\n",
       "      <td>Täglich</td>\n",
       "      <td>Täglich</td>\n",
       "      <td>Mehrmals pro Woche</td>\n",
       "      <td>Täglich</td>\n",
       "      <td>Seltener</td>\n",
       "      <td>Mehrmals pro Woche</td>\n",
       "      <td>Mehrmals pro Monat</td>\n",
       "      <td>Täglich</td>\n",
       "      <td>Seltener</td>\n",
       "      <td>Seltener</td>\n",
       "    </tr>\n",
       "    <tr>\n",
       "      <th>17</th>\n",
       "      <td>Mehrmals pro Woche</td>\n",
       "      <td>Täglich</td>\n",
       "      <td>Täglich</td>\n",
       "      <td>Täglich</td>\n",
       "      <td>Mehrmals pro Woche</td>\n",
       "      <td>Mehrmals pro Monat</td>\n",
       "      <td>Mehrmals pro Woche</td>\n",
       "      <td>Mehrmals pro Monat</td>\n",
       "      <td>Seltener</td>\n",
       "      <td>Täglich</td>\n",
       "      <td>Täglich</td>\n",
       "      <td>Täglich</td>\n",
       "      <td>Mehrmals pro Woche</td>\n",
       "      <td>Nie</td>\n",
       "      <td>Mehrmals pro Woche</td>\n",
       "      <td>Mehrmals pro Monat</td>\n",
       "      <td>Seltener</td>\n",
       "      <td>Seltener</td>\n",
       "      <td>Mehrmals pro Monat</td>\n",
       "    </tr>\n",
       "    <tr>\n",
       "      <th>18</th>\n",
       "      <td>Mehrmals pro Monat</td>\n",
       "      <td>Täglich</td>\n",
       "      <td>Mehrmals pro Monat</td>\n",
       "      <td>Täglich</td>\n",
       "      <td>Seltener</td>\n",
       "      <td>Mehrmals pro Monat</td>\n",
       "      <td>Mehrmals pro Monat</td>\n",
       "      <td>Seltener</td>\n",
       "      <td>Seltener</td>\n",
       "      <td>Seltener</td>\n",
       "      <td>Täglich</td>\n",
       "      <td>Mehrmals pro Woche</td>\n",
       "      <td>Mehrmals pro Monat</td>\n",
       "      <td>Nie</td>\n",
       "      <td>Seltener</td>\n",
       "      <td>Seltener</td>\n",
       "      <td>Seltener</td>\n",
       "      <td>Seltener</td>\n",
       "      <td>Nie</td>\n",
       "    </tr>\n",
       "    <tr>\n",
       "      <th>19</th>\n",
       "      <td>Täglich</td>\n",
       "      <td>Täglich</td>\n",
       "      <td>Mehrmals pro Monat</td>\n",
       "      <td>Täglich</td>\n",
       "      <td>Mehrmals pro Woche</td>\n",
       "      <td>Mehrmals pro Monat</td>\n",
       "      <td>Seltener</td>\n",
       "      <td>Mehrmals pro Woche</td>\n",
       "      <td>Mehrmals pro Woche</td>\n",
       "      <td>Mehrmals pro Woche</td>\n",
       "      <td>Täglich</td>\n",
       "      <td>Mehrmals pro Woche</td>\n",
       "      <td>Mehrmals pro Woche</td>\n",
       "      <td>Mehrmals pro Woche</td>\n",
       "      <td>Seltener</td>\n",
       "      <td>Seltener</td>\n",
       "      <td>Seltener</td>\n",
       "      <td>Seltener</td>\n",
       "      <td>Nie</td>\n",
       "    </tr>\n",
       "    <tr>\n",
       "      <th>20</th>\n",
       "      <td>Täglich</td>\n",
       "      <td>Täglich</td>\n",
       "      <td>Mehrmals pro Woche</td>\n",
       "      <td>Täglich</td>\n",
       "      <td>Mehrmals pro Woche</td>\n",
       "      <td>Mehrmals pro Woche</td>\n",
       "      <td>Täglich</td>\n",
       "      <td>Mehrmals pro Woche</td>\n",
       "      <td>Täglich</td>\n",
       "      <td>Mehrmals pro Woche</td>\n",
       "      <td>Täglich</td>\n",
       "      <td>Täglich</td>\n",
       "      <td>Mehrmals pro Woche</td>\n",
       "      <td>Mehrmals pro Monat</td>\n",
       "      <td>Seltener</td>\n",
       "      <td>Mehrmals pro Monat</td>\n",
       "      <td>Mehrmals pro Monat</td>\n",
       "      <td>Mehrmals pro Monat</td>\n",
       "      <td>Nie</td>\n",
       "    </tr>\n",
       "    <tr>\n",
       "      <th>21</th>\n",
       "      <td>Mehrmals pro Monat</td>\n",
       "      <td>Täglich</td>\n",
       "      <td>Seltener</td>\n",
       "      <td>Mehrmals pro Woche</td>\n",
       "      <td>Nie</td>\n",
       "      <td>Seltener</td>\n",
       "      <td>Mehrmals pro Monat</td>\n",
       "      <td>Mehrmals pro Monat</td>\n",
       "      <td>Mehrmals pro Monat</td>\n",
       "      <td>Seltener</td>\n",
       "      <td>Täglich</td>\n",
       "      <td>Mehrmals pro Woche</td>\n",
       "      <td>Nie</td>\n",
       "      <td>Seltener</td>\n",
       "      <td>Seltener</td>\n",
       "      <td>Nie</td>\n",
       "      <td>Nie</td>\n",
       "      <td>Nie</td>\n",
       "      <td>Nie</td>\n",
       "    </tr>\n",
       "    <tr>\n",
       "      <th>22</th>\n",
       "      <td>Täglich</td>\n",
       "      <td>Täglich</td>\n",
       "      <td>Täglich</td>\n",
       "      <td>Täglich</td>\n",
       "      <td>Mehrmals pro Monat</td>\n",
       "      <td>Mehrmals pro Woche</td>\n",
       "      <td>Mehrmals pro Woche</td>\n",
       "      <td>Mehrmals pro Monat</td>\n",
       "      <td>Mehrmals pro Woche</td>\n",
       "      <td>Mehrmals pro Woche</td>\n",
       "      <td>Täglich</td>\n",
       "      <td>Mehrmals pro Woche</td>\n",
       "      <td>Täglich</td>\n",
       "      <td>Mehrmals pro Monat</td>\n",
       "      <td>Mehrmals pro Monat</td>\n",
       "      <td>Seltener</td>\n",
       "      <td>Mehrmals pro Monat</td>\n",
       "      <td>Mehrmals pro Monat</td>\n",
       "      <td>Nie</td>\n",
       "    </tr>\n",
       "    <tr>\n",
       "      <th>23</th>\n",
       "      <td>Täglich</td>\n",
       "      <td>Täglich</td>\n",
       "      <td>Mehrmals pro Monat</td>\n",
       "      <td>Täglich</td>\n",
       "      <td>Mehrmals pro Woche</td>\n",
       "      <td>Mehrmals pro Monat</td>\n",
       "      <td>Mehrmals pro Monat</td>\n",
       "      <td>Mehrmals pro Monat</td>\n",
       "      <td>Mehrmals pro Monat</td>\n",
       "      <td>Täglich</td>\n",
       "      <td>Täglich</td>\n",
       "      <td>Mehrmals pro Woche</td>\n",
       "      <td>Mehrmals pro Woche</td>\n",
       "      <td>Nie</td>\n",
       "      <td>Mehrmals pro Monat</td>\n",
       "      <td>Seltener</td>\n",
       "      <td>Seltener</td>\n",
       "      <td>Seltener</td>\n",
       "      <td>Nie</td>\n",
       "    </tr>\n",
       "    <tr>\n",
       "      <th>24</th>\n",
       "      <td>Mehrmals pro Monat</td>\n",
       "      <td>Täglich</td>\n",
       "      <td>Mehrmals pro Woche</td>\n",
       "      <td>Täglich</td>\n",
       "      <td>Mehrmals pro Woche</td>\n",
       "      <td>Mehrmals pro Woche</td>\n",
       "      <td>Seltener</td>\n",
       "      <td>Mehrmals pro Monat</td>\n",
       "      <td>Mehrmals pro Monat</td>\n",
       "      <td>Seltener</td>\n",
       "      <td>Täglich</td>\n",
       "      <td>Mehrmals pro Woche</td>\n",
       "      <td>Mehrmals pro Woche</td>\n",
       "      <td>Seltener</td>\n",
       "      <td>Seltener</td>\n",
       "      <td>Seltener</td>\n",
       "      <td>Seltener</td>\n",
       "      <td>Seltener</td>\n",
       "      <td>Mehrmals pro Monat</td>\n",
       "    </tr>\n",
       "    <tr>\n",
       "      <th>25</th>\n",
       "      <td>Mehrmals pro Woche</td>\n",
       "      <td>Täglich</td>\n",
       "      <td>Seltener</td>\n",
       "      <td>Täglich</td>\n",
       "      <td>Mehrmals pro Monat</td>\n",
       "      <td>Mehrmals pro Woche</td>\n",
       "      <td>Nie</td>\n",
       "      <td>Mehrmals pro Woche</td>\n",
       "      <td>Täglich</td>\n",
       "      <td>Täglich</td>\n",
       "      <td>Mehrmals pro Woche</td>\n",
       "      <td>Mehrmals pro Monat</td>\n",
       "      <td>Seltener</td>\n",
       "      <td>Nie</td>\n",
       "      <td>Seltener</td>\n",
       "      <td>Nie</td>\n",
       "      <td>Nie</td>\n",
       "      <td>Mehrmals pro Monat</td>\n",
       "      <td>Nie</td>\n",
       "    </tr>\n",
       "    <tr>\n",
       "      <th>26</th>\n",
       "      <td>Täglich</td>\n",
       "      <td>Täglich</td>\n",
       "      <td>Mehrmals pro Woche</td>\n",
       "      <td>Mehrmals pro Woche</td>\n",
       "      <td>Täglich</td>\n",
       "      <td>Täglich</td>\n",
       "      <td>Täglich</td>\n",
       "      <td>Mehrmals pro Monat</td>\n",
       "      <td>Seltener</td>\n",
       "      <td>Täglich</td>\n",
       "      <td>Täglich</td>\n",
       "      <td>Mehrmals pro Monat</td>\n",
       "      <td>Seltener</td>\n",
       "      <td>Seltener</td>\n",
       "      <td>Seltener</td>\n",
       "      <td>Mehrmals pro Monat</td>\n",
       "      <td>Mehrmals pro Monat</td>\n",
       "      <td>Seltener</td>\n",
       "      <td>Nie</td>\n",
       "    </tr>\n",
       "    <tr>\n",
       "      <th>27</th>\n",
       "      <td>Täglich</td>\n",
       "      <td>Täglich</td>\n",
       "      <td>Täglich</td>\n",
       "      <td>Täglich</td>\n",
       "      <td>Täglich</td>\n",
       "      <td>Mehrmals pro Woche</td>\n",
       "      <td>Täglich</td>\n",
       "      <td>Täglich</td>\n",
       "      <td>Mehrmals pro Woche</td>\n",
       "      <td>Täglich</td>\n",
       "      <td>Täglich</td>\n",
       "      <td>Täglich</td>\n",
       "      <td>Täglich</td>\n",
       "      <td>Mehrmals pro Monat</td>\n",
       "      <td>Mehrmals pro Monat</td>\n",
       "      <td>Seltener</td>\n",
       "      <td>Seltener</td>\n",
       "      <td>Mehrmals pro Monat</td>\n",
       "      <td>Nie</td>\n",
       "    </tr>\n",
       "    <tr>\n",
       "      <th>28</th>\n",
       "      <td>Mehrmals pro Monat</td>\n",
       "      <td>Täglich</td>\n",
       "      <td>Mehrmals pro Woche</td>\n",
       "      <td>Mehrmals pro Woche</td>\n",
       "      <td>Mehrmals pro Woche</td>\n",
       "      <td>Mehrmals pro Monat</td>\n",
       "      <td>Mehrmals pro Monat</td>\n",
       "      <td>Mehrmals pro Monat</td>\n",
       "      <td>Mehrmals pro Woche</td>\n",
       "      <td>Täglich</td>\n",
       "      <td>Täglich</td>\n",
       "      <td>Mehrmals pro Woche</td>\n",
       "      <td>Seltener</td>\n",
       "      <td>Mehrmals pro Woche</td>\n",
       "      <td>Mehrmals pro Woche</td>\n",
       "      <td>Seltener</td>\n",
       "      <td>Seltener</td>\n",
       "      <td>Mehrmals pro Monat</td>\n",
       "      <td>Nie</td>\n",
       "    </tr>\n",
       "    <tr>\n",
       "      <th>29</th>\n",
       "      <td>Mehrmals pro Woche</td>\n",
       "      <td>Täglich</td>\n",
       "      <td>Mehrmals pro Woche</td>\n",
       "      <td>Täglich</td>\n",
       "      <td>Mehrmals pro Woche</td>\n",
       "      <td>Täglich</td>\n",
       "      <td>Seltener</td>\n",
       "      <td>Seltener</td>\n",
       "      <td>Seltener</td>\n",
       "      <td>Täglich</td>\n",
       "      <td>Täglich</td>\n",
       "      <td>Täglich</td>\n",
       "      <td>Seltener</td>\n",
       "      <td>Mehrmals pro Monat</td>\n",
       "      <td>Seltener</td>\n",
       "      <td>Seltener</td>\n",
       "      <td>Nie</td>\n",
       "      <td>Mehrmals pro Woche</td>\n",
       "      <td>Seltener</td>\n",
       "    </tr>\n",
       "    <tr>\n",
       "      <th>30</th>\n",
       "      <td>Seltener</td>\n",
       "      <td>Täglich</td>\n",
       "      <td>Seltener</td>\n",
       "      <td>Täglich</td>\n",
       "      <td>Mehrmals pro Woche</td>\n",
       "      <td>Seltener</td>\n",
       "      <td>Seltener</td>\n",
       "      <td>Mehrmals pro Monat</td>\n",
       "      <td>Seltener</td>\n",
       "      <td>Mehrmals pro Woche</td>\n",
       "      <td>Mehrmals pro Woche</td>\n",
       "      <td>Mehrmals pro Woche</td>\n",
       "      <td>Seltener</td>\n",
       "      <td>Seltener</td>\n",
       "      <td>Mehrmals pro Monat</td>\n",
       "      <td>Mehrmals pro Monat</td>\n",
       "      <td>Nie</td>\n",
       "      <td>Seltener</td>\n",
       "      <td>Nie</td>\n",
       "    </tr>\n",
       "    <tr>\n",
       "      <th>31</th>\n",
       "      <td>Mehrmals pro Woche</td>\n",
       "      <td>Täglich</td>\n",
       "      <td>Mehrmals pro Monat</td>\n",
       "      <td>Täglich</td>\n",
       "      <td>Mehrmals pro Woche</td>\n",
       "      <td>Mehrmals pro Woche</td>\n",
       "      <td>Mehrmals pro Woche</td>\n",
       "      <td>Mehrmals pro Woche</td>\n",
       "      <td>Mehrmals pro Monat</td>\n",
       "      <td>Täglich</td>\n",
       "      <td>Täglich</td>\n",
       "      <td>Täglich</td>\n",
       "      <td>Mehrmals pro Woche</td>\n",
       "      <td>Mehrmals pro Monat</td>\n",
       "      <td>Mehrmals pro Monat</td>\n",
       "      <td>Seltener</td>\n",
       "      <td>Mehrmals pro Monat</td>\n",
       "      <td>Seltener</td>\n",
       "      <td>Mehrmals pro Woche</td>\n",
       "    </tr>\n",
       "    <tr>\n",
       "      <th>32</th>\n",
       "      <td>Mehrmals pro Woche</td>\n",
       "      <td>Täglich</td>\n",
       "      <td>Mehrmals pro Woche</td>\n",
       "      <td>Mehrmals pro Woche</td>\n",
       "      <td>Mehrmals pro Woche</td>\n",
       "      <td>Mehrmals pro Monat</td>\n",
       "      <td>Mehrmals pro Monat</td>\n",
       "      <td>Mehrmals pro Monat</td>\n",
       "      <td>Mehrmals pro Woche</td>\n",
       "      <td>Seltener</td>\n",
       "      <td>Mehrmals pro Woche</td>\n",
       "      <td>Seltener</td>\n",
       "      <td>Mehrmals pro Monat</td>\n",
       "      <td>Mehrmals pro Monat</td>\n",
       "      <td>Seltener</td>\n",
       "      <td>Nie</td>\n",
       "      <td>Seltener</td>\n",
       "      <td>Nie</td>\n",
       "      <td>Nie</td>\n",
       "    </tr>\n",
       "    <tr>\n",
       "      <th>33</th>\n",
       "      <td>Täglich</td>\n",
       "      <td>Täglich</td>\n",
       "      <td>Mehrmals pro Woche</td>\n",
       "      <td>Täglich</td>\n",
       "      <td>Mehrmals pro Woche</td>\n",
       "      <td>Seltener</td>\n",
       "      <td>Mehrmals pro Monat</td>\n",
       "      <td>Mehrmals pro Woche</td>\n",
       "      <td>Seltener</td>\n",
       "      <td>Mehrmals pro Monat</td>\n",
       "      <td>Täglich</td>\n",
       "      <td>Täglich</td>\n",
       "      <td>Mehrmals pro Monat</td>\n",
       "      <td>Täglich</td>\n",
       "      <td>Nie</td>\n",
       "      <td>Seltener</td>\n",
       "      <td>Seltener</td>\n",
       "      <td>Seltener</td>\n",
       "      <td>Mehrmals pro Monat</td>\n",
       "    </tr>\n",
       "    <tr>\n",
       "      <th>34</th>\n",
       "      <td>Täglich</td>\n",
       "      <td>Täglich</td>\n",
       "      <td>Mehrmals pro Woche</td>\n",
       "      <td>Mehrmals pro Woche</td>\n",
       "      <td>Mehrmals pro Monat</td>\n",
       "      <td>Täglich</td>\n",
       "      <td>Mehrmals pro Woche</td>\n",
       "      <td>Mehrmals pro Monat</td>\n",
       "      <td>Seltener</td>\n",
       "      <td>Täglich</td>\n",
       "      <td>Täglich</td>\n",
       "      <td>Mehrmals pro Woche</td>\n",
       "      <td>Seltener</td>\n",
       "      <td>Nie</td>\n",
       "      <td>Mehrmals pro Monat</td>\n",
       "      <td>Seltener</td>\n",
       "      <td>Seltener</td>\n",
       "      <td>Seltener</td>\n",
       "      <td>Nie</td>\n",
       "    </tr>\n",
       "    <tr>\n",
       "      <th>35</th>\n",
       "      <td>Seltener</td>\n",
       "      <td>Täglich</td>\n",
       "      <td>Mehrmals pro Woche</td>\n",
       "      <td>Mehrmals pro Woche</td>\n",
       "      <td>Mehrmals pro Woche</td>\n",
       "      <td>Mehrmals pro Monat</td>\n",
       "      <td>Mehrmals pro Monat</td>\n",
       "      <td>Mehrmals pro Woche</td>\n",
       "      <td>Mehrmals pro Monat</td>\n",
       "      <td>Mehrmals pro Monat</td>\n",
       "      <td>Täglich</td>\n",
       "      <td>Mehrmals pro Woche</td>\n",
       "      <td>Seltener</td>\n",
       "      <td>Seltener</td>\n",
       "      <td>Seltener</td>\n",
       "      <td>Mehrmals pro Woche</td>\n",
       "      <td>Seltener</td>\n",
       "      <td>Seltener</td>\n",
       "      <td>Nie</td>\n",
       "    </tr>\n",
       "    <tr>\n",
       "      <th>36</th>\n",
       "      <td>Mehrmals pro Woche</td>\n",
       "      <td>Täglich</td>\n",
       "      <td>Mehrmals pro Monat</td>\n",
       "      <td>Täglich</td>\n",
       "      <td>Täglich</td>\n",
       "      <td>Seltener</td>\n",
       "      <td>Nie</td>\n",
       "      <td>Mehrmals pro Monat</td>\n",
       "      <td>Täglich</td>\n",
       "      <td>Täglich</td>\n",
       "      <td>Täglich</td>\n",
       "      <td>Mehrmals pro Woche</td>\n",
       "      <td>Mehrmals pro Woche</td>\n",
       "      <td>Seltener</td>\n",
       "      <td>Mehrmals pro Monat</td>\n",
       "      <td>Mehrmals pro Monat</td>\n",
       "      <td>Seltener</td>\n",
       "      <td>Seltener</td>\n",
       "      <td>Nie</td>\n",
       "    </tr>\n",
       "    <tr>\n",
       "      <th>37</th>\n",
       "      <td>Seltener</td>\n",
       "      <td>Täglich</td>\n",
       "      <td>Mehrmals pro Woche</td>\n",
       "      <td>Täglich</td>\n",
       "      <td>Mehrmals pro Woche</td>\n",
       "      <td>Nie</td>\n",
       "      <td>Nie</td>\n",
       "      <td>Mehrmals pro Monat</td>\n",
       "      <td>Täglich</td>\n",
       "      <td>Täglich</td>\n",
       "      <td>Mehrmals pro Woche</td>\n",
       "      <td>Nie</td>\n",
       "      <td>Mehrmals pro Woche</td>\n",
       "      <td>Täglich</td>\n",
       "      <td>Täglich</td>\n",
       "      <td>Seltener</td>\n",
       "      <td>Nie</td>\n",
       "      <td>Nie</td>\n",
       "      <td>Seltener</td>\n",
       "    </tr>\n",
       "    <tr>\n",
       "      <th>38</th>\n",
       "      <td>Täglich</td>\n",
       "      <td>Täglich</td>\n",
       "      <td>Täglich</td>\n",
       "      <td>Täglich</td>\n",
       "      <td>Täglich</td>\n",
       "      <td>Mehrmals pro Woche</td>\n",
       "      <td>Mehrmals pro Woche</td>\n",
       "      <td>Mehrmals pro Woche</td>\n",
       "      <td>Mehrmals pro Woche</td>\n",
       "      <td>Mehrmals pro Woche</td>\n",
       "      <td>Täglich</td>\n",
       "      <td>Täglich</td>\n",
       "      <td>Mehrmals pro Woche</td>\n",
       "      <td>Mehrmals pro Woche</td>\n",
       "      <td>Seltener</td>\n",
       "      <td>Seltener</td>\n",
       "      <td>Seltener</td>\n",
       "      <td>Seltener</td>\n",
       "      <td>Nie</td>\n",
       "    </tr>\n",
       "    <tr>\n",
       "      <th>39</th>\n",
       "      <td>Mehrmals pro Woche</td>\n",
       "      <td>Täglich</td>\n",
       "      <td>Mehrmals pro Woche</td>\n",
       "      <td>Täglich</td>\n",
       "      <td>Mehrmals pro Woche</td>\n",
       "      <td>Mehrmals pro Monat</td>\n",
       "      <td>Mehrmals pro Woche</td>\n",
       "      <td>Mehrmals pro Monat</td>\n",
       "      <td>Mehrmals pro Woche</td>\n",
       "      <td>Täglich</td>\n",
       "      <td>Täglich</td>\n",
       "      <td>Mehrmals pro Woche</td>\n",
       "      <td>Mehrmals pro Woche</td>\n",
       "      <td>Mehrmals pro Monat</td>\n",
       "      <td>Seltener</td>\n",
       "      <td>Seltener</td>\n",
       "      <td>Seltener</td>\n",
       "      <td>Seltener</td>\n",
       "      <td>Seltener</td>\n",
       "    </tr>\n",
       "    <tr>\n",
       "      <th>40</th>\n",
       "      <td>Mehrmals pro Woche</td>\n",
       "      <td>Täglich</td>\n",
       "      <td>Mehrmals pro Woche</td>\n",
       "      <td>Täglich</td>\n",
       "      <td>Täglich</td>\n",
       "      <td>Mehrmals pro Monat</td>\n",
       "      <td>Mehrmals pro Monat</td>\n",
       "      <td>Mehrmals pro Monat</td>\n",
       "      <td>Mehrmals pro Monat</td>\n",
       "      <td>Täglich</td>\n",
       "      <td>Täglich</td>\n",
       "      <td>Täglich</td>\n",
       "      <td>Seltener</td>\n",
       "      <td>Nie</td>\n",
       "      <td>Seltener</td>\n",
       "      <td>Seltener</td>\n",
       "      <td>Nie</td>\n",
       "      <td>Nie</td>\n",
       "      <td>Seltener</td>\n",
       "    </tr>\n",
       "    <tr>\n",
       "      <th>41</th>\n",
       "      <td>Mehrmals pro Woche</td>\n",
       "      <td>Täglich</td>\n",
       "      <td>Täglich</td>\n",
       "      <td>Täglich</td>\n",
       "      <td>Mehrmals pro Woche</td>\n",
       "      <td>Täglich</td>\n",
       "      <td>Täglich</td>\n",
       "      <td>Mehrmals pro Monat</td>\n",
       "      <td>Mehrmals pro Woche</td>\n",
       "      <td>Täglich</td>\n",
       "      <td>Täglich</td>\n",
       "      <td>Mehrmals pro Woche</td>\n",
       "      <td>Mehrmals pro Monat</td>\n",
       "      <td>Seltener</td>\n",
       "      <td>Mehrmals pro Monat</td>\n",
       "      <td>Mehrmals pro Monat</td>\n",
       "      <td>Seltener</td>\n",
       "      <td>Mehrmals pro Woche</td>\n",
       "      <td>Mehrmals pro Monat</td>\n",
       "    </tr>\n",
       "    <tr>\n",
       "      <th>42</th>\n",
       "      <td>Mehrmals pro Monat</td>\n",
       "      <td>Täglich</td>\n",
       "      <td>Mehrmals pro Woche</td>\n",
       "      <td>Täglich</td>\n",
       "      <td>Mehrmals pro Woche</td>\n",
       "      <td>Mehrmals pro Woche</td>\n",
       "      <td>Nie</td>\n",
       "      <td>Mehrmals pro Monat</td>\n",
       "      <td>Täglich</td>\n",
       "      <td>Täglich</td>\n",
       "      <td>Mehrmals pro Woche</td>\n",
       "      <td>Täglich</td>\n",
       "      <td>Mehrmals pro Woche</td>\n",
       "      <td>Mehrmals pro Woche</td>\n",
       "      <td>Mehrmals pro Woche</td>\n",
       "      <td>Mehrmals pro Woche</td>\n",
       "      <td>Seltener</td>\n",
       "      <td>Seltener</td>\n",
       "      <td>Nie</td>\n",
       "    </tr>\n",
       "    <tr>\n",
       "      <th>43</th>\n",
       "      <td>Mehrmals pro Monat</td>\n",
       "      <td>Täglich</td>\n",
       "      <td>Täglich</td>\n",
       "      <td>Täglich</td>\n",
       "      <td>Mehrmals pro Monat</td>\n",
       "      <td>Mehrmals pro Woche</td>\n",
       "      <td>Mehrmals pro Woche</td>\n",
       "      <td>Mehrmals pro Woche</td>\n",
       "      <td>Mehrmals pro Woche</td>\n",
       "      <td>Mehrmals pro Woche</td>\n",
       "      <td>Mehrmals pro Woche</td>\n",
       "      <td>Mehrmals pro Woche</td>\n",
       "      <td>Mehrmals pro Monat</td>\n",
       "      <td>Mehrmals pro Woche</td>\n",
       "      <td>Mehrmals pro Woche</td>\n",
       "      <td>Mehrmals pro Monat</td>\n",
       "      <td>Mehrmals pro Monat</td>\n",
       "      <td>Seltener</td>\n",
       "      <td>Mehrmals pro Woche</td>\n",
       "    </tr>\n",
       "    <tr>\n",
       "      <th>44</th>\n",
       "      <td>Mehrmals pro Woche</td>\n",
       "      <td>Täglich</td>\n",
       "      <td>Seltener</td>\n",
       "      <td>Täglich</td>\n",
       "      <td>Seltener</td>\n",
       "      <td>Täglich</td>\n",
       "      <td>Mehrmals pro Monat</td>\n",
       "      <td>Mehrmals pro Monat</td>\n",
       "      <td>Täglich</td>\n",
       "      <td>Täglich</td>\n",
       "      <td>Täglich</td>\n",
       "      <td>Täglich</td>\n",
       "      <td>Nie</td>\n",
       "      <td>Mehrmals pro Monat</td>\n",
       "      <td>Seltener</td>\n",
       "      <td>Seltener</td>\n",
       "      <td>Nie</td>\n",
       "      <td>Nie</td>\n",
       "      <td>Nie</td>\n",
       "    </tr>\n",
       "    <tr>\n",
       "      <th>45</th>\n",
       "      <td>Seltener</td>\n",
       "      <td>Täglich</td>\n",
       "      <td>Mehrmals pro Woche</td>\n",
       "      <td>Täglich</td>\n",
       "      <td>Mehrmals pro Monat</td>\n",
       "      <td>Mehrmals pro Woche</td>\n",
       "      <td>Mehrmals pro Monat</td>\n",
       "      <td>Mehrmals pro Woche</td>\n",
       "      <td>Mehrmals pro Woche</td>\n",
       "      <td>Täglich</td>\n",
       "      <td>Täglich</td>\n",
       "      <td>Mehrmals pro Woche</td>\n",
       "      <td>Seltener</td>\n",
       "      <td>Mehrmals pro Monat</td>\n",
       "      <td>Mehrmals pro Woche</td>\n",
       "      <td>Mehrmals pro Woche</td>\n",
       "      <td>Seltener</td>\n",
       "      <td>Nie</td>\n",
       "      <td>Seltener</td>\n",
       "    </tr>\n",
       "    <tr>\n",
       "      <th>46</th>\n",
       "      <td>Mehrmals pro Monat</td>\n",
       "      <td>Täglich</td>\n",
       "      <td>Mehrmals pro Monat</td>\n",
       "      <td>Täglich</td>\n",
       "      <td>Mehrmals pro Woche</td>\n",
       "      <td>Mehrmals pro Monat</td>\n",
       "      <td>Mehrmals pro Woche</td>\n",
       "      <td>Mehrmals pro Woche</td>\n",
       "      <td>Mehrmals pro Woche</td>\n",
       "      <td>Täglich</td>\n",
       "      <td>Mehrmals pro Woche</td>\n",
       "      <td>Mehrmals pro Woche</td>\n",
       "      <td>Seltener</td>\n",
       "      <td>Mehrmals pro Monat</td>\n",
       "      <td>Mehrmals pro Monat</td>\n",
       "      <td>Mehrmals pro Monat</td>\n",
       "      <td>Seltener</td>\n",
       "      <td>Seltener</td>\n",
       "      <td>Täglich</td>\n",
       "    </tr>\n",
       "    <tr>\n",
       "      <th>47</th>\n",
       "      <td>Nie</td>\n",
       "      <td>Täglich</td>\n",
       "      <td>Mehrmals pro Monat</td>\n",
       "      <td>Täglich</td>\n",
       "      <td>Mehrmals pro Woche</td>\n",
       "      <td>Mehrmals pro Woche</td>\n",
       "      <td>Täglich</td>\n",
       "      <td>Mehrmals pro Monat</td>\n",
       "      <td>Mehrmals pro Woche</td>\n",
       "      <td>Täglich</td>\n",
       "      <td>Täglich</td>\n",
       "      <td>Mehrmals pro Woche</td>\n",
       "      <td>Seltener</td>\n",
       "      <td>Seltener</td>\n",
       "      <td>Täglich</td>\n",
       "      <td>Seltener</td>\n",
       "      <td>Nie</td>\n",
       "      <td>Seltener</td>\n",
       "      <td>Täglich</td>\n",
       "    </tr>\n",
       "    <tr>\n",
       "      <th>48</th>\n",
       "      <td>Mehrmals pro Woche</td>\n",
       "      <td>Täglich</td>\n",
       "      <td>Täglich</td>\n",
       "      <td>Täglich</td>\n",
       "      <td>Mehrmals pro Woche</td>\n",
       "      <td>Mehrmals pro Woche</td>\n",
       "      <td>Mehrmals pro Woche</td>\n",
       "      <td>Mehrmals pro Monat</td>\n",
       "      <td>Mehrmals pro Monat</td>\n",
       "      <td>Täglich</td>\n",
       "      <td>Täglich</td>\n",
       "      <td>Täglich</td>\n",
       "      <td>Seltener</td>\n",
       "      <td>Seltener</td>\n",
       "      <td>Seltener</td>\n",
       "      <td>Nie</td>\n",
       "      <td>Nie</td>\n",
       "      <td>Seltener</td>\n",
       "      <td>Nie</td>\n",
       "    </tr>\n",
       "    <tr>\n",
       "      <th>49</th>\n",
       "      <td>Täglich</td>\n",
       "      <td>Täglich</td>\n",
       "      <td>Täglich</td>\n",
       "      <td>Täglich</td>\n",
       "      <td>Mehrmals pro Woche</td>\n",
       "      <td>Mehrmals pro Monat</td>\n",
       "      <td>Mehrmals pro Monat</td>\n",
       "      <td>Mehrmals pro Woche</td>\n",
       "      <td>Mehrmals pro Monat</td>\n",
       "      <td>Seltener</td>\n",
       "      <td>Täglich</td>\n",
       "      <td>Nie</td>\n",
       "      <td>Seltener</td>\n",
       "      <td>Mehrmals pro Monat</td>\n",
       "      <td>Nie</td>\n",
       "      <td>Nie</td>\n",
       "      <td>Seltener</td>\n",
       "      <td>Seltener</td>\n",
       "      <td>Nie</td>\n",
       "    </tr>\n",
       "    <tr>\n",
       "      <th>50</th>\n",
       "      <td>Täglich</td>\n",
       "      <td>Täglich</td>\n",
       "      <td>Mehrmals pro Woche</td>\n",
       "      <td>Täglich</td>\n",
       "      <td>Mehrmals pro Woche</td>\n",
       "      <td>Mehrmals pro Woche</td>\n",
       "      <td>Mehrmals pro Woche</td>\n",
       "      <td>Mehrmals pro Woche</td>\n",
       "      <td>Täglich</td>\n",
       "      <td>Täglich</td>\n",
       "      <td>Täglich</td>\n",
       "      <td>Mehrmals pro Woche</td>\n",
       "      <td>Seltener</td>\n",
       "      <td>Nie</td>\n",
       "      <td>Seltener</td>\n",
       "      <td>Mehrmals pro Monat</td>\n",
       "      <td>Nie</td>\n",
       "      <td>Seltener</td>\n",
       "      <td>Nie</td>\n",
       "    </tr>\n",
       "    <tr>\n",
       "      <th>51</th>\n",
       "      <td>Mehrmals pro Woche</td>\n",
       "      <td>Täglich</td>\n",
       "      <td>Mehrmals pro Woche</td>\n",
       "      <td>Täglich</td>\n",
       "      <td>Mehrmals pro Woche</td>\n",
       "      <td>Mehrmals pro Woche</td>\n",
       "      <td>Mehrmals pro Monat</td>\n",
       "      <td>Mehrmals pro Woche</td>\n",
       "      <td>Mehrmals pro Woche</td>\n",
       "      <td>Täglich</td>\n",
       "      <td>Täglich</td>\n",
       "      <td>Mehrmals pro Woche</td>\n",
       "      <td>Mehrmals pro Woche</td>\n",
       "      <td>Mehrmals pro Woche</td>\n",
       "      <td>Mehrmals pro Woche</td>\n",
       "      <td>Mehrmals pro Woche</td>\n",
       "      <td>Seltener</td>\n",
       "      <td>Seltener</td>\n",
       "      <td>Täglich</td>\n",
       "    </tr>\n",
       "    <tr>\n",
       "      <th>52</th>\n",
       "      <td>Mehrmals pro Woche</td>\n",
       "      <td>Mehrmals pro Monat</td>\n",
       "      <td>Mehrmals pro Woche</td>\n",
       "      <td>Täglich</td>\n",
       "      <td>Mehrmals pro Woche</td>\n",
       "      <td>Mehrmals pro Monat</td>\n",
       "      <td>Mehrmals pro Monat</td>\n",
       "      <td>Mehrmals pro Monat</td>\n",
       "      <td>Mehrmals pro Monat</td>\n",
       "      <td>Täglich</td>\n",
       "      <td>Mehrmals pro Woche</td>\n",
       "      <td>Mehrmals pro Woche</td>\n",
       "      <td>Mehrmals pro Woche</td>\n",
       "      <td>Seltener</td>\n",
       "      <td>Mehrmals pro Monat</td>\n",
       "      <td>Seltener</td>\n",
       "      <td>Mehrmals pro Monat</td>\n",
       "      <td>Seltener</td>\n",
       "      <td>Seltener</td>\n",
       "    </tr>\n",
       "    <tr>\n",
       "      <th>53</th>\n",
       "      <td>Mehrmals pro Monat</td>\n",
       "      <td>Täglich</td>\n",
       "      <td>Mehrmals pro Woche</td>\n",
       "      <td>Mehrmals pro Woche</td>\n",
       "      <td>Täglich</td>\n",
       "      <td>Mehrmals pro Monat</td>\n",
       "      <td>Mehrmals pro Monat</td>\n",
       "      <td>Seltener</td>\n",
       "      <td>Mehrmals pro Monat</td>\n",
       "      <td>Täglich</td>\n",
       "      <td>Täglich</td>\n",
       "      <td>Täglich</td>\n",
       "      <td>Mehrmals pro Woche</td>\n",
       "      <td>Mehrmals pro Monat</td>\n",
       "      <td>Seltener</td>\n",
       "      <td>Seltener</td>\n",
       "      <td>Mehrmals pro Monat</td>\n",
       "      <td>Nie</td>\n",
       "      <td>Nie</td>\n",
       "    </tr>\n",
       "    <tr>\n",
       "      <th>54</th>\n",
       "      <td>Täglich</td>\n",
       "      <td>Täglich</td>\n",
       "      <td>Mehrmals pro Monat</td>\n",
       "      <td>Mehrmals pro Woche</td>\n",
       "      <td>Nie</td>\n",
       "      <td>Nie</td>\n",
       "      <td>Mehrmals pro Monat</td>\n",
       "      <td>Mehrmals pro Monat</td>\n",
       "      <td>Mehrmals pro Monat</td>\n",
       "      <td>Täglich</td>\n",
       "      <td>Mehrmals pro Woche</td>\n",
       "      <td>Seltener</td>\n",
       "      <td>Seltener</td>\n",
       "      <td>Seltener</td>\n",
       "      <td>Seltener</td>\n",
       "      <td>Mehrmals pro Monat</td>\n",
       "      <td>Nie</td>\n",
       "      <td>Mehrmals pro Monat</td>\n",
       "      <td>Nie</td>\n",
       "    </tr>\n",
       "    <tr>\n",
       "      <th>55</th>\n",
       "      <td>Mehrmals pro Monat</td>\n",
       "      <td>Mehrmals pro Woche</td>\n",
       "      <td>Seltener</td>\n",
       "      <td>Täglich</td>\n",
       "      <td>Mehrmals pro Woche</td>\n",
       "      <td>Mehrmals pro Monat</td>\n",
       "      <td>Mehrmals pro Woche</td>\n",
       "      <td>Mehrmals pro Monat</td>\n",
       "      <td>Mehrmals pro Monat</td>\n",
       "      <td>Mehrmals pro Monat</td>\n",
       "      <td>Täglich</td>\n",
       "      <td>Täglich</td>\n",
       "      <td>Seltener</td>\n",
       "      <td>Seltener</td>\n",
       "      <td>Nie</td>\n",
       "      <td>Seltener</td>\n",
       "      <td>Seltener</td>\n",
       "      <td>Nie</td>\n",
       "      <td>Nie</td>\n",
       "    </tr>\n",
       "    <tr>\n",
       "      <th>56</th>\n",
       "      <td>Täglich</td>\n",
       "      <td>Täglich</td>\n",
       "      <td>Mehrmals pro Woche</td>\n",
       "      <td>Mehrmals pro Woche</td>\n",
       "      <td>Mehrmals pro Monat</td>\n",
       "      <td>Mehrmals pro Monat</td>\n",
       "      <td>Mehrmals pro Woche</td>\n",
       "      <td>Seltener</td>\n",
       "      <td>Seltener</td>\n",
       "      <td>Mehrmals pro Woche</td>\n",
       "      <td>Mehrmals pro Woche</td>\n",
       "      <td>Mehrmals pro Woche</td>\n",
       "      <td>Mehrmals pro Monat</td>\n",
       "      <td>Seltener</td>\n",
       "      <td>Mehrmals pro Monat</td>\n",
       "      <td>Seltener</td>\n",
       "      <td>Seltener</td>\n",
       "      <td>Nie</td>\n",
       "      <td>Nie</td>\n",
       "    </tr>\n",
       "    <tr>\n",
       "      <th>57</th>\n",
       "      <td>Täglich</td>\n",
       "      <td>Täglich</td>\n",
       "      <td>Mehrmals pro Woche</td>\n",
       "      <td>Mehrmals pro Woche</td>\n",
       "      <td>Täglich</td>\n",
       "      <td>Mehrmals pro Monat</td>\n",
       "      <td>Mehrmals pro Woche</td>\n",
       "      <td>Täglich</td>\n",
       "      <td>Mehrmals pro Woche</td>\n",
       "      <td>Täglich</td>\n",
       "      <td>Täglich</td>\n",
       "      <td>Seltener</td>\n",
       "      <td>Seltener</td>\n",
       "      <td>Mehrmals pro Monat</td>\n",
       "      <td>Seltener</td>\n",
       "      <td>Seltener</td>\n",
       "      <td>Seltener</td>\n",
       "      <td>Seltener</td>\n",
       "      <td>Nie</td>\n",
       "    </tr>\n",
       "    <tr>\n",
       "      <th>58</th>\n",
       "      <td>Seltener</td>\n",
       "      <td>Täglich</td>\n",
       "      <td>Mehrmals pro Woche</td>\n",
       "      <td>Täglich</td>\n",
       "      <td>Mehrmals pro Monat</td>\n",
       "      <td>Mehrmals pro Woche</td>\n",
       "      <td>Täglich</td>\n",
       "      <td>Seltener</td>\n",
       "      <td>Täglich</td>\n",
       "      <td>Nie</td>\n",
       "      <td>Mehrmals pro Woche</td>\n",
       "      <td>Mehrmals pro Woche</td>\n",
       "      <td>Täglich</td>\n",
       "      <td>Mehrmals pro Monat</td>\n",
       "      <td>Seltener</td>\n",
       "      <td>Seltener</td>\n",
       "      <td>Nie</td>\n",
       "      <td>Seltener</td>\n",
       "      <td>Nie</td>\n",
       "    </tr>\n",
       "    <tr>\n",
       "      <th>59</th>\n",
       "      <td>Täglich</td>\n",
       "      <td>Mehrmals pro Monat</td>\n",
       "      <td>Mehrmals pro Monat</td>\n",
       "      <td>Täglich</td>\n",
       "      <td>Täglich</td>\n",
       "      <td>Mehrmals pro Woche</td>\n",
       "      <td>Täglich</td>\n",
       "      <td>Seltener</td>\n",
       "      <td>Mehrmals pro Woche</td>\n",
       "      <td>Seltener</td>\n",
       "      <td>Täglich</td>\n",
       "      <td>Täglich</td>\n",
       "      <td>Mehrmals pro Woche</td>\n",
       "      <td>Täglich</td>\n",
       "      <td>Mehrmals pro Woche</td>\n",
       "      <td>Seltener</td>\n",
       "      <td>Seltener</td>\n",
       "      <td>Seltener</td>\n",
       "      <td>Täglich</td>\n",
       "    </tr>\n",
       "    <tr>\n",
       "      <th>60</th>\n",
       "      <td>Mehrmals pro Monat</td>\n",
       "      <td>Täglich</td>\n",
       "      <td>Mehrmals pro Woche</td>\n",
       "      <td>Täglich</td>\n",
       "      <td>Mehrmals pro Monat</td>\n",
       "      <td>Mehrmals pro Woche</td>\n",
       "      <td>Seltener</td>\n",
       "      <td>Seltener</td>\n",
       "      <td>Mehrmals pro Woche</td>\n",
       "      <td>Nie</td>\n",
       "      <td>Mehrmals pro Woche</td>\n",
       "      <td>Mehrmals pro Monat</td>\n",
       "      <td>Mehrmals pro Monat</td>\n",
       "      <td>Seltener</td>\n",
       "      <td>Mehrmals pro Monat</td>\n",
       "      <td>Nie</td>\n",
       "      <td>Seltener</td>\n",
       "      <td>Nie</td>\n",
       "      <td>Nie</td>\n",
       "    </tr>\n",
       "    <tr>\n",
       "      <th>61</th>\n",
       "      <td>Täglich</td>\n",
       "      <td>Täglich</td>\n",
       "      <td>Mehrmals pro Woche</td>\n",
       "      <td>Mehrmals pro Woche</td>\n",
       "      <td>Mehrmals pro Woche</td>\n",
       "      <td>Seltener</td>\n",
       "      <td>Mehrmals pro Monat</td>\n",
       "      <td>Mehrmals pro Monat</td>\n",
       "      <td>Nie</td>\n",
       "      <td>Mehrmals pro Woche</td>\n",
       "      <td>Mehrmals pro Woche</td>\n",
       "      <td>Mehrmals pro Monat</td>\n",
       "      <td>Nie</td>\n",
       "      <td>Mehrmals pro Monat</td>\n",
       "      <td>Mehrmals pro Woche</td>\n",
       "      <td>Mehrmals pro Woche</td>\n",
       "      <td>Nie</td>\n",
       "      <td>Nie</td>\n",
       "      <td>Nie</td>\n",
       "    </tr>\n",
       "    <tr>\n",
       "      <th>62</th>\n",
       "      <td>Täglich</td>\n",
       "      <td>Täglich</td>\n",
       "      <td>Täglich</td>\n",
       "      <td>Täglich</td>\n",
       "      <td>Täglich</td>\n",
       "      <td>Täglich</td>\n",
       "      <td>Täglich</td>\n",
       "      <td>Mehrmals pro Monat</td>\n",
       "      <td>Nie</td>\n",
       "      <td>Mehrmals pro Woche</td>\n",
       "      <td>Nie</td>\n",
       "      <td>Täglich</td>\n",
       "      <td>Mehrmals pro Monat</td>\n",
       "      <td>Nie</td>\n",
       "      <td>Seltener</td>\n",
       "      <td>Nie</td>\n",
       "      <td>Seltener</td>\n",
       "      <td>Nie</td>\n",
       "      <td>Nie</td>\n",
       "    </tr>\n",
       "    <tr>\n",
       "      <th>63</th>\n",
       "      <td>Täglich</td>\n",
       "      <td>Täglich</td>\n",
       "      <td>Mehrmals pro Woche</td>\n",
       "      <td>Täglich</td>\n",
       "      <td>Mehrmals pro Woche</td>\n",
       "      <td>Mehrmals pro Woche</td>\n",
       "      <td>Mehrmals pro Woche</td>\n",
       "      <td>Mehrmals pro Monat</td>\n",
       "      <td>Mehrmals pro Monat</td>\n",
       "      <td>Mehrmals pro Woche</td>\n",
       "      <td>Täglich</td>\n",
       "      <td>Täglich</td>\n",
       "      <td>Täglich</td>\n",
       "      <td>Nie</td>\n",
       "      <td>Mehrmals pro Woche</td>\n",
       "      <td>Nie</td>\n",
       "      <td>Seltener</td>\n",
       "      <td>Nie</td>\n",
       "      <td>Nie</td>\n",
       "    </tr>\n",
       "    <tr>\n",
       "      <th>64</th>\n",
       "      <td>Täglich</td>\n",
       "      <td>Täglich</td>\n",
       "      <td>Mehrmals pro Woche</td>\n",
       "      <td>Mehrmals pro Woche</td>\n",
       "      <td>Täglich</td>\n",
       "      <td>Mehrmals pro Woche</td>\n",
       "      <td>Mehrmals pro Monat</td>\n",
       "      <td>Mehrmals pro Monat</td>\n",
       "      <td>Seltener</td>\n",
       "      <td>Täglich</td>\n",
       "      <td>Seltener</td>\n",
       "      <td>Mehrmals pro Woche</td>\n",
       "      <td>Mehrmals pro Woche</td>\n",
       "      <td>Nie</td>\n",
       "      <td>Seltener</td>\n",
       "      <td>Nie</td>\n",
       "      <td>Mehrmals pro Monat</td>\n",
       "      <td>Nie</td>\n",
       "      <td>Nie</td>\n",
       "    </tr>\n",
       "    <tr>\n",
       "      <th>65</th>\n",
       "      <td>Täglich</td>\n",
       "      <td>Täglich</td>\n",
       "      <td>Täglich</td>\n",
       "      <td>Mehrmals pro Monat</td>\n",
       "      <td>Mehrmals pro Woche</td>\n",
       "      <td>Täglich</td>\n",
       "      <td>Mehrmals pro Woche</td>\n",
       "      <td>Mehrmals pro Woche</td>\n",
       "      <td>Mehrmals pro Monat</td>\n",
       "      <td>Seltener</td>\n",
       "      <td>Mehrmals pro Monat</td>\n",
       "      <td>Seltener</td>\n",
       "      <td>Mehrmals pro Monat</td>\n",
       "      <td>Mehrmals pro Monat</td>\n",
       "      <td>Mehrmals pro Monat</td>\n",
       "      <td>Seltener</td>\n",
       "      <td>Mehrmals pro Monat</td>\n",
       "      <td>Seltener</td>\n",
       "      <td>Nie</td>\n",
       "    </tr>\n",
       "    <tr>\n",
       "      <th>66</th>\n",
       "      <td>Täglich</td>\n",
       "      <td>Täglich</td>\n",
       "      <td>Mehrmals pro Woche</td>\n",
       "      <td>Täglich</td>\n",
       "      <td>Mehrmals pro Woche</td>\n",
       "      <td>Mehrmals pro Woche</td>\n",
       "      <td>Mehrmals pro Woche</td>\n",
       "      <td>Mehrmals pro Woche</td>\n",
       "      <td>Mehrmals pro Woche</td>\n",
       "      <td>Mehrmals pro Woche</td>\n",
       "      <td>Täglich</td>\n",
       "      <td>Mehrmals pro Woche</td>\n",
       "      <td>Seltener</td>\n",
       "      <td>Täglich</td>\n",
       "      <td>Mehrmals pro Monat</td>\n",
       "      <td>Mehrmals pro Monat</td>\n",
       "      <td>Seltener</td>\n",
       "      <td>Seltener</td>\n",
       "      <td>Nie</td>\n",
       "    </tr>\n",
       "    <tr>\n",
       "      <th>67</th>\n",
       "      <td>Täglich</td>\n",
       "      <td>Mehrmals pro Woche</td>\n",
       "      <td>Mehrmals pro Woche</td>\n",
       "      <td>Seltener</td>\n",
       "      <td>Mehrmals pro Woche</td>\n",
       "      <td>Mehrmals pro Monat</td>\n",
       "      <td>Mehrmals pro Monat</td>\n",
       "      <td>Mehrmals pro Monat</td>\n",
       "      <td>Seltener</td>\n",
       "      <td>Nie</td>\n",
       "      <td>Seltener</td>\n",
       "      <td>Mehrmals pro Monat</td>\n",
       "      <td>Täglich</td>\n",
       "      <td>Seltener</td>\n",
       "      <td>Seltener</td>\n",
       "      <td>Nie</td>\n",
       "      <td>Nie</td>\n",
       "      <td>Nie</td>\n",
       "      <td>Nie</td>\n",
       "    </tr>\n",
       "    <tr>\n",
       "      <th>68</th>\n",
       "      <td>Täglich</td>\n",
       "      <td>Täglich</td>\n",
       "      <td>Täglich</td>\n",
       "      <td>Täglich</td>\n",
       "      <td>Täglich</td>\n",
       "      <td>Mehrmals pro Woche</td>\n",
       "      <td>Mehrmals pro Woche</td>\n",
       "      <td>Mehrmals pro Woche</td>\n",
       "      <td>Mehrmals pro Monat</td>\n",
       "      <td>Mehrmals pro Woche</td>\n",
       "      <td>Mehrmals pro Monat</td>\n",
       "      <td>Mehrmals pro Monat</td>\n",
       "      <td>Seltener</td>\n",
       "      <td>Seltener</td>\n",
       "      <td>Seltener</td>\n",
       "      <td>Nie</td>\n",
       "      <td>Seltener</td>\n",
       "      <td>Seltener</td>\n",
       "      <td>Nie</td>\n",
       "    </tr>\n",
       "    <tr>\n",
       "      <th>69</th>\n",
       "      <td>Täglich</td>\n",
       "      <td>Täglich</td>\n",
       "      <td>Mehrmals pro Woche</td>\n",
       "      <td>Täglich</td>\n",
       "      <td>Mehrmals pro Monat</td>\n",
       "      <td>Mehrmals pro Monat</td>\n",
       "      <td>Täglich</td>\n",
       "      <td>Mehrmals pro Woche</td>\n",
       "      <td>Täglich</td>\n",
       "      <td>Täglich</td>\n",
       "      <td>Täglich</td>\n",
       "      <td>Täglich</td>\n",
       "      <td>Täglich</td>\n",
       "      <td>Mehrmals pro Woche</td>\n",
       "      <td>Mehrmals pro Woche</td>\n",
       "      <td>Mehrmals pro Woche</td>\n",
       "      <td>Täglich</td>\n",
       "      <td>Täglich</td>\n",
       "      <td>Nie</td>\n",
       "    </tr>\n",
       "    <tr>\n",
       "      <th>70</th>\n",
       "      <td>Täglich</td>\n",
       "      <td>Täglich</td>\n",
       "      <td>Mehrmals pro Woche</td>\n",
       "      <td>Mehrmals pro Woche</td>\n",
       "      <td>Täglich</td>\n",
       "      <td>Mehrmals pro Monat</td>\n",
       "      <td>Mehrmals pro Monat</td>\n",
       "      <td>Mehrmals pro Monat</td>\n",
       "      <td>Seltener</td>\n",
       "      <td>Nie</td>\n",
       "      <td>Täglich</td>\n",
       "      <td>Mehrmals pro Woche</td>\n",
       "      <td>Mehrmals pro Woche</td>\n",
       "      <td>Seltener</td>\n",
       "      <td>Nie</td>\n",
       "      <td>Nie</td>\n",
       "      <td>Seltener</td>\n",
       "      <td>Mehrmals pro Monat</td>\n",
       "      <td>Nie</td>\n",
       "    </tr>\n",
       "    <tr>\n",
       "      <th>71</th>\n",
       "      <td>Mehrmals pro Woche</td>\n",
       "      <td>Täglich</td>\n",
       "      <td>Täglich</td>\n",
       "      <td>Mehrmals pro Woche</td>\n",
       "      <td>Mehrmals pro Woche</td>\n",
       "      <td>Täglich</td>\n",
       "      <td>Täglich</td>\n",
       "      <td>Mehrmals pro Woche</td>\n",
       "      <td>Seltener</td>\n",
       "      <td>Mehrmals pro Monat</td>\n",
       "      <td>Täglich</td>\n",
       "      <td>Mehrmals pro Woche</td>\n",
       "      <td>Seltener</td>\n",
       "      <td>Seltener</td>\n",
       "      <td>Nie</td>\n",
       "      <td>Seltener</td>\n",
       "      <td>Seltener</td>\n",
       "      <td>Mehrmals pro Monat</td>\n",
       "      <td>Nie</td>\n",
       "    </tr>\n",
       "    <tr>\n",
       "      <th>72</th>\n",
       "      <td>Täglich</td>\n",
       "      <td>Täglich</td>\n",
       "      <td>Täglich</td>\n",
       "      <td>Täglich</td>\n",
       "      <td>Mehrmals pro Woche</td>\n",
       "      <td>Täglich</td>\n",
       "      <td>Mehrmals pro Monat</td>\n",
       "      <td>Mehrmals pro Woche</td>\n",
       "      <td>Seltener</td>\n",
       "      <td>Nie</td>\n",
       "      <td>Täglich</td>\n",
       "      <td>Täglich</td>\n",
       "      <td>Mehrmals pro Woche</td>\n",
       "      <td>Mehrmals pro Woche</td>\n",
       "      <td>Seltener</td>\n",
       "      <td>Nie</td>\n",
       "      <td>Seltener</td>\n",
       "      <td>Seltener</td>\n",
       "      <td>Nie</td>\n",
       "    </tr>\n",
       "    <tr>\n",
       "      <th>73</th>\n",
       "      <td>Täglich</td>\n",
       "      <td>Täglich</td>\n",
       "      <td>Mehrmals pro Woche</td>\n",
       "      <td>Mehrmals pro Woche</td>\n",
       "      <td>Seltener</td>\n",
       "      <td>Seltener</td>\n",
       "      <td>Mehrmals pro Woche</td>\n",
       "      <td>Mehrmals pro Woche</td>\n",
       "      <td>Nie</td>\n",
       "      <td>Mehrmals pro Woche</td>\n",
       "      <td>Mehrmals pro Monat</td>\n",
       "      <td>Nie</td>\n",
       "      <td>Mehrmals pro Woche</td>\n",
       "      <td>Seltener</td>\n",
       "      <td>Mehrmals pro Monat</td>\n",
       "      <td>Mehrmals pro Monat</td>\n",
       "      <td>Mehrmals pro Monat</td>\n",
       "      <td>Mehrmals pro Monat</td>\n",
       "      <td>Täglich</td>\n",
       "    </tr>\n",
       "    <tr>\n",
       "      <th>74</th>\n",
       "      <td>Täglich</td>\n",
       "      <td>Täglich</td>\n",
       "      <td>Mehrmals pro Woche</td>\n",
       "      <td>Täglich</td>\n",
       "      <td>Täglich</td>\n",
       "      <td>Mehrmals pro Monat</td>\n",
       "      <td>Mehrmals pro Monat</td>\n",
       "      <td>Mehrmals pro Woche</td>\n",
       "      <td>Mehrmals pro Woche</td>\n",
       "      <td>Täglich</td>\n",
       "      <td>Mehrmals pro Woche</td>\n",
       "      <td>Mehrmals pro Monat</td>\n",
       "      <td>Mehrmals pro Woche</td>\n",
       "      <td>Täglich</td>\n",
       "      <td>Mehrmals pro Woche</td>\n",
       "      <td>Mehrmals pro Monat</td>\n",
       "      <td>Seltener</td>\n",
       "      <td>Seltener</td>\n",
       "      <td>Nie</td>\n",
       "    </tr>\n",
       "    <tr>\n",
       "      <th>75</th>\n",
       "      <td>Täglich</td>\n",
       "      <td>Täglich</td>\n",
       "      <td>Mehrmals pro Monat</td>\n",
       "      <td>Mehrmals pro Monat</td>\n",
       "      <td>Mehrmals pro Monat</td>\n",
       "      <td>Seltener</td>\n",
       "      <td>Mehrmals pro Woche</td>\n",
       "      <td>Mehrmals pro Woche</td>\n",
       "      <td>Seltener</td>\n",
       "      <td>Täglich</td>\n",
       "      <td>Mehrmals pro Monat</td>\n",
       "      <td>Mehrmals pro Monat</td>\n",
       "      <td>Täglich</td>\n",
       "      <td>Seltener</td>\n",
       "      <td>Mehrmals pro Woche</td>\n",
       "      <td>Seltener</td>\n",
       "      <td>Seltener</td>\n",
       "      <td>Nie</td>\n",
       "      <td>Seltener</td>\n",
       "    </tr>\n",
       "    <tr>\n",
       "      <th>76</th>\n",
       "      <td>Mehrmals pro Woche</td>\n",
       "      <td>Täglich</td>\n",
       "      <td>Mehrmals pro Monat</td>\n",
       "      <td>Mehrmals pro Woche</td>\n",
       "      <td>Mehrmals pro Monat</td>\n",
       "      <td>Seltener</td>\n",
       "      <td>Mehrmals pro Monat</td>\n",
       "      <td>Seltener</td>\n",
       "      <td>Nie</td>\n",
       "      <td>Nie</td>\n",
       "      <td>Seltener</td>\n",
       "      <td>Nie</td>\n",
       "      <td>Nie</td>\n",
       "      <td>Nie</td>\n",
       "      <td>Nie</td>\n",
       "      <td>Nie</td>\n",
       "      <td>Mehrmals pro Monat</td>\n",
       "      <td>Nie</td>\n",
       "      <td>Nie</td>\n",
       "    </tr>\n",
       "    <tr>\n",
       "      <th>77</th>\n",
       "      <td>Täglich</td>\n",
       "      <td>Täglich</td>\n",
       "      <td>Täglich</td>\n",
       "      <td>Mehrmals pro Woche</td>\n",
       "      <td>Täglich</td>\n",
       "      <td>Mehrmals pro Woche</td>\n",
       "      <td>Mehrmals pro Monat</td>\n",
       "      <td>Täglich</td>\n",
       "      <td>Mehrmals pro Monat</td>\n",
       "      <td>Nie</td>\n",
       "      <td>Täglich</td>\n",
       "      <td>Täglich</td>\n",
       "      <td>Täglich</td>\n",
       "      <td>Täglich</td>\n",
       "      <td>Nie</td>\n",
       "      <td>Nie</td>\n",
       "      <td>Nie</td>\n",
       "      <td>Mehrmals pro Woche</td>\n",
       "      <td>Mehrmals pro Woche</td>\n",
       "    </tr>\n",
       "    <tr>\n",
       "      <th>78</th>\n",
       "      <td>Täglich</td>\n",
       "      <td>Täglich</td>\n",
       "      <td>Täglich</td>\n",
       "      <td>Täglich</td>\n",
       "      <td>Täglich</td>\n",
       "      <td>Mehrmals pro Woche</td>\n",
       "      <td>Mehrmals pro Monat</td>\n",
       "      <td>Täglich</td>\n",
       "      <td>Mehrmals pro Woche</td>\n",
       "      <td>Mehrmals pro Monat</td>\n",
       "      <td>Mehrmals pro Woche</td>\n",
       "      <td>Seltener</td>\n",
       "      <td>Täglich</td>\n",
       "      <td>Täglich</td>\n",
       "      <td>Mehrmals pro Monat</td>\n",
       "      <td>Nie</td>\n",
       "      <td>Mehrmals pro Monat</td>\n",
       "      <td>Mehrmals pro Monat</td>\n",
       "      <td>Mehrmals pro Monat</td>\n",
       "    </tr>\n",
       "    <tr>\n",
       "      <th>79</th>\n",
       "      <td>Täglich</td>\n",
       "      <td>Täglich</td>\n",
       "      <td>Mehrmals pro Woche</td>\n",
       "      <td>Täglich</td>\n",
       "      <td>Mehrmals pro Woche</td>\n",
       "      <td>Mehrmals pro Monat</td>\n",
       "      <td>Mehrmals pro Woche</td>\n",
       "      <td>Mehrmals pro Woche</td>\n",
       "      <td>Täglich</td>\n",
       "      <td>Täglich</td>\n",
       "      <td>Nie</td>\n",
       "      <td>Nie</td>\n",
       "      <td>Täglich</td>\n",
       "      <td>Mehrmals pro Woche</td>\n",
       "      <td>Täglich</td>\n",
       "      <td>Täglich</td>\n",
       "      <td>Mehrmals pro Woche</td>\n",
       "      <td>Nie</td>\n",
       "      <td>Nie</td>\n",
       "    </tr>\n",
       "    <tr>\n",
       "      <th>80</th>\n",
       "      <td>Täglich</td>\n",
       "      <td>Täglich</td>\n",
       "      <td>Mehrmals pro Woche</td>\n",
       "      <td>Mehrmals pro Woche</td>\n",
       "      <td>Seltener</td>\n",
       "      <td>Mehrmals pro Woche</td>\n",
       "      <td>Mehrmals pro Woche</td>\n",
       "      <td>Mehrmals pro Woche</td>\n",
       "      <td>Mehrmals pro Woche</td>\n",
       "      <td>Täglich</td>\n",
       "      <td>Mehrmals pro Woche</td>\n",
       "      <td>Täglich</td>\n",
       "      <td>Seltener</td>\n",
       "      <td>Mehrmals pro Monat</td>\n",
       "      <td>Seltener</td>\n",
       "      <td>Seltener</td>\n",
       "      <td>Seltener</td>\n",
       "      <td>Mehrmals pro Monat</td>\n",
       "      <td>Nie</td>\n",
       "    </tr>\n",
       "    <tr>\n",
       "      <th>81</th>\n",
       "      <td>Täglich</td>\n",
       "      <td>Täglich</td>\n",
       "      <td>Täglich</td>\n",
       "      <td>Täglich</td>\n",
       "      <td>Mehrmals pro Woche</td>\n",
       "      <td>Mehrmals pro Woche</td>\n",
       "      <td>Mehrmals pro Monat</td>\n",
       "      <td>Mehrmals pro Monat</td>\n",
       "      <td>Mehrmals pro Monat</td>\n",
       "      <td>Seltener</td>\n",
       "      <td>Mehrmals pro Monat</td>\n",
       "      <td>Nie</td>\n",
       "      <td>Täglich</td>\n",
       "      <td>Täglich</td>\n",
       "      <td>Mehrmals pro Monat</td>\n",
       "      <td>Seltener</td>\n",
       "      <td>Mehrmals pro Monat</td>\n",
       "      <td>Seltener</td>\n",
       "      <td>Nie</td>\n",
       "    </tr>\n",
       "    <tr>\n",
       "      <th>82</th>\n",
       "      <td>Täglich</td>\n",
       "      <td>Täglich</td>\n",
       "      <td>Mehrmals pro Woche</td>\n",
       "      <td>Mehrmals pro Monat</td>\n",
       "      <td>Täglich</td>\n",
       "      <td>Mehrmals pro Woche</td>\n",
       "      <td>Mehrmals pro Woche</td>\n",
       "      <td>Mehrmals pro Monat</td>\n",
       "      <td>Seltener</td>\n",
       "      <td>Mehrmals pro Monat</td>\n",
       "      <td>Täglich</td>\n",
       "      <td>Mehrmals pro Monat</td>\n",
       "      <td>Seltener</td>\n",
       "      <td>Nie</td>\n",
       "      <td>Seltener</td>\n",
       "      <td>Nie</td>\n",
       "      <td>Seltener</td>\n",
       "      <td>Nie</td>\n",
       "      <td>Nie</td>\n",
       "    </tr>\n",
       "    <tr>\n",
       "      <th>83</th>\n",
       "      <td>Täglich</td>\n",
       "      <td>Täglich</td>\n",
       "      <td>Täglich</td>\n",
       "      <td>Täglich</td>\n",
       "      <td>Täglich</td>\n",
       "      <td>Mehrmals pro Monat</td>\n",
       "      <td>Mehrmals pro Monat</td>\n",
       "      <td>Mehrmals pro Woche</td>\n",
       "      <td>Mehrmals pro Woche</td>\n",
       "      <td>Mehrmals pro Woche</td>\n",
       "      <td>Täglich</td>\n",
       "      <td>Täglich</td>\n",
       "      <td>Täglich</td>\n",
       "      <td>Täglich</td>\n",
       "      <td>Mehrmals pro Monat</td>\n",
       "      <td>Mehrmals pro Woche</td>\n",
       "      <td>Seltener</td>\n",
       "      <td>Mehrmals pro Monat</td>\n",
       "      <td>Täglich</td>\n",
       "    </tr>\n",
       "    <tr>\n",
       "      <th>84</th>\n",
       "      <td>Täglich</td>\n",
       "      <td>Täglich</td>\n",
       "      <td>Mehrmals pro Woche</td>\n",
       "      <td>Täglich</td>\n",
       "      <td>Mehrmals pro Monat</td>\n",
       "      <td>Mehrmals pro Woche</td>\n",
       "      <td>Mehrmals pro Woche</td>\n",
       "      <td>Mehrmals pro Monat</td>\n",
       "      <td>Mehrmals pro Monat</td>\n",
       "      <td>Mehrmals pro Woche</td>\n",
       "      <td>Mehrmals pro Woche</td>\n",
       "      <td>Mehrmals pro Woche</td>\n",
       "      <td>Nie</td>\n",
       "      <td>Mehrmals pro Woche</td>\n",
       "      <td>Mehrmals pro Monat</td>\n",
       "      <td>Seltener</td>\n",
       "      <td>Seltener</td>\n",
       "      <td>Seltener</td>\n",
       "      <td>Nie</td>\n",
       "    </tr>\n",
       "    <tr>\n",
       "      <th>85</th>\n",
       "      <td>Täglich</td>\n",
       "      <td>Täglich</td>\n",
       "      <td>Mehrmals pro Woche</td>\n",
       "      <td>Mehrmals pro Woche</td>\n",
       "      <td>Täglich</td>\n",
       "      <td>Mehrmals pro Monat</td>\n",
       "      <td>Mehrmals pro Woche</td>\n",
       "      <td>Mehrmals pro Woche</td>\n",
       "      <td>Mehrmals pro Monat</td>\n",
       "      <td>Mehrmals pro Woche</td>\n",
       "      <td>Mehrmals pro Woche</td>\n",
       "      <td>Mehrmals pro Monat</td>\n",
       "      <td>Mehrmals pro Woche</td>\n",
       "      <td>Mehrmals pro Monat</td>\n",
       "      <td>Mehrmals pro Woche</td>\n",
       "      <td>Seltener</td>\n",
       "      <td>Seltener</td>\n",
       "      <td>Seltener</td>\n",
       "      <td>Täglich</td>\n",
       "    </tr>\n",
       "    <tr>\n",
       "      <th>86</th>\n",
       "      <td>Mehrmals pro Woche</td>\n",
       "      <td>Täglich</td>\n",
       "      <td>Täglich</td>\n",
       "      <td>Mehrmals pro Woche</td>\n",
       "      <td>Mehrmals pro Woche</td>\n",
       "      <td>Mehrmals pro Woche</td>\n",
       "      <td>Mehrmals pro Monat</td>\n",
       "      <td>Mehrmals pro Monat</td>\n",
       "      <td>Mehrmals pro Monat</td>\n",
       "      <td>Täglich</td>\n",
       "      <td>Mehrmals pro Woche</td>\n",
       "      <td>Mehrmals pro Woche</td>\n",
       "      <td>Seltener</td>\n",
       "      <td>Mehrmals pro Woche</td>\n",
       "      <td>Mehrmals pro Monat</td>\n",
       "      <td>Nie</td>\n",
       "      <td>Nie</td>\n",
       "      <td>Seltener</td>\n",
       "      <td>Seltener</td>\n",
       "    </tr>\n",
       "    <tr>\n",
       "      <th>87</th>\n",
       "      <td>Täglich</td>\n",
       "      <td>Täglich</td>\n",
       "      <td>Täglich</td>\n",
       "      <td>Täglich</td>\n",
       "      <td>Täglich</td>\n",
       "      <td>Mehrmals pro Monat</td>\n",
       "      <td>Mehrmals pro Woche</td>\n",
       "      <td>Mehrmals pro Woche</td>\n",
       "      <td>Täglich</td>\n",
       "      <td>Täglich</td>\n",
       "      <td>Täglich</td>\n",
       "      <td>Mehrmals pro Woche</td>\n",
       "      <td>Täglich</td>\n",
       "      <td>Seltener</td>\n",
       "      <td>Mehrmals pro Woche</td>\n",
       "      <td>Mehrmals pro Monat</td>\n",
       "      <td>Seltener</td>\n",
       "      <td>Seltener</td>\n",
       "      <td>Mehrmals pro Woche</td>\n",
       "    </tr>\n",
       "    <tr>\n",
       "      <th>88</th>\n",
       "      <td>Mehrmals pro Woche</td>\n",
       "      <td>Täglich</td>\n",
       "      <td>Mehrmals pro Woche</td>\n",
       "      <td>Mehrmals pro Woche</td>\n",
       "      <td>Mehrmals pro Woche</td>\n",
       "      <td>Mehrmals pro Monat</td>\n",
       "      <td>Mehrmals pro Monat</td>\n",
       "      <td>Mehrmals pro Woche</td>\n",
       "      <td>Mehrmals pro Monat</td>\n",
       "      <td>Täglich</td>\n",
       "      <td>Täglich</td>\n",
       "      <td>Täglich</td>\n",
       "      <td>Mehrmals pro Monat</td>\n",
       "      <td>Mehrmals pro Woche</td>\n",
       "      <td>Mehrmals pro Monat</td>\n",
       "      <td>Mehrmals pro Monat</td>\n",
       "      <td>Seltener</td>\n",
       "      <td>Mehrmals pro Woche</td>\n",
       "      <td>Mehrmals pro Monat</td>\n",
       "    </tr>\n",
       "    <tr>\n",
       "      <th>89</th>\n",
       "      <td>Täglich</td>\n",
       "      <td>Täglich</td>\n",
       "      <td>Mehrmals pro Woche</td>\n",
       "      <td>Mehrmals pro Woche</td>\n",
       "      <td>Täglich</td>\n",
       "      <td>Mehrmals pro Monat</td>\n",
       "      <td>Mehrmals pro Woche</td>\n",
       "      <td>Mehrmals pro Monat</td>\n",
       "      <td>Mehrmals pro Monat</td>\n",
       "      <td>Täglich</td>\n",
       "      <td>Täglich</td>\n",
       "      <td>Täglich</td>\n",
       "      <td>Täglich</td>\n",
       "      <td>Mehrmals pro Monat</td>\n",
       "      <td>Seltener</td>\n",
       "      <td>Nie</td>\n",
       "      <td>Seltener</td>\n",
       "      <td>Seltener</td>\n",
       "      <td>Nie</td>\n",
       "    </tr>\n",
       "    <tr>\n",
       "      <th>90</th>\n",
       "      <td>Täglich</td>\n",
       "      <td>Täglich</td>\n",
       "      <td>Mehrmals pro Woche</td>\n",
       "      <td>Mehrmals pro Woche</td>\n",
       "      <td>Mehrmals pro Woche</td>\n",
       "      <td>Mehrmals pro Woche</td>\n",
       "      <td>Mehrmals pro Woche</td>\n",
       "      <td>Täglich</td>\n",
       "      <td>Täglich</td>\n",
       "      <td>Täglich</td>\n",
       "      <td>Mehrmals pro Woche</td>\n",
       "      <td>Nie</td>\n",
       "      <td>Seltener</td>\n",
       "      <td>Seltener</td>\n",
       "      <td>Mehrmals pro Monat</td>\n",
       "      <td>Nie</td>\n",
       "      <td>Nie</td>\n",
       "      <td>Seltener</td>\n",
       "      <td>Nie</td>\n",
       "    </tr>\n",
       "    <tr>\n",
       "      <th>91</th>\n",
       "      <td>Täglich</td>\n",
       "      <td>Täglich</td>\n",
       "      <td>Mehrmals pro Woche</td>\n",
       "      <td>Täglich</td>\n",
       "      <td>Mehrmals pro Woche</td>\n",
       "      <td>Täglich</td>\n",
       "      <td>Mehrmals pro Woche</td>\n",
       "      <td>Mehrmals pro Woche</td>\n",
       "      <td>Mehrmals pro Monat</td>\n",
       "      <td>Täglich</td>\n",
       "      <td>Täglich</td>\n",
       "      <td>Täglich</td>\n",
       "      <td>Mehrmals pro Woche</td>\n",
       "      <td>Täglich</td>\n",
       "      <td>Täglich</td>\n",
       "      <td>Mehrmals pro Monat</td>\n",
       "      <td>Mehrmals pro Monat</td>\n",
       "      <td>Nie</td>\n",
       "      <td>Mehrmals pro Woche</td>\n",
       "    </tr>\n",
       "    <tr>\n",
       "      <th>92</th>\n",
       "      <td>Mehrmals pro Woche</td>\n",
       "      <td>Täglich</td>\n",
       "      <td>Mehrmals pro Monat</td>\n",
       "      <td>Mehrmals pro Woche</td>\n",
       "      <td>Seltener</td>\n",
       "      <td>Seltener</td>\n",
       "      <td>Seltener</td>\n",
       "      <td>Mehrmals pro Woche</td>\n",
       "      <td>Mehrmals pro Monat</td>\n",
       "      <td>Mehrmals pro Monat</td>\n",
       "      <td>Mehrmals pro Woche</td>\n",
       "      <td>Seltener</td>\n",
       "      <td>Nie</td>\n",
       "      <td>Seltener</td>\n",
       "      <td>Mehrmals pro Monat</td>\n",
       "      <td>Mehrmals pro Woche</td>\n",
       "      <td>Nie</td>\n",
       "      <td>Seltener</td>\n",
       "      <td>Mehrmals pro Monat</td>\n",
       "    </tr>\n",
       "    <tr>\n",
       "      <th>93</th>\n",
       "      <td>Mehrmals pro Woche</td>\n",
       "      <td>Täglich</td>\n",
       "      <td>Seltener</td>\n",
       "      <td>Nie</td>\n",
       "      <td>Mehrmals pro Monat</td>\n",
       "      <td>Mehrmals pro Monat</td>\n",
       "      <td>Seltener</td>\n",
       "      <td>Seltener</td>\n",
       "      <td>Mehrmals pro Woche</td>\n",
       "      <td>Nie</td>\n",
       "      <td>Nie</td>\n",
       "      <td>Nie</td>\n",
       "      <td>Seltener</td>\n",
       "      <td>Nie</td>\n",
       "      <td>Mehrmals pro Monat</td>\n",
       "      <td>Nie</td>\n",
       "      <td>Seltener</td>\n",
       "      <td>Nie</td>\n",
       "      <td>Nie</td>\n",
       "    </tr>\n",
       "    <tr>\n",
       "      <th>94</th>\n",
       "      <td>Täglich</td>\n",
       "      <td>Täglich</td>\n",
       "      <td>Täglich</td>\n",
       "      <td>Täglich</td>\n",
       "      <td>Täglich</td>\n",
       "      <td>Mehrmals pro Woche</td>\n",
       "      <td>Täglich</td>\n",
       "      <td>Täglich</td>\n",
       "      <td>Täglich</td>\n",
       "      <td>Täglich</td>\n",
       "      <td>Mehrmals pro Woche</td>\n",
       "      <td>Mehrmals pro Woche</td>\n",
       "      <td>Täglich</td>\n",
       "      <td>Mehrmals pro Monat</td>\n",
       "      <td>Mehrmals pro Monat</td>\n",
       "      <td>Nie</td>\n",
       "      <td>Mehrmals pro Monat</td>\n",
       "      <td>Nie</td>\n",
       "      <td>Täglich</td>\n",
       "    </tr>\n",
       "    <tr>\n",
       "      <th>95</th>\n",
       "      <td>Täglich</td>\n",
       "      <td>Täglich</td>\n",
       "      <td>Mehrmals pro Woche</td>\n",
       "      <td>Täglich</td>\n",
       "      <td>Mehrmals pro Woche</td>\n",
       "      <td>Mehrmals pro Monat</td>\n",
       "      <td>Mehrmals pro Monat</td>\n",
       "      <td>Mehrmals pro Monat</td>\n",
       "      <td>Mehrmals pro Monat</td>\n",
       "      <td>Seltener</td>\n",
       "      <td>Mehrmals pro Woche</td>\n",
       "      <td>Täglich</td>\n",
       "      <td>Täglich</td>\n",
       "      <td>Täglich</td>\n",
       "      <td>Mehrmals pro Monat</td>\n",
       "      <td>Mehrmals pro Monat</td>\n",
       "      <td>Seltener</td>\n",
       "      <td>Seltener</td>\n",
       "      <td>Mehrmals pro Monat</td>\n",
       "    </tr>\n",
       "    <tr>\n",
       "      <th>96</th>\n",
       "      <td>Täglich</td>\n",
       "      <td>Täglich</td>\n",
       "      <td>Mehrmals pro Woche</td>\n",
       "      <td>Seltener</td>\n",
       "      <td>Täglich</td>\n",
       "      <td>Seltener</td>\n",
       "      <td>Täglich</td>\n",
       "      <td>Mehrmals pro Woche</td>\n",
       "      <td>Mehrmals pro Woche</td>\n",
       "      <td>Seltener</td>\n",
       "      <td>Seltener</td>\n",
       "      <td>Mehrmals pro Monat</td>\n",
       "      <td>Täglich</td>\n",
       "      <td>Nie</td>\n",
       "      <td>Nie</td>\n",
       "      <td>Nie</td>\n",
       "      <td>Seltener</td>\n",
       "      <td>Nie</td>\n",
       "      <td>Nie</td>\n",
       "    </tr>\n",
       "    <tr>\n",
       "      <th>97</th>\n",
       "      <td>Täglich</td>\n",
       "      <td>Täglich</td>\n",
       "      <td>Täglich</td>\n",
       "      <td>Täglich</td>\n",
       "      <td>Mehrmals pro Woche</td>\n",
       "      <td>Mehrmals pro Monat</td>\n",
       "      <td>Mehrmals pro Monat</td>\n",
       "      <td>Mehrmals pro Monat</td>\n",
       "      <td>Mehrmals pro Woche</td>\n",
       "      <td>Täglich</td>\n",
       "      <td>Mehrmals pro Woche</td>\n",
       "      <td>Täglich</td>\n",
       "      <td>Täglich</td>\n",
       "      <td>Seltener</td>\n",
       "      <td>Seltener</td>\n",
       "      <td>Seltener</td>\n",
       "      <td>Seltener</td>\n",
       "      <td>Seltener</td>\n",
       "      <td>Täglich</td>\n",
       "    </tr>\n",
       "    <tr>\n",
       "      <th>98</th>\n",
       "      <td>Täglich</td>\n",
       "      <td>Täglich</td>\n",
       "      <td>Mehrmals pro Woche</td>\n",
       "      <td>Mehrmals pro Monat</td>\n",
       "      <td>Täglich</td>\n",
       "      <td>Seltener</td>\n",
       "      <td>Mehrmals pro Monat</td>\n",
       "      <td>Mehrmals pro Woche</td>\n",
       "      <td>Mehrmals pro Monat</td>\n",
       "      <td>Täglich</td>\n",
       "      <td>Mehrmals pro Monat</td>\n",
       "      <td>Mehrmals pro Monat</td>\n",
       "      <td>Täglich</td>\n",
       "      <td>Mehrmals pro Monat</td>\n",
       "      <td>Mehrmals pro Monat</td>\n",
       "      <td>Seltener</td>\n",
       "      <td>Seltener</td>\n",
       "      <td>Mehrmals pro Monat</td>\n",
       "      <td>Nie</td>\n",
       "    </tr>\n",
       "    <tr>\n",
       "      <th>99</th>\n",
       "      <td>Mehrmals pro Woche</td>\n",
       "      <td>Mehrmals pro Monat</td>\n",
       "      <td>Seltener</td>\n",
       "      <td>Mehrmals pro Monat</td>\n",
       "      <td>Mehrmals pro Woche</td>\n",
       "      <td>Mehrmals pro Monat</td>\n",
       "      <td>Nie</td>\n",
       "      <td>Seltener</td>\n",
       "      <td>Nie</td>\n",
       "      <td>Nie</td>\n",
       "      <td>Seltener</td>\n",
       "      <td>Seltener</td>\n",
       "      <td>Seltener</td>\n",
       "      <td>Nie</td>\n",
       "      <td>Seltener</td>\n",
       "      <td>Nie</td>\n",
       "      <td>Mehrmals pro Monat</td>\n",
       "      <td>Nie</td>\n",
       "      <td>Nie</td>\n",
       "    </tr>\n",
       "    <tr>\n",
       "      <th>100</th>\n",
       "      <td>Täglich</td>\n",
       "      <td>Nie</td>\n",
       "      <td>Mehrmals pro Woche</td>\n",
       "      <td>Täglich</td>\n",
       "      <td>Mehrmals pro Monat</td>\n",
       "      <td>Seltener</td>\n",
       "      <td>Nie</td>\n",
       "      <td>Mehrmals pro Monat</td>\n",
       "      <td>Nie</td>\n",
       "      <td>Nie</td>\n",
       "      <td>Mehrmals pro Woche</td>\n",
       "      <td>Nie</td>\n",
       "      <td>Mehrmals pro Monat</td>\n",
       "      <td>Seltener</td>\n",
       "      <td>Seltener</td>\n",
       "      <td>Seltener</td>\n",
       "      <td>Seltener</td>\n",
       "      <td>Seltener</td>\n",
       "      <td>Nie</td>\n",
       "    </tr>\n",
       "    <tr>\n",
       "      <th>101</th>\n",
       "      <td>Täglich</td>\n",
       "      <td>Täglich</td>\n",
       "      <td>Mehrmals pro Woche</td>\n",
       "      <td>Täglich</td>\n",
       "      <td>Täglich</td>\n",
       "      <td>Täglich</td>\n",
       "      <td>Täglich</td>\n",
       "      <td>Täglich</td>\n",
       "      <td>Mehrmals pro Monat</td>\n",
       "      <td>Täglich</td>\n",
       "      <td>Täglich</td>\n",
       "      <td>Nie</td>\n",
       "      <td>Täglich</td>\n",
       "      <td>Täglich</td>\n",
       "      <td>Mehrmals pro Woche</td>\n",
       "      <td>Seltener</td>\n",
       "      <td>Seltener</td>\n",
       "      <td>Nie</td>\n",
       "      <td>Nie</td>\n",
       "    </tr>\n",
       "    <tr>\n",
       "      <th>102</th>\n",
       "      <td>Täglich</td>\n",
       "      <td>Täglich</td>\n",
       "      <td>Täglich</td>\n",
       "      <td>Täglich</td>\n",
       "      <td>Seltener</td>\n",
       "      <td>Mehrmals pro Woche</td>\n",
       "      <td>Mehrmals pro Monat</td>\n",
       "      <td>Mehrmals pro Woche</td>\n",
       "      <td>Mehrmals pro Woche</td>\n",
       "      <td>Täglich</td>\n",
       "      <td>Mehrmals pro Woche</td>\n",
       "      <td>Mehrmals pro Woche</td>\n",
       "      <td>Mehrmals pro Monat</td>\n",
       "      <td>Mehrmals pro Monat</td>\n",
       "      <td>Mehrmals pro Monat</td>\n",
       "      <td>Mehrmals pro Monat</td>\n",
       "      <td>Mehrmals pro Monat</td>\n",
       "      <td>Seltener</td>\n",
       "      <td>Seltener</td>\n",
       "    </tr>\n",
       "    <tr>\n",
       "      <th>103</th>\n",
       "      <td>Täglich</td>\n",
       "      <td>Täglich</td>\n",
       "      <td>Täglich</td>\n",
       "      <td>Täglich</td>\n",
       "      <td>Mehrmals pro Woche</td>\n",
       "      <td>Mehrmals pro Monat</td>\n",
       "      <td>Mehrmals pro Monat</td>\n",
       "      <td>Mehrmals pro Monat</td>\n",
       "      <td>Seltener</td>\n",
       "      <td>Seltener</td>\n",
       "      <td>Mehrmals pro Woche</td>\n",
       "      <td>Mehrmals pro Woche</td>\n",
       "      <td>Täglich</td>\n",
       "      <td>Nie</td>\n",
       "      <td>Seltener</td>\n",
       "      <td>Nie</td>\n",
       "      <td>Nie</td>\n",
       "      <td>Nie</td>\n",
       "      <td>Seltener</td>\n",
       "    </tr>\n",
       "    <tr>\n",
       "      <th>104</th>\n",
       "      <td>Mehrmals pro Monat</td>\n",
       "      <td>Täglich</td>\n",
       "      <td>Täglich</td>\n",
       "      <td>Täglich</td>\n",
       "      <td>Seltener</td>\n",
       "      <td>Mehrmals pro Monat</td>\n",
       "      <td>Mehrmals pro Monat</td>\n",
       "      <td>Mehrmals pro Woche</td>\n",
       "      <td>Täglich</td>\n",
       "      <td>Täglich</td>\n",
       "      <td>Täglich</td>\n",
       "      <td>Täglich</td>\n",
       "      <td>Seltener</td>\n",
       "      <td>Mehrmals pro Woche</td>\n",
       "      <td>Mehrmals pro Monat</td>\n",
       "      <td>Mehrmals pro Monat</td>\n",
       "      <td>Nie</td>\n",
       "      <td>Seltener</td>\n",
       "      <td>Seltener</td>\n",
       "    </tr>\n",
       "    <tr>\n",
       "      <th>105</th>\n",
       "      <td>Täglich</td>\n",
       "      <td>Täglich</td>\n",
       "      <td>Mehrmals pro Woche</td>\n",
       "      <td>Täglich</td>\n",
       "      <td>Mehrmals pro Monat</td>\n",
       "      <td>Mehrmals pro Woche</td>\n",
       "      <td>Mehrmals pro Woche</td>\n",
       "      <td>Mehrmals pro Monat</td>\n",
       "      <td>Mehrmals pro Monat</td>\n",
       "      <td>Täglich</td>\n",
       "      <td>Mehrmals pro Woche</td>\n",
       "      <td>Mehrmals pro Monat</td>\n",
       "      <td>Seltener</td>\n",
       "      <td>Mehrmals pro Monat</td>\n",
       "      <td>Seltener</td>\n",
       "      <td>Seltener</td>\n",
       "      <td>Seltener</td>\n",
       "      <td>Mehrmals pro Monat</td>\n",
       "      <td>Nie</td>\n",
       "    </tr>\n",
       "    <tr>\n",
       "      <th>106</th>\n",
       "      <td>Täglich</td>\n",
       "      <td>Täglich</td>\n",
       "      <td>Mehrmals pro Monat</td>\n",
       "      <td>Täglich</td>\n",
       "      <td>Seltener</td>\n",
       "      <td>Seltener</td>\n",
       "      <td>Mehrmals pro Monat</td>\n",
       "      <td>Seltener</td>\n",
       "      <td>Täglich</td>\n",
       "      <td>Täglich</td>\n",
       "      <td>Mehrmals pro Woche</td>\n",
       "      <td>Mehrmals pro Woche</td>\n",
       "      <td>Seltener</td>\n",
       "      <td>Nie</td>\n",
       "      <td>Mehrmals pro Woche</td>\n",
       "      <td>Seltener</td>\n",
       "      <td>Nie</td>\n",
       "      <td>Mehrmals pro Woche</td>\n",
       "      <td>Mehrmals pro Woche</td>\n",
       "    </tr>\n",
       "    <tr>\n",
       "      <th>107</th>\n",
       "      <td>Täglich</td>\n",
       "      <td>Täglich</td>\n",
       "      <td>Täglich</td>\n",
       "      <td>Täglich</td>\n",
       "      <td>Täglich</td>\n",
       "      <td>Täglich</td>\n",
       "      <td>Täglich</td>\n",
       "      <td>Täglich</td>\n",
       "      <td>Mehrmals pro Woche</td>\n",
       "      <td>Mehrmals pro Monat</td>\n",
       "      <td>Täglich</td>\n",
       "      <td>Täglich</td>\n",
       "      <td>Täglich</td>\n",
       "      <td>Mehrmals pro Woche</td>\n",
       "      <td>Täglich</td>\n",
       "      <td>Seltener</td>\n",
       "      <td>Seltener</td>\n",
       "      <td>Seltener</td>\n",
       "      <td>Täglich</td>\n",
       "    </tr>\n",
       "    <tr>\n",
       "      <th>108</th>\n",
       "      <td>Täglich</td>\n",
       "      <td>Täglich</td>\n",
       "      <td>Täglich</td>\n",
       "      <td>Mehrmals pro Monat</td>\n",
       "      <td>Täglich</td>\n",
       "      <td>Mehrmals pro Woche</td>\n",
       "      <td>Mehrmals pro Monat</td>\n",
       "      <td>Mehrmals pro Woche</td>\n",
       "      <td>Seltener</td>\n",
       "      <td>Nie</td>\n",
       "      <td>Mehrmals pro Woche</td>\n",
       "      <td>Seltener</td>\n",
       "      <td>Täglich</td>\n",
       "      <td>Mehrmals pro Monat</td>\n",
       "      <td>Mehrmals pro Monat</td>\n",
       "      <td>Nie</td>\n",
       "      <td>Seltener</td>\n",
       "      <td>Seltener</td>\n",
       "      <td>Seltener</td>\n",
       "    </tr>\n",
       "    <tr>\n",
       "      <th>109</th>\n",
       "      <td>Täglich</td>\n",
       "      <td>Täglich</td>\n",
       "      <td>Mehrmals pro Woche</td>\n",
       "      <td>Täglich</td>\n",
       "      <td>Mehrmals pro Monat</td>\n",
       "      <td>Täglich</td>\n",
       "      <td>Täglich</td>\n",
       "      <td>Mehrmals pro Monat</td>\n",
       "      <td>Mehrmals pro Monat</td>\n",
       "      <td>Mehrmals pro Woche</td>\n",
       "      <td>Täglich</td>\n",
       "      <td>Mehrmals pro Woche</td>\n",
       "      <td>Mehrmals pro Woche</td>\n",
       "      <td>Mehrmals pro Monat</td>\n",
       "      <td>Mehrmals pro Woche</td>\n",
       "      <td>Mehrmals pro Woche</td>\n",
       "      <td>Seltener</td>\n",
       "      <td>Mehrmals pro Monat</td>\n",
       "      <td>Mehrmals pro Monat</td>\n",
       "    </tr>\n",
       "    <tr>\n",
       "      <th>110</th>\n",
       "      <td>Mehrmals pro Woche</td>\n",
       "      <td>Mehrmals pro Monat</td>\n",
       "      <td>Mehrmals pro Woche</td>\n",
       "      <td>Täglich</td>\n",
       "      <td>Mehrmals pro Woche</td>\n",
       "      <td>Mehrmals pro Monat</td>\n",
       "      <td>Seltener</td>\n",
       "      <td>Mehrmals pro Monat</td>\n",
       "      <td>Seltener</td>\n",
       "      <td>Mehrmals pro Monat</td>\n",
       "      <td>Mehrmals pro Woche</td>\n",
       "      <td>Nie</td>\n",
       "      <td>Nie</td>\n",
       "      <td>Nie</td>\n",
       "      <td>Seltener</td>\n",
       "      <td>Seltener</td>\n",
       "      <td>Nie</td>\n",
       "      <td>Seltener</td>\n",
       "      <td>Nie</td>\n",
       "    </tr>\n",
       "    <tr>\n",
       "      <th>111</th>\n",
       "      <td>Mehrmals pro Woche</td>\n",
       "      <td>Täglich</td>\n",
       "      <td>Mehrmals pro Monat</td>\n",
       "      <td>Seltener</td>\n",
       "      <td>Mehrmals pro Woche</td>\n",
       "      <td>Mehrmals pro Monat</td>\n",
       "      <td>Seltener</td>\n",
       "      <td>Mehrmals pro Woche</td>\n",
       "      <td>Täglich</td>\n",
       "      <td>Seltener</td>\n",
       "      <td>Mehrmals pro Monat</td>\n",
       "      <td>Mehrmals pro Woche</td>\n",
       "      <td>Seltener</td>\n",
       "      <td>Täglich</td>\n",
       "      <td>Seltener</td>\n",
       "      <td>Nie</td>\n",
       "      <td>Seltener</td>\n",
       "      <td>Seltener</td>\n",
       "      <td>Nie</td>\n",
       "    </tr>\n",
       "    <tr>\n",
       "      <th>112</th>\n",
       "      <td>Mehrmals pro Monat</td>\n",
       "      <td>Täglich</td>\n",
       "      <td>Mehrmals pro Woche</td>\n",
       "      <td>Täglich</td>\n",
       "      <td>Mehrmals pro Monat</td>\n",
       "      <td>Mehrmals pro Monat</td>\n",
       "      <td>Mehrmals pro Woche</td>\n",
       "      <td>Seltener</td>\n",
       "      <td>Mehrmals pro Woche</td>\n",
       "      <td>Täglich</td>\n",
       "      <td>Täglich</td>\n",
       "      <td>Täglich</td>\n",
       "      <td>Mehrmals pro Monat</td>\n",
       "      <td>Täglich</td>\n",
       "      <td>Seltener</td>\n",
       "      <td>Seltener</td>\n",
       "      <td>Seltener</td>\n",
       "      <td>Seltener</td>\n",
       "      <td>Nie</td>\n",
       "    </tr>\n",
       "    <tr>\n",
       "      <th>113</th>\n",
       "      <td>Mehrmals pro Woche</td>\n",
       "      <td>Täglich</td>\n",
       "      <td>Seltener</td>\n",
       "      <td>Mehrmals pro Monat</td>\n",
       "      <td>Seltener</td>\n",
       "      <td>Seltener</td>\n",
       "      <td>Mehrmals pro Monat</td>\n",
       "      <td>Mehrmals pro Woche</td>\n",
       "      <td>Mehrmals pro Woche</td>\n",
       "      <td>Mehrmals pro Monat</td>\n",
       "      <td>Mehrmals pro Monat</td>\n",
       "      <td>Mehrmals pro Woche</td>\n",
       "      <td>Mehrmals pro Woche</td>\n",
       "      <td>Mehrmals pro Monat</td>\n",
       "      <td>Mehrmals pro Woche</td>\n",
       "      <td>Mehrmals pro Woche</td>\n",
       "      <td>Mehrmals pro Monat</td>\n",
       "      <td>Mehrmals pro Monat</td>\n",
       "      <td>Mehrmals pro Woche</td>\n",
       "    </tr>\n",
       "    <tr>\n",
       "      <th>114</th>\n",
       "      <td>Seltener</td>\n",
       "      <td>Täglich</td>\n",
       "      <td>Mehrmals pro Woche</td>\n",
       "      <td>Täglich</td>\n",
       "      <td>Mehrmals pro Woche</td>\n",
       "      <td>Mehrmals pro Monat</td>\n",
       "      <td>Seltener</td>\n",
       "      <td>Mehrmals pro Monat</td>\n",
       "      <td>Seltener</td>\n",
       "      <td>Täglich</td>\n",
       "      <td>Täglich</td>\n",
       "      <td>Täglich</td>\n",
       "      <td>Nie</td>\n",
       "      <td>Nie</td>\n",
       "      <td>Seltener</td>\n",
       "      <td>Seltener</td>\n",
       "      <td>Nie</td>\n",
       "      <td>Seltener</td>\n",
       "      <td>Nie</td>\n",
       "    </tr>\n",
       "    <tr>\n",
       "      <th>115</th>\n",
       "      <td>Täglich</td>\n",
       "      <td>Täglich</td>\n",
       "      <td>Mehrmals pro Woche</td>\n",
       "      <td>Täglich</td>\n",
       "      <td>Mehrmals pro Woche</td>\n",
       "      <td>Mehrmals pro Woche</td>\n",
       "      <td>Täglich</td>\n",
       "      <td>Mehrmals pro Woche</td>\n",
       "      <td>Mehrmals pro Woche</td>\n",
       "      <td>Täglich</td>\n",
       "      <td>Täglich</td>\n",
       "      <td>Täglich</td>\n",
       "      <td>Mehrmals pro Woche</td>\n",
       "      <td>Mehrmals pro Monat</td>\n",
       "      <td>Nie</td>\n",
       "      <td>Mehrmals pro Monat</td>\n",
       "      <td>Seltener</td>\n",
       "      <td>Seltener</td>\n",
       "      <td>Täglich</td>\n",
       "    </tr>\n",
       "    <tr>\n",
       "      <th>116</th>\n",
       "      <td>Täglich</td>\n",
       "      <td>Täglich</td>\n",
       "      <td>Seltener</td>\n",
       "      <td>Mehrmals pro Woche</td>\n",
       "      <td>Mehrmals pro Woche</td>\n",
       "      <td>Mehrmals pro Monat</td>\n",
       "      <td>Mehrmals pro Woche</td>\n",
       "      <td>Mehrmals pro Woche</td>\n",
       "      <td>Mehrmals pro Woche</td>\n",
       "      <td>Mehrmals pro Woche</td>\n",
       "      <td>Mehrmals pro Woche</td>\n",
       "      <td>Mehrmals pro Woche</td>\n",
       "      <td>Mehrmals pro Woche</td>\n",
       "      <td>Mehrmals pro Woche</td>\n",
       "      <td>Mehrmals pro Woche</td>\n",
       "      <td>Mehrmals pro Woche</td>\n",
       "      <td>Mehrmals pro Woche</td>\n",
       "      <td>Mehrmals pro Woche</td>\n",
       "      <td>Mehrmals pro Woche</td>\n",
       "    </tr>\n",
       "    <tr>\n",
       "      <th>117</th>\n",
       "      <td>Mehrmals pro Woche</td>\n",
       "      <td>Täglich</td>\n",
       "      <td>Täglich</td>\n",
       "      <td>Täglich</td>\n",
       "      <td>Seltener</td>\n",
       "      <td>Seltener</td>\n",
       "      <td>Mehrmals pro Woche</td>\n",
       "      <td>Mehrmals pro Monat</td>\n",
       "      <td>Seltener</td>\n",
       "      <td>Mehrmals pro Woche</td>\n",
       "      <td>Täglich</td>\n",
       "      <td>Täglich</td>\n",
       "      <td>Seltener</td>\n",
       "      <td>Täglich</td>\n",
       "      <td>Seltener</td>\n",
       "      <td>Seltener</td>\n",
       "      <td>Seltener</td>\n",
       "      <td>Mehrmals pro Monat</td>\n",
       "      <td>Nie</td>\n",
       "    </tr>\n",
       "    <tr>\n",
       "      <th>118</th>\n",
       "      <td>Täglich</td>\n",
       "      <td>Täglich</td>\n",
       "      <td>Mehrmals pro Woche</td>\n",
       "      <td>Täglich</td>\n",
       "      <td>Mehrmals pro Woche</td>\n",
       "      <td>Mehrmals pro Woche</td>\n",
       "      <td>Mehrmals pro Monat</td>\n",
       "      <td>Seltener</td>\n",
       "      <td>Mehrmals pro Monat</td>\n",
       "      <td>Täglich</td>\n",
       "      <td>Täglich</td>\n",
       "      <td>Täglich</td>\n",
       "      <td>Seltener</td>\n",
       "      <td>Mehrmals pro Woche</td>\n",
       "      <td>Täglich</td>\n",
       "      <td>Mehrmals pro Monat</td>\n",
       "      <td>Nie</td>\n",
       "      <td>Seltener</td>\n",
       "      <td>Nie</td>\n",
       "    </tr>\n",
       "    <tr>\n",
       "      <th>119</th>\n",
       "      <td>Mehrmals pro Woche</td>\n",
       "      <td>Täglich</td>\n",
       "      <td>Mehrmals pro Woche</td>\n",
       "      <td>Mehrmals pro Woche</td>\n",
       "      <td>Seltener</td>\n",
       "      <td>Seltener</td>\n",
       "      <td>Seltener</td>\n",
       "      <td>Nie</td>\n",
       "      <td>Nie</td>\n",
       "      <td>Mehrmals pro Woche</td>\n",
       "      <td>Täglich</td>\n",
       "      <td>Täglich</td>\n",
       "      <td>Seltener</td>\n",
       "      <td>Mehrmals pro Woche</td>\n",
       "      <td>Nie</td>\n",
       "      <td>Seltener</td>\n",
       "      <td>Nie</td>\n",
       "      <td>Seltener</td>\n",
       "      <td>Nie</td>\n",
       "    </tr>\n",
       "    <tr>\n",
       "      <th>120</th>\n",
       "      <td>Täglich</td>\n",
       "      <td>Täglich</td>\n",
       "      <td>Mehrmals pro Monat</td>\n",
       "      <td>Täglich</td>\n",
       "      <td>Täglich</td>\n",
       "      <td>Mehrmals pro Woche</td>\n",
       "      <td>Täglich</td>\n",
       "      <td>Mehrmals pro Woche</td>\n",
       "      <td>Täglich</td>\n",
       "      <td>Täglich</td>\n",
       "      <td>Mehrmals pro Woche</td>\n",
       "      <td>Mehrmals pro Woche</td>\n",
       "      <td>Seltener</td>\n",
       "      <td>Mehrmals pro Woche</td>\n",
       "      <td>Seltener</td>\n",
       "      <td>Seltener</td>\n",
       "      <td>Seltener</td>\n",
       "      <td>Mehrmals pro Monat</td>\n",
       "      <td>Nie</td>\n",
       "    </tr>\n",
       "    <tr>\n",
       "      <th>121</th>\n",
       "      <td>Mehrmals pro Woche</td>\n",
       "      <td>Täglich</td>\n",
       "      <td>Mehrmals pro Woche</td>\n",
       "      <td>Mehrmals pro Monat</td>\n",
       "      <td>Mehrmals pro Woche</td>\n",
       "      <td>Seltener</td>\n",
       "      <td>Mehrmals pro Monat</td>\n",
       "      <td>Mehrmals pro Monat</td>\n",
       "      <td>Mehrmals pro Woche</td>\n",
       "      <td>Seltener</td>\n",
       "      <td>Mehrmals pro Woche</td>\n",
       "      <td>Mehrmals pro Monat</td>\n",
       "      <td>Seltener</td>\n",
       "      <td>Seltener</td>\n",
       "      <td>Nie</td>\n",
       "      <td>Seltener</td>\n",
       "      <td>Nie</td>\n",
       "      <td>Nie</td>\n",
       "      <td>Nie</td>\n",
       "    </tr>\n",
       "    <tr>\n",
       "      <th>122</th>\n",
       "      <td>Seltener</td>\n",
       "      <td>Mehrmals pro Woche</td>\n",
       "      <td>Mehrmals pro Woche</td>\n",
       "      <td>Täglich</td>\n",
       "      <td>Mehrmals pro Woche</td>\n",
       "      <td>Mehrmals pro Monat</td>\n",
       "      <td>Mehrmals pro Monat</td>\n",
       "      <td>Mehrmals pro Woche</td>\n",
       "      <td>Täglich</td>\n",
       "      <td>Mehrmals pro Monat</td>\n",
       "      <td>Mehrmals pro Woche</td>\n",
       "      <td>Mehrmals pro Monat</td>\n",
       "      <td>Mehrmals pro Woche</td>\n",
       "      <td>Seltener</td>\n",
       "      <td>Mehrmals pro Monat</td>\n",
       "      <td>Seltener</td>\n",
       "      <td>Mehrmals pro Monat</td>\n",
       "      <td>Seltener</td>\n",
       "      <td>Seltener</td>\n",
       "    </tr>\n",
       "    <tr>\n",
       "      <th>123</th>\n",
       "      <td>Mehrmals pro Woche</td>\n",
       "      <td>Täglich</td>\n",
       "      <td>Mehrmals pro Monat</td>\n",
       "      <td>Täglich</td>\n",
       "      <td>Mehrmals pro Monat</td>\n",
       "      <td>Mehrmals pro Woche</td>\n",
       "      <td>Mehrmals pro Woche</td>\n",
       "      <td>Mehrmals pro Monat</td>\n",
       "      <td>Mehrmals pro Monat</td>\n",
       "      <td>Täglich</td>\n",
       "      <td>Täglich</td>\n",
       "      <td>Mehrmals pro Woche</td>\n",
       "      <td>Mehrmals pro Monat</td>\n",
       "      <td>Seltener</td>\n",
       "      <td>Mehrmals pro Monat</td>\n",
       "      <td>Seltener</td>\n",
       "      <td>Seltener</td>\n",
       "      <td>Nie</td>\n",
       "      <td>Nie</td>\n",
       "    </tr>\n",
       "    <tr>\n",
       "      <th>124</th>\n",
       "      <td>Mehrmals pro Monat</td>\n",
       "      <td>Täglich</td>\n",
       "      <td>Mehrmals pro Monat</td>\n",
       "      <td>Täglich</td>\n",
       "      <td>Mehrmals pro Woche</td>\n",
       "      <td>Mehrmals pro Woche</td>\n",
       "      <td>Mehrmals pro Monat</td>\n",
       "      <td>Seltener</td>\n",
       "      <td>Mehrmals pro Woche</td>\n",
       "      <td>Täglich</td>\n",
       "      <td>Täglich</td>\n",
       "      <td>Täglich</td>\n",
       "      <td>Seltener</td>\n",
       "      <td>Mehrmals pro Woche</td>\n",
       "      <td>Täglich</td>\n",
       "      <td>Mehrmals pro Woche</td>\n",
       "      <td>Nie</td>\n",
       "      <td>Seltener</td>\n",
       "      <td>Nie</td>\n",
       "    </tr>\n",
       "    <tr>\n",
       "      <th>125</th>\n",
       "      <td>Täglich</td>\n",
       "      <td>Täglich</td>\n",
       "      <td>Mehrmals pro Woche</td>\n",
       "      <td>Täglich</td>\n",
       "      <td>Täglich</td>\n",
       "      <td>Mehrmals pro Woche</td>\n",
       "      <td>Mehrmals pro Woche</td>\n",
       "      <td>Mehrmals pro Woche</td>\n",
       "      <td>Mehrmals pro Woche</td>\n",
       "      <td>Täglich</td>\n",
       "      <td>Mehrmals pro Woche</td>\n",
       "      <td>Mehrmals pro Woche</td>\n",
       "      <td>Nie</td>\n",
       "      <td>Mehrmals pro Woche</td>\n",
       "      <td>Seltener</td>\n",
       "      <td>Seltener</td>\n",
       "      <td>Nie</td>\n",
       "      <td>Mehrmals pro Monat</td>\n",
       "      <td>Nie</td>\n",
       "    </tr>\n",
       "    <tr>\n",
       "      <th>126</th>\n",
       "      <td>Mehrmals pro Monat</td>\n",
       "      <td>Täglich</td>\n",
       "      <td>Mehrmals pro Monat</td>\n",
       "      <td>Täglich</td>\n",
       "      <td>Mehrmals pro Woche</td>\n",
       "      <td>Mehrmals pro Monat</td>\n",
       "      <td>Mehrmals pro Monat</td>\n",
       "      <td>Mehrmals pro Woche</td>\n",
       "      <td>Täglich</td>\n",
       "      <td>Täglich</td>\n",
       "      <td>Täglich</td>\n",
       "      <td>Täglich</td>\n",
       "      <td>Seltener</td>\n",
       "      <td>Mehrmals pro Woche</td>\n",
       "      <td>Mehrmals pro Woche</td>\n",
       "      <td>Seltener</td>\n",
       "      <td>Nie</td>\n",
       "      <td>Seltener</td>\n",
       "      <td>Seltener</td>\n",
       "    </tr>\n",
       "    <tr>\n",
       "      <th>127</th>\n",
       "      <td>Mehrmals pro Woche</td>\n",
       "      <td>Täglich</td>\n",
       "      <td>Mehrmals pro Monat</td>\n",
       "      <td>Mehrmals pro Monat</td>\n",
       "      <td>Mehrmals pro Woche</td>\n",
       "      <td>Seltener</td>\n",
       "      <td>Seltener</td>\n",
       "      <td>Mehrmals pro Woche</td>\n",
       "      <td>Mehrmals pro Monat</td>\n",
       "      <td>Mehrmals pro Woche</td>\n",
       "      <td>Mehrmals pro Woche</td>\n",
       "      <td>Seltener</td>\n",
       "      <td>Nie</td>\n",
       "      <td>Mehrmals pro Woche</td>\n",
       "      <td>Nie</td>\n",
       "      <td>Mehrmals pro Monat</td>\n",
       "      <td>Nie</td>\n",
       "      <td>Seltener</td>\n",
       "      <td>Nie</td>\n",
       "    </tr>\n",
       "    <tr>\n",
       "      <th>128</th>\n",
       "      <td>Täglich</td>\n",
       "      <td>Mehrmals pro Monat</td>\n",
       "      <td>Täglich</td>\n",
       "      <td>Mehrmals pro Woche</td>\n",
       "      <td>Nie</td>\n",
       "      <td>Seltener</td>\n",
       "      <td>Mehrmals pro Monat</td>\n",
       "      <td>Mehrmals pro Monat</td>\n",
       "      <td>Mehrmals pro Woche</td>\n",
       "      <td>Seltener</td>\n",
       "      <td>Nie</td>\n",
       "      <td>Mehrmals pro Woche</td>\n",
       "      <td>Seltener</td>\n",
       "      <td>Nie</td>\n",
       "      <td>Nie</td>\n",
       "      <td>Seltener</td>\n",
       "      <td>Nie</td>\n",
       "      <td>Seltener</td>\n",
       "      <td>Seltener</td>\n",
       "    </tr>\n",
       "    <tr>\n",
       "      <th>129</th>\n",
       "      <td>Seltener</td>\n",
       "      <td>Täglich</td>\n",
       "      <td>Mehrmals pro Woche</td>\n",
       "      <td>Mehrmals pro Monat</td>\n",
       "      <td>Mehrmals pro Monat</td>\n",
       "      <td>Seltener</td>\n",
       "      <td>Nie</td>\n",
       "      <td>Mehrmals pro Monat</td>\n",
       "      <td>Mehrmals pro Monat</td>\n",
       "      <td>Mehrmals pro Woche</td>\n",
       "      <td>Täglich</td>\n",
       "      <td>Mehrmals pro Woche</td>\n",
       "      <td>Seltener</td>\n",
       "      <td>Nie</td>\n",
       "      <td>Seltener</td>\n",
       "      <td>Seltener</td>\n",
       "      <td>Nie</td>\n",
       "      <td>Nie</td>\n",
       "      <td>Nie</td>\n",
       "    </tr>\n",
       "    <tr>\n",
       "      <th>130</th>\n",
       "      <td>Täglich</td>\n",
       "      <td>Täglich</td>\n",
       "      <td>Mehrmals pro Monat</td>\n",
       "      <td>Mehrmals pro Woche</td>\n",
       "      <td>Nie</td>\n",
       "      <td>Nie</td>\n",
       "      <td>Nie</td>\n",
       "      <td>Seltener</td>\n",
       "      <td>Seltener</td>\n",
       "      <td>Seltener</td>\n",
       "      <td>Mehrmals pro Woche</td>\n",
       "      <td>Mehrmals pro Woche</td>\n",
       "      <td>Nie</td>\n",
       "      <td>Nie</td>\n",
       "      <td>Nie</td>\n",
       "      <td>Seltener</td>\n",
       "      <td>Nie</td>\n",
       "      <td>Nie</td>\n",
       "      <td>Nie</td>\n",
       "    </tr>\n",
       "    <tr>\n",
       "      <th>131</th>\n",
       "      <td>Mehrmals pro Woche</td>\n",
       "      <td>Mehrmals pro Woche</td>\n",
       "      <td>Mehrmals pro Woche</td>\n",
       "      <td>Mehrmals pro Monat</td>\n",
       "      <td>Mehrmals pro Monat</td>\n",
       "      <td>Seltener</td>\n",
       "      <td>Seltener</td>\n",
       "      <td>Mehrmals pro Monat</td>\n",
       "      <td>Mehrmals pro Monat</td>\n",
       "      <td>Täglich</td>\n",
       "      <td>Täglich</td>\n",
       "      <td>Mehrmals pro Woche</td>\n",
       "      <td>Täglich</td>\n",
       "      <td>Mehrmals pro Monat</td>\n",
       "      <td>Mehrmals pro Woche</td>\n",
       "      <td>Mehrmals pro Woche</td>\n",
       "      <td>Mehrmals pro Monat</td>\n",
       "      <td>Mehrmals pro Monat</td>\n",
       "      <td>Nie</td>\n",
       "    </tr>\n",
       "    <tr>\n",
       "      <th>132</th>\n",
       "      <td>Mehrmals pro Monat</td>\n",
       "      <td>Täglich</td>\n",
       "      <td>Seltener</td>\n",
       "      <td>Mehrmals pro Monat</td>\n",
       "      <td>Seltener</td>\n",
       "      <td>Seltener</td>\n",
       "      <td>Mehrmals pro Monat</td>\n",
       "      <td>Seltener</td>\n",
       "      <td>Nie</td>\n",
       "      <td>Mehrmals pro Monat</td>\n",
       "      <td>Seltener</td>\n",
       "      <td>Täglich</td>\n",
       "      <td>Nie</td>\n",
       "      <td>Seltener</td>\n",
       "      <td>Nie</td>\n",
       "      <td>Nie</td>\n",
       "      <td>Nie</td>\n",
       "      <td>Nie</td>\n",
       "      <td>Nie</td>\n",
       "    </tr>\n",
       "    <tr>\n",
       "      <th>133</th>\n",
       "      <td>Täglich</td>\n",
       "      <td>Täglich</td>\n",
       "      <td>Täglich</td>\n",
       "      <td>Täglich</td>\n",
       "      <td>Täglich</td>\n",
       "      <td>Mehrmals pro Woche</td>\n",
       "      <td>Mehrmals pro Woche</td>\n",
       "      <td>Täglich</td>\n",
       "      <td>Täglich</td>\n",
       "      <td>Täglich</td>\n",
       "      <td>Mehrmals pro Monat</td>\n",
       "      <td>Täglich</td>\n",
       "      <td>Mehrmals pro Monat</td>\n",
       "      <td>Mehrmals pro Woche</td>\n",
       "      <td>Täglich</td>\n",
       "      <td>Mehrmals pro Woche</td>\n",
       "      <td>Mehrmals pro Woche</td>\n",
       "      <td>Mehrmals pro Woche</td>\n",
       "      <td>Mehrmals pro Woche</td>\n",
       "    </tr>\n",
       "    <tr>\n",
       "      <th>134</th>\n",
       "      <td>Täglich</td>\n",
       "      <td>Täglich</td>\n",
       "      <td>Mehrmals pro Woche</td>\n",
       "      <td>Täglich</td>\n",
       "      <td>Mehrmals pro Monat</td>\n",
       "      <td>Mehrmals pro Monat</td>\n",
       "      <td>Mehrmals pro Monat</td>\n",
       "      <td>Mehrmals pro Monat</td>\n",
       "      <td>Mehrmals pro Woche</td>\n",
       "      <td>Täglich</td>\n",
       "      <td>Mehrmals pro Woche</td>\n",
       "      <td>Täglich</td>\n",
       "      <td>Seltener</td>\n",
       "      <td>Seltener</td>\n",
       "      <td>Mehrmals pro Woche</td>\n",
       "      <td>Mehrmals pro Monat</td>\n",
       "      <td>Nie</td>\n",
       "      <td>Seltener</td>\n",
       "      <td>Nie</td>\n",
       "    </tr>\n",
       "    <tr>\n",
       "      <th>135</th>\n",
       "      <td>Mehrmals pro Monat</td>\n",
       "      <td>Täglich</td>\n",
       "      <td>Mehrmals pro Woche</td>\n",
       "      <td>Täglich</td>\n",
       "      <td>Täglich</td>\n",
       "      <td>Mehrmals pro Monat</td>\n",
       "      <td>Mehrmals pro Monat</td>\n",
       "      <td>Mehrmals pro Woche</td>\n",
       "      <td>Mehrmals pro Monat</td>\n",
       "      <td>Täglich</td>\n",
       "      <td>Täglich</td>\n",
       "      <td>Täglich</td>\n",
       "      <td>Seltener</td>\n",
       "      <td>Mehrmals pro Monat</td>\n",
       "      <td>Seltener</td>\n",
       "      <td>Nie</td>\n",
       "      <td>Nie</td>\n",
       "      <td>Nie</td>\n",
       "      <td>Nie</td>\n",
       "    </tr>\n",
       "    <tr>\n",
       "      <th>136</th>\n",
       "      <td>Täglich</td>\n",
       "      <td>Täglich</td>\n",
       "      <td>Mehrmals pro Woche</td>\n",
       "      <td>Seltener</td>\n",
       "      <td>Mehrmals pro Monat</td>\n",
       "      <td>Mehrmals pro Woche</td>\n",
       "      <td>Mehrmals pro Monat</td>\n",
       "      <td>Mehrmals pro Monat</td>\n",
       "      <td>Seltener</td>\n",
       "      <td>Täglich</td>\n",
       "      <td>Mehrmals pro Woche</td>\n",
       "      <td>Mehrmals pro Woche</td>\n",
       "      <td>Seltener</td>\n",
       "      <td>Nie</td>\n",
       "      <td>Nie</td>\n",
       "      <td>Nie</td>\n",
       "      <td>Nie</td>\n",
       "      <td>Nie</td>\n",
       "      <td>Nie</td>\n",
       "    </tr>\n",
       "    <tr>\n",
       "      <th>137</th>\n",
       "      <td>Mehrmals pro Woche</td>\n",
       "      <td>Täglich</td>\n",
       "      <td>Täglich</td>\n",
       "      <td>Mehrmals pro Woche</td>\n",
       "      <td>Mehrmals pro Monat</td>\n",
       "      <td>Seltener</td>\n",
       "      <td>Mehrmals pro Monat</td>\n",
       "      <td>Mehrmals pro Monat</td>\n",
       "      <td>Mehrmals pro Monat</td>\n",
       "      <td>Täglich</td>\n",
       "      <td>Mehrmals pro Woche</td>\n",
       "      <td>Täglich</td>\n",
       "      <td>Seltener</td>\n",
       "      <td>Seltener</td>\n",
       "      <td>Mehrmals pro Monat</td>\n",
       "      <td>Seltener</td>\n",
       "      <td>Seltener</td>\n",
       "      <td>Nie</td>\n",
       "      <td>Nie</td>\n",
       "    </tr>\n",
       "    <tr>\n",
       "      <th>138</th>\n",
       "      <td>Täglich</td>\n",
       "      <td>Täglich</td>\n",
       "      <td>Täglich</td>\n",
       "      <td>Täglich</td>\n",
       "      <td>Täglich</td>\n",
       "      <td>Täglich</td>\n",
       "      <td>Mehrmals pro Monat</td>\n",
       "      <td>Mehrmals pro Woche</td>\n",
       "      <td>Täglich</td>\n",
       "      <td>Mehrmals pro Monat</td>\n",
       "      <td>Täglich</td>\n",
       "      <td>Täglich</td>\n",
       "      <td>Mehrmals pro Monat</td>\n",
       "      <td>Mehrmals pro Woche</td>\n",
       "      <td>Nie</td>\n",
       "      <td>Nie</td>\n",
       "      <td>Seltener</td>\n",
       "      <td>Nie</td>\n",
       "      <td>Nie</td>\n",
       "    </tr>\n",
       "    <tr>\n",
       "      <th>139</th>\n",
       "      <td>Täglich</td>\n",
       "      <td>Täglich</td>\n",
       "      <td>Mehrmals pro Woche</td>\n",
       "      <td>Täglich</td>\n",
       "      <td>Täglich</td>\n",
       "      <td>Mehrmals pro Monat</td>\n",
       "      <td>Mehrmals pro Monat</td>\n",
       "      <td>Mehrmals pro Woche</td>\n",
       "      <td>Mehrmals pro Monat</td>\n",
       "      <td>Mehrmals pro Monat</td>\n",
       "      <td>Mehrmals pro Monat</td>\n",
       "      <td>Täglich</td>\n",
       "      <td>Täglich</td>\n",
       "      <td>Mehrmals pro Monat</td>\n",
       "      <td>Seltener</td>\n",
       "      <td>Seltener</td>\n",
       "      <td>Seltener</td>\n",
       "      <td>Seltener</td>\n",
       "      <td>Nie</td>\n",
       "    </tr>\n",
       "    <tr>\n",
       "      <th>140</th>\n",
       "      <td>Täglich</td>\n",
       "      <td>Täglich</td>\n",
       "      <td>Mehrmals pro Monat</td>\n",
       "      <td>Mehrmals pro Woche</td>\n",
       "      <td>Mehrmals pro Woche</td>\n",
       "      <td>Mehrmals pro Monat</td>\n",
       "      <td>Mehrmals pro Monat</td>\n",
       "      <td>Mehrmals pro Monat</td>\n",
       "      <td>Täglich</td>\n",
       "      <td>Mehrmals pro Woche</td>\n",
       "      <td>Täglich</td>\n",
       "      <td>Täglich</td>\n",
       "      <td>Mehrmals pro Monat</td>\n",
       "      <td>Seltener</td>\n",
       "      <td>Mehrmals pro Woche</td>\n",
       "      <td>Mehrmals pro Monat</td>\n",
       "      <td>Seltener</td>\n",
       "      <td>Seltener</td>\n",
       "      <td>Täglich</td>\n",
       "    </tr>\n",
       "    <tr>\n",
       "      <th>141</th>\n",
       "      <td>Mehrmals pro Woche</td>\n",
       "      <td>Täglich</td>\n",
       "      <td>Mehrmals pro Monat</td>\n",
       "      <td>Mehrmals pro Monat</td>\n",
       "      <td>Mehrmals pro Monat</td>\n",
       "      <td>Mehrmals pro Monat</td>\n",
       "      <td>Mehrmals pro Monat</td>\n",
       "      <td>Mehrmals pro Woche</td>\n",
       "      <td>Seltener</td>\n",
       "      <td>Täglich</td>\n",
       "      <td>Täglich</td>\n",
       "      <td>Mehrmals pro Woche</td>\n",
       "      <td>Mehrmals pro Monat</td>\n",
       "      <td>Mehrmals pro Monat</td>\n",
       "      <td>Mehrmals pro Woche</td>\n",
       "      <td>Seltener</td>\n",
       "      <td>Seltener</td>\n",
       "      <td>Nie</td>\n",
       "      <td>Nie</td>\n",
       "    </tr>\n",
       "    <tr>\n",
       "      <th>142</th>\n",
       "      <td>Mehrmals pro Monat</td>\n",
       "      <td>Mehrmals pro Woche</td>\n",
       "      <td>Seltener</td>\n",
       "      <td>Täglich</td>\n",
       "      <td>Mehrmals pro Monat</td>\n",
       "      <td>Seltener</td>\n",
       "      <td>Mehrmals pro Monat</td>\n",
       "      <td>Mehrmals pro Woche</td>\n",
       "      <td>Mehrmals pro Monat</td>\n",
       "      <td>Seltener</td>\n",
       "      <td>Mehrmals pro Woche</td>\n",
       "      <td>Mehrmals pro Woche</td>\n",
       "      <td>Mehrmals pro Monat</td>\n",
       "      <td>Nie</td>\n",
       "      <td>Nie</td>\n",
       "      <td>Mehrmals pro Monat</td>\n",
       "      <td>Nie</td>\n",
       "      <td>Seltener</td>\n",
       "      <td>Nie</td>\n",
       "    </tr>\n",
       "    <tr>\n",
       "      <th>143</th>\n",
       "      <td>Seltener</td>\n",
       "      <td>Täglich</td>\n",
       "      <td>Mehrmals pro Woche</td>\n",
       "      <td>Täglich</td>\n",
       "      <td>Mehrmals pro Monat</td>\n",
       "      <td>Mehrmals pro Monat</td>\n",
       "      <td>Nie</td>\n",
       "      <td>Mehrmals pro Monat</td>\n",
       "      <td>Seltener</td>\n",
       "      <td>Seltener</td>\n",
       "      <td>Täglich</td>\n",
       "      <td>Mehrmals pro Woche</td>\n",
       "      <td>Mehrmals pro Woche</td>\n",
       "      <td>Mehrmals pro Woche</td>\n",
       "      <td>Seltener</td>\n",
       "      <td>Mehrmals pro Monat</td>\n",
       "      <td>Mehrmals pro Monat</td>\n",
       "      <td>Seltener</td>\n",
       "      <td>Nie</td>\n",
       "    </tr>\n",
       "    <tr>\n",
       "      <th>144</th>\n",
       "      <td>Täglich</td>\n",
       "      <td>Täglich</td>\n",
       "      <td>Mehrmals pro Woche</td>\n",
       "      <td>Mehrmals pro Woche</td>\n",
       "      <td>Mehrmals pro Monat</td>\n",
       "      <td>Seltener</td>\n",
       "      <td>Seltener</td>\n",
       "      <td>Mehrmals pro Woche</td>\n",
       "      <td>Seltener</td>\n",
       "      <td>Mehrmals pro Monat</td>\n",
       "      <td>Nie</td>\n",
       "      <td>Seltener</td>\n",
       "      <td>Nie</td>\n",
       "      <td>Nie</td>\n",
       "      <td>Nie</td>\n",
       "      <td>Nie</td>\n",
       "      <td>Nie</td>\n",
       "      <td>Nie</td>\n",
       "      <td>Nie</td>\n",
       "    </tr>\n",
       "    <tr>\n",
       "      <th>145</th>\n",
       "      <td>Täglich</td>\n",
       "      <td>Täglich</td>\n",
       "      <td>Täglich</td>\n",
       "      <td>Mehrmals pro Woche</td>\n",
       "      <td>Mehrmals pro Monat</td>\n",
       "      <td>Seltener</td>\n",
       "      <td>Seltener</td>\n",
       "      <td>Seltener</td>\n",
       "      <td>Seltener</td>\n",
       "      <td>Seltener</td>\n",
       "      <td>Nie</td>\n",
       "      <td>Seltener</td>\n",
       "      <td>Seltener</td>\n",
       "      <td>Mehrmals pro Monat</td>\n",
       "      <td>Mehrmals pro Monat</td>\n",
       "      <td>Seltener</td>\n",
       "      <td>Seltener</td>\n",
       "      <td>Seltener</td>\n",
       "      <td>Seltener</td>\n",
       "    </tr>\n",
       "    <tr>\n",
       "      <th>146</th>\n",
       "      <td>Mehrmals pro Woche</td>\n",
       "      <td>Täglich</td>\n",
       "      <td>Mehrmals pro Woche</td>\n",
       "      <td>Täglich</td>\n",
       "      <td>Mehrmals pro Monat</td>\n",
       "      <td>Mehrmals pro Woche</td>\n",
       "      <td>Nie</td>\n",
       "      <td>Mehrmals pro Monat</td>\n",
       "      <td>Seltener</td>\n",
       "      <td>Mehrmals pro Woche</td>\n",
       "      <td>Täglich</td>\n",
       "      <td>Täglich</td>\n",
       "      <td>Seltener</td>\n",
       "      <td>Nie</td>\n",
       "      <td>Mehrmals pro Monat</td>\n",
       "      <td>Nie</td>\n",
       "      <td>Nie</td>\n",
       "      <td>Nie</td>\n",
       "      <td>Seltener</td>\n",
       "    </tr>\n",
       "    <tr>\n",
       "      <th>147</th>\n",
       "      <td>Mehrmals pro Woche</td>\n",
       "      <td>Täglich</td>\n",
       "      <td>Mehrmals pro Monat</td>\n",
       "      <td>Mehrmals pro Woche</td>\n",
       "      <td>Mehrmals pro Woche</td>\n",
       "      <td>Seltener</td>\n",
       "      <td>Mehrmals pro Monat</td>\n",
       "      <td>Mehrmals pro Woche</td>\n",
       "      <td>Mehrmals pro Woche</td>\n",
       "      <td>Täglich</td>\n",
       "      <td>Täglich</td>\n",
       "      <td>Mehrmals pro Woche</td>\n",
       "      <td>Mehrmals pro Woche</td>\n",
       "      <td>Seltener</td>\n",
       "      <td>Seltener</td>\n",
       "      <td>Seltener</td>\n",
       "      <td>Nie</td>\n",
       "      <td>Seltener</td>\n",
       "      <td>Nie</td>\n",
       "    </tr>\n",
       "    <tr>\n",
       "      <th>148</th>\n",
       "      <td>Mehrmals pro Woche</td>\n",
       "      <td>Täglich</td>\n",
       "      <td>Mehrmals pro Woche</td>\n",
       "      <td>Mehrmals pro Woche</td>\n",
       "      <td>Täglich</td>\n",
       "      <td>Mehrmals pro Woche</td>\n",
       "      <td>Mehrmals pro Woche</td>\n",
       "      <td>Mehrmals pro Woche</td>\n",
       "      <td>Mehrmals pro Monat</td>\n",
       "      <td>Mehrmals pro Woche</td>\n",
       "      <td>Mehrmals pro Woche</td>\n",
       "      <td>Mehrmals pro Woche</td>\n",
       "      <td>Mehrmals pro Monat</td>\n",
       "      <td>Seltener</td>\n",
       "      <td>Mehrmals pro Monat</td>\n",
       "      <td>Seltener</td>\n",
       "      <td>Seltener</td>\n",
       "      <td>Seltener</td>\n",
       "      <td>Nie</td>\n",
       "    </tr>\n",
       "    <tr>\n",
       "      <th>149</th>\n",
       "      <td>Täglich</td>\n",
       "      <td>Täglich</td>\n",
       "      <td>Mehrmals pro Woche</td>\n",
       "      <td>Täglich</td>\n",
       "      <td>Täglich</td>\n",
       "      <td>Täglich</td>\n",
       "      <td>Mehrmals pro Woche</td>\n",
       "      <td>Mehrmals pro Monat</td>\n",
       "      <td>Mehrmals pro Woche</td>\n",
       "      <td>Täglich</td>\n",
       "      <td>Mehrmals pro Woche</td>\n",
       "      <td>Mehrmals pro Woche</td>\n",
       "      <td>Seltener</td>\n",
       "      <td>Seltener</td>\n",
       "      <td>Mehrmals pro Monat</td>\n",
       "      <td>Seltener</td>\n",
       "      <td>Nie</td>\n",
       "      <td>Seltener</td>\n",
       "      <td>Seltener</td>\n",
       "    </tr>\n",
       "    <tr>\n",
       "      <th>150</th>\n",
       "      <td>Mehrmals pro Woche</td>\n",
       "      <td>Täglich</td>\n",
       "      <td>Mehrmals pro Woche</td>\n",
       "      <td>Täglich</td>\n",
       "      <td>Täglich</td>\n",
       "      <td>Mehrmals pro Woche</td>\n",
       "      <td>Mehrmals pro Woche</td>\n",
       "      <td>Mehrmals pro Woche</td>\n",
       "      <td>Mehrmals pro Woche</td>\n",
       "      <td>Täglich</td>\n",
       "      <td>Täglich</td>\n",
       "      <td>Täglich</td>\n",
       "      <td>Täglich</td>\n",
       "      <td>Mehrmals pro Monat</td>\n",
       "      <td>Seltener</td>\n",
       "      <td>Seltener</td>\n",
       "      <td>Seltener</td>\n",
       "      <td>Seltener</td>\n",
       "      <td>Seltener</td>\n",
       "    </tr>\n",
       "    <tr>\n",
       "      <th>151</th>\n",
       "      <td>Täglich</td>\n",
       "      <td>Täglich</td>\n",
       "      <td>Mehrmals pro Monat</td>\n",
       "      <td>Mehrmals pro Woche</td>\n",
       "      <td>Mehrmals pro Woche</td>\n",
       "      <td>Mehrmals pro Monat</td>\n",
       "      <td>Mehrmals pro Monat</td>\n",
       "      <td>Mehrmals pro Monat</td>\n",
       "      <td>Mehrmals pro Woche</td>\n",
       "      <td>Täglich</td>\n",
       "      <td>Täglich</td>\n",
       "      <td>Täglich</td>\n",
       "      <td>Seltener</td>\n",
       "      <td>Nie</td>\n",
       "      <td>Seltener</td>\n",
       "      <td>Seltener</td>\n",
       "      <td>Nie</td>\n",
       "      <td>Seltener</td>\n",
       "      <td>Nie</td>\n",
       "    </tr>\n",
       "    <tr>\n",
       "      <th>152</th>\n",
       "      <td>Täglich</td>\n",
       "      <td>Täglich</td>\n",
       "      <td>Mehrmals pro Woche</td>\n",
       "      <td>Seltener</td>\n",
       "      <td>Seltener</td>\n",
       "      <td>Mehrmals pro Monat</td>\n",
       "      <td>Mehrmals pro Monat</td>\n",
       "      <td>Mehrmals pro Monat</td>\n",
       "      <td>Mehrmals pro Monat</td>\n",
       "      <td>Täglich</td>\n",
       "      <td>Täglich</td>\n",
       "      <td>Mehrmals pro Woche</td>\n",
       "      <td>Seltener</td>\n",
       "      <td>Mehrmals pro Woche</td>\n",
       "      <td>Seltener</td>\n",
       "      <td>Seltener</td>\n",
       "      <td>Nie</td>\n",
       "      <td>Seltener</td>\n",
       "      <td>Nie</td>\n",
       "    </tr>\n",
       "    <tr>\n",
       "      <th>153</th>\n",
       "      <td>Mehrmals pro Monat</td>\n",
       "      <td>Täglich</td>\n",
       "      <td>Mehrmals pro Woche</td>\n",
       "      <td>Mehrmals pro Woche</td>\n",
       "      <td>Mehrmals pro Woche</td>\n",
       "      <td>Seltener</td>\n",
       "      <td>Mehrmals pro Monat</td>\n",
       "      <td>Mehrmals pro Monat</td>\n",
       "      <td>Mehrmals pro Monat</td>\n",
       "      <td>Täglich</td>\n",
       "      <td>Täglich</td>\n",
       "      <td>Mehrmals pro Woche</td>\n",
       "      <td>Nie</td>\n",
       "      <td>Mehrmals pro Woche</td>\n",
       "      <td>Nie</td>\n",
       "      <td>Seltener</td>\n",
       "      <td>Nie</td>\n",
       "      <td>Mehrmals pro Woche</td>\n",
       "      <td>Nie</td>\n",
       "    </tr>\n",
       "    <tr>\n",
       "      <th>154</th>\n",
       "      <td>Mehrmals pro Woche</td>\n",
       "      <td>Täglich</td>\n",
       "      <td>Mehrmals pro Monat</td>\n",
       "      <td>Seltener</td>\n",
       "      <td>Mehrmals pro Monat</td>\n",
       "      <td>Mehrmals pro Monat</td>\n",
       "      <td>Seltener</td>\n",
       "      <td>Mehrmals pro Woche</td>\n",
       "      <td>Mehrmals pro Monat</td>\n",
       "      <td>Täglich</td>\n",
       "      <td>Täglich</td>\n",
       "      <td>Mehrmals pro Woche</td>\n",
       "      <td>Nie</td>\n",
       "      <td>Nie</td>\n",
       "      <td>Mehrmals pro Monat</td>\n",
       "      <td>Seltener</td>\n",
       "      <td>Nie</td>\n",
       "      <td>Mehrmals pro Monat</td>\n",
       "      <td>Nie</td>\n",
       "    </tr>\n",
       "    <tr>\n",
       "      <th>155</th>\n",
       "      <td>Täglich</td>\n",
       "      <td>Täglich</td>\n",
       "      <td>Mehrmals pro Woche</td>\n",
       "      <td>Täglich</td>\n",
       "      <td>Mehrmals pro Monat</td>\n",
       "      <td>Mehrmals pro Monat</td>\n",
       "      <td>Seltener</td>\n",
       "      <td>Mehrmals pro Monat</td>\n",
       "      <td>Seltener</td>\n",
       "      <td>Täglich</td>\n",
       "      <td>Täglich</td>\n",
       "      <td>Täglich</td>\n",
       "      <td>Nie</td>\n",
       "      <td>Mehrmals pro Monat</td>\n",
       "      <td>Seltener</td>\n",
       "      <td>Seltener</td>\n",
       "      <td>Nie</td>\n",
       "      <td>Nie</td>\n",
       "      <td>Nie</td>\n",
       "    </tr>\n",
       "    <tr>\n",
       "      <th>156</th>\n",
       "      <td>Mehrmals pro Woche</td>\n",
       "      <td>Täglich</td>\n",
       "      <td>Mehrmals pro Monat</td>\n",
       "      <td>Mehrmals pro Monat</td>\n",
       "      <td>Mehrmals pro Woche</td>\n",
       "      <td>Mehrmals pro Woche</td>\n",
       "      <td>Mehrmals pro Woche</td>\n",
       "      <td>Mehrmals pro Woche</td>\n",
       "      <td>Mehrmals pro Monat</td>\n",
       "      <td>Täglich</td>\n",
       "      <td>Täglich</td>\n",
       "      <td>Täglich</td>\n",
       "      <td>Seltener</td>\n",
       "      <td>Nie</td>\n",
       "      <td>Seltener</td>\n",
       "      <td>Mehrmals pro Monat</td>\n",
       "      <td>Seltener</td>\n",
       "      <td>Seltener</td>\n",
       "      <td>Seltener</td>\n",
       "    </tr>\n",
       "    <tr>\n",
       "      <th>157</th>\n",
       "      <td>Täglich</td>\n",
       "      <td>Täglich</td>\n",
       "      <td>Täglich</td>\n",
       "      <td>Mehrmals pro Woche</td>\n",
       "      <td>Seltener</td>\n",
       "      <td>Mehrmals pro Woche</td>\n",
       "      <td>Täglich</td>\n",
       "      <td>Mehrmals pro Woche</td>\n",
       "      <td>Täglich</td>\n",
       "      <td>Täglich</td>\n",
       "      <td>Täglich</td>\n",
       "      <td>Mehrmals pro Woche</td>\n",
       "      <td>Nie</td>\n",
       "      <td>Mehrmals pro Monat</td>\n",
       "      <td>Seltener</td>\n",
       "      <td>Seltener</td>\n",
       "      <td>Nie</td>\n",
       "      <td>Seltener</td>\n",
       "      <td>Seltener</td>\n",
       "    </tr>\n",
       "    <tr>\n",
       "      <th>158</th>\n",
       "      <td>Täglich</td>\n",
       "      <td>Täglich</td>\n",
       "      <td>Mehrmals pro Monat</td>\n",
       "      <td>Mehrmals pro Monat</td>\n",
       "      <td>Nie</td>\n",
       "      <td>Seltener</td>\n",
       "      <td>Mehrmals pro Monat</td>\n",
       "      <td>Seltener</td>\n",
       "      <td>Mehrmals pro Monat</td>\n",
       "      <td>Täglich</td>\n",
       "      <td>Mehrmals pro Woche</td>\n",
       "      <td>Mehrmals pro Monat</td>\n",
       "      <td>Mehrmals pro Monat</td>\n",
       "      <td>Täglich</td>\n",
       "      <td>Mehrmals pro Woche</td>\n",
       "      <td>Seltener</td>\n",
       "      <td>Nie</td>\n",
       "      <td>Mehrmals pro Monat</td>\n",
       "      <td>Mehrmals pro Woche</td>\n",
       "    </tr>\n",
       "    <tr>\n",
       "      <th>159</th>\n",
       "      <td>Täglich</td>\n",
       "      <td>Täglich</td>\n",
       "      <td>Täglich</td>\n",
       "      <td>Mehrmals pro Woche</td>\n",
       "      <td>Täglich</td>\n",
       "      <td>Mehrmals pro Woche</td>\n",
       "      <td>Mehrmals pro Monat</td>\n",
       "      <td>Mehrmals pro Woche</td>\n",
       "      <td>Mehrmals pro Woche</td>\n",
       "      <td>Täglich</td>\n",
       "      <td>Mehrmals pro Woche</td>\n",
       "      <td>Mehrmals pro Woche</td>\n",
       "      <td>Täglich</td>\n",
       "      <td>Nie</td>\n",
       "      <td>Mehrmals pro Monat</td>\n",
       "      <td>Nie</td>\n",
       "      <td>Mehrmals pro Monat</td>\n",
       "      <td>Mehrmals pro Monat</td>\n",
       "      <td>Nie</td>\n",
       "    </tr>\n",
       "    <tr>\n",
       "      <th>160</th>\n",
       "      <td>Täglich</td>\n",
       "      <td>Täglich</td>\n",
       "      <td>Täglich</td>\n",
       "      <td>Mehrmals pro Woche</td>\n",
       "      <td>Täglich</td>\n",
       "      <td>Mehrmals pro Woche</td>\n",
       "      <td>Mehrmals pro Woche</td>\n",
       "      <td>Mehrmals pro Woche</td>\n",
       "      <td>Mehrmals pro Woche</td>\n",
       "      <td>Täglich</td>\n",
       "      <td>Mehrmals pro Woche</td>\n",
       "      <td>Mehrmals pro Woche</td>\n",
       "      <td>Mehrmals pro Woche</td>\n",
       "      <td>Nie</td>\n",
       "      <td>Mehrmals pro Woche</td>\n",
       "      <td>Nie</td>\n",
       "      <td>Mehrmals pro Monat</td>\n",
       "      <td>Mehrmals pro Monat</td>\n",
       "      <td>Nie</td>\n",
       "    </tr>\n",
       "    <tr>\n",
       "      <th>161</th>\n",
       "      <td>Mehrmals pro Woche</td>\n",
       "      <td>Täglich</td>\n",
       "      <td>Täglich</td>\n",
       "      <td>Täglich</td>\n",
       "      <td>Täglich</td>\n",
       "      <td>Mehrmals pro Woche</td>\n",
       "      <td>Mehrmals pro Woche</td>\n",
       "      <td>Mehrmals pro Monat</td>\n",
       "      <td>Mehrmals pro Woche</td>\n",
       "      <td>Täglich</td>\n",
       "      <td>Täglich</td>\n",
       "      <td>Mehrmals pro Monat</td>\n",
       "      <td>Täglich</td>\n",
       "      <td>Mehrmals pro Woche</td>\n",
       "      <td>Mehrmals pro Woche</td>\n",
       "      <td>Mehrmals pro Monat</td>\n",
       "      <td>Nie</td>\n",
       "      <td>Seltener</td>\n",
       "      <td>Seltener</td>\n",
       "    </tr>\n",
       "    <tr>\n",
       "      <th>162</th>\n",
       "      <td>Mehrmals pro Woche</td>\n",
       "      <td>Täglich</td>\n",
       "      <td>Mehrmals pro Woche</td>\n",
       "      <td>Täglich</td>\n",
       "      <td>Täglich</td>\n",
       "      <td>Mehrmals pro Monat</td>\n",
       "      <td>Mehrmals pro Monat</td>\n",
       "      <td>Mehrmals pro Woche</td>\n",
       "      <td>Mehrmals pro Woche</td>\n",
       "      <td>Täglich</td>\n",
       "      <td>Täglich</td>\n",
       "      <td>Mehrmals pro Monat</td>\n",
       "      <td>Täglich</td>\n",
       "      <td>Mehrmals pro Monat</td>\n",
       "      <td>Seltener</td>\n",
       "      <td>Seltener</td>\n",
       "      <td>Seltener</td>\n",
       "      <td>Mehrmals pro Monat</td>\n",
       "      <td>Täglich</td>\n",
       "    </tr>\n",
       "    <tr>\n",
       "      <th>163</th>\n",
       "      <td>Täglich</td>\n",
       "      <td>Täglich</td>\n",
       "      <td>Mehrmals pro Woche</td>\n",
       "      <td>Täglich</td>\n",
       "      <td>Täglich</td>\n",
       "      <td>Mehrmals pro Woche</td>\n",
       "      <td>Mehrmals pro Woche</td>\n",
       "      <td>Mehrmals pro Monat</td>\n",
       "      <td>Mehrmals pro Monat</td>\n",
       "      <td>Täglich</td>\n",
       "      <td>Täglich</td>\n",
       "      <td>Täglich</td>\n",
       "      <td>Mehrmals pro Monat</td>\n",
       "      <td>Mehrmals pro Monat</td>\n",
       "      <td>Nie</td>\n",
       "      <td>Seltener</td>\n",
       "      <td>Seltener</td>\n",
       "      <td>Mehrmals pro Monat</td>\n",
       "      <td>Nie</td>\n",
       "    </tr>\n",
       "    <tr>\n",
       "      <th>164</th>\n",
       "      <td>Täglich</td>\n",
       "      <td>Täglich</td>\n",
       "      <td>Täglich</td>\n",
       "      <td>Täglich</td>\n",
       "      <td>Mehrmals pro Woche</td>\n",
       "      <td>Mehrmals pro Woche</td>\n",
       "      <td>Mehrmals pro Woche</td>\n",
       "      <td>Mehrmals pro Monat</td>\n",
       "      <td>Mehrmals pro Monat</td>\n",
       "      <td>Täglich</td>\n",
       "      <td>Täglich</td>\n",
       "      <td>Täglich</td>\n",
       "      <td>Mehrmals pro Monat</td>\n",
       "      <td>Mehrmals pro Monat</td>\n",
       "      <td>Mehrmals pro Woche</td>\n",
       "      <td>Seltener</td>\n",
       "      <td>Seltener</td>\n",
       "      <td>Mehrmals pro Monat</td>\n",
       "      <td>Nie</td>\n",
       "    </tr>\n",
       "    <tr>\n",
       "      <th>165</th>\n",
       "      <td>Täglich</td>\n",
       "      <td>Täglich</td>\n",
       "      <td>Täglich</td>\n",
       "      <td>Täglich</td>\n",
       "      <td>Seltener</td>\n",
       "      <td>Seltener</td>\n",
       "      <td>Mehrmals pro Monat</td>\n",
       "      <td>Mehrmals pro Woche</td>\n",
       "      <td>Mehrmals pro Monat</td>\n",
       "      <td>Mehrmals pro Monat</td>\n",
       "      <td>Mehrmals pro Monat</td>\n",
       "      <td>Seltener</td>\n",
       "      <td>Mehrmals pro Monat</td>\n",
       "      <td>Nie</td>\n",
       "      <td>Seltener</td>\n",
       "      <td>Seltener</td>\n",
       "      <td>Nie</td>\n",
       "      <td>Nie</td>\n",
       "      <td>Täglich</td>\n",
       "    </tr>\n",
       "    <tr>\n",
       "      <th>166</th>\n",
       "      <td>Täglich</td>\n",
       "      <td>Täglich</td>\n",
       "      <td>Mehrmals pro Woche</td>\n",
       "      <td>Seltener</td>\n",
       "      <td>Mehrmals pro Woche</td>\n",
       "      <td>Mehrmals pro Woche</td>\n",
       "      <td>Täglich</td>\n",
       "      <td>Mehrmals pro Woche</td>\n",
       "      <td>Täglich</td>\n",
       "      <td>Nie</td>\n",
       "      <td>Mehrmals pro Woche</td>\n",
       "      <td>Seltener</td>\n",
       "      <td>Mehrmals pro Woche</td>\n",
       "      <td>Nie</td>\n",
       "      <td>Nie</td>\n",
       "      <td>Seltener</td>\n",
       "      <td>Mehrmals pro Woche</td>\n",
       "      <td>Mehrmals pro Woche</td>\n",
       "      <td>Nie</td>\n",
       "    </tr>\n",
       "    <tr>\n",
       "      <th>167</th>\n",
       "      <td>Mehrmals pro Monat</td>\n",
       "      <td>Täglich</td>\n",
       "      <td>Mehrmals pro Woche</td>\n",
       "      <td>Mehrmals pro Woche</td>\n",
       "      <td>Mehrmals pro Woche</td>\n",
       "      <td>Seltener</td>\n",
       "      <td>Mehrmals pro Monat</td>\n",
       "      <td>Mehrmals pro Monat</td>\n",
       "      <td>Mehrmals pro Woche</td>\n",
       "      <td>Täglich</td>\n",
       "      <td>Mehrmals pro Woche</td>\n",
       "      <td>Mehrmals pro Woche</td>\n",
       "      <td>Täglich</td>\n",
       "      <td>Mehrmals pro Woche</td>\n",
       "      <td>Mehrmals pro Woche</td>\n",
       "      <td>Nie</td>\n",
       "      <td>Seltener</td>\n",
       "      <td>Seltener</td>\n",
       "      <td>Nie</td>\n",
       "    </tr>\n",
       "    <tr>\n",
       "      <th>168</th>\n",
       "      <td>Täglich</td>\n",
       "      <td>Täglich</td>\n",
       "      <td>Mehrmals pro Woche</td>\n",
       "      <td>Täglich</td>\n",
       "      <td>Mehrmals pro Woche</td>\n",
       "      <td>Mehrmals pro Monat</td>\n",
       "      <td>Mehrmals pro Woche</td>\n",
       "      <td>Mehrmals pro Woche</td>\n",
       "      <td>Mehrmals pro Woche</td>\n",
       "      <td>Täglich</td>\n",
       "      <td>Täglich</td>\n",
       "      <td>Mehrmals pro Monat</td>\n",
       "      <td>Seltener</td>\n",
       "      <td>Nie</td>\n",
       "      <td>Seltener</td>\n",
       "      <td>Mehrmals pro Monat</td>\n",
       "      <td>Seltener</td>\n",
       "      <td>Seltener</td>\n",
       "      <td>Täglich</td>\n",
       "    </tr>\n",
       "    <tr>\n",
       "      <th>169</th>\n",
       "      <td>Mehrmals pro Woche</td>\n",
       "      <td>Täglich</td>\n",
       "      <td>Mehrmals pro Woche</td>\n",
       "      <td>Täglich</td>\n",
       "      <td>Mehrmals pro Monat</td>\n",
       "      <td>Mehrmals pro Monat</td>\n",
       "      <td>Mehrmals pro Monat</td>\n",
       "      <td>Mehrmals pro Woche</td>\n",
       "      <td>Täglich</td>\n",
       "      <td>Seltener</td>\n",
       "      <td>Täglich</td>\n",
       "      <td>Täglich</td>\n",
       "      <td>Mehrmals pro Woche</td>\n",
       "      <td>Mehrmals pro Woche</td>\n",
       "      <td>Mehrmals pro Woche</td>\n",
       "      <td>Seltener</td>\n",
       "      <td>Seltener</td>\n",
       "      <td>Seltener</td>\n",
       "      <td>Mehrmals pro Monat</td>\n",
       "    </tr>\n",
       "    <tr>\n",
       "      <th>170</th>\n",
       "      <td>Mehrmals pro Woche</td>\n",
       "      <td>Mehrmals pro Woche</td>\n",
       "      <td>Mehrmals pro Woche</td>\n",
       "      <td>Mehrmals pro Woche</td>\n",
       "      <td>Mehrmals pro Monat</td>\n",
       "      <td>Seltener</td>\n",
       "      <td>Mehrmals pro Woche</td>\n",
       "      <td>Mehrmals pro Monat</td>\n",
       "      <td>Mehrmals pro Monat</td>\n",
       "      <td>Mehrmals pro Monat</td>\n",
       "      <td>Täglich</td>\n",
       "      <td>Täglich</td>\n",
       "      <td>Mehrmals pro Monat</td>\n",
       "      <td>Täglich</td>\n",
       "      <td>Mehrmals pro Monat</td>\n",
       "      <td>Seltener</td>\n",
       "      <td>Seltener</td>\n",
       "      <td>Mehrmals pro Monat</td>\n",
       "      <td>Nie</td>\n",
       "    </tr>\n",
       "    <tr>\n",
       "      <th>171</th>\n",
       "      <td>Mehrmals pro Woche</td>\n",
       "      <td>Mehrmals pro Woche</td>\n",
       "      <td>Mehrmals pro Monat</td>\n",
       "      <td>Mehrmals pro Woche</td>\n",
       "      <td>Seltener</td>\n",
       "      <td>Seltener</td>\n",
       "      <td>Mehrmals pro Monat</td>\n",
       "      <td>Seltener</td>\n",
       "      <td>Mehrmals pro Monat</td>\n",
       "      <td>Mehrmals pro Monat</td>\n",
       "      <td>Mehrmals pro Monat</td>\n",
       "      <td>Mehrmals pro Woche</td>\n",
       "      <td>Mehrmals pro Monat</td>\n",
       "      <td>Täglich</td>\n",
       "      <td>Mehrmals pro Monat</td>\n",
       "      <td>Nie</td>\n",
       "      <td>Seltener</td>\n",
       "      <td>Mehrmals pro Monat</td>\n",
       "      <td>Nie</td>\n",
       "    </tr>\n",
       "    <tr>\n",
       "      <th>172</th>\n",
       "      <td>Mehrmals pro Woche</td>\n",
       "      <td>Täglich</td>\n",
       "      <td>Mehrmals pro Monat</td>\n",
       "      <td>Mehrmals pro Monat</td>\n",
       "      <td>Mehrmals pro Monat</td>\n",
       "      <td>Mehrmals pro Monat</td>\n",
       "      <td>Nie</td>\n",
       "      <td>Mehrmals pro Woche</td>\n",
       "      <td>Mehrmals pro Woche</td>\n",
       "      <td>Täglich</td>\n",
       "      <td>Mehrmals pro Woche</td>\n",
       "      <td>Seltener</td>\n",
       "      <td>Seltener</td>\n",
       "      <td>Seltener</td>\n",
       "      <td>Nie</td>\n",
       "      <td>Seltener</td>\n",
       "      <td>Nie</td>\n",
       "      <td>Seltener</td>\n",
       "      <td>Nie</td>\n",
       "    </tr>\n",
       "    <tr>\n",
       "      <th>173</th>\n",
       "      <td>Mehrmals pro Woche</td>\n",
       "      <td>Täglich</td>\n",
       "      <td>Mehrmals pro Woche</td>\n",
       "      <td>Täglich</td>\n",
       "      <td>Täglich</td>\n",
       "      <td>Mehrmals pro Woche</td>\n",
       "      <td>Mehrmals pro Monat</td>\n",
       "      <td>Mehrmals pro Woche</td>\n",
       "      <td>Mehrmals pro Woche</td>\n",
       "      <td>Täglich</td>\n",
       "      <td>Täglich</td>\n",
       "      <td>Mehrmals pro Monat</td>\n",
       "      <td>Mehrmals pro Monat</td>\n",
       "      <td>Seltener</td>\n",
       "      <td>Seltener</td>\n",
       "      <td>Nie</td>\n",
       "      <td>Seltener</td>\n",
       "      <td>Seltener</td>\n",
       "      <td>Nie</td>\n",
       "    </tr>\n",
       "    <tr>\n",
       "      <th>174</th>\n",
       "      <td>Täglich</td>\n",
       "      <td>Täglich</td>\n",
       "      <td>Mehrmals pro Woche</td>\n",
       "      <td>Mehrmals pro Woche</td>\n",
       "      <td>Mehrmals pro Woche</td>\n",
       "      <td>Seltener</td>\n",
       "      <td>Mehrmals pro Monat</td>\n",
       "      <td>Mehrmals pro Woche</td>\n",
       "      <td>Mehrmals pro Monat</td>\n",
       "      <td>Mehrmals pro Woche</td>\n",
       "      <td>Täglich</td>\n",
       "      <td>Seltener</td>\n",
       "      <td>Seltener</td>\n",
       "      <td>Nie</td>\n",
       "      <td>Seltener</td>\n",
       "      <td>Seltener</td>\n",
       "      <td>Seltener</td>\n",
       "      <td>Seltener</td>\n",
       "      <td>Nie</td>\n",
       "    </tr>\n",
       "    <tr>\n",
       "      <th>175</th>\n",
       "      <td>Mehrmals pro Woche</td>\n",
       "      <td>Täglich</td>\n",
       "      <td>Mehrmals pro Woche</td>\n",
       "      <td>Täglich</td>\n",
       "      <td>Täglich</td>\n",
       "      <td>Täglich</td>\n",
       "      <td>Täglich</td>\n",
       "      <td>Täglich</td>\n",
       "      <td>Mehrmals pro Monat</td>\n",
       "      <td>Täglich</td>\n",
       "      <td>Mehrmals pro Woche</td>\n",
       "      <td>Täglich</td>\n",
       "      <td>Seltener</td>\n",
       "      <td>Seltener</td>\n",
       "      <td>Seltener</td>\n",
       "      <td>Seltener</td>\n",
       "      <td>Seltener</td>\n",
       "      <td>Mehrmals pro Monat</td>\n",
       "      <td>Nie</td>\n",
       "    </tr>\n",
       "    <tr>\n",
       "      <th>176</th>\n",
       "      <td>Mehrmals pro Woche</td>\n",
       "      <td>Täglich</td>\n",
       "      <td>Mehrmals pro Monat</td>\n",
       "      <td>Täglich</td>\n",
       "      <td>Mehrmals pro Woche</td>\n",
       "      <td>Mehrmals pro Monat</td>\n",
       "      <td>Seltener</td>\n",
       "      <td>Mehrmals pro Monat</td>\n",
       "      <td>Mehrmals pro Woche</td>\n",
       "      <td>Täglich</td>\n",
       "      <td>Täglich</td>\n",
       "      <td>Täglich</td>\n",
       "      <td>Mehrmals pro Monat</td>\n",
       "      <td>Mehrmals pro Woche</td>\n",
       "      <td>Seltener</td>\n",
       "      <td>Nie</td>\n",
       "      <td>Nie</td>\n",
       "      <td>Mehrmals pro Monat</td>\n",
       "      <td>Seltener</td>\n",
       "    </tr>\n",
       "    <tr>\n",
       "      <th>177</th>\n",
       "      <td>Mehrmals pro Woche</td>\n",
       "      <td>Täglich</td>\n",
       "      <td>Mehrmals pro Monat</td>\n",
       "      <td>Täglich</td>\n",
       "      <td>Täglich</td>\n",
       "      <td>Mehrmals pro Woche</td>\n",
       "      <td>Täglich</td>\n",
       "      <td>Mehrmals pro Monat</td>\n",
       "      <td>Seltener</td>\n",
       "      <td>Täglich</td>\n",
       "      <td>Täglich</td>\n",
       "      <td>Täglich</td>\n",
       "      <td>Seltener</td>\n",
       "      <td>Mehrmals pro Woche</td>\n",
       "      <td>Mehrmals pro Monat</td>\n",
       "      <td>Mehrmals pro Monat</td>\n",
       "      <td>Seltener</td>\n",
       "      <td>Seltener</td>\n",
       "      <td>Nie</td>\n",
       "    </tr>\n",
       "    <tr>\n",
       "      <th>178</th>\n",
       "      <td>Täglich</td>\n",
       "      <td>Täglich</td>\n",
       "      <td>Mehrmals pro Monat</td>\n",
       "      <td>Mehrmals pro Monat</td>\n",
       "      <td>Mehrmals pro Woche</td>\n",
       "      <td>Mehrmals pro Monat</td>\n",
       "      <td>Mehrmals pro Monat</td>\n",
       "      <td>Mehrmals pro Woche</td>\n",
       "      <td>Mehrmals pro Monat</td>\n",
       "      <td>Mehrmals pro Woche</td>\n",
       "      <td>Täglich</td>\n",
       "      <td>Mehrmals pro Woche</td>\n",
       "      <td>Seltener</td>\n",
       "      <td>Seltener</td>\n",
       "      <td>Nie</td>\n",
       "      <td>Nie</td>\n",
       "      <td>Seltener</td>\n",
       "      <td>Seltener</td>\n",
       "      <td>Seltener</td>\n",
       "    </tr>\n",
       "    <tr>\n",
       "      <th>179</th>\n",
       "      <td>Mehrmals pro Woche</td>\n",
       "      <td>Täglich</td>\n",
       "      <td>Seltener</td>\n",
       "      <td>Täglich</td>\n",
       "      <td>Seltener</td>\n",
       "      <td>Seltener</td>\n",
       "      <td>Nie</td>\n",
       "      <td>Seltener</td>\n",
       "      <td>Täglich</td>\n",
       "      <td>Täglich</td>\n",
       "      <td>Täglich</td>\n",
       "      <td>Mehrmals pro Monat</td>\n",
       "      <td>Nie</td>\n",
       "      <td>Nie</td>\n",
       "      <td>Nie</td>\n",
       "      <td>Seltener</td>\n",
       "      <td>Nie</td>\n",
       "      <td>Nie</td>\n",
       "      <td>Seltener</td>\n",
       "    </tr>\n",
       "    <tr>\n",
       "      <th>180</th>\n",
       "      <td>Täglich</td>\n",
       "      <td>Täglich</td>\n",
       "      <td>Mehrmals pro Woche</td>\n",
       "      <td>Täglich</td>\n",
       "      <td>Mehrmals pro Woche</td>\n",
       "      <td>Mehrmals pro Monat</td>\n",
       "      <td>Mehrmals pro Woche</td>\n",
       "      <td>Mehrmals pro Woche</td>\n",
       "      <td>Mehrmals pro Woche</td>\n",
       "      <td>Mehrmals pro Monat</td>\n",
       "      <td>Mehrmals pro Monat</td>\n",
       "      <td>Mehrmals pro Monat</td>\n",
       "      <td>Nie</td>\n",
       "      <td>Nie</td>\n",
       "      <td>Nie</td>\n",
       "      <td>Nie</td>\n",
       "      <td>Mehrmals pro Monat</td>\n",
       "      <td>Nie</td>\n",
       "      <td>Nie</td>\n",
       "    </tr>\n",
       "    <tr>\n",
       "      <th>181</th>\n",
       "      <td>Täglich</td>\n",
       "      <td>Täglich</td>\n",
       "      <td>Täglich</td>\n",
       "      <td>Täglich</td>\n",
       "      <td>Mehrmals pro Woche</td>\n",
       "      <td>Mehrmals pro Monat</td>\n",
       "      <td>Mehrmals pro Woche</td>\n",
       "      <td>Mehrmals pro Woche</td>\n",
       "      <td>Mehrmals pro Woche</td>\n",
       "      <td>Täglich</td>\n",
       "      <td>Täglich</td>\n",
       "      <td>Mehrmals pro Monat</td>\n",
       "      <td>Täglich</td>\n",
       "      <td>Mehrmals pro Woche</td>\n",
       "      <td>Täglich</td>\n",
       "      <td>Mehrmals pro Woche</td>\n",
       "      <td>Mehrmals pro Monat</td>\n",
       "      <td>Mehrmals pro Monat</td>\n",
       "      <td>Nie</td>\n",
       "    </tr>\n",
       "    <tr>\n",
       "      <th>182</th>\n",
       "      <td>Täglich</td>\n",
       "      <td>Täglich</td>\n",
       "      <td>Täglich</td>\n",
       "      <td>Täglich</td>\n",
       "      <td>Täglich</td>\n",
       "      <td>Mehrmals pro Woche</td>\n",
       "      <td>Mehrmals pro Woche</td>\n",
       "      <td>Mehrmals pro Monat</td>\n",
       "      <td>Täglich</td>\n",
       "      <td>Täglich</td>\n",
       "      <td>Täglich</td>\n",
       "      <td>Täglich</td>\n",
       "      <td>Mehrmals pro Woche</td>\n",
       "      <td>Mehrmals pro Woche</td>\n",
       "      <td>Seltener</td>\n",
       "      <td>Seltener</td>\n",
       "      <td>Seltener</td>\n",
       "      <td>Mehrmals pro Monat</td>\n",
       "      <td>Täglich</td>\n",
       "    </tr>\n",
       "    <tr>\n",
       "      <th>183</th>\n",
       "      <td>Täglich</td>\n",
       "      <td>Täglich</td>\n",
       "      <td>Mehrmals pro Woche</td>\n",
       "      <td>Seltener</td>\n",
       "      <td>Mehrmals pro Woche</td>\n",
       "      <td>Seltener</td>\n",
       "      <td>Täglich</td>\n",
       "      <td>Mehrmals pro Monat</td>\n",
       "      <td>Seltener</td>\n",
       "      <td>Nie</td>\n",
       "      <td>Nie</td>\n",
       "      <td>Seltener</td>\n",
       "      <td>Seltener</td>\n",
       "      <td>Mehrmals pro Monat</td>\n",
       "      <td>Nie</td>\n",
       "      <td>Nie</td>\n",
       "      <td>Seltener</td>\n",
       "      <td>Nie</td>\n",
       "      <td>Nie</td>\n",
       "    </tr>\n",
       "    <tr>\n",
       "      <th>184</th>\n",
       "      <td>Täglich</td>\n",
       "      <td>Täglich</td>\n",
       "      <td>Täglich</td>\n",
       "      <td>Täglich</td>\n",
       "      <td>Mehrmals pro Monat</td>\n",
       "      <td>Mehrmals pro Woche</td>\n",
       "      <td>Mehrmals pro Woche</td>\n",
       "      <td>Mehrmals pro Woche</td>\n",
       "      <td>Mehrmals pro Monat</td>\n",
       "      <td>Täglich</td>\n",
       "      <td>Täglich</td>\n",
       "      <td>Mehrmals pro Monat</td>\n",
       "      <td>Mehrmals pro Monat</td>\n",
       "      <td>Täglich</td>\n",
       "      <td>Seltener</td>\n",
       "      <td>Seltener</td>\n",
       "      <td>Seltener</td>\n",
       "      <td>Seltener</td>\n",
       "      <td>Nie</td>\n",
       "    </tr>\n",
       "    <tr>\n",
       "      <th>185</th>\n",
       "      <td>Täglich</td>\n",
       "      <td>Täglich</td>\n",
       "      <td>Täglich</td>\n",
       "      <td>Täglich</td>\n",
       "      <td>Mehrmals pro Monat</td>\n",
       "      <td>Mehrmals pro Woche</td>\n",
       "      <td>Mehrmals pro Monat</td>\n",
       "      <td>Mehrmals pro Monat</td>\n",
       "      <td>Mehrmals pro Monat</td>\n",
       "      <td>Nie</td>\n",
       "      <td>Mehrmals pro Woche</td>\n",
       "      <td>Täglich</td>\n",
       "      <td>Täglich</td>\n",
       "      <td>Täglich</td>\n",
       "      <td>Seltener</td>\n",
       "      <td>Nie</td>\n",
       "      <td>Nie</td>\n",
       "      <td>Nie</td>\n",
       "      <td>Nie</td>\n",
       "    </tr>\n",
       "    <tr>\n",
       "      <th>186</th>\n",
       "      <td>Täglich</td>\n",
       "      <td>Täglich</td>\n",
       "      <td>Mehrmals pro Woche</td>\n",
       "      <td>Mehrmals pro Woche</td>\n",
       "      <td>Mehrmals pro Woche</td>\n",
       "      <td>Mehrmals pro Monat</td>\n",
       "      <td>Mehrmals pro Monat</td>\n",
       "      <td>Mehrmals pro Monat</td>\n",
       "      <td>Seltener</td>\n",
       "      <td>Mehrmals pro Monat</td>\n",
       "      <td>Seltener</td>\n",
       "      <td>Täglich</td>\n",
       "      <td>Täglich</td>\n",
       "      <td>Seltener</td>\n",
       "      <td>Seltener</td>\n",
       "      <td>Seltener</td>\n",
       "      <td>Nie</td>\n",
       "      <td>Seltener</td>\n",
       "      <td>Täglich</td>\n",
       "    </tr>\n",
       "    <tr>\n",
       "      <th>187</th>\n",
       "      <td>Mehrmals pro Monat</td>\n",
       "      <td>Täglich</td>\n",
       "      <td>Mehrmals pro Woche</td>\n",
       "      <td>Täglich</td>\n",
       "      <td>Seltener</td>\n",
       "      <td>Seltener</td>\n",
       "      <td>Mehrmals pro Woche</td>\n",
       "      <td>Mehrmals pro Monat</td>\n",
       "      <td>Seltener</td>\n",
       "      <td>Täglich</td>\n",
       "      <td>Mehrmals pro Woche</td>\n",
       "      <td>Mehrmals pro Woche</td>\n",
       "      <td>Seltener</td>\n",
       "      <td>Täglich</td>\n",
       "      <td>Seltener</td>\n",
       "      <td>Seltener</td>\n",
       "      <td>Nie</td>\n",
       "      <td>Seltener</td>\n",
       "      <td>Nie</td>\n",
       "    </tr>\n",
       "    <tr>\n",
       "      <th>188</th>\n",
       "      <td>Täglich</td>\n",
       "      <td>Täglich</td>\n",
       "      <td>Seltener</td>\n",
       "      <td>Täglich</td>\n",
       "      <td>Mehrmals pro Woche</td>\n",
       "      <td>Täglich</td>\n",
       "      <td>Mehrmals pro Woche</td>\n",
       "      <td>Mehrmals pro Monat</td>\n",
       "      <td>Mehrmals pro Monat</td>\n",
       "      <td>Täglich</td>\n",
       "      <td>Täglich</td>\n",
       "      <td>Täglich</td>\n",
       "      <td>Nie</td>\n",
       "      <td>Mehrmals pro Woche</td>\n",
       "      <td>Mehrmals pro Woche</td>\n",
       "      <td>Seltener</td>\n",
       "      <td>Nie</td>\n",
       "      <td>Seltener</td>\n",
       "      <td>Mehrmals pro Monat</td>\n",
       "    </tr>\n",
       "    <tr>\n",
       "      <th>189</th>\n",
       "      <td>Täglich</td>\n",
       "      <td>Täglich</td>\n",
       "      <td>Täglich</td>\n",
       "      <td>Täglich</td>\n",
       "      <td>Täglich</td>\n",
       "      <td>Mehrmals pro Woche</td>\n",
       "      <td>Mehrmals pro Woche</td>\n",
       "      <td>Mehrmals pro Monat</td>\n",
       "      <td>Täglich</td>\n",
       "      <td>Seltener</td>\n",
       "      <td>Täglich</td>\n",
       "      <td>Mehrmals pro Woche</td>\n",
       "      <td>Täglich</td>\n",
       "      <td>Täglich</td>\n",
       "      <td>Mehrmals pro Monat</td>\n",
       "      <td>Seltener</td>\n",
       "      <td>Seltener</td>\n",
       "      <td>Seltener</td>\n",
       "      <td>Nie</td>\n",
       "    </tr>\n",
       "    <tr>\n",
       "      <th>190</th>\n",
       "      <td>Mehrmals pro Woche</td>\n",
       "      <td>Täglich</td>\n",
       "      <td>Mehrmals pro Woche</td>\n",
       "      <td>Täglich</td>\n",
       "      <td>Mehrmals pro Monat</td>\n",
       "      <td>Mehrmals pro Monat</td>\n",
       "      <td>Mehrmals pro Woche</td>\n",
       "      <td>Mehrmals pro Monat</td>\n",
       "      <td>Mehrmals pro Monat</td>\n",
       "      <td>Mehrmals pro Woche</td>\n",
       "      <td>Täglich</td>\n",
       "      <td>Täglich</td>\n",
       "      <td>Mehrmals pro Woche</td>\n",
       "      <td>Nie</td>\n",
       "      <td>Seltener</td>\n",
       "      <td>Mehrmals pro Monat</td>\n",
       "      <td>Seltener</td>\n",
       "      <td>Nie</td>\n",
       "      <td>Nie</td>\n",
       "    </tr>\n",
       "    <tr>\n",
       "      <th>191</th>\n",
       "      <td>Täglich</td>\n",
       "      <td>Täglich</td>\n",
       "      <td>Mehrmals pro Monat</td>\n",
       "      <td>Mehrmals pro Woche</td>\n",
       "      <td>Mehrmals pro Monat</td>\n",
       "      <td>Mehrmals pro Monat</td>\n",
       "      <td>Mehrmals pro Woche</td>\n",
       "      <td>Mehrmals pro Monat</td>\n",
       "      <td>Mehrmals pro Woche</td>\n",
       "      <td>Täglich</td>\n",
       "      <td>Täglich</td>\n",
       "      <td>Täglich</td>\n",
       "      <td>Mehrmals pro Monat</td>\n",
       "      <td>Nie</td>\n",
       "      <td>Mehrmals pro Monat</td>\n",
       "      <td>Mehrmals pro Monat</td>\n",
       "      <td>Seltener</td>\n",
       "      <td>Nie</td>\n",
       "      <td>Nie</td>\n",
       "    </tr>\n",
       "    <tr>\n",
       "      <th>192</th>\n",
       "      <td>Mehrmals pro Monat</td>\n",
       "      <td>Täglich</td>\n",
       "      <td>Seltener</td>\n",
       "      <td>Täglich</td>\n",
       "      <td>Mehrmals pro Woche</td>\n",
       "      <td>Mehrmals pro Woche</td>\n",
       "      <td>Mehrmals pro Monat</td>\n",
       "      <td>Mehrmals pro Monat</td>\n",
       "      <td>Mehrmals pro Woche</td>\n",
       "      <td>Mehrmals pro Woche</td>\n",
       "      <td>Mehrmals pro Woche</td>\n",
       "      <td>Mehrmals pro Woche</td>\n",
       "      <td>Nie</td>\n",
       "      <td>Mehrmals pro Monat</td>\n",
       "      <td>Mehrmals pro Monat</td>\n",
       "      <td>Nie</td>\n",
       "      <td>Nie</td>\n",
       "      <td>Seltener</td>\n",
       "      <td>Täglich</td>\n",
       "    </tr>\n",
       "    <tr>\n",
       "      <th>193</th>\n",
       "      <td>Täglich</td>\n",
       "      <td>Täglich</td>\n",
       "      <td>Mehrmals pro Woche</td>\n",
       "      <td>Mehrmals pro Monat</td>\n",
       "      <td>Täglich</td>\n",
       "      <td>Mehrmals pro Monat</td>\n",
       "      <td>Mehrmals pro Monat</td>\n",
       "      <td>Mehrmals pro Woche</td>\n",
       "      <td>Mehrmals pro Monat</td>\n",
       "      <td>Seltener</td>\n",
       "      <td>Mehrmals pro Woche</td>\n",
       "      <td>Mehrmals pro Woche</td>\n",
       "      <td>Täglich</td>\n",
       "      <td>Mehrmals pro Monat</td>\n",
       "      <td>Seltener</td>\n",
       "      <td>Nie</td>\n",
       "      <td>Mehrmals pro Monat</td>\n",
       "      <td>Seltener</td>\n",
       "      <td>Nie</td>\n",
       "    </tr>\n",
       "    <tr>\n",
       "      <th>194</th>\n",
       "      <td>Täglich</td>\n",
       "      <td>Täglich</td>\n",
       "      <td>Täglich</td>\n",
       "      <td>Täglich</td>\n",
       "      <td>Täglich</td>\n",
       "      <td>Mehrmals pro Woche</td>\n",
       "      <td>Mehrmals pro Woche</td>\n",
       "      <td>Mehrmals pro Monat</td>\n",
       "      <td>Mehrmals pro Woche</td>\n",
       "      <td>Mehrmals pro Monat</td>\n",
       "      <td>Täglich</td>\n",
       "      <td>Mehrmals pro Woche</td>\n",
       "      <td>Täglich</td>\n",
       "      <td>Mehrmals pro Monat</td>\n",
       "      <td>Mehrmals pro Monat</td>\n",
       "      <td>Seltener</td>\n",
       "      <td>Seltener</td>\n",
       "      <td>Seltener</td>\n",
       "      <td>Nie</td>\n",
       "    </tr>\n",
       "    <tr>\n",
       "      <th>195</th>\n",
       "      <td>Mehrmals pro Monat</td>\n",
       "      <td>Täglich</td>\n",
       "      <td>Seltener</td>\n",
       "      <td>Täglich</td>\n",
       "      <td>Mehrmals pro Monat</td>\n",
       "      <td>Mehrmals pro Monat</td>\n",
       "      <td>Mehrmals pro Woche</td>\n",
       "      <td>Mehrmals pro Woche</td>\n",
       "      <td>Seltener</td>\n",
       "      <td>Mehrmals pro Monat</td>\n",
       "      <td>Täglich</td>\n",
       "      <td>Täglich</td>\n",
       "      <td>Täglich</td>\n",
       "      <td>Mehrmals pro Monat</td>\n",
       "      <td>Mehrmals pro Monat</td>\n",
       "      <td>Mehrmals pro Monat</td>\n",
       "      <td>Seltener</td>\n",
       "      <td>Seltener</td>\n",
       "      <td>Nie</td>\n",
       "    </tr>\n",
       "    <tr>\n",
       "      <th>196</th>\n",
       "      <td>Mehrmals pro Woche</td>\n",
       "      <td>Täglich</td>\n",
       "      <td>Täglich</td>\n",
       "      <td>Mehrmals pro Woche</td>\n",
       "      <td>Täglich</td>\n",
       "      <td>Täglich</td>\n",
       "      <td>Täglich</td>\n",
       "      <td>Mehrmals pro Woche</td>\n",
       "      <td>Mehrmals pro Woche</td>\n",
       "      <td>Täglich</td>\n",
       "      <td>Mehrmals pro Woche</td>\n",
       "      <td>Mehrmals pro Woche</td>\n",
       "      <td>Täglich</td>\n",
       "      <td>Mehrmals pro Monat</td>\n",
       "      <td>Mehrmals pro Monat</td>\n",
       "      <td>Seltener</td>\n",
       "      <td>Nie</td>\n",
       "      <td>Nie</td>\n",
       "      <td>Seltener</td>\n",
       "    </tr>\n",
       "    <tr>\n",
       "      <th>197</th>\n",
       "      <td>Täglich</td>\n",
       "      <td>Täglich</td>\n",
       "      <td>Mehrmals pro Monat</td>\n",
       "      <td>Täglich</td>\n",
       "      <td>Mehrmals pro Woche</td>\n",
       "      <td>Mehrmals pro Woche</td>\n",
       "      <td>Mehrmals pro Woche</td>\n",
       "      <td>Mehrmals pro Woche</td>\n",
       "      <td>Mehrmals pro Monat</td>\n",
       "      <td>Täglich</td>\n",
       "      <td>Seltener</td>\n",
       "      <td>Täglich</td>\n",
       "      <td>Seltener</td>\n",
       "      <td>Mehrmals pro Monat</td>\n",
       "      <td>Seltener</td>\n",
       "      <td>Nie</td>\n",
       "      <td>Seltener</td>\n",
       "      <td>Seltener</td>\n",
       "      <td>Nie</td>\n",
       "    </tr>\n",
       "    <tr>\n",
       "      <th>198</th>\n",
       "      <td>Täglich</td>\n",
       "      <td>Täglich</td>\n",
       "      <td>Mehrmals pro Monat</td>\n",
       "      <td>Täglich</td>\n",
       "      <td>Mehrmals pro Woche</td>\n",
       "      <td>Mehrmals pro Woche</td>\n",
       "      <td>Mehrmals pro Woche</td>\n",
       "      <td>Mehrmals pro Monat</td>\n",
       "      <td>Täglich</td>\n",
       "      <td>Seltener</td>\n",
       "      <td>Seltener</td>\n",
       "      <td>Täglich</td>\n",
       "      <td>Täglich</td>\n",
       "      <td>Seltener</td>\n",
       "      <td>Mehrmals pro Monat</td>\n",
       "      <td>Seltener</td>\n",
       "      <td>Seltener</td>\n",
       "      <td>Mehrmals pro Monat</td>\n",
       "      <td>Nie</td>\n",
       "    </tr>\n",
       "    <tr>\n",
       "      <th>199</th>\n",
       "      <td>Mehrmals pro Woche</td>\n",
       "      <td>Täglich</td>\n",
       "      <td>Täglich</td>\n",
       "      <td>Mehrmals pro Woche</td>\n",
       "      <td>Täglich</td>\n",
       "      <td>Täglich</td>\n",
       "      <td>Mehrmals pro Woche</td>\n",
       "      <td>Mehrmals pro Woche</td>\n",
       "      <td>Mehrmals pro Woche</td>\n",
       "      <td>Täglich</td>\n",
       "      <td>Mehrmals pro Woche</td>\n",
       "      <td>Mehrmals pro Woche</td>\n",
       "      <td>Mehrmals pro Woche</td>\n",
       "      <td>Seltener</td>\n",
       "      <td>Täglich</td>\n",
       "      <td>Seltener</td>\n",
       "      <td>Mehrmals pro Monat</td>\n",
       "      <td>Seltener</td>\n",
       "      <td>Seltener</td>\n",
       "    </tr>\n",
       "    <tr>\n",
       "      <th>200</th>\n",
       "      <td>Täglich</td>\n",
       "      <td>Täglich</td>\n",
       "      <td>Mehrmals pro Woche</td>\n",
       "      <td>Mehrmals pro Monat</td>\n",
       "      <td>Mehrmals pro Woche</td>\n",
       "      <td>Mehrmals pro Woche</td>\n",
       "      <td>Mehrmals pro Monat</td>\n",
       "      <td>Mehrmals pro Monat</td>\n",
       "      <td>Mehrmals pro Monat</td>\n",
       "      <td>Mehrmals pro Woche</td>\n",
       "      <td>Täglich</td>\n",
       "      <td>Täglich</td>\n",
       "      <td>Nie</td>\n",
       "      <td>Nie</td>\n",
       "      <td>Seltener</td>\n",
       "      <td>Mehrmals pro Monat</td>\n",
       "      <td>Nie</td>\n",
       "      <td>Seltener</td>\n",
       "      <td>Mehrmals pro Woche</td>\n",
       "    </tr>\n",
       "    <tr>\n",
       "      <th>201</th>\n",
       "      <td>Täglich</td>\n",
       "      <td>Mehrmals pro Woche</td>\n",
       "      <td>Mehrmals pro Woche</td>\n",
       "      <td>Mehrmals pro Monat</td>\n",
       "      <td>Mehrmals pro Woche</td>\n",
       "      <td>Mehrmals pro Monat</td>\n",
       "      <td>Mehrmals pro Woche</td>\n",
       "      <td>Mehrmals pro Monat</td>\n",
       "      <td>Seltener</td>\n",
       "      <td>Seltener</td>\n",
       "      <td>Nie</td>\n",
       "      <td>Mehrmals pro Monat</td>\n",
       "      <td>Mehrmals pro Woche</td>\n",
       "      <td>Seltener</td>\n",
       "      <td>Seltener</td>\n",
       "      <td>Nie</td>\n",
       "      <td>Mehrmals pro Monat</td>\n",
       "      <td>Nie</td>\n",
       "      <td>Nie</td>\n",
       "    </tr>\n",
       "    <tr>\n",
       "      <th>202</th>\n",
       "      <td>Täglich</td>\n",
       "      <td>Täglich</td>\n",
       "      <td>Mehrmals pro Woche</td>\n",
       "      <td>Mehrmals pro Woche</td>\n",
       "      <td>Mehrmals pro Woche</td>\n",
       "      <td>Seltener</td>\n",
       "      <td>Mehrmals pro Monat</td>\n",
       "      <td>Mehrmals pro Monat</td>\n",
       "      <td>Mehrmals pro Monat</td>\n",
       "      <td>Täglich</td>\n",
       "      <td>Täglich</td>\n",
       "      <td>Mehrmals pro Woche</td>\n",
       "      <td>Seltener</td>\n",
       "      <td>Seltener</td>\n",
       "      <td>Mehrmals pro Woche</td>\n",
       "      <td>Mehrmals pro Monat</td>\n",
       "      <td>Nie</td>\n",
       "      <td>Mehrmals pro Monat</td>\n",
       "      <td>Nie</td>\n",
       "    </tr>\n",
       "  </tbody>\n",
       "</table>\n",
       "</div>"
      ],
      "text/plain": [
       "    internet-usage-e-mails internet-usage-messenger  \\\n",
       "0       Mehrmals pro Woche       Mehrmals pro Woche   \n",
       "1       Mehrmals pro Woche                  Täglich   \n",
       "2                  Täglich                  Täglich   \n",
       "3                  Täglich                  Täglich   \n",
       "4       Mehrmals pro Woche                  Täglich   \n",
       "5       Mehrmals pro Monat                  Täglich   \n",
       "6       Mehrmals pro Monat                  Täglich   \n",
       "7       Mehrmals pro Woche                  Täglich   \n",
       "8       Mehrmals pro Woche                  Täglich   \n",
       "9                  Täglich                  Täglich   \n",
       "10                 Täglich                  Täglich   \n",
       "11                Seltener                  Täglich   \n",
       "12      Mehrmals pro Woche                  Täglich   \n",
       "13                Seltener                  Täglich   \n",
       "14                Seltener                  Täglich   \n",
       "15                Seltener       Mehrmals pro Woche   \n",
       "16                 Täglich                  Täglich   \n",
       "17      Mehrmals pro Woche                  Täglich   \n",
       "18      Mehrmals pro Monat                  Täglich   \n",
       "19                 Täglich                  Täglich   \n",
       "20                 Täglich                  Täglich   \n",
       "21      Mehrmals pro Monat                  Täglich   \n",
       "22                 Täglich                  Täglich   \n",
       "23                 Täglich                  Täglich   \n",
       "24      Mehrmals pro Monat                  Täglich   \n",
       "25      Mehrmals pro Woche                  Täglich   \n",
       "26                 Täglich                  Täglich   \n",
       "27                 Täglich                  Täglich   \n",
       "28      Mehrmals pro Monat                  Täglich   \n",
       "29      Mehrmals pro Woche                  Täglich   \n",
       "30                Seltener                  Täglich   \n",
       "31      Mehrmals pro Woche                  Täglich   \n",
       "32      Mehrmals pro Woche                  Täglich   \n",
       "33                 Täglich                  Täglich   \n",
       "34                 Täglich                  Täglich   \n",
       "35                Seltener                  Täglich   \n",
       "36      Mehrmals pro Woche                  Täglich   \n",
       "37                Seltener                  Täglich   \n",
       "38                 Täglich                  Täglich   \n",
       "39      Mehrmals pro Woche                  Täglich   \n",
       "40      Mehrmals pro Woche                  Täglich   \n",
       "41      Mehrmals pro Woche                  Täglich   \n",
       "42      Mehrmals pro Monat                  Täglich   \n",
       "43      Mehrmals pro Monat                  Täglich   \n",
       "44      Mehrmals pro Woche                  Täglich   \n",
       "45                Seltener                  Täglich   \n",
       "46      Mehrmals pro Monat                  Täglich   \n",
       "47                     Nie                  Täglich   \n",
       "48      Mehrmals pro Woche                  Täglich   \n",
       "49                 Täglich                  Täglich   \n",
       "50                 Täglich                  Täglich   \n",
       "51      Mehrmals pro Woche                  Täglich   \n",
       "52      Mehrmals pro Woche       Mehrmals pro Monat   \n",
       "53      Mehrmals pro Monat                  Täglich   \n",
       "54                 Täglich                  Täglich   \n",
       "55      Mehrmals pro Monat       Mehrmals pro Woche   \n",
       "56                 Täglich                  Täglich   \n",
       "57                 Täglich                  Täglich   \n",
       "58                Seltener                  Täglich   \n",
       "59                 Täglich       Mehrmals pro Monat   \n",
       "60      Mehrmals pro Monat                  Täglich   \n",
       "61                 Täglich                  Täglich   \n",
       "62                 Täglich                  Täglich   \n",
       "63                 Täglich                  Täglich   \n",
       "64                 Täglich                  Täglich   \n",
       "65                 Täglich                  Täglich   \n",
       "66                 Täglich                  Täglich   \n",
       "67                 Täglich       Mehrmals pro Woche   \n",
       "68                 Täglich                  Täglich   \n",
       "69                 Täglich                  Täglich   \n",
       "70                 Täglich                  Täglich   \n",
       "71      Mehrmals pro Woche                  Täglich   \n",
       "72                 Täglich                  Täglich   \n",
       "73                 Täglich                  Täglich   \n",
       "74                 Täglich                  Täglich   \n",
       "75                 Täglich                  Täglich   \n",
       "76      Mehrmals pro Woche                  Täglich   \n",
       "77                 Täglich                  Täglich   \n",
       "78                 Täglich                  Täglich   \n",
       "79                 Täglich                  Täglich   \n",
       "80                 Täglich                  Täglich   \n",
       "81                 Täglich                  Täglich   \n",
       "82                 Täglich                  Täglich   \n",
       "83                 Täglich                  Täglich   \n",
       "84                 Täglich                  Täglich   \n",
       "85                 Täglich                  Täglich   \n",
       "86      Mehrmals pro Woche                  Täglich   \n",
       "87                 Täglich                  Täglich   \n",
       "88      Mehrmals pro Woche                  Täglich   \n",
       "89                 Täglich                  Täglich   \n",
       "90                 Täglich                  Täglich   \n",
       "91                 Täglich                  Täglich   \n",
       "92      Mehrmals pro Woche                  Täglich   \n",
       "93      Mehrmals pro Woche                  Täglich   \n",
       "94                 Täglich                  Täglich   \n",
       "95                 Täglich                  Täglich   \n",
       "96                 Täglich                  Täglich   \n",
       "97                 Täglich                  Täglich   \n",
       "98                 Täglich                  Täglich   \n",
       "99      Mehrmals pro Woche       Mehrmals pro Monat   \n",
       "100                Täglich                      Nie   \n",
       "101                Täglich                  Täglich   \n",
       "102                Täglich                  Täglich   \n",
       "103                Täglich                  Täglich   \n",
       "104     Mehrmals pro Monat                  Täglich   \n",
       "105                Täglich                  Täglich   \n",
       "106                Täglich                  Täglich   \n",
       "107                Täglich                  Täglich   \n",
       "108                Täglich                  Täglich   \n",
       "109                Täglich                  Täglich   \n",
       "110     Mehrmals pro Woche       Mehrmals pro Monat   \n",
       "111     Mehrmals pro Woche                  Täglich   \n",
       "112     Mehrmals pro Monat                  Täglich   \n",
       "113     Mehrmals pro Woche                  Täglich   \n",
       "114               Seltener                  Täglich   \n",
       "115                Täglich                  Täglich   \n",
       "116                Täglich                  Täglich   \n",
       "117     Mehrmals pro Woche                  Täglich   \n",
       "118                Täglich                  Täglich   \n",
       "119     Mehrmals pro Woche                  Täglich   \n",
       "120                Täglich                  Täglich   \n",
       "121     Mehrmals pro Woche                  Täglich   \n",
       "122               Seltener       Mehrmals pro Woche   \n",
       "123     Mehrmals pro Woche                  Täglich   \n",
       "124     Mehrmals pro Monat                  Täglich   \n",
       "125                Täglich                  Täglich   \n",
       "126     Mehrmals pro Monat                  Täglich   \n",
       "127     Mehrmals pro Woche                  Täglich   \n",
       "128                Täglich       Mehrmals pro Monat   \n",
       "129               Seltener                  Täglich   \n",
       "130                Täglich                  Täglich   \n",
       "131     Mehrmals pro Woche       Mehrmals pro Woche   \n",
       "132     Mehrmals pro Monat                  Täglich   \n",
       "133                Täglich                  Täglich   \n",
       "134                Täglich                  Täglich   \n",
       "135     Mehrmals pro Monat                  Täglich   \n",
       "136                Täglich                  Täglich   \n",
       "137     Mehrmals pro Woche                  Täglich   \n",
       "138                Täglich                  Täglich   \n",
       "139                Täglich                  Täglich   \n",
       "140                Täglich                  Täglich   \n",
       "141     Mehrmals pro Woche                  Täglich   \n",
       "142     Mehrmals pro Monat       Mehrmals pro Woche   \n",
       "143               Seltener                  Täglich   \n",
       "144                Täglich                  Täglich   \n",
       "145                Täglich                  Täglich   \n",
       "146     Mehrmals pro Woche                  Täglich   \n",
       "147     Mehrmals pro Woche                  Täglich   \n",
       "148     Mehrmals pro Woche                  Täglich   \n",
       "149                Täglich                  Täglich   \n",
       "150     Mehrmals pro Woche                  Täglich   \n",
       "151                Täglich                  Täglich   \n",
       "152                Täglich                  Täglich   \n",
       "153     Mehrmals pro Monat                  Täglich   \n",
       "154     Mehrmals pro Woche                  Täglich   \n",
       "155                Täglich                  Täglich   \n",
       "156     Mehrmals pro Woche                  Täglich   \n",
       "157                Täglich                  Täglich   \n",
       "158                Täglich                  Täglich   \n",
       "159                Täglich                  Täglich   \n",
       "160                Täglich                  Täglich   \n",
       "161     Mehrmals pro Woche                  Täglich   \n",
       "162     Mehrmals pro Woche                  Täglich   \n",
       "163                Täglich                  Täglich   \n",
       "164                Täglich                  Täglich   \n",
       "165                Täglich                  Täglich   \n",
       "166                Täglich                  Täglich   \n",
       "167     Mehrmals pro Monat                  Täglich   \n",
       "168                Täglich                  Täglich   \n",
       "169     Mehrmals pro Woche                  Täglich   \n",
       "170     Mehrmals pro Woche       Mehrmals pro Woche   \n",
       "171     Mehrmals pro Woche       Mehrmals pro Woche   \n",
       "172     Mehrmals pro Woche                  Täglich   \n",
       "173     Mehrmals pro Woche                  Täglich   \n",
       "174                Täglich                  Täglich   \n",
       "175     Mehrmals pro Woche                  Täglich   \n",
       "176     Mehrmals pro Woche                  Täglich   \n",
       "177     Mehrmals pro Woche                  Täglich   \n",
       "178                Täglich                  Täglich   \n",
       "179     Mehrmals pro Woche                  Täglich   \n",
       "180                Täglich                  Täglich   \n",
       "181                Täglich                  Täglich   \n",
       "182                Täglich                  Täglich   \n",
       "183                Täglich                  Täglich   \n",
       "184                Täglich                  Täglich   \n",
       "185                Täglich                  Täglich   \n",
       "186                Täglich                  Täglich   \n",
       "187     Mehrmals pro Monat                  Täglich   \n",
       "188                Täglich                  Täglich   \n",
       "189                Täglich                  Täglich   \n",
       "190     Mehrmals pro Woche                  Täglich   \n",
       "191                Täglich                  Täglich   \n",
       "192     Mehrmals pro Monat                  Täglich   \n",
       "193                Täglich                  Täglich   \n",
       "194                Täglich                  Täglich   \n",
       "195     Mehrmals pro Monat                  Täglich   \n",
       "196     Mehrmals pro Woche                  Täglich   \n",
       "197                Täglich                  Täglich   \n",
       "198                Täglich                  Täglich   \n",
       "199     Mehrmals pro Woche                  Täglich   \n",
       "200                Täglich                  Täglich   \n",
       "201                Täglich       Mehrmals pro Woche   \n",
       "202                Täglich                  Täglich   \n",
       "\n",
       "    internet-usage-encyclopedia internet-usage-youtube internet-usage-weather  \\\n",
       "0            Mehrmals pro Monat                Täglich     Mehrmals pro Monat   \n",
       "1            Mehrmals pro Woche                Täglich                Täglich   \n",
       "2            Mehrmals pro Monat                Täglich     Mehrmals pro Woche   \n",
       "3            Mehrmals pro Woche     Mehrmals pro Monat     Mehrmals pro Woche   \n",
       "4            Mehrmals pro Woche                Täglich                Täglich   \n",
       "5            Mehrmals pro Monat                Täglich     Mehrmals pro Woche   \n",
       "6            Mehrmals pro Woche                Täglich     Mehrmals pro Monat   \n",
       "7            Mehrmals pro Woche                Täglich     Mehrmals pro Woche   \n",
       "8            Mehrmals pro Monat     Mehrmals pro Monat     Mehrmals pro Monat   \n",
       "9            Mehrmals pro Monat     Mehrmals pro Woche     Mehrmals pro Woche   \n",
       "10                      Täglich                Täglich                Täglich   \n",
       "11           Mehrmals pro Woche                Täglich     Mehrmals pro Woche   \n",
       "12           Mehrmals pro Woche                Täglich     Mehrmals pro Woche   \n",
       "13           Mehrmals pro Woche                Täglich                Täglich   \n",
       "14           Mehrmals pro Woche     Mehrmals pro Woche     Mehrmals pro Woche   \n",
       "15           Mehrmals pro Monat     Mehrmals pro Woche     Mehrmals pro Monat   \n",
       "16           Mehrmals pro Woche                Täglich                Täglich   \n",
       "17                      Täglich                Täglich     Mehrmals pro Woche   \n",
       "18           Mehrmals pro Monat                Täglich               Seltener   \n",
       "19           Mehrmals pro Monat                Täglich     Mehrmals pro Woche   \n",
       "20           Mehrmals pro Woche                Täglich     Mehrmals pro Woche   \n",
       "21                     Seltener     Mehrmals pro Woche                    Nie   \n",
       "22                      Täglich                Täglich     Mehrmals pro Monat   \n",
       "23           Mehrmals pro Monat                Täglich     Mehrmals pro Woche   \n",
       "24           Mehrmals pro Woche                Täglich     Mehrmals pro Woche   \n",
       "25                     Seltener                Täglich     Mehrmals pro Monat   \n",
       "26           Mehrmals pro Woche     Mehrmals pro Woche                Täglich   \n",
       "27                      Täglich                Täglich                Täglich   \n",
       "28           Mehrmals pro Woche     Mehrmals pro Woche     Mehrmals pro Woche   \n",
       "29           Mehrmals pro Woche                Täglich     Mehrmals pro Woche   \n",
       "30                     Seltener                Täglich     Mehrmals pro Woche   \n",
       "31           Mehrmals pro Monat                Täglich     Mehrmals pro Woche   \n",
       "32           Mehrmals pro Woche     Mehrmals pro Woche     Mehrmals pro Woche   \n",
       "33           Mehrmals pro Woche                Täglich     Mehrmals pro Woche   \n",
       "34           Mehrmals pro Woche     Mehrmals pro Woche     Mehrmals pro Monat   \n",
       "35           Mehrmals pro Woche     Mehrmals pro Woche     Mehrmals pro Woche   \n",
       "36           Mehrmals pro Monat                Täglich                Täglich   \n",
       "37           Mehrmals pro Woche                Täglich     Mehrmals pro Woche   \n",
       "38                      Täglich                Täglich                Täglich   \n",
       "39           Mehrmals pro Woche                Täglich     Mehrmals pro Woche   \n",
       "40           Mehrmals pro Woche                Täglich                Täglich   \n",
       "41                      Täglich                Täglich     Mehrmals pro Woche   \n",
       "42           Mehrmals pro Woche                Täglich     Mehrmals pro Woche   \n",
       "43                      Täglich                Täglich     Mehrmals pro Monat   \n",
       "44                     Seltener                Täglich               Seltener   \n",
       "45           Mehrmals pro Woche                Täglich     Mehrmals pro Monat   \n",
       "46           Mehrmals pro Monat                Täglich     Mehrmals pro Woche   \n",
       "47           Mehrmals pro Monat                Täglich     Mehrmals pro Woche   \n",
       "48                      Täglich                Täglich     Mehrmals pro Woche   \n",
       "49                      Täglich                Täglich     Mehrmals pro Woche   \n",
       "50           Mehrmals pro Woche                Täglich     Mehrmals pro Woche   \n",
       "51           Mehrmals pro Woche                Täglich     Mehrmals pro Woche   \n",
       "52           Mehrmals pro Woche                Täglich     Mehrmals pro Woche   \n",
       "53           Mehrmals pro Woche     Mehrmals pro Woche                Täglich   \n",
       "54           Mehrmals pro Monat     Mehrmals pro Woche                    Nie   \n",
       "55                     Seltener                Täglich     Mehrmals pro Woche   \n",
       "56           Mehrmals pro Woche     Mehrmals pro Woche     Mehrmals pro Monat   \n",
       "57           Mehrmals pro Woche     Mehrmals pro Woche                Täglich   \n",
       "58           Mehrmals pro Woche                Täglich     Mehrmals pro Monat   \n",
       "59           Mehrmals pro Monat                Täglich                Täglich   \n",
       "60           Mehrmals pro Woche                Täglich     Mehrmals pro Monat   \n",
       "61           Mehrmals pro Woche     Mehrmals pro Woche     Mehrmals pro Woche   \n",
       "62                      Täglich                Täglich                Täglich   \n",
       "63           Mehrmals pro Woche                Täglich     Mehrmals pro Woche   \n",
       "64           Mehrmals pro Woche     Mehrmals pro Woche                Täglich   \n",
       "65                      Täglich     Mehrmals pro Monat     Mehrmals pro Woche   \n",
       "66           Mehrmals pro Woche                Täglich     Mehrmals pro Woche   \n",
       "67           Mehrmals pro Woche               Seltener     Mehrmals pro Woche   \n",
       "68                      Täglich                Täglich                Täglich   \n",
       "69           Mehrmals pro Woche                Täglich     Mehrmals pro Monat   \n",
       "70           Mehrmals pro Woche     Mehrmals pro Woche                Täglich   \n",
       "71                      Täglich     Mehrmals pro Woche     Mehrmals pro Woche   \n",
       "72                      Täglich                Täglich     Mehrmals pro Woche   \n",
       "73           Mehrmals pro Woche     Mehrmals pro Woche               Seltener   \n",
       "74           Mehrmals pro Woche                Täglich                Täglich   \n",
       "75           Mehrmals pro Monat     Mehrmals pro Monat     Mehrmals pro Monat   \n",
       "76           Mehrmals pro Monat     Mehrmals pro Woche     Mehrmals pro Monat   \n",
       "77                      Täglich     Mehrmals pro Woche                Täglich   \n",
       "78                      Täglich                Täglich                Täglich   \n",
       "79           Mehrmals pro Woche                Täglich     Mehrmals pro Woche   \n",
       "80           Mehrmals pro Woche     Mehrmals pro Woche               Seltener   \n",
       "81                      Täglich                Täglich     Mehrmals pro Woche   \n",
       "82           Mehrmals pro Woche     Mehrmals pro Monat                Täglich   \n",
       "83                      Täglich                Täglich                Täglich   \n",
       "84           Mehrmals pro Woche                Täglich     Mehrmals pro Monat   \n",
       "85           Mehrmals pro Woche     Mehrmals pro Woche                Täglich   \n",
       "86                      Täglich     Mehrmals pro Woche     Mehrmals pro Woche   \n",
       "87                      Täglich                Täglich                Täglich   \n",
       "88           Mehrmals pro Woche     Mehrmals pro Woche     Mehrmals pro Woche   \n",
       "89           Mehrmals pro Woche     Mehrmals pro Woche                Täglich   \n",
       "90           Mehrmals pro Woche     Mehrmals pro Woche     Mehrmals pro Woche   \n",
       "91           Mehrmals pro Woche                Täglich     Mehrmals pro Woche   \n",
       "92           Mehrmals pro Monat     Mehrmals pro Woche               Seltener   \n",
       "93                     Seltener                    Nie     Mehrmals pro Monat   \n",
       "94                      Täglich                Täglich                Täglich   \n",
       "95           Mehrmals pro Woche                Täglich     Mehrmals pro Woche   \n",
       "96           Mehrmals pro Woche               Seltener                Täglich   \n",
       "97                      Täglich                Täglich     Mehrmals pro Woche   \n",
       "98           Mehrmals pro Woche     Mehrmals pro Monat                Täglich   \n",
       "99                     Seltener     Mehrmals pro Monat     Mehrmals pro Woche   \n",
       "100          Mehrmals pro Woche                Täglich     Mehrmals pro Monat   \n",
       "101          Mehrmals pro Woche                Täglich                Täglich   \n",
       "102                     Täglich                Täglich               Seltener   \n",
       "103                     Täglich                Täglich     Mehrmals pro Woche   \n",
       "104                     Täglich                Täglich               Seltener   \n",
       "105          Mehrmals pro Woche                Täglich     Mehrmals pro Monat   \n",
       "106          Mehrmals pro Monat                Täglich               Seltener   \n",
       "107                     Täglich                Täglich                Täglich   \n",
       "108                     Täglich     Mehrmals pro Monat                Täglich   \n",
       "109          Mehrmals pro Woche                Täglich     Mehrmals pro Monat   \n",
       "110          Mehrmals pro Woche                Täglich     Mehrmals pro Woche   \n",
       "111          Mehrmals pro Monat               Seltener     Mehrmals pro Woche   \n",
       "112          Mehrmals pro Woche                Täglich     Mehrmals pro Monat   \n",
       "113                    Seltener     Mehrmals pro Monat               Seltener   \n",
       "114          Mehrmals pro Woche                Täglich     Mehrmals pro Woche   \n",
       "115          Mehrmals pro Woche                Täglich     Mehrmals pro Woche   \n",
       "116                    Seltener     Mehrmals pro Woche     Mehrmals pro Woche   \n",
       "117                     Täglich                Täglich               Seltener   \n",
       "118          Mehrmals pro Woche                Täglich     Mehrmals pro Woche   \n",
       "119          Mehrmals pro Woche     Mehrmals pro Woche               Seltener   \n",
       "120          Mehrmals pro Monat                Täglich                Täglich   \n",
       "121          Mehrmals pro Woche     Mehrmals pro Monat     Mehrmals pro Woche   \n",
       "122          Mehrmals pro Woche                Täglich     Mehrmals pro Woche   \n",
       "123          Mehrmals pro Monat                Täglich     Mehrmals pro Monat   \n",
       "124          Mehrmals pro Monat                Täglich     Mehrmals pro Woche   \n",
       "125          Mehrmals pro Woche                Täglich                Täglich   \n",
       "126          Mehrmals pro Monat                Täglich     Mehrmals pro Woche   \n",
       "127          Mehrmals pro Monat     Mehrmals pro Monat     Mehrmals pro Woche   \n",
       "128                     Täglich     Mehrmals pro Woche                    Nie   \n",
       "129          Mehrmals pro Woche     Mehrmals pro Monat     Mehrmals pro Monat   \n",
       "130          Mehrmals pro Monat     Mehrmals pro Woche                    Nie   \n",
       "131          Mehrmals pro Woche     Mehrmals pro Monat     Mehrmals pro Monat   \n",
       "132                    Seltener     Mehrmals pro Monat               Seltener   \n",
       "133                     Täglich                Täglich                Täglich   \n",
       "134          Mehrmals pro Woche                Täglich     Mehrmals pro Monat   \n",
       "135          Mehrmals pro Woche                Täglich                Täglich   \n",
       "136          Mehrmals pro Woche               Seltener     Mehrmals pro Monat   \n",
       "137                     Täglich     Mehrmals pro Woche     Mehrmals pro Monat   \n",
       "138                     Täglich                Täglich                Täglich   \n",
       "139          Mehrmals pro Woche                Täglich                Täglich   \n",
       "140          Mehrmals pro Monat     Mehrmals pro Woche     Mehrmals pro Woche   \n",
       "141          Mehrmals pro Monat     Mehrmals pro Monat     Mehrmals pro Monat   \n",
       "142                    Seltener                Täglich     Mehrmals pro Monat   \n",
       "143          Mehrmals pro Woche                Täglich     Mehrmals pro Monat   \n",
       "144          Mehrmals pro Woche     Mehrmals pro Woche     Mehrmals pro Monat   \n",
       "145                     Täglich     Mehrmals pro Woche     Mehrmals pro Monat   \n",
       "146          Mehrmals pro Woche                Täglich     Mehrmals pro Monat   \n",
       "147          Mehrmals pro Monat     Mehrmals pro Woche     Mehrmals pro Woche   \n",
       "148          Mehrmals pro Woche     Mehrmals pro Woche                Täglich   \n",
       "149          Mehrmals pro Woche                Täglich                Täglich   \n",
       "150          Mehrmals pro Woche                Täglich                Täglich   \n",
       "151          Mehrmals pro Monat     Mehrmals pro Woche     Mehrmals pro Woche   \n",
       "152          Mehrmals pro Woche               Seltener               Seltener   \n",
       "153          Mehrmals pro Woche     Mehrmals pro Woche     Mehrmals pro Woche   \n",
       "154          Mehrmals pro Monat               Seltener     Mehrmals pro Monat   \n",
       "155          Mehrmals pro Woche                Täglich     Mehrmals pro Monat   \n",
       "156          Mehrmals pro Monat     Mehrmals pro Monat     Mehrmals pro Woche   \n",
       "157                     Täglich     Mehrmals pro Woche               Seltener   \n",
       "158          Mehrmals pro Monat     Mehrmals pro Monat                    Nie   \n",
       "159                     Täglich     Mehrmals pro Woche                Täglich   \n",
       "160                     Täglich     Mehrmals pro Woche                Täglich   \n",
       "161                     Täglich                Täglich                Täglich   \n",
       "162          Mehrmals pro Woche                Täglich                Täglich   \n",
       "163          Mehrmals pro Woche                Täglich                Täglich   \n",
       "164                     Täglich                Täglich     Mehrmals pro Woche   \n",
       "165                     Täglich                Täglich               Seltener   \n",
       "166          Mehrmals pro Woche               Seltener     Mehrmals pro Woche   \n",
       "167          Mehrmals pro Woche     Mehrmals pro Woche     Mehrmals pro Woche   \n",
       "168          Mehrmals pro Woche                Täglich     Mehrmals pro Woche   \n",
       "169          Mehrmals pro Woche                Täglich     Mehrmals pro Monat   \n",
       "170          Mehrmals pro Woche     Mehrmals pro Woche     Mehrmals pro Monat   \n",
       "171          Mehrmals pro Monat     Mehrmals pro Woche               Seltener   \n",
       "172          Mehrmals pro Monat     Mehrmals pro Monat     Mehrmals pro Monat   \n",
       "173          Mehrmals pro Woche                Täglich                Täglich   \n",
       "174          Mehrmals pro Woche     Mehrmals pro Woche     Mehrmals pro Woche   \n",
       "175          Mehrmals pro Woche                Täglich                Täglich   \n",
       "176          Mehrmals pro Monat                Täglich     Mehrmals pro Woche   \n",
       "177          Mehrmals pro Monat                Täglich                Täglich   \n",
       "178          Mehrmals pro Monat     Mehrmals pro Monat     Mehrmals pro Woche   \n",
       "179                    Seltener                Täglich               Seltener   \n",
       "180          Mehrmals pro Woche                Täglich     Mehrmals pro Woche   \n",
       "181                     Täglich                Täglich     Mehrmals pro Woche   \n",
       "182                     Täglich                Täglich                Täglich   \n",
       "183          Mehrmals pro Woche               Seltener     Mehrmals pro Woche   \n",
       "184                     Täglich                Täglich     Mehrmals pro Monat   \n",
       "185                     Täglich                Täglich     Mehrmals pro Monat   \n",
       "186          Mehrmals pro Woche     Mehrmals pro Woche     Mehrmals pro Woche   \n",
       "187          Mehrmals pro Woche                Täglich               Seltener   \n",
       "188                    Seltener                Täglich     Mehrmals pro Woche   \n",
       "189                     Täglich                Täglich                Täglich   \n",
       "190          Mehrmals pro Woche                Täglich     Mehrmals pro Monat   \n",
       "191          Mehrmals pro Monat     Mehrmals pro Woche     Mehrmals pro Monat   \n",
       "192                    Seltener                Täglich     Mehrmals pro Woche   \n",
       "193          Mehrmals pro Woche     Mehrmals pro Monat                Täglich   \n",
       "194                     Täglich                Täglich                Täglich   \n",
       "195                    Seltener                Täglich     Mehrmals pro Monat   \n",
       "196                     Täglich     Mehrmals pro Woche                Täglich   \n",
       "197          Mehrmals pro Monat                Täglich     Mehrmals pro Woche   \n",
       "198          Mehrmals pro Monat                Täglich     Mehrmals pro Woche   \n",
       "199                     Täglich     Mehrmals pro Woche                Täglich   \n",
       "200          Mehrmals pro Woche     Mehrmals pro Monat     Mehrmals pro Woche   \n",
       "201          Mehrmals pro Woche     Mehrmals pro Monat     Mehrmals pro Woche   \n",
       "202          Mehrmals pro Woche     Mehrmals pro Woche     Mehrmals pro Woche   \n",
       "\n",
       "    internet-usage-products-and-prices internet-usage-banking  \\\n",
       "0                             Seltener     Mehrmals pro Monat   \n",
       "1                   Mehrmals pro Woche                Täglich   \n",
       "2                   Mehrmals pro Woche     Mehrmals pro Woche   \n",
       "3                   Mehrmals pro Woche     Mehrmals pro Woche   \n",
       "4                   Mehrmals pro Monat               Seltener   \n",
       "5                   Mehrmals pro Monat     Mehrmals pro Monat   \n",
       "6                             Seltener               Seltener   \n",
       "7                   Mehrmals pro Monat     Mehrmals pro Monat   \n",
       "8                             Seltener     Mehrmals pro Monat   \n",
       "9                              Täglich                Täglich   \n",
       "10                  Mehrmals pro Woche     Mehrmals pro Woche   \n",
       "11                  Mehrmals pro Woche     Mehrmals pro Monat   \n",
       "12                  Mehrmals pro Monat     Mehrmals pro Monat   \n",
       "13                  Mehrmals pro Woche     Mehrmals pro Woche   \n",
       "14                  Mehrmals pro Monat     Mehrmals pro Monat   \n",
       "15                  Mehrmals pro Monat     Mehrmals pro Monat   \n",
       "16                  Mehrmals pro Woche     Mehrmals pro Monat   \n",
       "17                  Mehrmals pro Monat     Mehrmals pro Woche   \n",
       "18                  Mehrmals pro Monat     Mehrmals pro Monat   \n",
       "19                  Mehrmals pro Monat               Seltener   \n",
       "20                  Mehrmals pro Woche                Täglich   \n",
       "21                            Seltener     Mehrmals pro Monat   \n",
       "22                  Mehrmals pro Woche     Mehrmals pro Woche   \n",
       "23                  Mehrmals pro Monat     Mehrmals pro Monat   \n",
       "24                  Mehrmals pro Woche               Seltener   \n",
       "25                  Mehrmals pro Woche                    Nie   \n",
       "26                             Täglich                Täglich   \n",
       "27                  Mehrmals pro Woche                Täglich   \n",
       "28                  Mehrmals pro Monat     Mehrmals pro Monat   \n",
       "29                             Täglich               Seltener   \n",
       "30                            Seltener               Seltener   \n",
       "31                  Mehrmals pro Woche     Mehrmals pro Woche   \n",
       "32                  Mehrmals pro Monat     Mehrmals pro Monat   \n",
       "33                            Seltener     Mehrmals pro Monat   \n",
       "34                             Täglich     Mehrmals pro Woche   \n",
       "35                  Mehrmals pro Monat     Mehrmals pro Monat   \n",
       "36                            Seltener                    Nie   \n",
       "37                                 Nie                    Nie   \n",
       "38                  Mehrmals pro Woche     Mehrmals pro Woche   \n",
       "39                  Mehrmals pro Monat     Mehrmals pro Woche   \n",
       "40                  Mehrmals pro Monat     Mehrmals pro Monat   \n",
       "41                             Täglich                Täglich   \n",
       "42                  Mehrmals pro Woche                    Nie   \n",
       "43                  Mehrmals pro Woche     Mehrmals pro Woche   \n",
       "44                             Täglich     Mehrmals pro Monat   \n",
       "45                  Mehrmals pro Woche     Mehrmals pro Monat   \n",
       "46                  Mehrmals pro Monat     Mehrmals pro Woche   \n",
       "47                  Mehrmals pro Woche                Täglich   \n",
       "48                  Mehrmals pro Woche     Mehrmals pro Woche   \n",
       "49                  Mehrmals pro Monat     Mehrmals pro Monat   \n",
       "50                  Mehrmals pro Woche     Mehrmals pro Woche   \n",
       "51                  Mehrmals pro Woche     Mehrmals pro Monat   \n",
       "52                  Mehrmals pro Monat     Mehrmals pro Monat   \n",
       "53                  Mehrmals pro Monat     Mehrmals pro Monat   \n",
       "54                                 Nie     Mehrmals pro Monat   \n",
       "55                  Mehrmals pro Monat     Mehrmals pro Woche   \n",
       "56                  Mehrmals pro Monat     Mehrmals pro Woche   \n",
       "57                  Mehrmals pro Monat     Mehrmals pro Woche   \n",
       "58                  Mehrmals pro Woche                Täglich   \n",
       "59                  Mehrmals pro Woche                Täglich   \n",
       "60                  Mehrmals pro Woche               Seltener   \n",
       "61                            Seltener     Mehrmals pro Monat   \n",
       "62                             Täglich                Täglich   \n",
       "63                  Mehrmals pro Woche     Mehrmals pro Woche   \n",
       "64                  Mehrmals pro Woche     Mehrmals pro Monat   \n",
       "65                             Täglich     Mehrmals pro Woche   \n",
       "66                  Mehrmals pro Woche     Mehrmals pro Woche   \n",
       "67                  Mehrmals pro Monat     Mehrmals pro Monat   \n",
       "68                  Mehrmals pro Woche     Mehrmals pro Woche   \n",
       "69                  Mehrmals pro Monat                Täglich   \n",
       "70                  Mehrmals pro Monat     Mehrmals pro Monat   \n",
       "71                             Täglich                Täglich   \n",
       "72                             Täglich     Mehrmals pro Monat   \n",
       "73                            Seltener     Mehrmals pro Woche   \n",
       "74                  Mehrmals pro Monat     Mehrmals pro Monat   \n",
       "75                            Seltener     Mehrmals pro Woche   \n",
       "76                            Seltener     Mehrmals pro Monat   \n",
       "77                  Mehrmals pro Woche     Mehrmals pro Monat   \n",
       "78                  Mehrmals pro Woche     Mehrmals pro Monat   \n",
       "79                  Mehrmals pro Monat     Mehrmals pro Woche   \n",
       "80                  Mehrmals pro Woche     Mehrmals pro Woche   \n",
       "81                  Mehrmals pro Woche     Mehrmals pro Monat   \n",
       "82                  Mehrmals pro Woche     Mehrmals pro Woche   \n",
       "83                  Mehrmals pro Monat     Mehrmals pro Monat   \n",
       "84                  Mehrmals pro Woche     Mehrmals pro Woche   \n",
       "85                  Mehrmals pro Monat     Mehrmals pro Woche   \n",
       "86                  Mehrmals pro Woche     Mehrmals pro Monat   \n",
       "87                  Mehrmals pro Monat     Mehrmals pro Woche   \n",
       "88                  Mehrmals pro Monat     Mehrmals pro Monat   \n",
       "89                  Mehrmals pro Monat     Mehrmals pro Woche   \n",
       "90                  Mehrmals pro Woche     Mehrmals pro Woche   \n",
       "91                             Täglich     Mehrmals pro Woche   \n",
       "92                            Seltener               Seltener   \n",
       "93                  Mehrmals pro Monat               Seltener   \n",
       "94                  Mehrmals pro Woche                Täglich   \n",
       "95                  Mehrmals pro Monat     Mehrmals pro Monat   \n",
       "96                            Seltener                Täglich   \n",
       "97                  Mehrmals pro Monat     Mehrmals pro Monat   \n",
       "98                            Seltener     Mehrmals pro Monat   \n",
       "99                  Mehrmals pro Monat                    Nie   \n",
       "100                           Seltener                    Nie   \n",
       "101                            Täglich                Täglich   \n",
       "102                 Mehrmals pro Woche     Mehrmals pro Monat   \n",
       "103                 Mehrmals pro Monat     Mehrmals pro Monat   \n",
       "104                 Mehrmals pro Monat     Mehrmals pro Monat   \n",
       "105                 Mehrmals pro Woche     Mehrmals pro Woche   \n",
       "106                           Seltener     Mehrmals pro Monat   \n",
       "107                            Täglich                Täglich   \n",
       "108                 Mehrmals pro Woche     Mehrmals pro Monat   \n",
       "109                            Täglich                Täglich   \n",
       "110                 Mehrmals pro Monat               Seltener   \n",
       "111                 Mehrmals pro Monat               Seltener   \n",
       "112                 Mehrmals pro Monat     Mehrmals pro Woche   \n",
       "113                           Seltener     Mehrmals pro Monat   \n",
       "114                 Mehrmals pro Monat               Seltener   \n",
       "115                 Mehrmals pro Woche                Täglich   \n",
       "116                 Mehrmals pro Monat     Mehrmals pro Woche   \n",
       "117                           Seltener     Mehrmals pro Woche   \n",
       "118                 Mehrmals pro Woche     Mehrmals pro Monat   \n",
       "119                           Seltener               Seltener   \n",
       "120                 Mehrmals pro Woche                Täglich   \n",
       "121                           Seltener     Mehrmals pro Monat   \n",
       "122                 Mehrmals pro Monat     Mehrmals pro Monat   \n",
       "123                 Mehrmals pro Woche     Mehrmals pro Woche   \n",
       "124                 Mehrmals pro Woche     Mehrmals pro Monat   \n",
       "125                 Mehrmals pro Woche     Mehrmals pro Woche   \n",
       "126                 Mehrmals pro Monat     Mehrmals pro Monat   \n",
       "127                           Seltener               Seltener   \n",
       "128                           Seltener     Mehrmals pro Monat   \n",
       "129                           Seltener                    Nie   \n",
       "130                                Nie                    Nie   \n",
       "131                           Seltener               Seltener   \n",
       "132                           Seltener     Mehrmals pro Monat   \n",
       "133                 Mehrmals pro Woche     Mehrmals pro Woche   \n",
       "134                 Mehrmals pro Monat     Mehrmals pro Monat   \n",
       "135                 Mehrmals pro Monat     Mehrmals pro Monat   \n",
       "136                 Mehrmals pro Woche     Mehrmals pro Monat   \n",
       "137                           Seltener     Mehrmals pro Monat   \n",
       "138                            Täglich     Mehrmals pro Monat   \n",
       "139                 Mehrmals pro Monat     Mehrmals pro Monat   \n",
       "140                 Mehrmals pro Monat     Mehrmals pro Monat   \n",
       "141                 Mehrmals pro Monat     Mehrmals pro Monat   \n",
       "142                           Seltener     Mehrmals pro Monat   \n",
       "143                 Mehrmals pro Monat                    Nie   \n",
       "144                           Seltener               Seltener   \n",
       "145                           Seltener               Seltener   \n",
       "146                 Mehrmals pro Woche                    Nie   \n",
       "147                           Seltener     Mehrmals pro Monat   \n",
       "148                 Mehrmals pro Woche     Mehrmals pro Woche   \n",
       "149                            Täglich     Mehrmals pro Woche   \n",
       "150                 Mehrmals pro Woche     Mehrmals pro Woche   \n",
       "151                 Mehrmals pro Monat     Mehrmals pro Monat   \n",
       "152                 Mehrmals pro Monat     Mehrmals pro Monat   \n",
       "153                           Seltener     Mehrmals pro Monat   \n",
       "154                 Mehrmals pro Monat               Seltener   \n",
       "155                 Mehrmals pro Monat               Seltener   \n",
       "156                 Mehrmals pro Woche     Mehrmals pro Woche   \n",
       "157                 Mehrmals pro Woche                Täglich   \n",
       "158                           Seltener     Mehrmals pro Monat   \n",
       "159                 Mehrmals pro Woche     Mehrmals pro Monat   \n",
       "160                 Mehrmals pro Woche     Mehrmals pro Woche   \n",
       "161                 Mehrmals pro Woche     Mehrmals pro Woche   \n",
       "162                 Mehrmals pro Monat     Mehrmals pro Monat   \n",
       "163                 Mehrmals pro Woche     Mehrmals pro Woche   \n",
       "164                 Mehrmals pro Woche     Mehrmals pro Woche   \n",
       "165                           Seltener     Mehrmals pro Monat   \n",
       "166                 Mehrmals pro Woche                Täglich   \n",
       "167                           Seltener     Mehrmals pro Monat   \n",
       "168                 Mehrmals pro Monat     Mehrmals pro Woche   \n",
       "169                 Mehrmals pro Monat     Mehrmals pro Monat   \n",
       "170                           Seltener     Mehrmals pro Woche   \n",
       "171                           Seltener     Mehrmals pro Monat   \n",
       "172                 Mehrmals pro Monat                    Nie   \n",
       "173                 Mehrmals pro Woche     Mehrmals pro Monat   \n",
       "174                           Seltener     Mehrmals pro Monat   \n",
       "175                            Täglich                Täglich   \n",
       "176                 Mehrmals pro Monat               Seltener   \n",
       "177                 Mehrmals pro Woche                Täglich   \n",
       "178                 Mehrmals pro Monat     Mehrmals pro Monat   \n",
       "179                           Seltener                    Nie   \n",
       "180                 Mehrmals pro Monat     Mehrmals pro Woche   \n",
       "181                 Mehrmals pro Monat     Mehrmals pro Woche   \n",
       "182                 Mehrmals pro Woche     Mehrmals pro Woche   \n",
       "183                           Seltener                Täglich   \n",
       "184                 Mehrmals pro Woche     Mehrmals pro Woche   \n",
       "185                 Mehrmals pro Woche     Mehrmals pro Monat   \n",
       "186                 Mehrmals pro Monat     Mehrmals pro Monat   \n",
       "187                           Seltener     Mehrmals pro Woche   \n",
       "188                            Täglich     Mehrmals pro Woche   \n",
       "189                 Mehrmals pro Woche     Mehrmals pro Woche   \n",
       "190                 Mehrmals pro Monat     Mehrmals pro Woche   \n",
       "191                 Mehrmals pro Monat     Mehrmals pro Woche   \n",
       "192                 Mehrmals pro Woche     Mehrmals pro Monat   \n",
       "193                 Mehrmals pro Monat     Mehrmals pro Monat   \n",
       "194                 Mehrmals pro Woche     Mehrmals pro Woche   \n",
       "195                 Mehrmals pro Monat     Mehrmals pro Woche   \n",
       "196                            Täglich                Täglich   \n",
       "197                 Mehrmals pro Woche     Mehrmals pro Woche   \n",
       "198                 Mehrmals pro Woche     Mehrmals pro Woche   \n",
       "199                            Täglich     Mehrmals pro Woche   \n",
       "200                 Mehrmals pro Woche     Mehrmals pro Monat   \n",
       "201                 Mehrmals pro Monat     Mehrmals pro Woche   \n",
       "202                           Seltener     Mehrmals pro Monat   \n",
       "\n",
       "    internet-usage-maps internet-usage-voip  \\\n",
       "0    Mehrmals pro Monat  Mehrmals pro Woche   \n",
       "1    Mehrmals pro Woche            Seltener   \n",
       "2    Mehrmals pro Monat  Mehrmals pro Monat   \n",
       "3    Mehrmals pro Woche  Mehrmals pro Woche   \n",
       "4    Mehrmals pro Monat  Mehrmals pro Monat   \n",
       "5    Mehrmals pro Monat  Mehrmals pro Woche   \n",
       "6              Seltener  Mehrmals pro Monat   \n",
       "7    Mehrmals pro Woche  Mehrmals pro Woche   \n",
       "8    Mehrmals pro Woche  Mehrmals pro Monat   \n",
       "9    Mehrmals pro Monat  Mehrmals pro Monat   \n",
       "10   Mehrmals pro Monat             Täglich   \n",
       "11   Mehrmals pro Monat             Täglich   \n",
       "12   Mehrmals pro Monat  Mehrmals pro Monat   \n",
       "13   Mehrmals pro Woche  Mehrmals pro Woche   \n",
       "14   Mehrmals pro Woche  Mehrmals pro Monat   \n",
       "15   Mehrmals pro Monat            Seltener   \n",
       "16   Mehrmals pro Woche             Täglich   \n",
       "17   Mehrmals pro Monat            Seltener   \n",
       "18             Seltener            Seltener   \n",
       "19   Mehrmals pro Woche  Mehrmals pro Woche   \n",
       "20   Mehrmals pro Woche             Täglich   \n",
       "21   Mehrmals pro Monat  Mehrmals pro Monat   \n",
       "22   Mehrmals pro Monat  Mehrmals pro Woche   \n",
       "23   Mehrmals pro Monat  Mehrmals pro Monat   \n",
       "24   Mehrmals pro Monat  Mehrmals pro Monat   \n",
       "25   Mehrmals pro Woche             Täglich   \n",
       "26   Mehrmals pro Monat            Seltener   \n",
       "27              Täglich  Mehrmals pro Woche   \n",
       "28   Mehrmals pro Monat  Mehrmals pro Woche   \n",
       "29             Seltener            Seltener   \n",
       "30   Mehrmals pro Monat            Seltener   \n",
       "31   Mehrmals pro Woche  Mehrmals pro Monat   \n",
       "32   Mehrmals pro Monat  Mehrmals pro Woche   \n",
       "33   Mehrmals pro Woche            Seltener   \n",
       "34   Mehrmals pro Monat            Seltener   \n",
       "35   Mehrmals pro Woche  Mehrmals pro Monat   \n",
       "36   Mehrmals pro Monat             Täglich   \n",
       "37   Mehrmals pro Monat             Täglich   \n",
       "38   Mehrmals pro Woche  Mehrmals pro Woche   \n",
       "39   Mehrmals pro Monat  Mehrmals pro Woche   \n",
       "40   Mehrmals pro Monat  Mehrmals pro Monat   \n",
       "41   Mehrmals pro Monat  Mehrmals pro Woche   \n",
       "42   Mehrmals pro Monat             Täglich   \n",
       "43   Mehrmals pro Woche  Mehrmals pro Woche   \n",
       "44   Mehrmals pro Monat             Täglich   \n",
       "45   Mehrmals pro Woche  Mehrmals pro Woche   \n",
       "46   Mehrmals pro Woche  Mehrmals pro Woche   \n",
       "47   Mehrmals pro Monat  Mehrmals pro Woche   \n",
       "48   Mehrmals pro Monat  Mehrmals pro Monat   \n",
       "49   Mehrmals pro Woche  Mehrmals pro Monat   \n",
       "50   Mehrmals pro Woche             Täglich   \n",
       "51   Mehrmals pro Woche  Mehrmals pro Woche   \n",
       "52   Mehrmals pro Monat  Mehrmals pro Monat   \n",
       "53             Seltener  Mehrmals pro Monat   \n",
       "54   Mehrmals pro Monat  Mehrmals pro Monat   \n",
       "55   Mehrmals pro Monat  Mehrmals pro Monat   \n",
       "56             Seltener            Seltener   \n",
       "57              Täglich  Mehrmals pro Woche   \n",
       "58             Seltener             Täglich   \n",
       "59             Seltener  Mehrmals pro Woche   \n",
       "60             Seltener  Mehrmals pro Woche   \n",
       "61   Mehrmals pro Monat                 Nie   \n",
       "62   Mehrmals pro Monat                 Nie   \n",
       "63   Mehrmals pro Monat  Mehrmals pro Monat   \n",
       "64   Mehrmals pro Monat            Seltener   \n",
       "65   Mehrmals pro Woche  Mehrmals pro Monat   \n",
       "66   Mehrmals pro Woche  Mehrmals pro Woche   \n",
       "67   Mehrmals pro Monat            Seltener   \n",
       "68   Mehrmals pro Woche  Mehrmals pro Monat   \n",
       "69   Mehrmals pro Woche             Täglich   \n",
       "70   Mehrmals pro Monat            Seltener   \n",
       "71   Mehrmals pro Woche            Seltener   \n",
       "72   Mehrmals pro Woche            Seltener   \n",
       "73   Mehrmals pro Woche                 Nie   \n",
       "74   Mehrmals pro Woche  Mehrmals pro Woche   \n",
       "75   Mehrmals pro Woche            Seltener   \n",
       "76             Seltener                 Nie   \n",
       "77              Täglich  Mehrmals pro Monat   \n",
       "78              Täglich  Mehrmals pro Woche   \n",
       "79   Mehrmals pro Woche             Täglich   \n",
       "80   Mehrmals pro Woche  Mehrmals pro Woche   \n",
       "81   Mehrmals pro Monat  Mehrmals pro Monat   \n",
       "82   Mehrmals pro Monat            Seltener   \n",
       "83   Mehrmals pro Woche  Mehrmals pro Woche   \n",
       "84   Mehrmals pro Monat  Mehrmals pro Monat   \n",
       "85   Mehrmals pro Woche  Mehrmals pro Monat   \n",
       "86   Mehrmals pro Monat  Mehrmals pro Monat   \n",
       "87   Mehrmals pro Woche             Täglich   \n",
       "88   Mehrmals pro Woche  Mehrmals pro Monat   \n",
       "89   Mehrmals pro Monat  Mehrmals pro Monat   \n",
       "90              Täglich             Täglich   \n",
       "91   Mehrmals pro Woche  Mehrmals pro Monat   \n",
       "92   Mehrmals pro Woche  Mehrmals pro Monat   \n",
       "93             Seltener  Mehrmals pro Woche   \n",
       "94              Täglich             Täglich   \n",
       "95   Mehrmals pro Monat  Mehrmals pro Monat   \n",
       "96   Mehrmals pro Woche  Mehrmals pro Woche   \n",
       "97   Mehrmals pro Monat  Mehrmals pro Woche   \n",
       "98   Mehrmals pro Woche  Mehrmals pro Monat   \n",
       "99             Seltener                 Nie   \n",
       "100  Mehrmals pro Monat                 Nie   \n",
       "101             Täglich  Mehrmals pro Monat   \n",
       "102  Mehrmals pro Woche  Mehrmals pro Woche   \n",
       "103  Mehrmals pro Monat            Seltener   \n",
       "104  Mehrmals pro Woche             Täglich   \n",
       "105  Mehrmals pro Monat  Mehrmals pro Monat   \n",
       "106            Seltener             Täglich   \n",
       "107             Täglich  Mehrmals pro Woche   \n",
       "108  Mehrmals pro Woche            Seltener   \n",
       "109  Mehrmals pro Monat  Mehrmals pro Monat   \n",
       "110  Mehrmals pro Monat            Seltener   \n",
       "111  Mehrmals pro Woche             Täglich   \n",
       "112            Seltener  Mehrmals pro Woche   \n",
       "113  Mehrmals pro Woche  Mehrmals pro Woche   \n",
       "114  Mehrmals pro Monat            Seltener   \n",
       "115  Mehrmals pro Woche  Mehrmals pro Woche   \n",
       "116  Mehrmals pro Woche  Mehrmals pro Woche   \n",
       "117  Mehrmals pro Monat            Seltener   \n",
       "118            Seltener  Mehrmals pro Monat   \n",
       "119                 Nie                 Nie   \n",
       "120  Mehrmals pro Woche             Täglich   \n",
       "121  Mehrmals pro Monat  Mehrmals pro Woche   \n",
       "122  Mehrmals pro Woche             Täglich   \n",
       "123  Mehrmals pro Monat  Mehrmals pro Monat   \n",
       "124            Seltener  Mehrmals pro Woche   \n",
       "125  Mehrmals pro Woche  Mehrmals pro Woche   \n",
       "126  Mehrmals pro Woche             Täglich   \n",
       "127  Mehrmals pro Woche  Mehrmals pro Monat   \n",
       "128  Mehrmals pro Monat  Mehrmals pro Woche   \n",
       "129  Mehrmals pro Monat  Mehrmals pro Monat   \n",
       "130            Seltener            Seltener   \n",
       "131  Mehrmals pro Monat  Mehrmals pro Monat   \n",
       "132            Seltener                 Nie   \n",
       "133             Täglich             Täglich   \n",
       "134  Mehrmals pro Monat  Mehrmals pro Woche   \n",
       "135  Mehrmals pro Woche  Mehrmals pro Monat   \n",
       "136  Mehrmals pro Monat            Seltener   \n",
       "137  Mehrmals pro Monat  Mehrmals pro Monat   \n",
       "138  Mehrmals pro Woche             Täglich   \n",
       "139  Mehrmals pro Woche  Mehrmals pro Monat   \n",
       "140  Mehrmals pro Monat             Täglich   \n",
       "141  Mehrmals pro Woche            Seltener   \n",
       "142  Mehrmals pro Woche  Mehrmals pro Monat   \n",
       "143  Mehrmals pro Monat            Seltener   \n",
       "144  Mehrmals pro Woche            Seltener   \n",
       "145            Seltener            Seltener   \n",
       "146  Mehrmals pro Monat            Seltener   \n",
       "147  Mehrmals pro Woche  Mehrmals pro Woche   \n",
       "148  Mehrmals pro Woche  Mehrmals pro Monat   \n",
       "149  Mehrmals pro Monat  Mehrmals pro Woche   \n",
       "150  Mehrmals pro Woche  Mehrmals pro Woche   \n",
       "151  Mehrmals pro Monat  Mehrmals pro Woche   \n",
       "152  Mehrmals pro Monat  Mehrmals pro Monat   \n",
       "153  Mehrmals pro Monat  Mehrmals pro Monat   \n",
       "154  Mehrmals pro Woche  Mehrmals pro Monat   \n",
       "155  Mehrmals pro Monat            Seltener   \n",
       "156  Mehrmals pro Woche  Mehrmals pro Monat   \n",
       "157  Mehrmals pro Woche             Täglich   \n",
       "158            Seltener  Mehrmals pro Monat   \n",
       "159  Mehrmals pro Woche  Mehrmals pro Woche   \n",
       "160  Mehrmals pro Woche  Mehrmals pro Woche   \n",
       "161  Mehrmals pro Monat  Mehrmals pro Woche   \n",
       "162  Mehrmals pro Woche  Mehrmals pro Woche   \n",
       "163  Mehrmals pro Monat  Mehrmals pro Monat   \n",
       "164  Mehrmals pro Monat  Mehrmals pro Monat   \n",
       "165  Mehrmals pro Woche  Mehrmals pro Monat   \n",
       "166  Mehrmals pro Woche             Täglich   \n",
       "167  Mehrmals pro Monat  Mehrmals pro Woche   \n",
       "168  Mehrmals pro Woche  Mehrmals pro Woche   \n",
       "169  Mehrmals pro Woche             Täglich   \n",
       "170  Mehrmals pro Monat  Mehrmals pro Monat   \n",
       "171            Seltener  Mehrmals pro Monat   \n",
       "172  Mehrmals pro Woche  Mehrmals pro Woche   \n",
       "173  Mehrmals pro Woche  Mehrmals pro Woche   \n",
       "174  Mehrmals pro Woche  Mehrmals pro Monat   \n",
       "175             Täglich  Mehrmals pro Monat   \n",
       "176  Mehrmals pro Monat  Mehrmals pro Woche   \n",
       "177  Mehrmals pro Monat            Seltener   \n",
       "178  Mehrmals pro Woche  Mehrmals pro Monat   \n",
       "179            Seltener             Täglich   \n",
       "180  Mehrmals pro Woche  Mehrmals pro Woche   \n",
       "181  Mehrmals pro Woche  Mehrmals pro Woche   \n",
       "182  Mehrmals pro Monat             Täglich   \n",
       "183  Mehrmals pro Monat            Seltener   \n",
       "184  Mehrmals pro Woche  Mehrmals pro Monat   \n",
       "185  Mehrmals pro Monat  Mehrmals pro Monat   \n",
       "186  Mehrmals pro Monat            Seltener   \n",
       "187  Mehrmals pro Monat            Seltener   \n",
       "188  Mehrmals pro Monat  Mehrmals pro Monat   \n",
       "189  Mehrmals pro Monat             Täglich   \n",
       "190  Mehrmals pro Monat  Mehrmals pro Monat   \n",
       "191  Mehrmals pro Monat  Mehrmals pro Woche   \n",
       "192  Mehrmals pro Monat  Mehrmals pro Woche   \n",
       "193  Mehrmals pro Woche  Mehrmals pro Monat   \n",
       "194  Mehrmals pro Monat  Mehrmals pro Woche   \n",
       "195  Mehrmals pro Woche            Seltener   \n",
       "196  Mehrmals pro Woche  Mehrmals pro Woche   \n",
       "197  Mehrmals pro Woche  Mehrmals pro Monat   \n",
       "198  Mehrmals pro Monat             Täglich   \n",
       "199  Mehrmals pro Woche  Mehrmals pro Woche   \n",
       "200  Mehrmals pro Monat  Mehrmals pro Monat   \n",
       "201  Mehrmals pro Monat            Seltener   \n",
       "202  Mehrmals pro Monat  Mehrmals pro Monat   \n",
       "\n",
       "    internet-usage-social-media-networks internet-usage-music-streaming  \\\n",
       "0                                Täglich                        Täglich   \n",
       "1                                    Nie                        Täglich   \n",
       "2                     Mehrmals pro Woche             Mehrmals pro Woche   \n",
       "3                     Mehrmals pro Monat             Mehrmals pro Woche   \n",
       "4                                Täglich                        Täglich   \n",
       "5                     Mehrmals pro Woche                        Täglich   \n",
       "6                                Täglich                        Täglich   \n",
       "7                                Täglich                        Täglich   \n",
       "8                                Täglich                        Täglich   \n",
       "9                                Täglich                        Täglich   \n",
       "10                    Mehrmals pro Woche                        Täglich   \n",
       "11                               Täglich                        Täglich   \n",
       "12                               Täglich                        Täglich   \n",
       "13                               Täglich                        Täglich   \n",
       "14                    Mehrmals pro Monat                        Täglich   \n",
       "15                               Täglich             Mehrmals pro Woche   \n",
       "16                               Täglich                        Täglich   \n",
       "17                               Täglich                        Täglich   \n",
       "18                              Seltener                        Täglich   \n",
       "19                    Mehrmals pro Woche                        Täglich   \n",
       "20                    Mehrmals pro Woche                        Täglich   \n",
       "21                              Seltener                        Täglich   \n",
       "22                    Mehrmals pro Woche                        Täglich   \n",
       "23                               Täglich                        Täglich   \n",
       "24                              Seltener                        Täglich   \n",
       "25                               Täglich             Mehrmals pro Woche   \n",
       "26                               Täglich                        Täglich   \n",
       "27                               Täglich                        Täglich   \n",
       "28                               Täglich                        Täglich   \n",
       "29                               Täglich                        Täglich   \n",
       "30                    Mehrmals pro Woche             Mehrmals pro Woche   \n",
       "31                               Täglich                        Täglich   \n",
       "32                              Seltener             Mehrmals pro Woche   \n",
       "33                    Mehrmals pro Monat                        Täglich   \n",
       "34                               Täglich                        Täglich   \n",
       "35                    Mehrmals pro Monat                        Täglich   \n",
       "36                               Täglich                        Täglich   \n",
       "37                               Täglich             Mehrmals pro Woche   \n",
       "38                    Mehrmals pro Woche                        Täglich   \n",
       "39                               Täglich                        Täglich   \n",
       "40                               Täglich                        Täglich   \n",
       "41                               Täglich                        Täglich   \n",
       "42                               Täglich             Mehrmals pro Woche   \n",
       "43                    Mehrmals pro Woche             Mehrmals pro Woche   \n",
       "44                               Täglich                        Täglich   \n",
       "45                               Täglich                        Täglich   \n",
       "46                               Täglich             Mehrmals pro Woche   \n",
       "47                               Täglich                        Täglich   \n",
       "48                               Täglich                        Täglich   \n",
       "49                              Seltener                        Täglich   \n",
       "50                               Täglich                        Täglich   \n",
       "51                               Täglich                        Täglich   \n",
       "52                               Täglich             Mehrmals pro Woche   \n",
       "53                               Täglich                        Täglich   \n",
       "54                               Täglich             Mehrmals pro Woche   \n",
       "55                    Mehrmals pro Monat                        Täglich   \n",
       "56                    Mehrmals pro Woche             Mehrmals pro Woche   \n",
       "57                               Täglich                        Täglich   \n",
       "58                                   Nie             Mehrmals pro Woche   \n",
       "59                              Seltener                        Täglich   \n",
       "60                                   Nie             Mehrmals pro Woche   \n",
       "61                    Mehrmals pro Woche             Mehrmals pro Woche   \n",
       "62                    Mehrmals pro Woche                            Nie   \n",
       "63                    Mehrmals pro Woche                        Täglich   \n",
       "64                               Täglich                       Seltener   \n",
       "65                              Seltener             Mehrmals pro Monat   \n",
       "66                    Mehrmals pro Woche                        Täglich   \n",
       "67                                   Nie                       Seltener   \n",
       "68                    Mehrmals pro Woche             Mehrmals pro Monat   \n",
       "69                               Täglich                        Täglich   \n",
       "70                                   Nie                        Täglich   \n",
       "71                    Mehrmals pro Monat                        Täglich   \n",
       "72                                   Nie                        Täglich   \n",
       "73                    Mehrmals pro Woche             Mehrmals pro Monat   \n",
       "74                               Täglich             Mehrmals pro Woche   \n",
       "75                               Täglich             Mehrmals pro Monat   \n",
       "76                                   Nie                       Seltener   \n",
       "77                                   Nie                        Täglich   \n",
       "78                    Mehrmals pro Monat             Mehrmals pro Woche   \n",
       "79                               Täglich                            Nie   \n",
       "80                               Täglich             Mehrmals pro Woche   \n",
       "81                              Seltener             Mehrmals pro Monat   \n",
       "82                    Mehrmals pro Monat                        Täglich   \n",
       "83                    Mehrmals pro Woche                        Täglich   \n",
       "84                    Mehrmals pro Woche             Mehrmals pro Woche   \n",
       "85                    Mehrmals pro Woche             Mehrmals pro Woche   \n",
       "86                               Täglich             Mehrmals pro Woche   \n",
       "87                               Täglich                        Täglich   \n",
       "88                               Täglich                        Täglich   \n",
       "89                               Täglich                        Täglich   \n",
       "90                               Täglich             Mehrmals pro Woche   \n",
       "91                               Täglich                        Täglich   \n",
       "92                    Mehrmals pro Monat             Mehrmals pro Woche   \n",
       "93                                   Nie                            Nie   \n",
       "94                               Täglich             Mehrmals pro Woche   \n",
       "95                              Seltener             Mehrmals pro Woche   \n",
       "96                              Seltener                       Seltener   \n",
       "97                               Täglich             Mehrmals pro Woche   \n",
       "98                               Täglich             Mehrmals pro Monat   \n",
       "99                                   Nie                       Seltener   \n",
       "100                                  Nie             Mehrmals pro Woche   \n",
       "101                              Täglich                        Täglich   \n",
       "102                              Täglich             Mehrmals pro Woche   \n",
       "103                             Seltener             Mehrmals pro Woche   \n",
       "104                              Täglich                        Täglich   \n",
       "105                              Täglich             Mehrmals pro Woche   \n",
       "106                              Täglich             Mehrmals pro Woche   \n",
       "107                   Mehrmals pro Monat                        Täglich   \n",
       "108                                  Nie             Mehrmals pro Woche   \n",
       "109                   Mehrmals pro Woche                        Täglich   \n",
       "110                   Mehrmals pro Monat             Mehrmals pro Woche   \n",
       "111                             Seltener             Mehrmals pro Monat   \n",
       "112                              Täglich                        Täglich   \n",
       "113                   Mehrmals pro Monat             Mehrmals pro Monat   \n",
       "114                              Täglich                        Täglich   \n",
       "115                              Täglich                        Täglich   \n",
       "116                   Mehrmals pro Woche             Mehrmals pro Woche   \n",
       "117                   Mehrmals pro Woche                        Täglich   \n",
       "118                              Täglich                        Täglich   \n",
       "119                   Mehrmals pro Woche                        Täglich   \n",
       "120                              Täglich             Mehrmals pro Woche   \n",
       "121                             Seltener             Mehrmals pro Woche   \n",
       "122                   Mehrmals pro Monat             Mehrmals pro Woche   \n",
       "123                              Täglich                        Täglich   \n",
       "124                              Täglich                        Täglich   \n",
       "125                              Täglich             Mehrmals pro Woche   \n",
       "126                              Täglich                        Täglich   \n",
       "127                   Mehrmals pro Woche             Mehrmals pro Woche   \n",
       "128                             Seltener                            Nie   \n",
       "129                   Mehrmals pro Woche                        Täglich   \n",
       "130                             Seltener             Mehrmals pro Woche   \n",
       "131                              Täglich                        Täglich   \n",
       "132                   Mehrmals pro Monat                       Seltener   \n",
       "133                              Täglich             Mehrmals pro Monat   \n",
       "134                              Täglich             Mehrmals pro Woche   \n",
       "135                              Täglich                        Täglich   \n",
       "136                              Täglich             Mehrmals pro Woche   \n",
       "137                              Täglich             Mehrmals pro Woche   \n",
       "138                   Mehrmals pro Monat                        Täglich   \n",
       "139                   Mehrmals pro Monat             Mehrmals pro Monat   \n",
       "140                   Mehrmals pro Woche                        Täglich   \n",
       "141                              Täglich                        Täglich   \n",
       "142                             Seltener             Mehrmals pro Woche   \n",
       "143                             Seltener                        Täglich   \n",
       "144                   Mehrmals pro Monat                            Nie   \n",
       "145                             Seltener                            Nie   \n",
       "146                   Mehrmals pro Woche                        Täglich   \n",
       "147                              Täglich                        Täglich   \n",
       "148                   Mehrmals pro Woche             Mehrmals pro Woche   \n",
       "149                              Täglich             Mehrmals pro Woche   \n",
       "150                              Täglich                        Täglich   \n",
       "151                              Täglich                        Täglich   \n",
       "152                              Täglich                        Täglich   \n",
       "153                              Täglich                        Täglich   \n",
       "154                              Täglich                        Täglich   \n",
       "155                              Täglich                        Täglich   \n",
       "156                              Täglich                        Täglich   \n",
       "157                              Täglich                        Täglich   \n",
       "158                              Täglich             Mehrmals pro Woche   \n",
       "159                              Täglich             Mehrmals pro Woche   \n",
       "160                              Täglich             Mehrmals pro Woche   \n",
       "161                              Täglich                        Täglich   \n",
       "162                              Täglich                        Täglich   \n",
       "163                              Täglich                        Täglich   \n",
       "164                              Täglich                        Täglich   \n",
       "165                   Mehrmals pro Monat             Mehrmals pro Monat   \n",
       "166                                  Nie             Mehrmals pro Woche   \n",
       "167                              Täglich             Mehrmals pro Woche   \n",
       "168                              Täglich                        Täglich   \n",
       "169                             Seltener                        Täglich   \n",
       "170                   Mehrmals pro Monat                        Täglich   \n",
       "171                   Mehrmals pro Monat             Mehrmals pro Monat   \n",
       "172                              Täglich             Mehrmals pro Woche   \n",
       "173                              Täglich                        Täglich   \n",
       "174                   Mehrmals pro Woche                        Täglich   \n",
       "175                              Täglich             Mehrmals pro Woche   \n",
       "176                              Täglich                        Täglich   \n",
       "177                              Täglich                        Täglich   \n",
       "178                   Mehrmals pro Woche                        Täglich   \n",
       "179                              Täglich                        Täglich   \n",
       "180                   Mehrmals pro Monat             Mehrmals pro Monat   \n",
       "181                              Täglich                        Täglich   \n",
       "182                              Täglich                        Täglich   \n",
       "183                                  Nie                            Nie   \n",
       "184                              Täglich                        Täglich   \n",
       "185                                  Nie             Mehrmals pro Woche   \n",
       "186                   Mehrmals pro Monat                       Seltener   \n",
       "187                              Täglich             Mehrmals pro Woche   \n",
       "188                              Täglich                        Täglich   \n",
       "189                             Seltener                        Täglich   \n",
       "190                   Mehrmals pro Woche                        Täglich   \n",
       "191                              Täglich                        Täglich   \n",
       "192                   Mehrmals pro Woche             Mehrmals pro Woche   \n",
       "193                             Seltener             Mehrmals pro Woche   \n",
       "194                   Mehrmals pro Monat                        Täglich   \n",
       "195                   Mehrmals pro Monat                        Täglich   \n",
       "196                              Täglich             Mehrmals pro Woche   \n",
       "197                              Täglich                       Seltener   \n",
       "198                             Seltener                       Seltener   \n",
       "199                              Täglich             Mehrmals pro Woche   \n",
       "200                   Mehrmals pro Woche                        Täglich   \n",
       "201                             Seltener                            Nie   \n",
       "202                              Täglich                        Täglich   \n",
       "\n",
       "    internet-usage-video-streaming internet-usage-news  \\\n",
       "0               Mehrmals pro Woche            Seltener   \n",
       "1               Mehrmals pro Woche            Seltener   \n",
       "2               Mehrmals pro Monat  Mehrmals pro Monat   \n",
       "3               Mehrmals pro Woche  Mehrmals pro Monat   \n",
       "4               Mehrmals pro Woche  Mehrmals pro Monat   \n",
       "5               Mehrmals pro Woche  Mehrmals pro Monat   \n",
       "6               Mehrmals pro Woche  Mehrmals pro Woche   \n",
       "7               Mehrmals pro Monat            Seltener   \n",
       "8               Mehrmals pro Woche            Seltener   \n",
       "9                          Täglich  Mehrmals pro Monat   \n",
       "10              Mehrmals pro Woche  Mehrmals pro Woche   \n",
       "11                         Täglich  Mehrmals pro Woche   \n",
       "12              Mehrmals pro Monat            Seltener   \n",
       "13              Mehrmals pro Woche  Mehrmals pro Woche   \n",
       "14              Mehrmals pro Woche  Mehrmals pro Monat   \n",
       "15                        Seltener            Seltener   \n",
       "16              Mehrmals pro Woche             Täglich   \n",
       "17                         Täglich  Mehrmals pro Woche   \n",
       "18              Mehrmals pro Woche  Mehrmals pro Monat   \n",
       "19              Mehrmals pro Woche  Mehrmals pro Woche   \n",
       "20                         Täglich  Mehrmals pro Woche   \n",
       "21              Mehrmals pro Woche                 Nie   \n",
       "22              Mehrmals pro Woche             Täglich   \n",
       "23              Mehrmals pro Woche  Mehrmals pro Woche   \n",
       "24              Mehrmals pro Woche  Mehrmals pro Woche   \n",
       "25              Mehrmals pro Monat            Seltener   \n",
       "26              Mehrmals pro Monat            Seltener   \n",
       "27                         Täglich             Täglich   \n",
       "28              Mehrmals pro Woche            Seltener   \n",
       "29                         Täglich            Seltener   \n",
       "30              Mehrmals pro Woche            Seltener   \n",
       "31                         Täglich  Mehrmals pro Woche   \n",
       "32                        Seltener  Mehrmals pro Monat   \n",
       "33                         Täglich  Mehrmals pro Monat   \n",
       "34              Mehrmals pro Woche            Seltener   \n",
       "35              Mehrmals pro Woche            Seltener   \n",
       "36              Mehrmals pro Woche  Mehrmals pro Woche   \n",
       "37                             Nie  Mehrmals pro Woche   \n",
       "38                         Täglich  Mehrmals pro Woche   \n",
       "39              Mehrmals pro Woche  Mehrmals pro Woche   \n",
       "40                         Täglich            Seltener   \n",
       "41              Mehrmals pro Woche  Mehrmals pro Monat   \n",
       "42                         Täglich  Mehrmals pro Woche   \n",
       "43              Mehrmals pro Woche  Mehrmals pro Monat   \n",
       "44                         Täglich                 Nie   \n",
       "45              Mehrmals pro Woche            Seltener   \n",
       "46              Mehrmals pro Woche            Seltener   \n",
       "47              Mehrmals pro Woche            Seltener   \n",
       "48                         Täglich            Seltener   \n",
       "49                             Nie            Seltener   \n",
       "50              Mehrmals pro Woche            Seltener   \n",
       "51              Mehrmals pro Woche  Mehrmals pro Woche   \n",
       "52              Mehrmals pro Woche  Mehrmals pro Woche   \n",
       "53                         Täglich  Mehrmals pro Woche   \n",
       "54                        Seltener            Seltener   \n",
       "55                         Täglich            Seltener   \n",
       "56              Mehrmals pro Woche  Mehrmals pro Monat   \n",
       "57                        Seltener            Seltener   \n",
       "58              Mehrmals pro Woche             Täglich   \n",
       "59                         Täglich  Mehrmals pro Woche   \n",
       "60              Mehrmals pro Monat  Mehrmals pro Monat   \n",
       "61              Mehrmals pro Monat                 Nie   \n",
       "62                         Täglich  Mehrmals pro Monat   \n",
       "63                         Täglich             Täglich   \n",
       "64              Mehrmals pro Woche  Mehrmals pro Woche   \n",
       "65                        Seltener  Mehrmals pro Monat   \n",
       "66              Mehrmals pro Woche            Seltener   \n",
       "67              Mehrmals pro Monat             Täglich   \n",
       "68              Mehrmals pro Monat            Seltener   \n",
       "69                         Täglich             Täglich   \n",
       "70              Mehrmals pro Woche  Mehrmals pro Woche   \n",
       "71              Mehrmals pro Woche            Seltener   \n",
       "72                         Täglich  Mehrmals pro Woche   \n",
       "73                             Nie  Mehrmals pro Woche   \n",
       "74              Mehrmals pro Monat  Mehrmals pro Woche   \n",
       "75              Mehrmals pro Monat             Täglich   \n",
       "76                             Nie                 Nie   \n",
       "77                         Täglich             Täglich   \n",
       "78                        Seltener             Täglich   \n",
       "79                             Nie             Täglich   \n",
       "80                         Täglich            Seltener   \n",
       "81                             Nie             Täglich   \n",
       "82              Mehrmals pro Monat            Seltener   \n",
       "83                         Täglich             Täglich   \n",
       "84              Mehrmals pro Woche                 Nie   \n",
       "85              Mehrmals pro Monat  Mehrmals pro Woche   \n",
       "86              Mehrmals pro Woche            Seltener   \n",
       "87              Mehrmals pro Woche             Täglich   \n",
       "88                         Täglich  Mehrmals pro Monat   \n",
       "89                         Täglich             Täglich   \n",
       "90                             Nie            Seltener   \n",
       "91                         Täglich  Mehrmals pro Woche   \n",
       "92                        Seltener                 Nie   \n",
       "93                             Nie            Seltener   \n",
       "94              Mehrmals pro Woche             Täglich   \n",
       "95                         Täglich             Täglich   \n",
       "96              Mehrmals pro Monat             Täglich   \n",
       "97                         Täglich             Täglich   \n",
       "98              Mehrmals pro Monat             Täglich   \n",
       "99                        Seltener            Seltener   \n",
       "100                            Nie  Mehrmals pro Monat   \n",
       "101                            Nie             Täglich   \n",
       "102             Mehrmals pro Woche  Mehrmals pro Monat   \n",
       "103             Mehrmals pro Woche             Täglich   \n",
       "104                        Täglich            Seltener   \n",
       "105             Mehrmals pro Monat            Seltener   \n",
       "106             Mehrmals pro Woche            Seltener   \n",
       "107                        Täglich             Täglich   \n",
       "108                       Seltener             Täglich   \n",
       "109             Mehrmals pro Woche  Mehrmals pro Woche   \n",
       "110                            Nie                 Nie   \n",
       "111             Mehrmals pro Woche            Seltener   \n",
       "112                        Täglich  Mehrmals pro Monat   \n",
       "113             Mehrmals pro Woche  Mehrmals pro Woche   \n",
       "114                        Täglich                 Nie   \n",
       "115                        Täglich  Mehrmals pro Woche   \n",
       "116             Mehrmals pro Woche  Mehrmals pro Woche   \n",
       "117                        Täglich            Seltener   \n",
       "118                        Täglich            Seltener   \n",
       "119                        Täglich            Seltener   \n",
       "120             Mehrmals pro Woche            Seltener   \n",
       "121             Mehrmals pro Monat            Seltener   \n",
       "122             Mehrmals pro Monat  Mehrmals pro Woche   \n",
       "123             Mehrmals pro Woche  Mehrmals pro Monat   \n",
       "124                        Täglich            Seltener   \n",
       "125             Mehrmals pro Woche                 Nie   \n",
       "126                        Täglich            Seltener   \n",
       "127                       Seltener                 Nie   \n",
       "128             Mehrmals pro Woche            Seltener   \n",
       "129             Mehrmals pro Woche            Seltener   \n",
       "130             Mehrmals pro Woche                 Nie   \n",
       "131             Mehrmals pro Woche             Täglich   \n",
       "132                        Täglich                 Nie   \n",
       "133                        Täglich  Mehrmals pro Monat   \n",
       "134                        Täglich            Seltener   \n",
       "135                        Täglich            Seltener   \n",
       "136             Mehrmals pro Woche            Seltener   \n",
       "137                        Täglich            Seltener   \n",
       "138                        Täglich  Mehrmals pro Monat   \n",
       "139                        Täglich             Täglich   \n",
       "140                        Täglich  Mehrmals pro Monat   \n",
       "141             Mehrmals pro Woche  Mehrmals pro Monat   \n",
       "142             Mehrmals pro Woche  Mehrmals pro Monat   \n",
       "143             Mehrmals pro Woche  Mehrmals pro Woche   \n",
       "144                       Seltener                 Nie   \n",
       "145                       Seltener            Seltener   \n",
       "146                        Täglich            Seltener   \n",
       "147             Mehrmals pro Woche  Mehrmals pro Woche   \n",
       "148             Mehrmals pro Woche  Mehrmals pro Monat   \n",
       "149             Mehrmals pro Woche            Seltener   \n",
       "150                        Täglich             Täglich   \n",
       "151                        Täglich            Seltener   \n",
       "152             Mehrmals pro Woche            Seltener   \n",
       "153             Mehrmals pro Woche                 Nie   \n",
       "154             Mehrmals pro Woche                 Nie   \n",
       "155                        Täglich                 Nie   \n",
       "156                        Täglich            Seltener   \n",
       "157             Mehrmals pro Woche                 Nie   \n",
       "158             Mehrmals pro Monat  Mehrmals pro Monat   \n",
       "159             Mehrmals pro Woche             Täglich   \n",
       "160             Mehrmals pro Woche  Mehrmals pro Woche   \n",
       "161             Mehrmals pro Monat             Täglich   \n",
       "162             Mehrmals pro Monat             Täglich   \n",
       "163                        Täglich  Mehrmals pro Monat   \n",
       "164                        Täglich  Mehrmals pro Monat   \n",
       "165                       Seltener  Mehrmals pro Monat   \n",
       "166                       Seltener  Mehrmals pro Woche   \n",
       "167             Mehrmals pro Woche             Täglich   \n",
       "168             Mehrmals pro Monat            Seltener   \n",
       "169                        Täglich  Mehrmals pro Woche   \n",
       "170                        Täglich  Mehrmals pro Monat   \n",
       "171             Mehrmals pro Woche  Mehrmals pro Monat   \n",
       "172                       Seltener            Seltener   \n",
       "173             Mehrmals pro Monat  Mehrmals pro Monat   \n",
       "174                       Seltener            Seltener   \n",
       "175                        Täglich            Seltener   \n",
       "176                        Täglich  Mehrmals pro Monat   \n",
       "177                        Täglich            Seltener   \n",
       "178             Mehrmals pro Woche            Seltener   \n",
       "179             Mehrmals pro Monat                 Nie   \n",
       "180             Mehrmals pro Monat                 Nie   \n",
       "181             Mehrmals pro Monat             Täglich   \n",
       "182                        Täglich  Mehrmals pro Woche   \n",
       "183                       Seltener            Seltener   \n",
       "184             Mehrmals pro Monat  Mehrmals pro Monat   \n",
       "185                        Täglich             Täglich   \n",
       "186                        Täglich             Täglich   \n",
       "187             Mehrmals pro Woche            Seltener   \n",
       "188                        Täglich                 Nie   \n",
       "189             Mehrmals pro Woche             Täglich   \n",
       "190                        Täglich  Mehrmals pro Woche   \n",
       "191                        Täglich  Mehrmals pro Monat   \n",
       "192             Mehrmals pro Woche                 Nie   \n",
       "193             Mehrmals pro Woche             Täglich   \n",
       "194             Mehrmals pro Woche             Täglich   \n",
       "195                        Täglich             Täglich   \n",
       "196             Mehrmals pro Woche             Täglich   \n",
       "197                        Täglich            Seltener   \n",
       "198                        Täglich             Täglich   \n",
       "199             Mehrmals pro Woche  Mehrmals pro Woche   \n",
       "200                        Täglich                 Nie   \n",
       "201             Mehrmals pro Monat  Mehrmals pro Woche   \n",
       "202             Mehrmals pro Woche            Seltener   \n",
       "\n",
       "    internet-usage-podcasts internet-usage-blogs  \\\n",
       "0                       Nie             Seltener   \n",
       "1        Mehrmals pro Monat             Seltener   \n",
       "2        Mehrmals pro Woche   Mehrmals pro Woche   \n",
       "3                       Nie   Mehrmals pro Monat   \n",
       "4        Mehrmals pro Woche   Mehrmals pro Woche   \n",
       "5        Mehrmals pro Monat             Seltener   \n",
       "6                  Seltener   Mehrmals pro Monat   \n",
       "7        Mehrmals pro Monat   Mehrmals pro Monat   \n",
       "8        Mehrmals pro Monat             Seltener   \n",
       "9                       Nie                  Nie   \n",
       "10                      Nie   Mehrmals pro Woche   \n",
       "11       Mehrmals pro Woche   Mehrmals pro Monat   \n",
       "12                      Nie             Seltener   \n",
       "13       Mehrmals pro Monat   Mehrmals pro Woche   \n",
       "14                 Seltener   Mehrmals pro Monat   \n",
       "15       Mehrmals pro Monat             Seltener   \n",
       "16                 Seltener   Mehrmals pro Woche   \n",
       "17                      Nie   Mehrmals pro Woche   \n",
       "18                      Nie             Seltener   \n",
       "19       Mehrmals pro Woche             Seltener   \n",
       "20       Mehrmals pro Monat             Seltener   \n",
       "21                 Seltener             Seltener   \n",
       "22       Mehrmals pro Monat   Mehrmals pro Monat   \n",
       "23                      Nie   Mehrmals pro Monat   \n",
       "24                 Seltener             Seltener   \n",
       "25                      Nie             Seltener   \n",
       "26                 Seltener             Seltener   \n",
       "27       Mehrmals pro Monat   Mehrmals pro Monat   \n",
       "28       Mehrmals pro Woche   Mehrmals pro Woche   \n",
       "29       Mehrmals pro Monat             Seltener   \n",
       "30                 Seltener   Mehrmals pro Monat   \n",
       "31       Mehrmals pro Monat   Mehrmals pro Monat   \n",
       "32       Mehrmals pro Monat             Seltener   \n",
       "33                  Täglich                  Nie   \n",
       "34                      Nie   Mehrmals pro Monat   \n",
       "35                 Seltener             Seltener   \n",
       "36                 Seltener   Mehrmals pro Monat   \n",
       "37                  Täglich              Täglich   \n",
       "38       Mehrmals pro Woche             Seltener   \n",
       "39       Mehrmals pro Monat             Seltener   \n",
       "40                      Nie             Seltener   \n",
       "41                 Seltener   Mehrmals pro Monat   \n",
       "42       Mehrmals pro Woche   Mehrmals pro Woche   \n",
       "43       Mehrmals pro Woche   Mehrmals pro Woche   \n",
       "44       Mehrmals pro Monat             Seltener   \n",
       "45       Mehrmals pro Monat   Mehrmals pro Woche   \n",
       "46       Mehrmals pro Monat   Mehrmals pro Monat   \n",
       "47                 Seltener              Täglich   \n",
       "48                 Seltener             Seltener   \n",
       "49       Mehrmals pro Monat                  Nie   \n",
       "50                      Nie             Seltener   \n",
       "51       Mehrmals pro Woche   Mehrmals pro Woche   \n",
       "52                 Seltener   Mehrmals pro Monat   \n",
       "53       Mehrmals pro Monat             Seltener   \n",
       "54                 Seltener             Seltener   \n",
       "55                 Seltener                  Nie   \n",
       "56                 Seltener   Mehrmals pro Monat   \n",
       "57       Mehrmals pro Monat             Seltener   \n",
       "58       Mehrmals pro Monat             Seltener   \n",
       "59                  Täglich   Mehrmals pro Woche   \n",
       "60                 Seltener   Mehrmals pro Monat   \n",
       "61       Mehrmals pro Monat   Mehrmals pro Woche   \n",
       "62                      Nie             Seltener   \n",
       "63                      Nie   Mehrmals pro Woche   \n",
       "64                      Nie             Seltener   \n",
       "65       Mehrmals pro Monat   Mehrmals pro Monat   \n",
       "66                  Täglich   Mehrmals pro Monat   \n",
       "67                 Seltener             Seltener   \n",
       "68                 Seltener             Seltener   \n",
       "69       Mehrmals pro Woche   Mehrmals pro Woche   \n",
       "70                 Seltener                  Nie   \n",
       "71                 Seltener                  Nie   \n",
       "72       Mehrmals pro Woche             Seltener   \n",
       "73                 Seltener   Mehrmals pro Monat   \n",
       "74                  Täglich   Mehrmals pro Woche   \n",
       "75                 Seltener   Mehrmals pro Woche   \n",
       "76                      Nie                  Nie   \n",
       "77                  Täglich                  Nie   \n",
       "78                  Täglich   Mehrmals pro Monat   \n",
       "79       Mehrmals pro Woche              Täglich   \n",
       "80       Mehrmals pro Monat             Seltener   \n",
       "81                  Täglich   Mehrmals pro Monat   \n",
       "82                      Nie             Seltener   \n",
       "83                  Täglich   Mehrmals pro Monat   \n",
       "84       Mehrmals pro Woche   Mehrmals pro Monat   \n",
       "85       Mehrmals pro Monat   Mehrmals pro Woche   \n",
       "86       Mehrmals pro Woche   Mehrmals pro Monat   \n",
       "87                 Seltener   Mehrmals pro Woche   \n",
       "88       Mehrmals pro Woche   Mehrmals pro Monat   \n",
       "89       Mehrmals pro Monat             Seltener   \n",
       "90                 Seltener   Mehrmals pro Monat   \n",
       "91                  Täglich              Täglich   \n",
       "92                 Seltener   Mehrmals pro Monat   \n",
       "93                      Nie   Mehrmals pro Monat   \n",
       "94       Mehrmals pro Monat   Mehrmals pro Monat   \n",
       "95                  Täglich   Mehrmals pro Monat   \n",
       "96                      Nie                  Nie   \n",
       "97                 Seltener             Seltener   \n",
       "98       Mehrmals pro Monat   Mehrmals pro Monat   \n",
       "99                      Nie             Seltener   \n",
       "100                Seltener             Seltener   \n",
       "101                 Täglich   Mehrmals pro Woche   \n",
       "102      Mehrmals pro Monat   Mehrmals pro Monat   \n",
       "103                     Nie             Seltener   \n",
       "104      Mehrmals pro Woche   Mehrmals pro Monat   \n",
       "105      Mehrmals pro Monat             Seltener   \n",
       "106                     Nie   Mehrmals pro Woche   \n",
       "107      Mehrmals pro Woche              Täglich   \n",
       "108      Mehrmals pro Monat   Mehrmals pro Monat   \n",
       "109      Mehrmals pro Monat   Mehrmals pro Woche   \n",
       "110                     Nie             Seltener   \n",
       "111                 Täglich             Seltener   \n",
       "112                 Täglich             Seltener   \n",
       "113      Mehrmals pro Monat   Mehrmals pro Woche   \n",
       "114                     Nie             Seltener   \n",
       "115      Mehrmals pro Monat                  Nie   \n",
       "116      Mehrmals pro Woche   Mehrmals pro Woche   \n",
       "117                 Täglich             Seltener   \n",
       "118      Mehrmals pro Woche              Täglich   \n",
       "119      Mehrmals pro Woche                  Nie   \n",
       "120      Mehrmals pro Woche             Seltener   \n",
       "121                Seltener                  Nie   \n",
       "122                Seltener   Mehrmals pro Monat   \n",
       "123                Seltener   Mehrmals pro Monat   \n",
       "124      Mehrmals pro Woche              Täglich   \n",
       "125      Mehrmals pro Woche             Seltener   \n",
       "126      Mehrmals pro Woche   Mehrmals pro Woche   \n",
       "127      Mehrmals pro Woche                  Nie   \n",
       "128                     Nie                  Nie   \n",
       "129                     Nie             Seltener   \n",
       "130                     Nie                  Nie   \n",
       "131      Mehrmals pro Monat   Mehrmals pro Woche   \n",
       "132                Seltener                  Nie   \n",
       "133      Mehrmals pro Woche              Täglich   \n",
       "134                Seltener   Mehrmals pro Woche   \n",
       "135      Mehrmals pro Monat             Seltener   \n",
       "136                     Nie                  Nie   \n",
       "137                Seltener   Mehrmals pro Monat   \n",
       "138      Mehrmals pro Woche                  Nie   \n",
       "139      Mehrmals pro Monat             Seltener   \n",
       "140                Seltener   Mehrmals pro Woche   \n",
       "141      Mehrmals pro Monat   Mehrmals pro Woche   \n",
       "142                     Nie                  Nie   \n",
       "143      Mehrmals pro Woche             Seltener   \n",
       "144                     Nie                  Nie   \n",
       "145      Mehrmals pro Monat   Mehrmals pro Monat   \n",
       "146                     Nie   Mehrmals pro Monat   \n",
       "147                Seltener             Seltener   \n",
       "148                Seltener   Mehrmals pro Monat   \n",
       "149                Seltener   Mehrmals pro Monat   \n",
       "150      Mehrmals pro Monat             Seltener   \n",
       "151                     Nie             Seltener   \n",
       "152      Mehrmals pro Woche             Seltener   \n",
       "153      Mehrmals pro Woche                  Nie   \n",
       "154                     Nie   Mehrmals pro Monat   \n",
       "155      Mehrmals pro Monat             Seltener   \n",
       "156                     Nie             Seltener   \n",
       "157      Mehrmals pro Monat             Seltener   \n",
       "158                 Täglich   Mehrmals pro Woche   \n",
       "159                     Nie   Mehrmals pro Monat   \n",
       "160                     Nie   Mehrmals pro Woche   \n",
       "161      Mehrmals pro Woche   Mehrmals pro Woche   \n",
       "162      Mehrmals pro Monat             Seltener   \n",
       "163      Mehrmals pro Monat                  Nie   \n",
       "164      Mehrmals pro Monat   Mehrmals pro Woche   \n",
       "165                     Nie             Seltener   \n",
       "166                     Nie                  Nie   \n",
       "167      Mehrmals pro Woche   Mehrmals pro Woche   \n",
       "168                     Nie             Seltener   \n",
       "169      Mehrmals pro Woche   Mehrmals pro Woche   \n",
       "170                 Täglich   Mehrmals pro Monat   \n",
       "171                 Täglich   Mehrmals pro Monat   \n",
       "172                Seltener                  Nie   \n",
       "173                Seltener             Seltener   \n",
       "174                     Nie             Seltener   \n",
       "175                Seltener             Seltener   \n",
       "176      Mehrmals pro Woche             Seltener   \n",
       "177      Mehrmals pro Woche   Mehrmals pro Monat   \n",
       "178                Seltener                  Nie   \n",
       "179                     Nie                  Nie   \n",
       "180                     Nie                  Nie   \n",
       "181      Mehrmals pro Woche              Täglich   \n",
       "182      Mehrmals pro Woche             Seltener   \n",
       "183      Mehrmals pro Monat                  Nie   \n",
       "184                 Täglich             Seltener   \n",
       "185                 Täglich             Seltener   \n",
       "186                Seltener             Seltener   \n",
       "187                 Täglich             Seltener   \n",
       "188      Mehrmals pro Woche   Mehrmals pro Woche   \n",
       "189                 Täglich   Mehrmals pro Monat   \n",
       "190                     Nie             Seltener   \n",
       "191                     Nie   Mehrmals pro Monat   \n",
       "192      Mehrmals pro Monat   Mehrmals pro Monat   \n",
       "193      Mehrmals pro Monat             Seltener   \n",
       "194      Mehrmals pro Monat   Mehrmals pro Monat   \n",
       "195      Mehrmals pro Monat   Mehrmals pro Monat   \n",
       "196      Mehrmals pro Monat   Mehrmals pro Monat   \n",
       "197      Mehrmals pro Monat             Seltener   \n",
       "198                Seltener   Mehrmals pro Monat   \n",
       "199                Seltener              Täglich   \n",
       "200                     Nie             Seltener   \n",
       "201                Seltener             Seltener   \n",
       "202                Seltener   Mehrmals pro Woche   \n",
       "\n",
       "    internet-usage-contact-portals internet-usage-news-archives  \\\n",
       "0               Mehrmals pro Monat                     Seltener   \n",
       "1                         Seltener                          Nie   \n",
       "2                         Seltener           Mehrmals pro Monat   \n",
       "3                              Nie                     Seltener   \n",
       "4                         Seltener                     Seltener   \n",
       "5                         Seltener           Mehrmals pro Monat   \n",
       "6               Mehrmals pro Woche                     Seltener   \n",
       "7                              Nie                     Seltener   \n",
       "8                         Seltener                          Nie   \n",
       "9               Mehrmals pro Monat           Mehrmals pro Monat   \n",
       "10              Mehrmals pro Monat           Mehrmals pro Woche   \n",
       "11              Mehrmals pro Monat           Mehrmals pro Monat   \n",
       "12                        Seltener                     Seltener   \n",
       "13                        Seltener                     Seltener   \n",
       "14              Mehrmals pro Monat                     Seltener   \n",
       "15                        Seltener           Mehrmals pro Monat   \n",
       "16              Mehrmals pro Monat                      Täglich   \n",
       "17              Mehrmals pro Monat                     Seltener   \n",
       "18                        Seltener                     Seltener   \n",
       "19                        Seltener                     Seltener   \n",
       "20              Mehrmals pro Monat           Mehrmals pro Monat   \n",
       "21                             Nie                          Nie   \n",
       "22                        Seltener           Mehrmals pro Monat   \n",
       "23                        Seltener                     Seltener   \n",
       "24                        Seltener                     Seltener   \n",
       "25                             Nie                          Nie   \n",
       "26              Mehrmals pro Monat           Mehrmals pro Monat   \n",
       "27                        Seltener                     Seltener   \n",
       "28                        Seltener                     Seltener   \n",
       "29                        Seltener                          Nie   \n",
       "30              Mehrmals pro Monat                          Nie   \n",
       "31                        Seltener           Mehrmals pro Monat   \n",
       "32                             Nie                     Seltener   \n",
       "33                        Seltener                     Seltener   \n",
       "34                        Seltener                     Seltener   \n",
       "35              Mehrmals pro Woche                     Seltener   \n",
       "36              Mehrmals pro Monat                     Seltener   \n",
       "37                        Seltener                          Nie   \n",
       "38                        Seltener                     Seltener   \n",
       "39                        Seltener                     Seltener   \n",
       "40                        Seltener                          Nie   \n",
       "41              Mehrmals pro Monat                     Seltener   \n",
       "42              Mehrmals pro Woche                     Seltener   \n",
       "43              Mehrmals pro Monat           Mehrmals pro Monat   \n",
       "44                        Seltener                          Nie   \n",
       "45              Mehrmals pro Woche                     Seltener   \n",
       "46              Mehrmals pro Monat                     Seltener   \n",
       "47                        Seltener                          Nie   \n",
       "48                             Nie                          Nie   \n",
       "49                             Nie                     Seltener   \n",
       "50              Mehrmals pro Monat                          Nie   \n",
       "51              Mehrmals pro Woche                     Seltener   \n",
       "52                        Seltener           Mehrmals pro Monat   \n",
       "53                        Seltener           Mehrmals pro Monat   \n",
       "54              Mehrmals pro Monat                          Nie   \n",
       "55                        Seltener                     Seltener   \n",
       "56                        Seltener                     Seltener   \n",
       "57                        Seltener                     Seltener   \n",
       "58                        Seltener                          Nie   \n",
       "59                        Seltener                     Seltener   \n",
       "60                             Nie                     Seltener   \n",
       "61              Mehrmals pro Woche                          Nie   \n",
       "62                             Nie                     Seltener   \n",
       "63                             Nie                     Seltener   \n",
       "64                             Nie           Mehrmals pro Monat   \n",
       "65                        Seltener           Mehrmals pro Monat   \n",
       "66              Mehrmals pro Monat                     Seltener   \n",
       "67                             Nie                          Nie   \n",
       "68                             Nie                     Seltener   \n",
       "69              Mehrmals pro Woche                      Täglich   \n",
       "70                             Nie                     Seltener   \n",
       "71                        Seltener                     Seltener   \n",
       "72                             Nie                     Seltener   \n",
       "73              Mehrmals pro Monat           Mehrmals pro Monat   \n",
       "74              Mehrmals pro Monat                     Seltener   \n",
       "75                        Seltener                     Seltener   \n",
       "76                             Nie           Mehrmals pro Monat   \n",
       "77                             Nie                          Nie   \n",
       "78                             Nie           Mehrmals pro Monat   \n",
       "79                         Täglich           Mehrmals pro Woche   \n",
       "80                        Seltener                     Seltener   \n",
       "81                        Seltener           Mehrmals pro Monat   \n",
       "82                             Nie                     Seltener   \n",
       "83              Mehrmals pro Woche                     Seltener   \n",
       "84                        Seltener                     Seltener   \n",
       "85                        Seltener                     Seltener   \n",
       "86                             Nie                          Nie   \n",
       "87              Mehrmals pro Monat                     Seltener   \n",
       "88              Mehrmals pro Monat                     Seltener   \n",
       "89                             Nie                     Seltener   \n",
       "90                             Nie                          Nie   \n",
       "91              Mehrmals pro Monat           Mehrmals pro Monat   \n",
       "92              Mehrmals pro Woche                          Nie   \n",
       "93                             Nie                     Seltener   \n",
       "94                             Nie           Mehrmals pro Monat   \n",
       "95              Mehrmals pro Monat                     Seltener   \n",
       "96                             Nie                     Seltener   \n",
       "97                        Seltener                     Seltener   \n",
       "98                        Seltener                     Seltener   \n",
       "99                             Nie           Mehrmals pro Monat   \n",
       "100                       Seltener                     Seltener   \n",
       "101                       Seltener                     Seltener   \n",
       "102             Mehrmals pro Monat           Mehrmals pro Monat   \n",
       "103                            Nie                          Nie   \n",
       "104             Mehrmals pro Monat                          Nie   \n",
       "105                       Seltener                     Seltener   \n",
       "106                       Seltener                          Nie   \n",
       "107                       Seltener                     Seltener   \n",
       "108                            Nie                     Seltener   \n",
       "109             Mehrmals pro Woche                     Seltener   \n",
       "110                       Seltener                          Nie   \n",
       "111                            Nie                     Seltener   \n",
       "112                       Seltener                     Seltener   \n",
       "113             Mehrmals pro Woche           Mehrmals pro Monat   \n",
       "114                       Seltener                          Nie   \n",
       "115             Mehrmals pro Monat                     Seltener   \n",
       "116             Mehrmals pro Woche           Mehrmals pro Woche   \n",
       "117                       Seltener                     Seltener   \n",
       "118             Mehrmals pro Monat                          Nie   \n",
       "119                       Seltener                          Nie   \n",
       "120                       Seltener                     Seltener   \n",
       "121                       Seltener                          Nie   \n",
       "122                       Seltener           Mehrmals pro Monat   \n",
       "123                       Seltener                     Seltener   \n",
       "124             Mehrmals pro Woche                          Nie   \n",
       "125                       Seltener                          Nie   \n",
       "126                       Seltener                          Nie   \n",
       "127             Mehrmals pro Monat                          Nie   \n",
       "128                       Seltener                          Nie   \n",
       "129                       Seltener                          Nie   \n",
       "130                       Seltener                          Nie   \n",
       "131             Mehrmals pro Woche           Mehrmals pro Monat   \n",
       "132                            Nie                          Nie   \n",
       "133             Mehrmals pro Woche           Mehrmals pro Woche   \n",
       "134             Mehrmals pro Monat                          Nie   \n",
       "135                            Nie                          Nie   \n",
       "136                            Nie                          Nie   \n",
       "137                       Seltener                     Seltener   \n",
       "138                            Nie                     Seltener   \n",
       "139                       Seltener                     Seltener   \n",
       "140             Mehrmals pro Monat                     Seltener   \n",
       "141                       Seltener                     Seltener   \n",
       "142             Mehrmals pro Monat                          Nie   \n",
       "143             Mehrmals pro Monat           Mehrmals pro Monat   \n",
       "144                            Nie                          Nie   \n",
       "145                       Seltener                     Seltener   \n",
       "146                            Nie                          Nie   \n",
       "147                       Seltener                          Nie   \n",
       "148                       Seltener                     Seltener   \n",
       "149                       Seltener                          Nie   \n",
       "150                       Seltener                     Seltener   \n",
       "151                       Seltener                          Nie   \n",
       "152                       Seltener                          Nie   \n",
       "153                       Seltener                          Nie   \n",
       "154                       Seltener                          Nie   \n",
       "155                       Seltener                          Nie   \n",
       "156             Mehrmals pro Monat                     Seltener   \n",
       "157                       Seltener                          Nie   \n",
       "158                       Seltener                          Nie   \n",
       "159                            Nie           Mehrmals pro Monat   \n",
       "160                            Nie           Mehrmals pro Monat   \n",
       "161             Mehrmals pro Monat                          Nie   \n",
       "162                       Seltener                     Seltener   \n",
       "163                       Seltener                     Seltener   \n",
       "164                       Seltener                     Seltener   \n",
       "165                       Seltener                          Nie   \n",
       "166                       Seltener           Mehrmals pro Woche   \n",
       "167                            Nie                     Seltener   \n",
       "168             Mehrmals pro Monat                     Seltener   \n",
       "169                       Seltener                     Seltener   \n",
       "170                       Seltener                     Seltener   \n",
       "171                            Nie                     Seltener   \n",
       "172                       Seltener                          Nie   \n",
       "173                            Nie                     Seltener   \n",
       "174                       Seltener                     Seltener   \n",
       "175                       Seltener                     Seltener   \n",
       "176                            Nie                          Nie   \n",
       "177             Mehrmals pro Monat                     Seltener   \n",
       "178                            Nie                     Seltener   \n",
       "179                       Seltener                          Nie   \n",
       "180                            Nie           Mehrmals pro Monat   \n",
       "181             Mehrmals pro Woche           Mehrmals pro Monat   \n",
       "182                       Seltener                     Seltener   \n",
       "183                            Nie                     Seltener   \n",
       "184                       Seltener                     Seltener   \n",
       "185                            Nie                          Nie   \n",
       "186                       Seltener                          Nie   \n",
       "187                       Seltener                          Nie   \n",
       "188                       Seltener                          Nie   \n",
       "189                       Seltener                     Seltener   \n",
       "190             Mehrmals pro Monat                     Seltener   \n",
       "191             Mehrmals pro Monat                     Seltener   \n",
       "192                            Nie                          Nie   \n",
       "193                            Nie           Mehrmals pro Monat   \n",
       "194                       Seltener                     Seltener   \n",
       "195             Mehrmals pro Monat                     Seltener   \n",
       "196                       Seltener                          Nie   \n",
       "197                            Nie                     Seltener   \n",
       "198                       Seltener                     Seltener   \n",
       "199                       Seltener           Mehrmals pro Monat   \n",
       "200             Mehrmals pro Monat                          Nie   \n",
       "201                            Nie           Mehrmals pro Monat   \n",
       "202             Mehrmals pro Monat                          Nie   \n",
       "\n",
       "    internet-usage-job-portals internet-usage-twitter  \n",
       "0           Mehrmals pro Monat                    Nie  \n",
       "1                          Nie                    Nie  \n",
       "2           Mehrmals pro Monat     Mehrmals pro Woche  \n",
       "3                     Seltener                    Nie  \n",
       "4                     Seltener                    Nie  \n",
       "5                     Seltener                    Nie  \n",
       "6                          Nie                    Nie  \n",
       "7                     Seltener                    Nie  \n",
       "8                     Seltener                    Nie  \n",
       "9                     Seltener                    Nie  \n",
       "10          Mehrmals pro Monat                    Nie  \n",
       "11          Mehrmals pro Monat                    Nie  \n",
       "12          Mehrmals pro Monat               Seltener  \n",
       "13                    Seltener     Mehrmals pro Woche  \n",
       "14                    Seltener                    Nie  \n",
       "15          Mehrmals pro Monat                    Nie  \n",
       "16                    Seltener               Seltener  \n",
       "17                    Seltener     Mehrmals pro Monat  \n",
       "18                    Seltener                    Nie  \n",
       "19                    Seltener                    Nie  \n",
       "20          Mehrmals pro Monat                    Nie  \n",
       "21                         Nie                    Nie  \n",
       "22          Mehrmals pro Monat                    Nie  \n",
       "23                    Seltener                    Nie  \n",
       "24                    Seltener     Mehrmals pro Monat  \n",
       "25          Mehrmals pro Monat                    Nie  \n",
       "26                    Seltener                    Nie  \n",
       "27          Mehrmals pro Monat                    Nie  \n",
       "28          Mehrmals pro Monat                    Nie  \n",
       "29          Mehrmals pro Woche               Seltener  \n",
       "30                    Seltener                    Nie  \n",
       "31                    Seltener     Mehrmals pro Woche  \n",
       "32                         Nie                    Nie  \n",
       "33                    Seltener     Mehrmals pro Monat  \n",
       "34                    Seltener                    Nie  \n",
       "35                    Seltener                    Nie  \n",
       "36                    Seltener                    Nie  \n",
       "37                         Nie               Seltener  \n",
       "38                    Seltener                    Nie  \n",
       "39                    Seltener               Seltener  \n",
       "40                         Nie               Seltener  \n",
       "41          Mehrmals pro Woche     Mehrmals pro Monat  \n",
       "42                    Seltener                    Nie  \n",
       "43                    Seltener     Mehrmals pro Woche  \n",
       "44                         Nie                    Nie  \n",
       "45                         Nie               Seltener  \n",
       "46                    Seltener                Täglich  \n",
       "47                    Seltener                Täglich  \n",
       "48                    Seltener                    Nie  \n",
       "49                    Seltener                    Nie  \n",
       "50                    Seltener                    Nie  \n",
       "51                    Seltener                Täglich  \n",
       "52                    Seltener               Seltener  \n",
       "53                         Nie                    Nie  \n",
       "54          Mehrmals pro Monat                    Nie  \n",
       "55                         Nie                    Nie  \n",
       "56                         Nie                    Nie  \n",
       "57                    Seltener                    Nie  \n",
       "58                    Seltener                    Nie  \n",
       "59                    Seltener                Täglich  \n",
       "60                         Nie                    Nie  \n",
       "61                         Nie                    Nie  \n",
       "62                         Nie                    Nie  \n",
       "63                         Nie                    Nie  \n",
       "64                         Nie                    Nie  \n",
       "65                    Seltener                    Nie  \n",
       "66                    Seltener                    Nie  \n",
       "67                         Nie                    Nie  \n",
       "68                    Seltener                    Nie  \n",
       "69                     Täglich                    Nie  \n",
       "70          Mehrmals pro Monat                    Nie  \n",
       "71          Mehrmals pro Monat                    Nie  \n",
       "72                    Seltener                    Nie  \n",
       "73          Mehrmals pro Monat                Täglich  \n",
       "74                    Seltener                    Nie  \n",
       "75                         Nie               Seltener  \n",
       "76                         Nie                    Nie  \n",
       "77          Mehrmals pro Woche     Mehrmals pro Woche  \n",
       "78          Mehrmals pro Monat     Mehrmals pro Monat  \n",
       "79                         Nie                    Nie  \n",
       "80          Mehrmals pro Monat                    Nie  \n",
       "81                    Seltener                    Nie  \n",
       "82                         Nie                    Nie  \n",
       "83          Mehrmals pro Monat                Täglich  \n",
       "84                    Seltener                    Nie  \n",
       "85                    Seltener                Täglich  \n",
       "86                    Seltener               Seltener  \n",
       "87                    Seltener     Mehrmals pro Woche  \n",
       "88          Mehrmals pro Woche     Mehrmals pro Monat  \n",
       "89                    Seltener                    Nie  \n",
       "90                    Seltener                    Nie  \n",
       "91                         Nie     Mehrmals pro Woche  \n",
       "92                    Seltener     Mehrmals pro Monat  \n",
       "93                         Nie                    Nie  \n",
       "94                         Nie                Täglich  \n",
       "95                    Seltener     Mehrmals pro Monat  \n",
       "96                         Nie                    Nie  \n",
       "97                    Seltener                Täglich  \n",
       "98          Mehrmals pro Monat                    Nie  \n",
       "99                         Nie                    Nie  \n",
       "100                   Seltener                    Nie  \n",
       "101                        Nie                    Nie  \n",
       "102                   Seltener               Seltener  \n",
       "103                        Nie               Seltener  \n",
       "104                   Seltener               Seltener  \n",
       "105         Mehrmals pro Monat                    Nie  \n",
       "106         Mehrmals pro Woche     Mehrmals pro Woche  \n",
       "107                   Seltener                Täglich  \n",
       "108                   Seltener               Seltener  \n",
       "109         Mehrmals pro Monat     Mehrmals pro Monat  \n",
       "110                   Seltener                    Nie  \n",
       "111                   Seltener                    Nie  \n",
       "112                   Seltener                    Nie  \n",
       "113         Mehrmals pro Monat     Mehrmals pro Woche  \n",
       "114                   Seltener                    Nie  \n",
       "115                   Seltener                Täglich  \n",
       "116         Mehrmals pro Woche     Mehrmals pro Woche  \n",
       "117         Mehrmals pro Monat                    Nie  \n",
       "118                   Seltener                    Nie  \n",
       "119                   Seltener                    Nie  \n",
       "120         Mehrmals pro Monat                    Nie  \n",
       "121                        Nie                    Nie  \n",
       "122                   Seltener               Seltener  \n",
       "123                        Nie                    Nie  \n",
       "124                   Seltener                    Nie  \n",
       "125         Mehrmals pro Monat                    Nie  \n",
       "126                   Seltener               Seltener  \n",
       "127                   Seltener                    Nie  \n",
       "128                   Seltener               Seltener  \n",
       "129                        Nie                    Nie  \n",
       "130                        Nie                    Nie  \n",
       "131         Mehrmals pro Monat                    Nie  \n",
       "132                        Nie                    Nie  \n",
       "133         Mehrmals pro Woche     Mehrmals pro Woche  \n",
       "134                   Seltener                    Nie  \n",
       "135                        Nie                    Nie  \n",
       "136                        Nie                    Nie  \n",
       "137                        Nie                    Nie  \n",
       "138                        Nie                    Nie  \n",
       "139                   Seltener                    Nie  \n",
       "140                   Seltener                Täglich  \n",
       "141                        Nie                    Nie  \n",
       "142                   Seltener                    Nie  \n",
       "143                   Seltener                    Nie  \n",
       "144                        Nie                    Nie  \n",
       "145                   Seltener               Seltener  \n",
       "146                        Nie               Seltener  \n",
       "147                   Seltener                    Nie  \n",
       "148                   Seltener                    Nie  \n",
       "149                   Seltener               Seltener  \n",
       "150                   Seltener               Seltener  \n",
       "151                   Seltener                    Nie  \n",
       "152                   Seltener                    Nie  \n",
       "153         Mehrmals pro Woche                    Nie  \n",
       "154         Mehrmals pro Monat                    Nie  \n",
       "155                        Nie                    Nie  \n",
       "156                   Seltener               Seltener  \n",
       "157                   Seltener               Seltener  \n",
       "158         Mehrmals pro Monat     Mehrmals pro Woche  \n",
       "159         Mehrmals pro Monat                    Nie  \n",
       "160         Mehrmals pro Monat                    Nie  \n",
       "161                   Seltener               Seltener  \n",
       "162         Mehrmals pro Monat                Täglich  \n",
       "163         Mehrmals pro Monat                    Nie  \n",
       "164         Mehrmals pro Monat                    Nie  \n",
       "165                        Nie                Täglich  \n",
       "166         Mehrmals pro Woche                    Nie  \n",
       "167                   Seltener                    Nie  \n",
       "168                   Seltener                Täglich  \n",
       "169                   Seltener     Mehrmals pro Monat  \n",
       "170         Mehrmals pro Monat                    Nie  \n",
       "171         Mehrmals pro Monat                    Nie  \n",
       "172                   Seltener                    Nie  \n",
       "173                   Seltener                    Nie  \n",
       "174                   Seltener                    Nie  \n",
       "175         Mehrmals pro Monat                    Nie  \n",
       "176         Mehrmals pro Monat               Seltener  \n",
       "177                   Seltener                    Nie  \n",
       "178                   Seltener               Seltener  \n",
       "179                        Nie               Seltener  \n",
       "180                        Nie                    Nie  \n",
       "181         Mehrmals pro Monat                    Nie  \n",
       "182         Mehrmals pro Monat                Täglich  \n",
       "183                        Nie                    Nie  \n",
       "184                   Seltener                    Nie  \n",
       "185                        Nie                    Nie  \n",
       "186                   Seltener                Täglich  \n",
       "187                   Seltener                    Nie  \n",
       "188                   Seltener     Mehrmals pro Monat  \n",
       "189                   Seltener                    Nie  \n",
       "190                        Nie                    Nie  \n",
       "191                        Nie                    Nie  \n",
       "192                   Seltener                Täglich  \n",
       "193                   Seltener                    Nie  \n",
       "194                   Seltener                    Nie  \n",
       "195                   Seltener                    Nie  \n",
       "196                        Nie               Seltener  \n",
       "197                   Seltener                    Nie  \n",
       "198         Mehrmals pro Monat                    Nie  \n",
       "199                   Seltener               Seltener  \n",
       "200                   Seltener     Mehrmals pro Woche  \n",
       "201                        Nie                    Nie  \n",
       "202         Mehrmals pro Monat                    Nie  "
      ]
     },
     "execution_count": 19,
     "metadata": {},
     "output_type": "execute_result"
    }
   ],
   "source": [
    "df = surveyData[[\n",
    "        \"internet-usage-e-mails\",\n",
    "        \"internet-usage-messenger\",\n",
    "        \"internet-usage-encyclopedia\",\n",
    "        \"internet-usage-youtube\",\n",
    "        \"internet-usage-weather\",\n",
    "        \"internet-usage-products-and-prices\",\n",
    "        \"internet-usage-banking\",\n",
    "        \"internet-usage-maps\",\n",
    "        \"internet-usage-voip\",\n",
    "        \"internet-usage-social-media-networks\",\n",
    "        \"internet-usage-music-streaming\",\n",
    "        \"internet-usage-video-streaming\",\n",
    "        \"internet-usage-news\",\n",
    "        \"internet-usage-podcasts\",\n",
    "        \"internet-usage-blogs\",\n",
    "        \"internet-usage-contact-portals\",\n",
    "        \"internet-usage-news-archives\",\n",
    "        \"internet-usage-job-portals\",\n",
    "        \"internet-usage-twitter\"\n",
    "    ]]\n",
    "\n",
    "df\n",
    "\n",
    "# Next Ubau zu  Count der Werte"
   ]
  }
 ],
 "metadata": {
  "kernelspec": {
   "display_name": "Python 3.9.13 64-bit",
   "language": "python",
   "name": "python3"
  },
  "language_info": {
   "codemirror_mode": {
    "name": "ipython",
    "version": 3
   },
   "file_extension": ".py",
   "mimetype": "text/x-python",
   "name": "python",
   "nbconvert_exporter": "python",
   "pygments_lexer": "ipython3",
   "version": "3.9.13"
  },
  "orig_nbformat": 4,
  "vscode": {
   "interpreter": {
    "hash": "aee8b7b246df8f9039afb4144a1f6fd8d2ca17a180786b69acc140d282b71a49"
   }
  }
 },
 "nbformat": 4,
 "nbformat_minor": 2
}
